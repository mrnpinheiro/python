{
  "cells": [
    {
      "cell_type": "markdown",
      "metadata": {
        "colab_type": "text",
        "id": "view-in-github"
      },
      "source": [
        "<a href=\"https://colab.research.google.com/github/mrnpinheiro/python/blob/master/itertools.ipynb\" target=\"_parent\"><img src=\"https://colab.research.google.com/assets/colab-badge.svg\" alt=\"Open In Colab\"/></a>"
      ]
    },
    {
      "cell_type": "code",
      "execution_count": 18,
      "metadata": {
        "id": "M0xk5d6_T3S5"
      },
      "outputs": [],
      "source": [
        "import itertools"
      ]
    },
    {
      "cell_type": "markdown",
      "metadata": {
        "id": "MMhBvT4ySU6J"
      },
      "source": [
        "# zip\n",
        "\n",
        "the zip() function works, in essence, by calling iter() on each of its arguments, then advancing each iterator returned by iter() with next() and aggregating the results into tuples. "
      ]
    },
    {
      "cell_type": "code",
      "execution_count": 1,
      "metadata": {
        "colab": {
          "base_uri": "https://localhost:8080/"
        },
        "id": "W_pFHOSTzjEI",
        "outputId": "9170cfe4-1153-4c8b-81ee-2c825199476f"
      },
      "outputs": [
        {
          "data": {
            "text/plain": [
              "[(1, 'a'), (2, 'b'), (3, 'c')]"
            ]
          },
          "execution_count": 1,
          "metadata": {},
          "output_type": "execute_result"
        }
      ],
      "source": [
        "list(zip([1, 2, 3], ['a', 'b', 'c']))"
      ]
    },
    {
      "cell_type": "code",
      "execution_count": 2,
      "metadata": {
        "colab": {
          "base_uri": "https://localhost:8080/"
        },
        "id": "wDmmlmEqSM-_",
        "outputId": "c48d860c-b36b-43a1-a136-76535dfcb63c"
      },
      "outputs": [
        {
          "data": {
            "text/plain": [
              "[(1, 'a'), (2, 'b'), (3, 'c')]"
            ]
          },
          "execution_count": 2,
          "metadata": {},
          "output_type": "execute_result"
        }
      ],
      "source": [
        "list(zip([1, 2, 3], ['a', 'b', 'c', 'd']))"
      ]
    },
    {
      "cell_type": "code",
      "execution_count": 3,
      "metadata": {
        "colab": {
          "base_uri": "https://localhost:8080/"
        },
        "id": "VuhUtMoNSUQa",
        "outputId": "d6a74d71-c4d7-4165-a90d-e049456b5940"
      },
      "outputs": [
        {
          "data": {
            "text/plain": [
              "[(1, 'a'), (2, 'b'), (3, 'c')]"
            ]
          },
          "execution_count": 3,
          "metadata": {},
          "output_type": "execute_result"
        }
      ],
      "source": [
        "list(zip([1, 2, 3, 4], ['a', 'b', 'c']))"
      ]
    },
    {
      "cell_type": "code",
      "execution_count": 20,
      "metadata": {
        "colab": {
          "base_uri": "https://localhost:8080/"
        },
        "id": "oKGN7yKnT8-k",
        "outputId": "6c7063a5-4e8f-46a7-d62b-00413586ca11"
      },
      "outputs": [
        {
          "data": {
            "text/plain": [
              "[(1, 'a'), (2, 'b'), (3, 'c'), (4, None)]"
            ]
          },
          "execution_count": 20,
          "metadata": {},
          "output_type": "execute_result"
        }
      ],
      "source": [
        "list(itertools.zip_longest([1, 2, 3, 4], ['a', 'b', 'c']))"
      ]
    },
    {
      "cell_type": "code",
      "execution_count": 11,
      "metadata": {
        "colab": {
          "base_uri": "https://localhost:8080/"
        },
        "id": "-WnoOo8ETElW",
        "outputId": "ec0b08a8-c4d8-4ef5-cef0-8c91b6606758"
      },
      "outputs": [
        {
          "data": {
            "text/plain": [
              "<list_iterator at 0x7f03ad795810>"
            ]
          },
          "execution_count": 11,
          "metadata": {},
          "output_type": "execute_result"
        }
      ],
      "source": [
        "i = iter(['a', 'b', 'c'])\n",
        "i"
      ]
    },
    {
      "cell_type": "code",
      "execution_count": 12,
      "metadata": {
        "colab": {
          "base_uri": "https://localhost:8080/",
          "height": 35
        },
        "id": "HboLmqRgTHcX",
        "outputId": "be5fd8e5-20bc-4601-9e48-a9d96f2a1d56"
      },
      "outputs": [
        {
          "data": {
            "application/vnd.google.colaboratory.intrinsic+json": {
              "type": "string"
            },
            "text/plain": [
              "'a'"
            ]
          },
          "execution_count": 12,
          "metadata": {},
          "output_type": "execute_result"
        }
      ],
      "source": [
        "next(i)"
      ]
    },
    {
      "cell_type": "code",
      "execution_count": 15,
      "metadata": {
        "colab": {
          "base_uri": "https://localhost:8080/",
          "height": 165
        },
        "id": "P0w7zygETNUT",
        "outputId": "feb2e387-b7b0-4e13-f8dc-ff207303f5f6"
      },
      "outputs": [
        {
          "ename": "StopIteration",
          "evalue": "ignored",
          "output_type": "error",
          "traceback": [
            "\u001b[0;31m---------------------------------------------------------------------------\u001b[0m",
            "\u001b[0;31mStopIteration\u001b[0m                             Traceback (most recent call last)",
            "\u001b[0;32m<ipython-input-15-a883b34d6d8a>\u001b[0m in \u001b[0;36m<module>\u001b[0;34m()\u001b[0m\n\u001b[0;32m----> 1\u001b[0;31m \u001b[0mnext\u001b[0m\u001b[0;34m(\u001b[0m\u001b[0mi\u001b[0m\u001b[0;34m)\u001b[0m\u001b[0;34m\u001b[0m\u001b[0;34m\u001b[0m\u001b[0m\n\u001b[0m",
            "\u001b[0;31mStopIteration\u001b[0m: "
          ]
        }
      ],
      "source": [
        "next(i)"
      ]
    },
    {
      "cell_type": "markdown",
      "metadata": {
        "id": "g3AJpC63SfEN"
      },
      "source": [
        "# map"
      ]
    },
    {
      "cell_type": "code",
      "execution_count": 4,
      "metadata": {
        "colab": {
          "base_uri": "https://localhost:8080/"
        },
        "id": "AFtRXtrCSbZk",
        "outputId": "3cdd8619-13a7-4a73-b8a4-c02056f16acc"
      },
      "outputs": [
        {
          "data": {
            "text/plain": [
              "[3, 2, 4]"
            ]
          },
          "execution_count": 4,
          "metadata": {},
          "output_type": "execute_result"
        }
      ],
      "source": [
        "list(map(len, ['abc', 'de', 'fghi']))"
      ]
    },
    {
      "cell_type": "code",
      "execution_count": 5,
      "metadata": {
        "colab": {
          "base_uri": "https://localhost:8080/"
        },
        "id": "Wl6VW8JjSgXz",
        "outputId": "f16a0ffd-8eff-4201-92f9-b348431d5a3f"
      },
      "outputs": [
        {
          "data": {
            "text/plain": [
              "[5, 7, 9]"
            ]
          },
          "execution_count": 5,
          "metadata": {},
          "output_type": "execute_result"
        }
      ],
      "source": [
        "list_zip = zip([1, 2, 3], [4, 5, 6])\n",
        "\n",
        "list(map(sum, list_zip))"
      ]
    },
    {
      "cell_type": "code",
      "execution_count": 16,
      "metadata": {
        "id": "c62uE26ySq0-"
      },
      "outputs": [],
      "source": [
        "nums = [1, 2, 3, 4, 5, 6, 7, 8, 9, 10]"
      ]
    },
    {
      "cell_type": "code",
      "execution_count": 17,
      "metadata": {
        "colab": {
          "base_uri": "https://localhost:8080/",
          "height": 165
        },
        "id": "Zl0nZUaLTsn0",
        "outputId": "1e540a2e-d3f0-45fd-f4e1-aa42bb657756"
      },
      "outputs": [
        {
          "ename": "NameError",
          "evalue": "ignored",
          "output_type": "error",
          "traceback": [
            "\u001b[0;31m---------------------------------------------------------------------------\u001b[0m",
            "\u001b[0;31mNameError\u001b[0m                                 Traceback (most recent call last)",
            "\u001b[0;32m<ipython-input-17-d8cc6cd0bc39>\u001b[0m in \u001b[0;36m<module>\u001b[0;34m()\u001b[0m\n\u001b[0;32m----> 1\u001b[0;31m \u001b[0mlist\u001b[0m\u001b[0;34m(\u001b[0m\u001b[0mbetter_grouper\u001b[0m\u001b[0;34m(\u001b[0m\u001b[0mnums\u001b[0m\u001b[0;34m,\u001b[0m \u001b[0;36m4\u001b[0m\u001b[0;34m)\u001b[0m\u001b[0;34m)\u001b[0m\u001b[0;34m\u001b[0m\u001b[0;34m\u001b[0m\u001b[0m\n\u001b[0m",
            "\u001b[0;31mNameError\u001b[0m: name 'better_grouper' is not defined"
          ]
        }
      ],
      "source": [
        "list(better_grouper(nums, 4))"
      ]
    },
    {
      "cell_type": "markdown",
      "metadata": {
        "id": "1UoJpdPcUMAC"
      },
      "source": [
        "# combinations"
      ]
    },
    {
      "cell_type": "code",
      "execution_count": 23,
      "metadata": {
        "colab": {
          "base_uri": "https://localhost:8080/"
        },
        "id": "Q3smtqDUUPAR",
        "outputId": "ef391031-13ab-4360-f7fa-db787063a7fa"
      },
      "outputs": [
        {
          "data": {
            "text/plain": [
              "[(20, 20, 10),\n",
              " (20, 20, 10),\n",
              " (20, 20, 1),\n",
              " (20, 20, 1),\n",
              " (20, 10, 10),\n",
              " (20, 10, 1),\n",
              " (20, 10, 1),\n",
              " (20, 10, 1),\n",
              " (20, 10, 1),\n",
              " (20, 1, 1),\n",
              " (20, 10, 10),\n",
              " (20, 10, 1),\n",
              " (20, 10, 1),\n",
              " (20, 10, 1),\n",
              " (20, 10, 1),\n",
              " (20, 1, 1),\n",
              " (10, 10, 1),\n",
              " (10, 10, 1),\n",
              " (10, 1, 1),\n",
              " (10, 1, 1)]"
            ]
          },
          "execution_count": 23,
          "metadata": {},
          "output_type": "execute_result"
        }
      ],
      "source": [
        "bills = [20, 20, 10, 10, 1, 1]\n",
        "\n",
        "list(itertools.combinations(bills, 3))"
      ]
    },
    {
      "cell_type": "code",
      "execution_count": 25,
      "metadata": {
        "colab": {
          "base_uri": "https://localhost:8080/"
        },
        "id": "ct6i0QplUXGA",
        "outputId": "123853dd-0e5f-4012-f7f1-e03f129c0767"
      },
      "outputs": [
        {
          "data": {
            "text/plain": [
              "[(1, 1), (1, 2), (1, 3), (2, 2), (2, 3), (3, 3)]"
            ]
          },
          "execution_count": 25,
          "metadata": {},
          "output_type": "execute_result"
        }
      ],
      "source": [
        "list(itertools.combinations_with_replacement([1, 2, 3], 2))"
      ]
    },
    {
      "cell_type": "code",
      "execution_count": 26,
      "metadata": {
        "colab": {
          "base_uri": "https://localhost:8080/"
        },
        "id": "POrhwlTVUTIs",
        "outputId": "3192222f-322d-43f8-dd06-9f3177669d6e"
      },
      "outputs": [
        {
          "data": {
            "text/plain": [
              "[('a', 'b', 'c'),\n",
              " ('a', 'c', 'b'),\n",
              " ('b', 'a', 'c'),\n",
              " ('b', 'c', 'a'),\n",
              " ('c', 'a', 'b'),\n",
              " ('c', 'b', 'a')]"
            ]
          },
          "execution_count": 26,
          "metadata": {},
          "output_type": "execute_result"
        }
      ],
      "source": [
        "list(itertools.permutations(['a', 'b', 'c']))"
      ]
    },
    {
      "cell_type": "code",
      "execution_count": 28,
      "metadata": {
        "colab": {
          "base_uri": "https://localhost:8080/"
        },
        "id": "_ofbpHCaUvEy",
        "outputId": "f021d2ff-37b0-4465-b29a-6426b9ba001f"
      },
      "outputs": [
        {
          "data": {
            "text/plain": [
              "[('m', 'a', 'r', 'i'),\n",
              " ('m', 'a', 'i', 'r'),\n",
              " ('m', 'r', 'a', 'i'),\n",
              " ('m', 'r', 'i', 'a'),\n",
              " ('m', 'i', 'a', 'r'),\n",
              " ('m', 'i', 'r', 'a'),\n",
              " ('a', 'm', 'r', 'i'),\n",
              " ('a', 'm', 'i', 'r'),\n",
              " ('a', 'r', 'm', 'i'),\n",
              " ('a', 'r', 'i', 'm'),\n",
              " ('a', 'i', 'm', 'r'),\n",
              " ('a', 'i', 'r', 'm'),\n",
              " ('r', 'm', 'a', 'i'),\n",
              " ('r', 'm', 'i', 'a'),\n",
              " ('r', 'a', 'm', 'i'),\n",
              " ('r', 'a', 'i', 'm'),\n",
              " ('r', 'i', 'm', 'a'),\n",
              " ('r', 'i', 'a', 'm'),\n",
              " ('i', 'm', 'a', 'r'),\n",
              " ('i', 'm', 'r', 'a'),\n",
              " ('i', 'a', 'm', 'r'),\n",
              " ('i', 'a', 'r', 'm'),\n",
              " ('i', 'r', 'm', 'a'),\n",
              " ('i', 'r', 'a', 'm')]"
            ]
          },
          "execution_count": 28,
          "metadata": {},
          "output_type": "execute_result"
        }
      ],
      "source": [
        "list(itertools.permutations('mari'))"
      ]
    },
    {
      "cell_type": "markdown",
      "metadata": {
        "id": "K49YuhPqU5-G"
      },
      "source": [
        "# sequence"
      ]
    },
    {
      "cell_type": "code",
      "execution_count": 30,
      "metadata": {
        "colab": {
          "base_uri": "https://localhost:8080/"
        },
        "id": "jprwEdctUxKf",
        "outputId": "a292353a-1717-46da-aee5-a7f32ccc1300"
      },
      "outputs": [
        {
          "data": {
            "text/plain": [
              "[0, 1, 2, 3, 4]"
            ]
          },
          "execution_count": 30,
          "metadata": {},
          "output_type": "execute_result"
        }
      ],
      "source": [
        "counter = itertools.count()\n",
        "list(next(counter) for _ in range(5))"
      ]
    },
    {
      "cell_type": "code",
      "execution_count": 32,
      "metadata": {
        "colab": {
          "base_uri": "https://localhost:8080/"
        },
        "id": "2scfJF5YVD1h",
        "outputId": "5757705f-d0a0-474a-e70b-2b24eead6e3d"
      },
      "outputs": [
        {
          "data": {
            "text/plain": [
              "[0, 2, 4, 6, 8]"
            ]
          },
          "execution_count": 32,
          "metadata": {},
          "output_type": "execute_result"
        }
      ],
      "source": [
        "evens = itertools.count(step=2)\n",
        "list(next(evens) for _ in range(5))"
      ]
    },
    {
      "cell_type": "code",
      "execution_count": 33,
      "metadata": {
        "colab": {
          "base_uri": "https://localhost:8080/"
        },
        "id": "44GcLrMzVKn0",
        "outputId": "9560d3d8-e7cb-4842-8c91-991e20435ecd"
      },
      "outputs": [
        {
          "data": {
            "text/plain": [
              "[1, 3, 5, 7, 9]"
            ]
          },
          "execution_count": 33,
          "metadata": {},
          "output_type": "execute_result"
        }
      ],
      "source": [
        "odds = itertools.count(start=1, step=2)\n",
        "list(next(odds) for _ in range(5))"
      ]
    },
    {
      "cell_type": "code",
      "execution_count": 34,
      "metadata": {
        "colab": {
          "base_uri": "https://localhost:8080/"
        },
        "id": "t-Xx81WpVPXV",
        "outputId": "e3271550-83c9-46fd-8955-4beb7173b6cc"
      },
      "outputs": [
        {
          "data": {
            "text/plain": [
              "[0.5, 1.25, 2.0, 2.75, 3.5]"
            ]
          },
          "execution_count": 34,
          "metadata": {},
          "output_type": "execute_result"
        }
      ],
      "source": [
        "count_with_floats = itertools.count(start=0.5, step=0.75)\n",
        "list(next(count_with_floats) for _ in range(5))"
      ]
    },
    {
      "cell_type": "code",
      "execution_count": 35,
      "metadata": {
        "colab": {
          "base_uri": "https://localhost:8080/"
        },
        "id": "SzGMi51TVUJk",
        "outputId": "a3818f14-977e-43c4-bc2b-a38d218aa0a5"
      },
      "outputs": [
        {
          "data": {
            "text/plain": [
              "[-1, -1.5, -2.0, -2.5, -3.0]"
            ]
          },
          "execution_count": 35,
          "metadata": {},
          "output_type": "execute_result"
        }
      ],
      "source": [
        "negative_count = itertools.count(start=-1, step=-0.5)\n",
        "list(next(negative_count) for _ in range(5))"
      ]
    },
    {
      "cell_type": "code",
      "execution_count": 36,
      "metadata": {
        "colab": {
          "base_uri": "https://localhost:8080/"
        },
        "id": "ngl0yE1wVaGW",
        "outputId": "4615c5f5-73e1-41d2-bdc0-fa0d6e6014f6"
      },
      "outputs": [
        {
          "data": {
            "text/plain": [
              "[(0, 'a'), (1, 'b'), (2, 'c')]"
            ]
          },
          "execution_count": 36,
          "metadata": {},
          "output_type": "execute_result"
        }
      ],
      "source": [
        "list(zip(itertools.count(), ['a', 'b', 'c']))"
      ]
    },
    {
      "cell_type": "code",
      "execution_count": 39,
      "metadata": {
        "colab": {
          "base_uri": "https://localhost:8080/"
        },
        "id": "3twqGKg3VgzH",
        "outputId": "8b5f4bb5-5703-4901-f92a-1ab99a1edbb8"
      },
      "outputs": [
        {
          "data": {
            "text/plain": [
              "[1, 1, 1, 1, 1, 1, 1, 1, 1, 1]"
            ]
          },
          "execution_count": 39,
          "metadata": {},
          "output_type": "execute_result"
        }
      ],
      "source": [
        "all_ones = itertools.repeat(1)\n",
        "list(next(all_ones) for _ in range(10))"
      ]
    },
    {
      "cell_type": "code",
      "execution_count": 42,
      "metadata": {
        "colab": {
          "base_uri": "https://localhost:8080/"
        },
        "id": "dtNNCFt7V3RV",
        "outputId": "a4858cbb-d8e3-43bb-d37e-ad6923efb700"
      },
      "outputs": [
        {
          "data": {
            "text/plain": [
              "[1, 2, 3, 1, 2, 3, 1, 2, 3, 1]"
            ]
          },
          "execution_count": 42,
          "metadata": {},
          "output_type": "execute_result"
        }
      ],
      "source": [
        "alternating_ones = itertools.cycle([1, 2, 3])\n",
        "list(next(alternating_ones) for _ in range(10))"
      ]
    },
    {
      "cell_type": "code",
      "execution_count": 55,
      "metadata": {
        "colab": {
          "base_uri": "https://localhost:8080/"
        },
        "id": "EGXHwnd0WFwG",
        "outputId": "8206c900-0918-43ee-bea4-85d75cb23d83"
      },
      "outputs": [
        {
          "data": {
            "text/plain": [
              "[1, 3, 6, 10, 15]"
            ]
          },
          "execution_count": 55,
          "metadata": {},
          "output_type": "execute_result"
        }
      ],
      "source": [
        "import operator\n",
        "\n",
        "list(itertools.accumulate([1, 2, 3, 4, 5], operator.add))"
      ]
    },
    {
      "cell_type": "code",
      "execution_count": 47,
      "metadata": {
        "colab": {
          "base_uri": "https://localhost:8080/"
        },
        "id": "U8JXnvVnWjiq",
        "outputId": "99fecd9f-b90a-4510-bb94-6b1e391e4b04"
      },
      "outputs": [
        {
          "data": {
            "text/plain": [
              "[1, 3, 6, 10, 15]"
            ]
          },
          "execution_count": 47,
          "metadata": {},
          "output_type": "execute_result"
        }
      ],
      "source": [
        "list(itertools.accumulate([1, 2, 3, 4, 5]))"
      ]
    },
    {
      "cell_type": "code",
      "execution_count": 48,
      "metadata": {
        "colab": {
          "base_uri": "https://localhost:8080/"
        },
        "id": "CNznVe14WpCJ",
        "outputId": "9f18a40b-2412-4a0a-f1e2-2c89ef1371b0"
      },
      "outputs": [
        {
          "data": {
            "text/plain": [
              "[9, 9, 9, 5, 5, 5, 2, 2]"
            ]
          },
          "execution_count": 48,
          "metadata": {},
          "output_type": "execute_result"
        }
      ],
      "source": [
        "list(itertools.accumulate([9, 21, 17, 5, 11, 12, 2, 6], min))"
      ]
    },
    {
      "cell_type": "code",
      "execution_count": 49,
      "metadata": {
        "colab": {
          "base_uri": "https://localhost:8080/"
        },
        "id": "wsTSdXteW4Ro",
        "outputId": "b80169cf-5eb0-4911-8c19-d95c0e4869f5"
      },
      "outputs": [
        {
          "data": {
            "text/plain": [
              "[1, 1.5, 2.25, 3.125, 4.0625]"
            ]
          },
          "execution_count": 49,
          "metadata": {},
          "output_type": "execute_result"
        }
      ],
      "source": [
        "list(itertools.accumulate([1, 2, 3, 4, 5], lambda x, y: (x + y) / 2))"
      ]
    },
    {
      "cell_type": "code",
      "execution_count": 50,
      "metadata": {
        "colab": {
          "base_uri": "https://localhost:8080/"
        },
        "id": "xNWOqra5XA2S",
        "outputId": "638dd0ff-fb59-49b9-f241-d674f216a191"
      },
      "outputs": [
        {
          "data": {
            "text/plain": [
              "[1, -1, -4, -8, -13]"
            ]
          },
          "execution_count": 50,
          "metadata": {},
          "output_type": "execute_result"
        }
      ],
      "source": [
        "list(itertools.accumulate([1, 2, 3, 4, 5], lambda x, y: x - y))"
      ]
    },
    {
      "cell_type": "code",
      "execution_count": 56,
      "metadata": {
        "colab": {
          "base_uri": "https://localhost:8080/"
        },
        "id": "2oNjgKpVXJqu",
        "outputId": "3d127834-0cd7-484f-8c69-63e1cc93a411"
      },
      "outputs": [
        {
          "data": {
            "text/plain": [
              "0"
            ]
          },
          "execution_count": 56,
          "metadata": {},
          "output_type": "execute_result"
        }
      ],
      "source": [
        "next(itertools.count())"
      ]
    },
    {
      "cell_type": "code",
      "execution_count": 62,
      "metadata": {
        "id": "Wz0XnPezXsPo"
      },
      "outputs": [],
      "source": [
        "list_count = itertools.count(start=1, step=2)"
      ]
    },
    {
      "cell_type": "code",
      "execution_count": 64,
      "metadata": {
        "colab": {
          "base_uri": "https://localhost:8080/"
        },
        "id": "eEMpJOcDYAtx",
        "outputId": "ccdfd13d-0ccd-45da-f338-12886e797a03"
      },
      "outputs": [
        {
          "data": {
            "text/plain": [
              "3"
            ]
          },
          "execution_count": 64,
          "metadata": {},
          "output_type": "execute_result"
        }
      ],
      "source": [
        "next(list_count)"
      ]
    },
    {
      "cell_type": "code",
      "execution_count": 67,
      "metadata": {
        "colab": {
          "base_uri": "https://localhost:8080/"
        },
        "id": "SYTNNoErYFFA",
        "outputId": "c34b6152-ef86-453f-9df4-540572849234"
      },
      "outputs": [
        {
          "data": {
            "text/plain": [
              "[(1, 'a'), (1, 'b'), (2, 'a'), (2, 'b')]"
            ]
          },
          "execution_count": 67,
          "metadata": {},
          "output_type": "execute_result"
        }
      ],
      "source": [
        "list(itertools.product([1, 2], ['a', 'b']))"
      ]
    },
    {
      "cell_type": "code",
      "execution_count": 68,
      "metadata": {
        "colab": {
          "base_uri": "https://localhost:8080/"
        },
        "id": "0jwFR3rjYanG",
        "outputId": "1a6c654b-e72e-4222-ef41-4f2c3d029536"
      },
      "outputs": [
        {
          "data": {
            "text/plain": [
              "['A', 'B', 'C', 'D', 'E', 'F']"
            ]
          },
          "execution_count": 68,
          "metadata": {},
          "output_type": "execute_result"
        }
      ],
      "source": [
        "list(itertools.chain('ABC', 'DEF'))"
      ]
    },
    {
      "cell_type": "code",
      "execution_count": 69,
      "metadata": {
        "colab": {
          "base_uri": "https://localhost:8080/"
        },
        "id": "KK1zq6M1YxI-",
        "outputId": "f24cde2c-b88b-4450-fb74-93f177197a6b"
      },
      "outputs": [
        {
          "data": {
            "text/plain": [
              "[1, 2, 3, 4, 5, 6, 7, 8, 9]"
            ]
          },
          "execution_count": 69,
          "metadata": {},
          "output_type": "execute_result"
        }
      ],
      "source": [
        "list(itertools.chain([1, 2], [3, 4, 5, 6], [7, 8, 9]))"
      ]
    },
    {
      "cell_type": "code",
      "execution_count": 74,
      "metadata": {
        "colab": {
          "base_uri": "https://localhost:8080/"
        },
        "id": "bjvSU0i9ZMk9",
        "outputId": "365e86e5-9a00-403e-b1c0-71dcc5480970"
      },
      "outputs": [
        {
          "data": {
            "text/plain": [
              "[1, 2, 3, 4, 5, 6, 7, 8, 9]"
            ]
          },
          "execution_count": 74,
          "metadata": {},
          "output_type": "execute_result"
        }
      ],
      "source": [
        "list(itertools.chain([1, 2], [3, 4, 5, 6], [7, 8, 9]))"
      ]
    },
    {
      "cell_type": "code",
      "execution_count": 73,
      "metadata": {
        "colab": {
          "base_uri": "https://localhost:8080/"
        },
        "id": "h4-isWzHZSxM",
        "outputId": "c3a12c3b-9e7b-4420-80c3-f64aa71de9a3"
      },
      "outputs": [
        {
          "data": {
            "text/plain": [
              "[1, 2, 3, 4, 5, 6, [7, 8, 9]]"
            ]
          },
          "execution_count": 73,
          "metadata": {},
          "output_type": "execute_result"
        }
      ],
      "source": [
        "all_lists = [[1, 2], [3, 4, 5, 6], [[7, 8, 9]]]\n",
        "list(itertools.chain(*all_lists))"
      ]
    },
    {
      "cell_type": "code",
      "execution_count": 79,
      "metadata": {
        "colab": {
          "base_uri": "https://localhost:8080/"
        },
        "id": "0Xo5deqKZmuZ",
        "outputId": "fad82eb3-8fbe-4628-c0e3-de7e38a22942"
      },
      "outputs": [
        {
          "data": {
            "text/plain": [
              "[1, 2, 3]"
            ]
          },
          "execution_count": 79,
          "metadata": {},
          "output_type": "execute_result"
        }
      ],
      "source": [
        "list(itertools.islice([1, 2, 3, 4], 3))"
      ]
    },
    {
      "cell_type": "code",
      "execution_count": 81,
      "metadata": {
        "colab": {
          "base_uri": "https://localhost:8080/"
        },
        "id": "rBhbGc1vZ9BX",
        "outputId": "71bb6ce9-edc5-4e1b-a452-ccc21eb2c071"
      },
      "outputs": [
        {
          "data": {
            "text/plain": [
              "[4, 5]"
            ]
          },
          "execution_count": 81,
          "metadata": {},
          "output_type": "execute_result"
        }
      ],
      "source": [
        "list(itertools.islice([1, 2, 3, 4, 5], 3, 5))"
      ]
    },
    {
      "cell_type": "code",
      "execution_count": 84,
      "metadata": {
        "colab": {
          "base_uri": "https://localhost:8080/"
        },
        "id": "G7VKOgp8aDXR",
        "outputId": "bfd7cf7e-6305-4a94-bd97-0b3e878900ff"
      },
      "outputs": [
        {
          "data": {
            "text/plain": [
              "[1, 1, 2, 3, 4, 5, 6]"
            ]
          },
          "execution_count": 84,
          "metadata": {},
          "output_type": "execute_result"
        }
      ],
      "source": [
        "list(itertools.chain.from_iterable([[1], [1, 2, 3], [4, 5, 6]]))"
      ]
    },
    {
      "cell_type": "code",
      "execution_count": 87,
      "metadata": {
        "colab": {
          "base_uri": "https://localhost:8080/"
        },
        "id": "jFekeA7IZ5Zm",
        "outputId": "39908303-9a88-4c2f-ab13-d802dd7be2ce"
      },
      "outputs": [
        {
          "data": {
            "text/plain": [
              "[1, 2]"
            ]
          },
          "execution_count": 87,
          "metadata": {},
          "output_type": "execute_result"
        }
      ],
      "source": [
        "list(itertools.filterfalse(lambda x: x <= 0, [0, 1, -1, 2, -2]))"
      ]
    },
    {
      "cell_type": "code",
      "execution_count": 88,
      "metadata": {
        "colab": {
          "base_uri": "https://localhost:8080/"
        },
        "id": "m11SXYw1asfn",
        "outputId": "af8088ac-f693-4392-c6f1-e993420d3280"
      },
      "outputs": [
        {
          "data": {
            "text/plain": [
              "[0, 1, 2]"
            ]
          },
          "execution_count": 88,
          "metadata": {},
          "output_type": "execute_result"
        }
      ],
      "source": [
        "list(itertools.takewhile(lambda x: x < 3, [0, 1, 2, 3, 4]))"
      ]
    },
    {
      "cell_type": "code",
      "execution_count": 90,
      "metadata": {
        "colab": {
          "base_uri": "https://localhost:8080/"
        },
        "id": "-zZAFjjAa6Zc",
        "outputId": "0d6b3d53-62ad-4f7e-9482-288f0049edea"
      },
      "outputs": [
        {
          "data": {
            "text/plain": [
              "[0, 0, 0]"
            ]
          },
          "execution_count": 90,
          "metadata": {},
          "output_type": "execute_result"
        }
      ],
      "source": [
        "list(itertools.filterfalse(bool, [1, 0, 1, 0, 0]))"
      ]
    },
    {
      "cell_type": "code",
      "execution_count": 93,
      "metadata": {
        "colab": {
          "base_uri": "https://localhost:8080/"
        },
        "id": "tk8VaEGqbVAJ",
        "outputId": "6b3f9615-0540-49ec-bec8-c2a05b2bf8a5"
      },
      "outputs": [
        {
          "data": {
            "text/plain": [
              "[1, 2, 3, 4, 5, 6, 7]"
            ]
          },
          "execution_count": 93,
          "metadata": {},
          "output_type": "execute_result"
        }
      ],
      "source": [
        "iterator1, iterator2 = itertools.tee([1, 2, 3, 4, 5, 6, 7], 2)\n",
        "list(iterator1)"
      ]
    },
    {
      "cell_type": "markdown",
      "metadata": {
        "id": "NkAr7UJDcMOz"
      },
      "source": [
        "# groupby\n",
        "\n",
        "[do_something(list(g)) for _, g in groupby(lxml_elements, criteria_func)]"
      ]
    },
    {
      "cell_type": "code",
      "execution_count": 99,
      "metadata": {
        "colab": {
          "base_uri": "https://localhost:8080/"
        },
        "id": "LZPFsv9fcLXK",
        "outputId": "009beb6a-83c4-439a-f4a8-7dbf632f4444"
      },
      "outputs": [
        {
          "data": {
            "text/plain": [
              "['A', 'B', 'C', 'D', 'A', 'B']"
            ]
          },
          "execution_count": 99,
          "metadata": {},
          "output_type": "execute_result"
        }
      ],
      "source": [
        "[k for k, _ in itertools.groupby('AAAABBBCCDAABBB')]"
      ]
    },
    {
      "cell_type": "code",
      "execution_count": 101,
      "metadata": {
        "colab": {
          "base_uri": "https://localhost:8080/"
        },
        "id": "EUBaHHgEcTcM",
        "outputId": "6985df2b-c773-4299-d0eb-f72e131aed61"
      },
      "outputs": [
        {
          "data": {
            "text/plain": [
              "[['A', 'A', 'A', 'A'],\n",
              " ['B', 'B', 'B'],\n",
              " ['C', 'C'],\n",
              " ['D'],\n",
              " ['A', 'A'],\n",
              " ['B', 'B', 'B']]"
            ]
          },
          "execution_count": 101,
          "metadata": {},
          "output_type": "execute_result"
        }
      ],
      "source": [
        "[list(g) for _, g in itertools.groupby('AAAABBBCCDAABBB')]"
      ]
    },
    {
      "cell_type": "code",
      "execution_count": 105,
      "metadata": {
        "colab": {
          "base_uri": "https://localhost:8080/"
        },
        "id": "iB1zKAstccy5",
        "outputId": "15dbd3bc-dade-47a6-a181-7ca1f9ebec59"
      },
      "outputs": [
        {
          "data": {
            "text/plain": [
              "[[4, 4], [5, 5, 5], [6], [8], [10, 10], [11, 11], [23], [44], [55]]"
            ]
          },
          "execution_count": 105,
          "metadata": {},
          "output_type": "execute_result"
        }
      ],
      "source": [
        "beautiful_list = [4, 5, 6, 8, 10, 11, 23, 44, 55, 4, 5, 5, 10, 11]\n",
        "[list(group) for _, group in itertools.groupby(sorted(beautiful_list))]"
      ]
    },
    {
      "cell_type": "code",
      "execution_count": 108,
      "metadata": {
        "colab": {
          "base_uri": "https://localhost:8080/"
        },
        "id": "i4FQQNjocNvE",
        "outputId": "47fe163a-d4e5-4ede-d1cd-8a2ab16c5193"
      },
      "outputs": [
        {
          "data": {
            "text/plain": [
              "[[4, 4], [5, 5, 5], [6, 8, 10, 10], [11, 11, 23], [44], [55]]"
            ]
          },
          "execution_count": 108,
          "metadata": {},
          "output_type": "execute_result"
        }
      ],
      "source": [
        "beautiful_list = [4, 5, 6, 8, 10, 11, 23, 44, 55, 4, 5, 5, 10, 11]\n",
        "[list(group) for _, group in itertools.groupby(sorted(beautiful_list), lambda x: x % 2 == 0)]"
      ]
    },
    {
      "cell_type": "code",
      "execution_count": 107,
      "metadata": {
        "colab": {
          "base_uri": "https://localhost:8080/"
        },
        "id": "5ooIpK2pdSpP",
        "outputId": "56d93d44-ca0b-4b6b-c373-dee70325be18"
      },
      "outputs": [
        {
          "data": {
            "text/plain": [
              "[(4, 1), (11, 1), (5, 2), (6, 4)]"
            ]
          },
          "execution_count": 107,
          "metadata": {},
          "output_type": "execute_result"
        }
      ],
      "source": [
        "beautiful_list_with_tuples = [(4, 1), (5, 2), (6, 4), (11, 1)]\n",
        "sorted_list = sorted(beautiful_list_with_tuples, key=lambda x: x[1])\n",
        "sorted_list"
      ]
    },
    {
      "cell_type": "code",
      "execution_count": 112,
      "metadata": {
        "colab": {
          "base_uri": "https://localhost:8080/"
        },
        "id": "fe4JTk5ddkri",
        "outputId": "0fc0e518-1cfc-4ea5-9e03-fb6746e675fc"
      },
      "outputs": [
        {
          "data": {
            "text/plain": [
              "[[(4, 1), (11, 1)], [(5, 2), (6, 4)]]"
            ]
          },
          "execution_count": 112,
          "metadata": {},
          "output_type": "execute_result"
        }
      ],
      "source": [
        "[list(group) for _, group in itertools.groupby(sorted_list, lambda x: x[1] % 2 == 0)]"
      ]
    }
  ],
  "metadata": {
    "colab": {
      "authorship_tag": "ABX9TyOpbDvdpqgtR3+prwJkPHpM",
      "include_colab_link": true,
      "name": "itertools.ipynb",
      "provenance": []
    },
    "kernelspec": {
      "display_name": "Python 3.8.10 64-bit",
      "language": "python",
      "name": "python3"
    },
    "language_info": {
      "name": "python",
      "version": "3.8.10"
    },
    "vscode": {
      "interpreter": {
        "hash": "767d51c1340bd893661ea55ea3124f6de3c7a262a8b4abca0554b478b1e2ff90"
      }
    }
  },
  "nbformat": 4,
  "nbformat_minor": 0
}
