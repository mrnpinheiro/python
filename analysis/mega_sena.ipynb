{
 "cells": [
  {
   "cell_type": "code",
   "execution_count": 1,
   "id": "72ed7cba",
   "metadata": {},
   "outputs": [
    {
     "data": {
      "text/html": [
       "<div>\n",
       "<style scoped>\n",
       "    .dataframe tbody tr th:only-of-type {\n",
       "        vertical-align: middle;\n",
       "    }\n",
       "\n",
       "    .dataframe tbody tr th {\n",
       "        vertical-align: top;\n",
       "    }\n",
       "\n",
       "    .dataframe thead th {\n",
       "        text-align: right;\n",
       "    }\n",
       "</style>\n",
       "<table border=\"1\" class=\"dataframe\">\n",
       "  <thead>\n",
       "    <tr style=\"text-align: right;\">\n",
       "      <th></th>\n",
       "      <th>Concurso</th>\n",
       "      <th>Data do Sorteio</th>\n",
       "      <th>Coluna 1</th>\n",
       "      <th>Coluna 2</th>\n",
       "      <th>Coluna 3</th>\n",
       "      <th>Coluna 4</th>\n",
       "      <th>Coluna 5</th>\n",
       "      <th>Coluna 6</th>\n",
       "      <th>Ganhadores Faixa 1</th>\n",
       "      <th>Ganhadores Faixa 2</th>\n",
       "      <th>Ganhadores Faixa 3</th>\n",
       "      <th>Rateio Faixa 1</th>\n",
       "      <th>Rateio Faixa 2</th>\n",
       "      <th>Rateio Faixa 3</th>\n",
       "    </tr>\n",
       "  </thead>\n",
       "  <tbody>\n",
       "    <tr>\n",
       "      <th>0</th>\n",
       "      <td>1</td>\n",
       "      <td>11/3/1996</td>\n",
       "      <td>4</td>\n",
       "      <td>5</td>\n",
       "      <td>30</td>\n",
       "      <td>33</td>\n",
       "      <td>41</td>\n",
       "      <td>52</td>\n",
       "      <td>0</td>\n",
       "      <td>17</td>\n",
       "      <td>2016</td>\n",
       "      <td>0</td>\n",
       "      <td>39158,92</td>\n",
       "      <td>330,21</td>\n",
       "    </tr>\n",
       "    <tr>\n",
       "      <th>1</th>\n",
       "      <td>2</td>\n",
       "      <td>18/03/1996</td>\n",
       "      <td>9</td>\n",
       "      <td>37</td>\n",
       "      <td>39</td>\n",
       "      <td>41</td>\n",
       "      <td>43</td>\n",
       "      <td>49</td>\n",
       "      <td>1</td>\n",
       "      <td>65</td>\n",
       "      <td>4488</td>\n",
       "      <td>2307162,23</td>\n",
       "      <td>14424,02</td>\n",
       "      <td>208,91</td>\n",
       "    </tr>\n",
       "    <tr>\n",
       "      <th>2</th>\n",
       "      <td>3</td>\n",
       "      <td>25/03/1996</td>\n",
       "      <td>10</td>\n",
       "      <td>11</td>\n",
       "      <td>29</td>\n",
       "      <td>30</td>\n",
       "      <td>36</td>\n",
       "      <td>47</td>\n",
       "      <td>2</td>\n",
       "      <td>62</td>\n",
       "      <td>4261</td>\n",
       "      <td>391192,51</td>\n",
       "      <td>10515,93</td>\n",
       "      <td>153,01</td>\n",
       "    </tr>\n",
       "    <tr>\n",
       "      <th>3</th>\n",
       "      <td>4</td>\n",
       "      <td>1/4/1996</td>\n",
       "      <td>1</td>\n",
       "      <td>5</td>\n",
       "      <td>6</td>\n",
       "      <td>27</td>\n",
       "      <td>42</td>\n",
       "      <td>59</td>\n",
       "      <td>0</td>\n",
       "      <td>39</td>\n",
       "      <td>3311</td>\n",
       "      <td>0</td>\n",
       "      <td>15322,24</td>\n",
       "      <td>180,48</td>\n",
       "    </tr>\n",
       "    <tr>\n",
       "      <th>4</th>\n",
       "      <td>5</td>\n",
       "      <td>8/4/1996</td>\n",
       "      <td>1</td>\n",
       "      <td>2</td>\n",
       "      <td>6</td>\n",
       "      <td>16</td>\n",
       "      <td>19</td>\n",
       "      <td>46</td>\n",
       "      <td>0</td>\n",
       "      <td>98</td>\n",
       "      <td>5399</td>\n",
       "      <td>0</td>\n",
       "      <td>5318,1</td>\n",
       "      <td>96,53</td>\n",
       "    </tr>\n",
       "  </tbody>\n",
       "</table>\n",
       "</div>"
      ],
      "text/plain": [
       "   Concurso Data do Sorteio  Coluna 1  Coluna 2  Coluna 3  Coluna 4  Coluna 5  \\\n",
       "0         1       11/3/1996         4         5        30        33        41   \n",
       "1         2      18/03/1996         9        37        39        41        43   \n",
       "2         3      25/03/1996        10        11        29        30        36   \n",
       "3         4        1/4/1996         1         5         6        27        42   \n",
       "4         5        8/4/1996         1         2         6        16        19   \n",
       "\n",
       "   Coluna 6  Ganhadores Faixa 1  Ganhadores Faixa 2  Ganhadores Faixa 3  \\\n",
       "0        52                   0                  17                2016   \n",
       "1        49                   1                  65                4488   \n",
       "2        47                   2                  62                4261   \n",
       "3        59                   0                  39                3311   \n",
       "4        46                   0                  98                5399   \n",
       "\n",
       "  Rateio Faixa 1 Rateio Faixa 2 Rateio Faixa 3  \n",
       "0              0       39158,92         330,21  \n",
       "1     2307162,23       14424,02         208,91  \n",
       "2      391192,51       10515,93         153,01  \n",
       "3              0       15322,24         180,48  \n",
       "4              0         5318,1          96,53  "
      ]
     },
     "execution_count": 1,
     "metadata": {},
     "output_type": "execute_result"
    }
   ],
   "source": [
    "import pandas as pd\n",
    "\n",
    "mega_sena = pd.read_csv(\"mega_sena.csv\")\n",
    "mega_sena.head()"
   ]
  },
  {
   "cell_type": "code",
   "execution_count": 4,
   "id": "645ac641",
   "metadata": {},
   "outputs": [],
   "source": [
    "all_numbers = []\n",
    "\n",
    "for index in range(1, 7):\n",
    "    all_numbers.append(list(mega_sena[f'Coluna {index}']))\n",
    "\n",
    "all_numbers = sum(all_numbers, [])"
   ]
  },
  {
   "cell_type": "code",
   "execution_count": 5,
   "id": "4a47890a",
   "metadata": {},
   "outputs": [
    {
     "data": {
      "text/plain": [
       "{4: 264,\n",
       " 9: 229,\n",
       " 10: 277,\n",
       " 1: 235,\n",
       " 7: 233,\n",
       " 3: 225,\n",
       " 8: 246,\n",
       " 15: 211,\n",
       " 18: 240,\n",
       " 2: 249,\n",
       " 12: 237,\n",
       " 20: 235,\n",
       " 6: 248,\n",
       " 23: 260,\n",
       " 5: 268,\n",
       " 11: 254,\n",
       " 17: 253,\n",
       " 24: 252,\n",
       " 13: 247,\n",
       " 14: 229,\n",
       " 25: 234,\n",
       " 16: 254,\n",
       " 21: 209,\n",
       " 19: 232,\n",
       " 32: 250,\n",
       " 22: 215,\n",
       " 29: 256,\n",
       " 26: 204,\n",
       " 31: 229,\n",
       " 28: 258,\n",
       " 35: 255,\n",
       " 27: 260,\n",
       " 30: 260,\n",
       " 39: 232,\n",
       " 46: 242,\n",
       " 33: 263,\n",
       " 36: 252,\n",
       " 43: 255,\n",
       " 38: 252,\n",
       " 34: 257,\n",
       " 41: 255,\n",
       " 50: 240,\n",
       " 37: 264,\n",
       " 42: 266,\n",
       " 40: 233,\n",
       " 44: 255,\n",
       " 47: 231,\n",
       " 48: 226,\n",
       " 45: 235,\n",
       " 51: 252,\n",
       " 54: 258,\n",
       " 49: 249,\n",
       " 52: 244,\n",
       " 53: 279,\n",
       " 56: 247,\n",
       " 55: 206,\n",
       " 57: 232,\n",
       " 58: 238,\n",
       " 59: 231,\n",
       " 60: 232}"
      ]
     },
     "execution_count": 5,
     "metadata": {},
     "output_type": "execute_result"
    }
   ],
   "source": [
    "from collections import Counter\n",
    "\n",
    "numbers = Counter(all_numbers)\n",
    "\n",
    "numeros = dict(numbers)\n",
    "numeros"
   ]
  },
  {
   "cell_type": "code",
   "execution_count": 10,
   "id": "d043e123",
   "metadata": {},
   "outputs": [
    {
     "data": {
      "image/png": "[encoded data removed]",
      "text/plain": [
       "<Figure size 1800x360 with 1 Axes>"
      ]
     },
     "metadata": {
      "needs_background": "light"
     },
     "output_type": "display_data"
    }
   ],
   "source": [
    "import matplotlib.pylab as plt\n",
    "\n",
    "recurring_numbers = sorted(numeros.items())\n",
    "number, recurring = zip(*recurring_numbers)\n",
    "\n",
    "plt.figure(figsize=(25, 5))\n",
    "plt.plot(number, recurring, color='green')\n",
    "plt.grid(True)\n",
    "plt.xlim(1, 60)\n",
    "plt.xticks(x)\n",
    "plt.show()"
   ]
  },
  {
   "cell_type": "code",
   "execution_count": 20,
   "id": "59e6becb",
   "metadata": {},
   "outputs": [
    {
     "data": {
      "text/plain": [
       "[(9, 229),\n",
       " (14, 229),\n",
       " (31, 229),\n",
       " (48, 226),\n",
       " (3, 225),\n",
       " (22, 215),\n",
       " (15, 211),\n",
       " (21, 209),\n",
       " (55, 206),\n",
       " (26, 204)]"
      ]
     },
     "execution_count": 20,
     "metadata": {},
     "output_type": "execute_result"
    }
   ],
   "source": [
    "sorted_numbers = sorted(numeros.items(), key=lambda x: x[1], reverse=True)\n",
    "less_recurrence = sorted_numbers[-10:]\n",
    "less_recurrence"
   ]
  },
  {
   "cell_type": "code",
   "execution_count": 21,
   "id": "84b8dace",
   "metadata": {},
   "outputs": [
    {
     "data": {
      "text/plain": [
       "[(53, 279),\n",
       " (10, 277),\n",
       " (5, 268),\n",
       " (42, 266),\n",
       " (4, 264),\n",
       " (37, 264),\n",
       " (33, 263),\n",
       " (23, 260),\n",
       " (27, 260),\n",
       " (30, 260)]"
      ]
     },
     "execution_count": 21,
     "metadata": {},
     "output_type": "execute_result"
    }
   ],
   "source": [
    "high_recurrence = sorted_numbers[:10]\n",
    "high_recurrence"
   ]
  },
  {
   "cell_type": "code",
   "execution_count": 22,
   "id": "35cdb38f",
   "metadata": {},
   "outputs": [],
   "source": [
    "even = []\n",
    "for index, row in mega_sena.iterrows():\n",
    "    count = 0\n",
    "    if row['Coluna 1'] % 2 == 0:\n",
    "        count += 1\n",
    "    if row['Coluna 2'] % 2 == 0:\n",
    "        count += 1\n",
    "    if row['Coluna 3'] % 2 == 0:\n",
    "        count += 1\n",
    "    if row['Coluna 4'] % 2 == 0:\n",
    "        count += 1\n",
    "    if row['Coluna 5'] % 2 == 0:\n",
    "        count += 1\n",
    "    if row['Coluna 6'] % 2 == 0:\n",
    "        count += 1\n",
    "    even.append((count, 6 - count))"
   ]
  },
  {
   "cell_type": "code",
   "execution_count": 23,
   "id": "a55d3daf",
   "metadata": {},
   "outputs": [
    {
     "data": {
      "text/plain": [
       "Counter({(3, 3): 755,\n",
       "         (0, 6): 29,\n",
       "         (2, 4): 579,\n",
       "         (4, 2): 587,\n",
       "         (5, 1): 240,\n",
       "         (1, 5): 221,\n",
       "         (6, 0): 28})"
      ]
     },
     "execution_count": 23,
     "metadata": {},
     "output_type": "execute_result"
    }
   ],
   "source": [
    "Counter(even)"
   ]
  },
  {
   "cell_type": "code",
   "execution_count": 25,
   "id": "d01c63af",
   "metadata": {},
   "outputs": [
    {
     "data": {
      "text/plain": [
       "False"
      ]
     },
     "execution_count": 25,
     "metadata": {},
     "output_type": "execute_result"
    }
   ],
   "source": [
    "all_numbers = []\n",
    "for index, row in mega_sena.iterrows():\n",
    "    game = (row['Coluna 1'], row['Coluna 2'], row['Coluna 3'], row['Coluna 4'], row['Coluna 5'], row['Coluna 6'])\n",
    "    all_numbers.append(game)\n",
    "\n",
    "# Consulting if your numbers have been raffle before\n",
    "(8, 23, 27, 35, 47, 59) in all_numbers"
   ]
  }
 ],
 "metadata": {
  "kernelspec": {
   "display_name": "Python 3",
   "language": "python",
   "name": "python3"
  },
  "language_info": {
   "codemirror_mode": {
    "name": "ipython",
    "version": 3
   },
   "file_extension": ".py",
   "mimetype": "text/x-python",
   "name": "python",
   "nbconvert_exporter": "python",
   "pygments_lexer": "ipython3",
   "version": "3.8.10"
  }
 },
 "nbformat": 4,
 "nbformat_minor": 5
}
