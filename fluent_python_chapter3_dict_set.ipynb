{
  "nbformat": 4,
  "nbformat_minor": 0,
  "metadata": {
    "colab": {
      "name": "fluent-python-chapter3-dict-set.ipynb",
      "provenance": [],
      "toc_visible": true,
      "collapsed_sections": [
        "ifaodci8wjNc",
        "e65563BdzKyQ",
        "zW0ciWqmAT7u",
        "1C5al_WGuQX7"
      ],
      "authorship_tag": "ABX9TyPT81F7HWUmo54Lc7QYkDsU"
    },
    "kernelspec": {
      "name": "python3",
      "display_name": "Python 3"
    },
    "language_info": {
      "name": "python"
    }
  },
  "cells": [
    {
      "cell_type": "markdown",
      "source": [
        "# Dicionários e conjuntos"
      ],
      "metadata": {
        "id": "SD_Si29ZuIgw"
      }
    },
    {
      "cell_type": "markdown",
      "source": [
        "## Introdução"
      ],
      "metadata": {
        "id": "CSSEx6WvvWEj"
      }
    },
    {
      "cell_type": "markdown",
      "source": [
        "ABCs (Abstract Base Classes) tem como importância fundamental documentar e formalizar as interfaces mínimas para mapeamentos."
      ],
      "metadata": {
        "id": "s6O7zx2kuVhS"
      }
    },
    {
      "cell_type": "code",
      "execution_count": null,
      "metadata": {
        "colab": {
          "base_uri": "https://localhost:8080/"
        },
        "id": "3RnZcwg8me4C",
        "outputId": "b1a1c09b-567b-4b83-e3b9-0a99b91f7792"
      },
      "outputs": [
        {
          "output_type": "execute_result",
          "data": {
            "text/plain": [
              "True"
            ]
          },
          "metadata": {},
          "execution_count": 2
        }
      ],
      "source": [
        "from collections import abc\n",
        "my_dict = {}\n",
        "isinstance(my_dict, abc.Mapping)"
      ]
    },
    {
      "cell_type": "markdown",
      "source": [
        "Um objeto é hashable se tiver um valor de hash que nunca mude durante seu tempo de vida e puder ser comparado com outros objetos.\n",
        "- str, bytes, tipos números, frosenzet são todos hashable;\n",
        "- tuple só é hashable se todos os itens forem hashable."
      ],
      "metadata": {
        "id": "UbGcdBdruptl"
      }
    },
    {
      "cell_type": "code",
      "source": [
        "t = (1, 2, (30, 40))\n",
        "hash(t)"
      ],
      "metadata": {
        "colab": {
          "base_uri": "https://localhost:8080/"
        },
        "id": "YUFquPCFuRZN",
        "outputId": "2bff2ffd-301f-4ad8-b3e8-e19690d6f59c"
      },
      "execution_count": null,
      "outputs": [
        {
          "output_type": "execute_result",
          "data": {
            "text/plain": [
              "8027212646858338501"
            ]
          },
          "metadata": {},
          "execution_count": 3
        }
      ]
    },
    {
      "cell_type": "code",
      "source": [
        "t = (1, 2, [30, 40])\n",
        "hash(t)"
      ],
      "metadata": {
        "colab": {
          "base_uri": "https://localhost:8080/"
        },
        "id": "ljMYjrUqulIj",
        "outputId": "5e9ff7a7-9f09-4c20-b337-e5598a32df58"
      },
      "execution_count": null,
      "outputs": [
        {
          "output_type": "error",
          "ename": "TypeError",
          "evalue": "ignored",
          "traceback": [
            "\u001b[0;31m---------------------------------------------------------------------------\u001b[0m",
            "\u001b[0;31mTypeError\u001b[0m                                 Traceback (most recent call last)",
            "\u001b[0;32m<ipython-input-4-a2423c09a3e8>\u001b[0m in \u001b[0;36m<module>\u001b[0;34m()\u001b[0m\n\u001b[1;32m      1\u001b[0m \u001b[0mt\u001b[0m \u001b[0;34m=\u001b[0m \u001b[0;34m(\u001b[0m\u001b[0;36m1\u001b[0m\u001b[0;34m,\u001b[0m \u001b[0;36m2\u001b[0m\u001b[0;34m,\u001b[0m \u001b[0;34m[\u001b[0m\u001b[0;36m30\u001b[0m\u001b[0;34m,\u001b[0m \u001b[0;36m40\u001b[0m\u001b[0;34m]\u001b[0m\u001b[0;34m)\u001b[0m\u001b[0;34m\u001b[0m\u001b[0;34m\u001b[0m\u001b[0m\n\u001b[0;32m----> 2\u001b[0;31m \u001b[0mhash\u001b[0m\u001b[0;34m(\u001b[0m\u001b[0mt\u001b[0m\u001b[0;34m)\u001b[0m\u001b[0;34m\u001b[0m\u001b[0;34m\u001b[0m\u001b[0m\n\u001b[0m",
            "\u001b[0;31mTypeError\u001b[0m: unhashable type: 'list'"
          ]
        }
      ]
    },
    {
      "cell_type": "code",
      "source": [
        "m = frozenset([10, 20, 30, 40])\n",
        "m"
      ],
      "metadata": {
        "colab": {
          "base_uri": "https://localhost:8080/"
        },
        "id": "JQw0cZgFunJB",
        "outputId": "e25a4916-9ce2-4bda-e3fe-946e597dc0b2"
      },
      "execution_count": null,
      "outputs": [
        {
          "output_type": "execute_result",
          "data": {
            "text/plain": [
              "frozenset({10, 20, 30, 40})"
            ]
          },
          "metadata": {},
          "execution_count": 10
        }
      ]
    },
    {
      "cell_type": "code",
      "source": [
        "len(m)"
      ],
      "metadata": {
        "colab": {
          "base_uri": "https://localhost:8080/"
        },
        "id": "MJVm1XzRvQUY",
        "outputId": "39327a83-30d0-4e73-8b23-0ad71333c287"
      },
      "execution_count": null,
      "outputs": [
        {
          "output_type": "execute_result",
          "data": {
            "text/plain": [
              "4"
            ]
          },
          "metadata": {},
          "execution_count": 11
        }
      ]
    },
    {
      "cell_type": "code",
      "source": [
        "tf = (1, 2, frozenset([30, 40]))\n",
        "hash(tf)"
      ],
      "metadata": {
        "colab": {
          "base_uri": "https://localhost:8080/"
        },
        "id": "0vMHMQKmvJxq",
        "outputId": "f66ab5cb-6b75-489a-96e6-e3ad1859f46d"
      },
      "execution_count": null,
      "outputs": [
        {
          "output_type": "execute_result",
          "data": {
            "text/plain": [
              "985328935373711578"
            ]
          },
          "metadata": {},
          "execution_count": 6
        }
      ]
    },
    {
      "cell_type": "markdown",
      "source": [
        "## Tipos de construção de um dicionário"
      ],
      "metadata": {
        "id": "B-zpyPoJvX6M"
      }
    },
    {
      "cell_type": "code",
      "source": [
        "a = dict(one=1, two=2, three=3)\n",
        "b = {'three': 3, 'two': 2, 'one': 1}\n",
        "c = dict([('two', 2), ('one', 1), ('three', 3)])\n",
        "d = dict(zip(['one', 'two', 'three'], [1, 2, 3]))\n",
        "e = dict({'three': 3, 'one': 1, 'two': 2})\n",
        "a == b == c == d == e"
      ],
      "metadata": {
        "colab": {
          "base_uri": "https://localhost:8080/"
        },
        "id": "1LJbjPYWvSkh",
        "outputId": "fa075ab4-5611-4443-ee23-aacefa58ad60"
      },
      "execution_count": null,
      "outputs": [
        {
          "output_type": "execute_result",
          "data": {
            "text/plain": [
              "True"
            ]
          },
          "metadata": {},
          "execution_count": 13
        }
      ]
    },
    {
      "cell_type": "code",
      "source": [
        "list(d.keys())"
      ],
      "metadata": {
        "colab": {
          "base_uri": "https://localhost:8080/"
        },
        "id": "tVcAAxR4vmBI",
        "outputId": "2197090c-0151-42ef-abcc-d13bc89424a3"
      },
      "execution_count": null,
      "outputs": [
        {
          "output_type": "execute_result",
          "data": {
            "text/plain": [
              "['one', 'two', 'three']"
            ]
          },
          "metadata": {},
          "execution_count": 14
        }
      ]
    },
    {
      "cell_type": "code",
      "source": [
        "c.popitem()\n",
        "c"
      ],
      "metadata": {
        "colab": {
          "base_uri": "https://localhost:8080/"
        },
        "id": "Uy8vBCwVv_k1",
        "outputId": "acd6b0b9-77ef-4b14-825f-3370f7cb14bb"
      },
      "execution_count": null,
      "outputs": [
        {
          "output_type": "execute_result",
          "data": {
            "text/plain": [
              "{'one': 1, 'two': 2}"
            ]
          },
          "metadata": {},
          "execution_count": 15
        }
      ]
    },
    {
      "cell_type": "code",
      "source": [
        "pop = b.popitem()\n",
        "pop"
      ],
      "metadata": {
        "colab": {
          "base_uri": "https://localhost:8080/"
        },
        "id": "ACa0u8uhwD5N",
        "outputId": "0796f91d-e93e-4ec1-a311-465ac0554146"
      },
      "execution_count": null,
      "outputs": [
        {
          "output_type": "execute_result",
          "data": {
            "text/plain": [
              "('one', 1)"
            ]
          },
          "metadata": {},
          "execution_count": 16
        }
      ]
    },
    {
      "cell_type": "code",
      "source": [
        "b"
      ],
      "metadata": {
        "colab": {
          "base_uri": "https://localhost:8080/"
        },
        "id": "KR9LOcAnwKKL",
        "outputId": "7c2927b6-ac40-4b49-ad1f-49f878456c19"
      },
      "execution_count": null,
      "outputs": [
        {
          "output_type": "execute_result",
          "data": {
            "text/plain": [
              "{'three': 3, 'two': 2}"
            ]
          },
          "metadata": {},
          "execution_count": 17
        }
      ]
    },
    {
      "cell_type": "markdown",
      "source": [
        "## Dict Comprehensions"
      ],
      "metadata": {
        "id": "ifaodci8wjNc"
      }
    },
    {
      "cell_type": "code",
      "source": [
        "dial_codes = [\n",
        "    (880, 'Bangladesh'),\n",
        "    (55,  'Brazil'),\n",
        "    (86,  'China'),\n",
        "    (91,  'India'),\n",
        "    (62,  'Indonesia'),\n",
        "    (81,  'Japan'),\n",
        "    (234, 'Nigeria'),\n",
        "    (92,  'Pakistan'),\n",
        "    (7,   'Russia'),\n",
        "    (1,   'United States'),\n",
        "]"
      ],
      "metadata": {
        "id": "_yqTUv83weML"
      },
      "execution_count": null,
      "outputs": []
    },
    {
      "cell_type": "code",
      "source": [
        "country_dial = {country: code for code, country in dial_codes}\n",
        "country_dial"
      ],
      "metadata": {
        "colab": {
          "base_uri": "https://localhost:8080/"
        },
        "id": "f_-AmPaYwhrN",
        "outputId": "abc15062-62d4-4c50-fd36-f404a6cea8e4"
      },
      "execution_count": null,
      "outputs": [
        {
          "output_type": "execute_result",
          "data": {
            "text/plain": [
              "{'Bangladesh': 880,\n",
              " 'Brazil': 55,\n",
              " 'China': 86,\n",
              " 'India': 91,\n",
              " 'Indonesia': 62,\n",
              " 'Japan': 81,\n",
              " 'Nigeria': 234,\n",
              " 'Pakistan': 92,\n",
              " 'Russia': 7,\n",
              " 'United States': 1}"
            ]
          },
          "metadata": {},
          "execution_count": 19
        }
      ]
    },
    {
      "cell_type": "code",
      "source": [
        "country_dial.items()"
      ],
      "metadata": {
        "colab": {
          "base_uri": "https://localhost:8080/"
        },
        "id": "eDZiiyb0w5wX",
        "outputId": "c8937edf-67fc-4ecb-c87d-afc28e78dc69"
      },
      "execution_count": null,
      "outputs": [
        {
          "output_type": "execute_result",
          "data": {
            "text/plain": [
              "dict_items([('Bangladesh', 880), ('Brazil', 55), ('China', 86), ('India', 91), ('Indonesia', 62), ('Japan', 81), ('Nigeria', 234), ('Pakistan', 92), ('Russia', 7), ('United States', 1)])"
            ]
          },
          "metadata": {},
          "execution_count": 22
        }
      ]
    },
    {
      "cell_type": "code",
      "source": [
        "for country, code in sorted(country_dial.items()):\n",
        "    print(country, code)"
      ],
      "metadata": {
        "colab": {
          "base_uri": "https://localhost:8080/"
        },
        "id": "mdbViOOAw7SX",
        "outputId": "77da64bd-88a9-4793-c25d-26c0214f242b"
      },
      "execution_count": null,
      "outputs": [
        {
          "output_type": "stream",
          "name": "stdout",
          "text": [
            "Bangladesh 880\n",
            "Brazil 55\n",
            "China 86\n",
            "India 91\n",
            "Indonesia 62\n",
            "Japan 81\n",
            "Nigeria 234\n",
            "Pakistan 92\n",
            "Russia 7\n",
            "United States 1\n"
          ]
        }
      ]
    },
    {
      "cell_type": "code",
      "source": [
        "countries_and_codes = {\n",
        "    code: country.upper() \n",
        "    for country, code in sorted(country_dial.items())\n",
        "    if code < 70\n",
        "}\n",
        "countries_and_codes"
      ],
      "metadata": {
        "colab": {
          "base_uri": "https://localhost:8080/"
        },
        "id": "wbobVvdwwvL3",
        "outputId": "430c5284-8b4f-4125-ff23-3edd38f23766"
      },
      "execution_count": null,
      "outputs": [
        {
          "output_type": "execute_result",
          "data": {
            "text/plain": [
              "{1: 'UNITED STATES', 7: 'RUSSIA', 55: 'BRAZIL', 62: 'INDONESIA'}"
            ]
          },
          "metadata": {},
          "execution_count": 21
        }
      ]
    },
    {
      "cell_type": "code",
      "source": [
        "from random import shuffle\n",
        "\n",
        "shuffle(dial_codes)\n",
        "dial_codes"
      ],
      "metadata": {
        "colab": {
          "base_uri": "https://localhost:8080/"
        },
        "id": "1L0riwO6w5NU",
        "outputId": "cabc48c4-9197-4473-f813-c87f72dc72b3"
      },
      "execution_count": null,
      "outputs": [
        {
          "output_type": "execute_result",
          "data": {
            "text/plain": [
              "[(234, 'Nigeria'),\n",
              " (7, 'Russia'),\n",
              " (91, 'India'),\n",
              " (1, 'United States'),\n",
              " (62, 'Indonesia'),\n",
              " (81, 'Japan'),\n",
              " (86, 'China'),\n",
              " (880, 'Bangladesh'),\n",
              " (55, 'Brazil'),\n",
              " (92, 'Pakistan')]"
            ]
          },
          "metadata": {},
          "execution_count": 27
        }
      ]
    },
    {
      "cell_type": "code",
      "source": [
        "shuffle(dial_codes)\n",
        "dial_codes"
      ],
      "metadata": {
        "colab": {
          "base_uri": "https://localhost:8080/"
        },
        "id": "Lmgg7vfxxSQb",
        "outputId": "61cc4c21-3cce-4c0e-b6f7-e61f2a3bd6c6"
      },
      "execution_count": null,
      "outputs": [
        {
          "output_type": "execute_result",
          "data": {
            "text/plain": [
              "[(7, 'Russia'),\n",
              " (62, 'Indonesia'),\n",
              " (55, 'Brazil'),\n",
              " (1, 'United States'),\n",
              " (86, 'China'),\n",
              " (91, 'India'),\n",
              " (81, 'Japan'),\n",
              " (92, 'Pakistan'),\n",
              " (234, 'Nigeria'),\n",
              " (880, 'Bangladesh')]"
            ]
          },
          "metadata": {},
          "execution_count": 28
        }
      ]
    },
    {
      "cell_type": "code",
      "source": [
        "new_cc = countries_and_codes.copy()\n",
        "new_cc"
      ],
      "metadata": {
        "colab": {
          "base_uri": "https://localhost:8080/"
        },
        "id": "JrH_3U6ixWYZ",
        "outputId": "240f04a2-63a1-48ec-fa12-7d230f777e4d"
      },
      "execution_count": null,
      "outputs": [
        {
          "output_type": "execute_result",
          "data": {
            "text/plain": [
              "{1: 'UNITED STATES', 7: 'RUSSIA', 55: 'BRAZIL', 62: 'INDONESIA'}"
            ]
          },
          "metadata": {},
          "execution_count": 30
        }
      ]
    },
    {
      "cell_type": "code",
      "source": [
        "countries_and_codes.clear()"
      ],
      "metadata": {
        "id": "Doex3RaVxfZL"
      },
      "execution_count": null,
      "outputs": []
    },
    {
      "cell_type": "code",
      "source": [
        "countries_and_codes"
      ],
      "metadata": {
        "colab": {
          "base_uri": "https://localhost:8080/"
        },
        "id": "vvXP1rkNxhNP",
        "outputId": "429cc389-65f2-4c11-bb29-fdea47c785d1"
      },
      "execution_count": null,
      "outputs": [
        {
          "output_type": "execute_result",
          "data": {
            "text/plain": [
              "{}"
            ]
          },
          "metadata": {},
          "execution_count": 32
        }
      ]
    },
    {
      "cell_type": "code",
      "source": [
        "new_cc"
      ],
      "metadata": {
        "colab": {
          "base_uri": "https://localhost:8080/"
        },
        "id": "n7nzms9xxijx",
        "outputId": "87701add-cfae-4797-8176-a63f8218e7b1"
      },
      "execution_count": null,
      "outputs": [
        {
          "output_type": "execute_result",
          "data": {
            "text/plain": [
              "{1: 'UNITED STATES', 7: 'RUSSIA', 55: 'BRAZIL', 62: 'INDONESIA'}"
            ]
          },
          "metadata": {},
          "execution_count": 33
        }
      ]
    },
    {
      "cell_type": "code",
      "source": [
        "new_cc.fromkeys((1, 2))"
      ],
      "metadata": {
        "colab": {
          "base_uri": "https://localhost:8080/"
        },
        "id": "OLdF26HrxjvO",
        "outputId": "6429b3b2-7da7-42e3-ef11-fe46970403d9"
      },
      "execution_count": null,
      "outputs": [
        {
          "output_type": "execute_result",
          "data": {
            "text/plain": [
              "{1: None, 2: None}"
            ]
          },
          "metadata": {},
          "execution_count": 34
        }
      ]
    },
    {
      "cell_type": "code",
      "source": [
        "new_cc"
      ],
      "metadata": {
        "colab": {
          "base_uri": "https://localhost:8080/"
        },
        "id": "CtEIf1K8xyFM",
        "outputId": "0dc80910-ade4-4064-db7d-3b779dd4cddb"
      },
      "execution_count": null,
      "outputs": [
        {
          "output_type": "execute_result",
          "data": {
            "text/plain": [
              "{1: 'UNITED STATES', 7: 'RUSSIA', 55: 'BRAZIL', 62: 'INDONESIA'}"
            ]
          },
          "metadata": {},
          "execution_count": 35
        }
      ]
    },
    {
      "cell_type": "code",
      "source": [
        "new_cc.fromkeys((1, 2), 'Mari')"
      ],
      "metadata": {
        "colab": {
          "base_uri": "https://localhost:8080/"
        },
        "id": "6LwWwOBUx1Yz",
        "outputId": "3780de01-ba22-469b-f3ac-91c505ad573b"
      },
      "execution_count": null,
      "outputs": [
        {
          "output_type": "execute_result",
          "data": {
            "text/plain": [
              "{1: 'Mari', 2: 'Mari'}"
            ]
          },
          "metadata": {},
          "execution_count": 36
        }
      ]
    },
    {
      "cell_type": "code",
      "source": [
        "new_cc.items()"
      ],
      "metadata": {
        "colab": {
          "base_uri": "https://localhost:8080/"
        },
        "id": "QOjf5KDPx3bW",
        "outputId": "132318d1-f642-408e-8df4-a7db16cc201e"
      },
      "execution_count": null,
      "outputs": [
        {
          "output_type": "execute_result",
          "data": {
            "text/plain": [
              "dict_items([(55, 'BRAZIL'), (62, 'INDONESIA'), (7, 'RUSSIA'), (1, 'UNITED STATES')])"
            ]
          },
          "metadata": {},
          "execution_count": 38
        }
      ]
    },
    {
      "cell_type": "code",
      "source": [
        "new_cc.keys()"
      ],
      "metadata": {
        "colab": {
          "base_uri": "https://localhost:8080/"
        },
        "id": "RcK2qroDx_FZ",
        "outputId": "fea893d0-d369-451a-9533-120734934d79"
      },
      "execution_count": null,
      "outputs": [
        {
          "output_type": "execute_result",
          "data": {
            "text/plain": [
              "dict_keys([55, 62, 7, 1])"
            ]
          },
          "metadata": {},
          "execution_count": 39
        }
      ]
    },
    {
      "cell_type": "code",
      "source": [
        "new_cc.values()"
      ],
      "metadata": {
        "colab": {
          "base_uri": "https://localhost:8080/"
        },
        "id": "EaX0LpHdyAuM",
        "outputId": "d90c3b86-d78c-48dc-da8f-03d8b6f6fba1"
      },
      "execution_count": null,
      "outputs": [
        {
          "output_type": "execute_result",
          "data": {
            "text/plain": [
              "dict_values(['BRAZIL', 'INDONESIA', 'RUSSIA', 'UNITED STATES'])"
            ]
          },
          "metadata": {},
          "execution_count": 40
        }
      ]
    },
    {
      "cell_type": "code",
      "source": [
        "new_cc.update({'Mari': 759})"
      ],
      "metadata": {
        "id": "o6B7P_ptyCCj"
      },
      "execution_count": null,
      "outputs": []
    },
    {
      "cell_type": "code",
      "source": [
        "new_cc"
      ],
      "metadata": {
        "colab": {
          "base_uri": "https://localhost:8080/"
        },
        "id": "dRQtcYXTyCT-",
        "outputId": "1d64f2ca-2bda-4e1a-816f-8dfdd0268bc1"
      },
      "execution_count": null,
      "outputs": [
        {
          "output_type": "execute_result",
          "data": {
            "text/plain": [
              "{1: 'UNITED STATES', 55: 'BRAZIL', 62: 'INDONESIA', 7: 'RUSSIA', 'Mari': 759}"
            ]
          },
          "metadata": {},
          "execution_count": 43
        }
      ]
    },
    {
      "cell_type": "markdown",
      "source": [
        "## setdefault"
      ],
      "metadata": {
        "id": "e65563BdzKyQ"
      }
    },
    {
      "cell_type": "code",
      "source": [
        "new_cc"
      ],
      "metadata": {
        "colab": {
          "base_uri": "https://localhost:8080/"
        },
        "id": "AkDHlf8cyvSc",
        "outputId": "a3f1c2d8-3850-4c6e-93b5-8c7b6e1cfe10"
      },
      "execution_count": null,
      "outputs": [
        {
          "output_type": "execute_result",
          "data": {
            "text/plain": [
              "{1: 'UNITED STATES', 55: 'BRAZIL', 62: 'INDONESIA', 7: 'RUSSIA', 'Mari': 759}"
            ]
          },
          "metadata": {},
          "execution_count": 44
        }
      ]
    },
    {
      "cell_type": "code",
      "source": [
        "new_cc['Mari']"
      ],
      "metadata": {
        "colab": {
          "base_uri": "https://localhost:8080/"
        },
        "id": "Ua9uNP1jz6Nn",
        "outputId": "0a3e89f4-6d9a-4cc3-a3eb-8f0c454fffd6"
      },
      "execution_count": null,
      "outputs": [
        {
          "output_type": "execute_result",
          "data": {
            "text/plain": [
              "759"
            ]
          },
          "metadata": {},
          "execution_count": 45
        }
      ]
    },
    {
      "cell_type": "code",
      "source": [
        "new_cc['Pinheiro']"
      ],
      "metadata": {
        "colab": {
          "base_uri": "https://localhost:8080/",
          "height": 200
        },
        "id": "rmZ0k8OXz7YT",
        "outputId": "466a558c-4442-4697-fb05-46dbc7b4177b"
      },
      "execution_count": null,
      "outputs": [
        {
          "output_type": "error",
          "ename": "KeyError",
          "evalue": "ignored",
          "traceback": [
            "\u001b[0;31m---------------------------------------------------------------------------\u001b[0m",
            "\u001b[0;31mKeyError\u001b[0m                                  Traceback (most recent call last)",
            "\u001b[0;32m<ipython-input-46-74b3f56bf241>\u001b[0m in \u001b[0;36m<module>\u001b[0;34m()\u001b[0m\n\u001b[0;32m----> 1\u001b[0;31m \u001b[0mnew_cc\u001b[0m\u001b[0;34m[\u001b[0m\u001b[0;34m'Pinheiro'\u001b[0m\u001b[0;34m]\u001b[0m\u001b[0;34m\u001b[0m\u001b[0;34m\u001b[0m\u001b[0m\n\u001b[0m",
            "\u001b[0;31mKeyError\u001b[0m: 'Pinheiro'"
          ]
        }
      ]
    },
    {
      "cell_type": "code",
      "source": [
        "new_cc.get('Pinheiro')"
      ],
      "metadata": {
        "id": "cE8HuS5Mz95q"
      },
      "execution_count": null,
      "outputs": []
    },
    {
      "cell_type": "code",
      "source": [
        "new_cc.get('Pinheiro', 0)"
      ],
      "metadata": {
        "colab": {
          "base_uri": "https://localhost:8080/"
        },
        "id": "RP4ZW2-80AQp",
        "outputId": "88da115c-ab44-4528-e474-856b99ef6fed"
      },
      "execution_count": null,
      "outputs": [
        {
          "output_type": "execute_result",
          "data": {
            "text/plain": [
              "0"
            ]
          },
          "metadata": {},
          "execution_count": 48
        }
      ]
    },
    {
      "cell_type": "code",
      "source": [
        "from collections import defaultdict\n",
        "\n",
        "new_dict = defaultdict(lambda: 0)\n",
        "new_dict['Mari'] = 759\n",
        "new_dict['Pinheiro'] = 957\n",
        "\n",
        "new_dict"
      ],
      "metadata": {
        "colab": {
          "base_uri": "https://localhost:8080/"
        },
        "id": "oLJ3cwFm0Cu2",
        "outputId": "f03e588d-116c-4a7f-9bf6-ebbb0e80267b"
      },
      "execution_count": null,
      "outputs": [
        {
          "output_type": "execute_result",
          "data": {
            "text/plain": [
              "defaultdict(<function __main__.<lambda>>, {'Mari': 759, 'Pinheiro': 957})"
            ]
          },
          "metadata": {},
          "execution_count": 53
        }
      ]
    },
    {
      "cell_type": "code",
      "source": [
        "new_dict['Mariana']"
      ],
      "metadata": {
        "colab": {
          "base_uri": "https://localhost:8080/"
        },
        "id": "R3ggdAMw1_Qs",
        "outputId": "c9ce5a93-410a-4623-8bab-0cef13e14fdb"
      },
      "execution_count": null,
      "outputs": [
        {
          "output_type": "execute_result",
          "data": {
            "text/plain": [
              "0"
            ]
          },
          "metadata": {},
          "execution_count": 54
        }
      ]
    },
    {
      "cell_type": "code",
      "source": [
        "new_dict"
      ],
      "metadata": {
        "colab": {
          "base_uri": "https://localhost:8080/"
        },
        "id": "gcC4p9E02BjV",
        "outputId": "6b902aee-81f3-458d-8fa3-327fd845cf38"
      },
      "execution_count": null,
      "outputs": [
        {
          "output_type": "execute_result",
          "data": {
            "text/plain": [
              "defaultdict(<function __main__.<lambda>>,\n",
              "            {'Mari': 759, 'Mariana': 0, 'Pinheiro': 957})"
            ]
          },
          "metadata": {},
          "execution_count": 55
        }
      ]
    },
    {
      "cell_type": "markdown",
      "source": [
        "## Variações de dict"
      ],
      "metadata": {
        "id": "zW0ciWqmAT7u"
      }
    },
    {
      "cell_type": "markdown",
      "source": [
        "OrderedDict: Mantém as chaves na ordem de inserção, permitindo que a iteração dos itens seja feita em uma ordem previsível."
      ],
      "metadata": {
        "id": "JGKHjx8IAdDN"
      }
    },
    {
      "cell_type": "code",
      "source": [
        "from collections import OrderedDict\n",
        "\n",
        "m = OrderedDict()\n",
        "m[1] = 'abc'\n",
        "m[2] = 'cde'\n",
        "m[3] = 'efg'\n",
        "m"
      ],
      "metadata": {
        "colab": {
          "base_uri": "https://localhost:8080/"
        },
        "id": "dm1qcjiG2Pr_",
        "outputId": "9c765b34-6aaa-4b72-c83e-811ab6ec9a84"
      },
      "execution_count": null,
      "outputs": [
        {
          "output_type": "execute_result",
          "data": {
            "text/plain": [
              "OrderedDict([(1, 'abc'), (2, 'cde'), (3, 'efg')])"
            ]
          },
          "metadata": {},
          "execution_count": 66
        }
      ]
    },
    {
      "cell_type": "code",
      "source": [
        "m.popitem()\n",
        "m"
      ],
      "metadata": {
        "colab": {
          "base_uri": "https://localhost:8080/"
        },
        "id": "cHUjI8UGAu7V",
        "outputId": "b73a4f52-0531-44a2-8eda-d25424507138"
      },
      "execution_count": null,
      "outputs": [
        {
          "output_type": "execute_result",
          "data": {
            "text/plain": [
              "OrderedDict([(1, 'abc'), (2, 'cde')])"
            ]
          },
          "metadata": {},
          "execution_count": 67
        }
      ]
    },
    {
      "cell_type": "code",
      "source": [
        "m[4] = 'ghi'\n",
        "m.popitem(last=False)\n",
        "m"
      ],
      "metadata": {
        "colab": {
          "base_uri": "https://localhost:8080/"
        },
        "id": "UHuQF3nNBF8m",
        "outputId": "d4a8fbfe-b7f4-4d62-9202-fd7556d788d1"
      },
      "execution_count": null,
      "outputs": [
        {
          "output_type": "execute_result",
          "data": {
            "text/plain": [
              "OrderedDict([(2, 'cde'), (4, 'ghi')])"
            ]
          },
          "metadata": {},
          "execution_count": 68
        }
      ]
    },
    {
      "cell_type": "markdown",
      "source": [
        "ChainMap: armazena lista de mapeamentos que podem ser buscados como se fossem um só. A consulta é feita em cada mapeamento na sequência e será bem-sucedida se a chave for encontrada em qualquer um deles."
      ],
      "metadata": {
        "id": "jVpfogeABeE4"
      }
    },
    {
      "cell_type": "code",
      "source": [
        "from collections import ChainMap\n",
        "import builtins\n",
        "\n",
        "pylookup = ChainMap(locals(), globals(), vars(builtins))\n",
        "pylookup"
      ],
      "metadata": {
        "colab": {
          "base_uri": "https://localhost:8080/"
        },
        "id": "aqZK6zbrBV7W",
        "outputId": "f3103d7f-99ad-4e62-a3f2-78854ab354b4"
      },
      "execution_count": null,
      "outputs": [
        {
          "output_type": "execute_result",
          "data": {
            "text/plain": [
              "ChainMap({'__name__': '__main__', '__doc__': 'Build an index mapping word -> list of occurrences', '__package__': None, '__loader__': None, '__spec__': None, '__builtin__': <module 'builtins' (built-in)>, '__builtins__': <module 'builtins' (built-in)>, '_ih': ['', '# Abstract Base Classes\\n\\nfrom collections import abc\\nmy_dict = {}\\nisinstance(my_dict, abc.Mapping)', 'from collections import abc\\nmy_dict = {}\\nisinstance(my_dict, abc.Mapping)', 't = (1, 2, (30, 40))\\nhash(t)', 't = (1, 2, [30, 40])\\nhash(t)', 'frozenset([30, 40])', 'tf = (1, 2, frozenset([30, 40]))\\nhash(tf)', 'frozenset([10, 20, 30, 40])', 'm = frozenset([10, 20, 30, 40])\\nm', 'm = frozenset([10, 20, 30, 40])\\nlen(m)', 'm = frozenset([10, 20, 30, 40])\\nm', 'len(m)', 'a = dict(one=1, two=2, three=3)\\na', \"a = dict(one=1, two=2, three=3)\\nb = {'three': 3, 'two': 2, 'one': 1}\\nc = dict([('two', 2), ('one', 1), ('three', 3)])\\nd = dict(zip(['one', 'two', 'three'], [1, 2, 3]))\\ne = dict({'three': 3, 'one': 1, 'two': 2})\\na == b == c == d == e\", 'list(d.keys())', 'c.popitem()\\nc', 'pop = b.popitem()\\npop', 'b', \"dial_codes = [\\n    (880, 'Bangladesh'),\\n    (55,  'Brazil'),\\n    (86,  'China'),\\n    (91,  'India'),\\n    (62,  'Indonesia'),\\n    (81,  'Japan'),\\n    (234, 'Nigeria'),\\n    (92,  'Pakistan'),\\n    (7,   'Russia'),\\n    (1,   'United States'),\\n]\", 'country_dial = {country: code for code, country in dial_codes}\\ncountry_dial', 'countries_and_codes = {\\n    code: country.upper() \\n    for country, code in sorted(country_dial.items())\\n    if code < 70\\n}', 'countries_and_codes = {\\n    code: country.upper() \\n    for country, code in sorted(country_dial.items())\\n    if code < 70\\n}\\ncountries_and_codes', 'country_dial.items()', 'for country, code in sorted(country_dial.items()):\\n    print(country, code)', 'from random import shuffle\\n\\nshuffle(dial_codes)', 'from random import shuffle\\n\\nshuffle(dial_codes)\\ndial_codes', 'from random import shuffle\\n\\nshuffle(dial_codes)\\ndial_codes', 'from random import shuffle\\n\\nshuffle(dial_codes)\\ndial_codes', 'shuffle(dial_codes)\\ndial_codes', 'new_cc = countries_and_codes.copy()', 'new_cc = countries_and_codes.copy()\\nnew_cc', 'countries_and_codes.clear()', 'countries_and_codes', 'new_cc', 'new_cc.fromkeys((1, 2))', 'new_cc', \"new_cc.fromkeys((1, 2), 'Mari')\", 'new_cc', 'new_cc.items()', 'new_cc.keys()', 'new_cc.values()', 'new_cc.update((1, 2))', \"new_cc.update({'Mari': 759})\", 'new_cc', 'new_cc', \"new_cc['Mari']\", \"new_cc['Pinheiro']\", \"new_cc.get('Pinheiro')\", \"new_cc.get('Pinheiro', 0)\", '# adapted from Alex Martelli\\'s example in \"Re-learning Python\"\\n# http://www.aleax.it/Python/accu04_Relearn_Python_alex.pdf\\n# (slide 41) Ex: lines-by-word file index\\n\\n# tag::INDEX0[]\\n\"\"\"Build an index mapping word -> list of occurrences\"\"\"\\n\\nimport re\\nimport sys\\n\\nWORD_RE = re.compile(r\\'\\\\w+\\')\\n\\nindex = {}\\nwith open(sys.argv[1], encoding=\\'utf-8\\') as fp:\\n    for line_no, line in enumerate(fp, 1):\\n        for match in WORD_RE.finditer(line):\\n            word = match.group()\\n            column_no = match.start() + 1\\n            location = (line_no, column_no)\\n            # this is ugly; coded like this to make a point\\n            occurrences = index.get(word, [])  # <1>\\n            occurrences.append(location)       # <2>\\n            index[word] = occurrences          # <3>\\n\\n# display in alphabetical order\\nfor word in sorted(index, key=str.upper):  # <4>\\n    print(word, index[word])\\n# end::INDEX0[]', \"from collections import defaultdict\\n\\nnew_dict = defaultdict(0)\\nnew_dict['Mari'] = 759\\nnew_dict['Pinheiro'] = 957\\n\\nnew_dict\", \"from collections import defaultdict\\n\\ndef def_value():\\n    return 0\\n\\nnew_dict = defaultdict(def_value)\\nnew_dict['Mari'] = 759\\nnew_dict['Pinheiro'] = 957\\n\\nnew_dict\", \"new_dict['Mariana']\", \"from collections import defaultdict\\n\\nnew_dict = defaultdict(lambda: 0)\\nnew_dict['Mari'] = 759\\nnew_dict['Pinheiro'] = 957\\n\\nnew_dict\", \"new_dict['Mariana']\", 'new_dict', \"from collections import OrderedDict\\n\\nm = OrderedDict({1: 'abc', 2: 'cde'})\", \"from collections import OrderedDict\\n\\nm = OrderedDict({1: 'abc', 2: 'cde'})\\nm\", 'm.popitem()', 'm.popitem()\\nm', \"from collections import OrderedDict\\n\\nm = OrderedDict({1: 'abc', 2: 'cde'})\\nm\", 'm.popitem()\\nm', \"from collections import OrderedDict\\n\\nm = OrderedDict()\\nm[1] = 'abc'\\nm[2] = 'cde'\\nm[3] = 'efg'\\nm\", 'm.popitem()\\nm', \"m[4] = 'ghi'\\nm.popitem(last=True)\\nm\", \"m[4] = 'ghi'\\nm.popitem(last=False)\\nm\", \"from collections import OrderedDict\\n\\nm = OrderedDict()\\nm[1] = 'abc'\\nm[2] = 'cde'\\nm[3] = 'efg'\\nm\", 'm.popitem()\\nm', \"m[4] = 'ghi'\\nm.popitem(last=False)\\nm\", 'from collections import ChainMap\\nimport builtins\\n\\npylookup = ChainMap(locals(), globals(), vars(builtins))', 'from collections import ChainMap\\nimport builtins\\n\\npylookup = ChainMap(locals(), globals(), vars(builtins))\\npylookyp', 'from collections import ChainMap\\nimport builtins\\n\\npylookup = ChainMap(locals(), globals(), vars(builtins))\\npylookup'], '_oh': {1: True, 2: True, 3: 8027212646858338501, 5: frozenset({40, 30}), 6: 985328935373711578, 7: frozenset({40, 10, 20, 30}), 8: frozenset({40, 10, 20, 30}), 9: 4, 10: frozenset({40, 10, 20, 30}), 11: 4, 12: {'one': 1, 'two': 2, 'three': 3}, 13: True, 14: ['one', 'two', 'three'], 15: {'two': 2, 'one': 1}, 16: ('one', 1), 17: {'three': 3, 'two': 2}, 19: {'Bangladesh': 880, 'Brazil': 55, 'China': 86, 'India': 91, 'Indonesia': 62, 'Japan': 81, 'Nigeria': 234, 'Pakistan': 92, 'Russia': 7, 'United States': 1}, 21: {}, 22: dict_items([('Bangladesh', 880), ('Brazil', 55), ('China', 86), ('India', 91), ('Indonesia', 62), ('Japan', 81), ('Nigeria', 234), ('Pakistan', 92), ('Russia', 7), ('United States', 1)]), 25: [(7, 'Russia'), (62, 'Indonesia'), (55, 'Brazil'), (1, 'United States'), (86, 'China'), (91, 'India'), (81, 'Japan'), (92, 'Pakistan'), (234, 'Nigeria'), (880, 'Bangladesh')], 26: [(7, 'Russia'), (62, 'Indonesia'), (55, 'Brazil'), (1, 'United States'), (86, 'China'), (91, 'India'), (81, 'Japan'), (92, 'Pakistan'), (234, 'Nigeria'), (880, 'Bangladesh')], 27: [(7, 'Russia'), (62, 'Indonesia'), (55, 'Brazil'), (1, 'United States'), (86, 'China'), (91, 'India'), (81, 'Japan'), (92, 'Pakistan'), (234, 'Nigeria'), (880, 'Bangladesh')], 28: [(7, 'Russia'), (62, 'Indonesia'), (55, 'Brazil'), (1, 'United States'), (86, 'China'), (91, 'India'), (81, 'Japan'), (92, 'Pakistan'), (234, 'Nigeria'), (880, 'Bangladesh')], 30: {55: 'BRAZIL', 62: 'INDONESIA', 7: 'RUSSIA', 1: 'UNITED STATES', 'Mari': 759}, 32: {}, 33: {55: 'BRAZIL', 62: 'INDONESIA', 7: 'RUSSIA', 1: 'UNITED STATES', 'Mari': 759}, 34: {1: None, 2: None}, 35: {55: 'BRAZIL', 62: 'INDONESIA', 7: 'RUSSIA', 1: 'UNITED STATES', 'Mari': 759}, 36: {1: 'Mari', 2: 'Mari'}, 37: {55: 'BRAZIL', 62: 'INDONESIA', 7: 'RUSSIA', 1: 'UNITED STATES', 'Mari': 759}, 38: dict_items([(55, 'BRAZIL'), (62, 'INDONESIA'), (7, 'RUSSIA'), (1, 'UNITED STATES'), ('Mari', 759)]), 39: dict_keys([55, 62, 7, 1, 'Mari']), 40: dict_values(['BRAZIL', 'INDONESIA', 'RUSSIA', 'UNITED STATES', 759]), 43: {55: 'BRAZIL', 62: 'INDONESIA', 7: 'RUSSIA', 1: 'UNITED STATES', 'Mari': 759}, 44: {55: 'BRAZIL', 62: 'INDONESIA', 7: 'RUSSIA', 1: 'UNITED STATES', 'Mari': 759}, 45: 759, 48: 0, 51: defaultdict(<function def_value at 0x7fbeb6d66f80>, {'Mari': 759, 'Pinheiro': 957, 'Mariana': 0}), 52: 0, 53: defaultdict(<function <lambda> at 0x7fbeb6d6a8c0>, {'Mari': 759, 'Pinheiro': 957, 'Mariana': 0}), 54: 0, 55: defaultdict(<function <lambda> at 0x7fbeb6d6a8c0>, {'Mari': 759, 'Pinheiro': 957, 'Mariana': 0}), 57: OrderedDict(), 58: (2, 'cde'), 59: OrderedDict(), 60: OrderedDict([(1, 'abc')]), 61: OrderedDict([(1, 'abc')]), 62: OrderedDict([(2, 'cde'), (4, 'ghi')]), 63: OrderedDict([(2, 'cde'), (4, 'ghi')]), 64: OrderedDict([(2, 'cde'), (4, 'ghi')]), 65: OrderedDict([(2, 'cde'), (4, 'ghi')]), 66: OrderedDict([(2, 'cde'), (4, 'ghi')]), 67: OrderedDict([(2, 'cde'), (4, 'ghi')]), 68: OrderedDict([(2, 'cde'), (4, 'ghi')])}, '_dh': ['/content'], '_sh': <module 'IPython.core.shadowns' from '/usr/local/lib/python3.7/dist-packages/IPython/core/shadowns.py'>, 'In': ['', '# Abstract Base Classes\\n\\nfrom collections import abc\\nmy_dict = {}\\nisinstance(my_dict, abc.Mapping)', 'from collections import abc\\nmy_dict = {}\\nisinstance(my_dict, abc.Mapping)', 't = (1, 2, (30, 40))\\nhash(t)', 't = (1, 2, [30, 40])\\nhash(t)', 'frozenset([30, 40])', 'tf = (1, 2, frozenset([30, 40]))\\nhash(tf)', 'frozenset([10, 20, 30, 40])', 'm = frozenset([10, 20, 30, 40])\\nm', 'm = frozenset([10, 20, 30, 40])\\nlen(m)', 'm = frozenset([10, 20, 30, 40])\\nm', 'len(m)', 'a = dict(one=1, two=2, three=3)\\na', \"a = dict(one=1, two=2, three=3)\\nb = {'three': 3, 'two': 2, 'one': 1}\\nc = dict([('two', 2), ('one', 1), ('three', 3)])\\nd = dict(zip(['one', 'two', 'three'], [1, 2, 3]))\\ne = dict({'three': 3, 'one': 1, 'two': 2})\\na == b == c == d == e\", 'list(d.keys())', 'c.popitem()\\nc', 'pop = b.popitem()\\npop', 'b', \"dial_codes = [\\n    (880, 'Bangladesh'),\\n    (55,  'Brazil'),\\n    (86,  'China'),\\n    (91,  'India'),\\n    (62,  'Indonesia'),\\n    (81,  'Japan'),\\n    (234, 'Nigeria'),\\n    (92,  'Pakistan'),\\n    (7,   'Russia'),\\n    (1,   'United States'),\\n]\", 'country_dial = {country: code for code, country in dial_codes}\\ncountry_dial', 'countries_and_codes = {\\n    code: country.upper() \\n    for country, code in sorted(country_dial.items())\\n    if code < 70\\n}', 'countries_and_codes = {\\n    code: country.upper() \\n    for country, code in sorted(country_dial.items())\\n    if code < 70\\n}\\ncountries_and_codes', 'country_dial.items()', 'for country, code in sorted(country_dial.items()):\\n    print(country, code)', 'from random import shuffle\\n\\nshuffle(dial_codes)', 'from random import shuffle\\n\\nshuffle(dial_codes)\\ndial_codes', 'from random import shuffle\\n\\nshuffle(dial_codes)\\ndial_codes', 'from random import shuffle\\n\\nshuffle(dial_codes)\\ndial_codes', 'shuffle(dial_codes)\\ndial_codes', 'new_cc = countries_and_codes.copy()', 'new_cc = countries_and_codes.copy()\\nnew_cc', 'countries_and_codes.clear()', 'countries_and_codes', 'new_cc', 'new_cc.fromkeys((1, 2))', 'new_cc', \"new_cc.fromkeys((1, 2), 'Mari')\", 'new_cc', 'new_cc.items()', 'new_cc.keys()', 'new_cc.values()', 'new_cc.update((1, 2))', \"new_cc.update({'Mari': 759})\", 'new_cc', 'new_cc', \"new_cc['Mari']\", \"new_cc['Pinheiro']\", \"new_cc.get('Pinheiro')\", \"new_cc.get('Pinheiro', 0)\", '# adapted from Alex Martelli\\'s example in \"Re-learning Python\"\\n# http://www.aleax.it/Python/accu04_Relearn_Python_alex.pdf\\n# (slide 41) Ex: lines-by-word file index\\n\\n# tag::INDEX0[]\\n\"\"\"Build an index mapping word -> list of occurrences\"\"\"\\n\\nimport re\\nimport sys\\n\\nWORD_RE = re.compile(r\\'\\\\w+\\')\\n\\nindex = {}\\nwith open(sys.argv[1], encoding=\\'utf-8\\') as fp:\\n    for line_no, line in enumerate(fp, 1):\\n        for match in WORD_RE.finditer(line):\\n            word = match.group()\\n            column_no = match.start() + 1\\n            location = (line_no, column_no)\\n            # this is ugly; coded like this to make a point\\n            occurrences = index.get(word, [])  # <1>\\n            occurrences.append(location)       # <2>\\n            index[word] = occurrences          # <3>\\n\\n# display in alphabetical order\\nfor word in sorted(index, key=str.upper):  # <4>\\n    print(word, index[word])\\n# end::INDEX0[]', \"from collections import defaultdict\\n\\nnew_dict = defaultdict(0)\\nnew_dict['Mari'] = 759\\nnew_dict['Pinheiro'] = 957\\n\\nnew_dict\", \"from collections import defaultdict\\n\\ndef def_value():\\n    return 0\\n\\nnew_dict = defaultdict(def_value)\\nnew_dict['Mari'] = 759\\nnew_dict['Pinheiro'] = 957\\n\\nnew_dict\", \"new_dict['Mariana']\", \"from collections import defaultdict\\n\\nnew_dict = defaultdict(lambda: 0)\\nnew_dict['Mari'] = 759\\nnew_dict['Pinheiro'] = 957\\n\\nnew_dict\", \"new_dict['Mariana']\", 'new_dict', \"from collections import OrderedDict\\n\\nm = OrderedDict({1: 'abc', 2: 'cde'})\", \"from collections import OrderedDict\\n\\nm = OrderedDict({1: 'abc', 2: 'cde'})\\nm\", 'm.popitem()', 'm.popitem()\\nm', \"from collections import OrderedDict\\n\\nm = OrderedDict({1: 'abc', 2: 'cde'})\\nm\", 'm.popitem()\\nm', \"from collections import OrderedDict\\n\\nm = OrderedDict()\\nm[1] = 'abc'\\nm[2] = 'cde'\\nm[3] = 'efg'\\nm\", 'm.popitem()\\nm', \"m[4] = 'ghi'\\nm.popitem(last=True)\\nm\", \"m[4] = 'ghi'\\nm.popitem(last=False)\\nm\", \"from collections import OrderedDict\\n\\nm = OrderedDict()\\nm[1] = 'abc'\\nm[2] = 'cde'\\nm[3] = 'efg'\\nm\", 'm.popitem()\\nm', \"m[4] = 'ghi'\\nm.popitem(last=False)\\nm\", 'from collections import ChainMap\\nimport builtins\\n\\npylookup = ChainMap(locals(), globals(), vars(builtins))', 'from collections import ChainMap\\nimport builtins\\n\\npylookup = ChainMap(locals(), globals(), vars(builtins))\\npylookyp', 'from collections import ChainMap\\nimport builtins\\n\\npylookup = ChainMap(locals(), globals(), vars(builtins))\\npylookup'], 'Out': {1: True, 2: True, 3: 8027212646858338501, 5: frozenset({40, 30}), 6: 985328935373711578, 7: frozenset({40, 10, 20, 30}), 8: frozenset({40, 10, 20, 30}), 9: 4, 10: frozenset({40, 10, 20, 30}), 11: 4, 12: {'one': 1, 'two': 2, 'three': 3}, 13: True, 14: ['one', 'two', 'three'], 15: {'two': 2, 'one': 1}, 16: ('one', 1), 17: {'three': 3, 'two': 2}, 19: {'Bangladesh': 880, 'Brazil': 55, 'China': 86, 'India': 91, 'Indonesia': 62, 'Japan': 81, 'Nigeria': 234, 'Pakistan': 92, 'Russia': 7, 'United States': 1}, 21: {}, 22: dict_items([('Bangladesh', 880), ('Brazil', 55), ('China', 86), ('India', 91), ('Indonesia', 62), ('Japan', 81), ('Nigeria', 234), ('Pakistan', 92), ('Russia', 7), ('United States', 1)]), 25: [(7, 'Russia'), (62, 'Indonesia'), (55, 'Brazil'), (1, 'United States'), (86, 'China'), (91, 'India'), (81, 'Japan'), (92, 'Pakistan'), (234, 'Nigeria'), (880, 'Bangladesh')], 26: [(7, 'Russia'), (62, 'Indonesia'), (55, 'Brazil'), (1, 'United States'), (86, 'China'), (91, 'India'), (81, 'Japan'), (92, 'Pakistan'), (234, 'Nigeria'), (880, 'Bangladesh')], 27: [(7, 'Russia'), (62, 'Indonesia'), (55, 'Brazil'), (1, 'United States'), (86, 'China'), (91, 'India'), (81, 'Japan'), (92, 'Pakistan'), (234, 'Nigeria'), (880, 'Bangladesh')], 28: [(7, 'Russia'), (62, 'Indonesia'), (55, 'Brazil'), (1, 'United States'), (86, 'China'), (91, 'India'), (81, 'Japan'), (92, 'Pakistan'), (234, 'Nigeria'), (880, 'Bangladesh')], 30: {55: 'BRAZIL', 62: 'INDONESIA', 7: 'RUSSIA', 1: 'UNITED STATES', 'Mari': 759}, 32: {}, 33: {55: 'BRAZIL', 62: 'INDONESIA', 7: 'RUSSIA', 1: 'UNITED STATES', 'Mari': 759}, 34: {1: None, 2: None}, 35: {55: 'BRAZIL', 62: 'INDONESIA', 7: 'RUSSIA', 1: 'UNITED STATES', 'Mari': 759}, 36: {1: 'Mari', 2: 'Mari'}, 37: {55: 'BRAZIL', 62: 'INDONESIA', 7: 'RUSSIA', 1: 'UNITED STATES', 'Mari': 759}, 38: dict_items([(55, 'BRAZIL'), (62, 'INDONESIA'), (7, 'RUSSIA'), (1, 'UNITED STATES'), ('Mari', 759)]), 39: dict_keys([55, 62, 7, 1, 'Mari']), 40: dict_values(['BRAZIL', 'INDONESIA', 'RUSSIA', 'UNITED STATES', 759]), 43: {55: 'BRAZIL', 62: 'INDONESIA', 7: 'RUSSIA', 1: 'UNITED STATES', 'Mari': 759}, 44: {55: 'BRAZIL', 62: 'INDONESIA', 7: 'RUSSIA', 1: 'UNITED STATES', 'Mari': 759}, 45: 759, 48: 0, 51: defaultdict(<function def_value at 0x7fbeb6d66f80>, {'Mari': 759, 'Pinheiro': 957, 'Mariana': 0}), 52: 0, 53: defaultdict(<function <lambda> at 0x7fbeb6d6a8c0>, {'Mari': 759, 'Pinheiro': 957, 'Mariana': 0}), 54: 0, 55: defaultdict(<function <lambda> at 0x7fbeb6d6a8c0>, {'Mari': 759, 'Pinheiro': 957, 'Mariana': 0}), 57: OrderedDict(), 58: (2, 'cde'), 59: OrderedDict(), 60: OrderedDict([(1, 'abc')]), 61: OrderedDict([(1, 'abc')]), 62: OrderedDict([(2, 'cde'), (4, 'ghi')]), 63: OrderedDict([(2, 'cde'), (4, 'ghi')]), 64: OrderedDict([(2, 'cde'), (4, 'ghi')]), 65: OrderedDict([(2, 'cde'), (4, 'ghi')]), 66: OrderedDict([(2, 'cde'), (4, 'ghi')]), 67: OrderedDict([(2, 'cde'), (4, 'ghi')]), 68: OrderedDict([(2, 'cde'), (4, 'ghi')])}, 'get_ipython': <bound method InteractiveShell.get_ipython of <google.colab._shell.Shell object at 0x7fbec49eee50>>, 'exit': <IPython.core.autocall.ZMQExitAutocall object at 0x7fbec47c3f90>, 'quit': <IPython.core.autocall.ZMQExitAutocall object at 0x7fbec47c3f90>, '_': OrderedDict([(2, 'cde'), (4, 'ghi')]), '__': OrderedDict([(2, 'cde'), (4, 'ghi')]), '___': OrderedDict([(2, 'cde'), (4, 'ghi')]), '_i': 'from collections import ChainMap\\nimport builtins\\n\\npylookup = ChainMap(locals(), globals(), vars(builtins))\\npylookyp', '_ii': 'from collections import ChainMap\\nimport builtins\\n\\npylookup = ChainMap(locals(), globals(), vars(builtins))', '_iii': \"m[4] = 'ghi'\\nm.popitem(last=False)\\nm\", '_i1': '# Abstract Base Classes\\n\\nfrom collections import abc\\nmy_dict = {}\\nisinstance(my_dict, abc.Mapping)', 'abc': <module 'collections.abc' from '/usr/lib/python3.7/collections/abc.py'>, 'my_dict': {}, '_1': True, '_i2': 'from collections import abc\\nmy_dict = {}\\nisinstance(my_dict, abc.Mapping)', '_2': True, '_i3': 't = (1, 2, (30, 40))\\nhash(t)', 't': (1, 2, [30, 40]), '_3': 8027212646858338501, '_i4': 't = (1, 2, [30, 40])\\nhash(t)', '_i5': 'frozenset([30, 40])', '_5': frozenset({40, 30}), '_i6': 'tf = (1, 2, frozenset([30, 40]))\\nhash(tf)', 'tf': (1, 2, frozenset({40, 30})), '_6': 985328935373711578, '_i7': 'frozenset([10, 20, 30, 40])', '_7': frozenset({40, 10, 20, 30}), '_i8': 'm = frozenset([10, 20, 30, 40])\\nm', 'm': OrderedDict([(2, 'cde'), (4, 'ghi')]), '_8': frozenset({40, 10, 20, 30}), '_i9': 'm = frozenset([10, 20, 30, 40])\\nlen(m)', '_9': 4, '_i10': 'm = frozenset([10, 20, 30, 40])\\nm', '_10': frozenset({40, 10, 20, 30}), '_i11': 'len(m)', '_11': 4, '_i12': 'a = dict(one=1, two=2, three=3)\\na', 'a': {'one': 1, 'two': 2, 'three': 3}, '_12': {'one': 1, 'two': 2, 'three': 3}, '_i13': \"a = dict(one=1, two=2, three=3)\\nb = {'three': 3, 'two': 2, 'one': 1}\\nc = dict([('two', 2), ('one', 1), ('three', 3)])\\nd = dict(zip(['one', 'two', 'three'], [1, 2, 3]))\\ne = dict({'three': 3, 'one': 1, 'two': 2})\\na == b == c == d == e\", 'b': {'three': 3, 'two': 2}, 'c': {'two': 2, 'one': 1}, 'd': {'one': 1, 'two': 2, 'three': 3}, 'e': {'three': 3, 'one': 1, 'two': 2}, '_13': True, '_i14': 'list(d.keys())', '_14': ['one', 'two', 'three'], '_i15': 'c.popitem()\\nc', '_15': {'two': 2, 'one': 1}, '_i16': 'pop = b.popitem()\\npop', 'pop': ('one', 1), '_16': ('one', 1), '_i17': 'b', '_17': {'three': 3, 'two': 2}, '_i18': \"dial_codes = [\\n    (880, 'Bangladesh'),\\n    (55,  'Brazil'),\\n    (86,  'China'),\\n    (91,  'India'),\\n    (62,  'Indonesia'),\\n    (81,  'Japan'),\\n    (234, 'Nigeria'),\\n    (92,  'Pakistan'),\\n    (7,   'Russia'),\\n    (1,   'United States'),\\n]\", 'dial_codes': [(7, 'Russia'), (62, 'Indonesia'), (55, 'Brazil'), (1, 'United States'), (86, 'China'), (91, 'India'), (81, 'Japan'), (92, 'Pakistan'), (234, 'Nigeria'), (880, 'Bangladesh')], '_i19': 'country_dial = {country: code for code, country in dial_codes}\\ncountry_dial', 'country_dial': {'Bangladesh': 880, 'Brazil': 55, 'China': 86, 'India': 91, 'Indonesia': 62, 'Japan': 81, 'Nigeria': 234, 'Pakistan': 92, 'Russia': 7, 'United States': 1}, '_19': {'Bangladesh': 880, 'Brazil': 55, 'China': 86, 'India': 91, 'Indonesia': 62, 'Japan': 81, 'Nigeria': 234, 'Pakistan': 92, 'Russia': 7, 'United States': 1}, '_i20': 'countries_and_codes = {\\n    code: country.upper() \\n    for country, code in sorted(country_dial.items())\\n    if code < 70\\n}', 'countries_and_codes': {}, '_i21': 'countries_and_codes = {\\n    code: country.upper() \\n    for country, code in sorted(country_dial.items())\\n    if code < 70\\n}\\ncountries_and_codes', '_21': {}, '_i22': 'country_dial.items()', '_22': dict_items([('Bangladesh', 880), ('Brazil', 55), ('China', 86), ('India', 91), ('Indonesia', 62), ('Japan', 81), ('Nigeria', 234), ('Pakistan', 92), ('Russia', 7), ('United States', 1)]), '_i23': 'for country, code in sorted(country_dial.items()):\\n    print(country, code)', 'country': 'United States', 'code': 1, '_i24': 'from random import shuffle\\n\\nshuffle(dial_codes)', 'shuffle': <bound method Random.shuffle of <random.Random object at 0x562e66408120>>, '_i25': 'from random import shuffle\\n\\nshuffle(dial_codes)\\ndial_codes', '_25': [(7, 'Russia'), (62, 'Indonesia'), (55, 'Brazil'), (1, 'United States'), (86, 'China'), (91, 'India'), (81, 'Japan'), (92, 'Pakistan'), (234, 'Nigeria'), (880, 'Bangladesh')], '_i26': 'from random import shuffle\\n\\nshuffle(dial_codes)\\ndial_codes', '_26': [(7, 'Russia'), (62, 'Indonesia'), (55, 'Brazil'), (1, 'United States'), (86, 'China'), (91, 'India'), (81, 'Japan'), (92, 'Pakistan'), (234, 'Nigeria'), (880, 'Bangladesh')], '_i27': 'from random import shuffle\\n\\nshuffle(dial_codes)\\ndial_codes', '_27': [(7, 'Russia'), (62, 'Indonesia'), (55, 'Brazil'), (1, 'United States'), (86, 'China'), (91, 'India'), (81, 'Japan'), (92, 'Pakistan'), (234, 'Nigeria'), (880, 'Bangladesh')], '_i28': 'shuffle(dial_codes)\\ndial_codes', '_28': [(7, 'Russia'), (62, 'Indonesia'), (55, 'Brazil'), (1, 'United States'), (86, 'China'), (91, 'India'), (81, 'Japan'), (92, 'Pakistan'), (234, 'Nigeria'), (880, 'Bangladesh')], '_i29': 'new_cc = countries_and_codes.copy()', 'new_cc': {55: 'BRAZIL', 62: 'INDONESIA', 7: 'RUSSIA', 1: 'UNITED STATES', 'Mari': 759}, '_i30': 'new_cc = countries_and_codes.copy()\\nnew_cc', '_30': {55: 'BRAZIL', 62: 'INDONESIA', 7: 'RUSSIA', 1: 'UNITED STATES', 'Mari': 759}, '_i31': 'countries_and_codes.clear()', '_i32': 'countries_and_codes', '_32': {}, '_i33': 'new_cc', '_33': {55: 'BRAZIL', 62: 'INDONESIA', 7: 'RUSSIA', 1: 'UNITED STATES', 'Mari': 759}, '_i34': 'new_cc.fromkeys((1, 2))', '_34': {1: None, 2: None}, '_i35': 'new_cc', '_35': {55: 'BRAZIL', 62: 'INDONESIA', 7: 'RUSSIA', 1: 'UNITED STATES', 'Mari': 759}, '_i36': \"new_cc.fromkeys((1, 2), 'Mari')\", '_36': {1: 'Mari', 2: 'Mari'}, '_i37': 'new_cc', '_37': {55: 'BRAZIL', 62: 'INDONESIA', 7: 'RUSSIA', 1: 'UNITED STATES', 'Mari': 759}, '_i38': 'new_cc.items()', '_38': dict_items([(55, 'BRAZIL'), (62, 'INDONESIA'), (7, 'RUSSIA'), (1, 'UNITED STATES'), ('Mari', 759)]), '_i39': 'new_cc.keys()', '_39': dict_keys([55, 62, 7, 1, 'Mari']), '_i40': 'new_cc.values()', '_40': dict_values(['BRAZIL', 'INDONESIA', 'RUSSIA', 'UNITED STATES', 759]), '_i41': 'new_cc.update((1, 2))', '_i42': \"new_cc.update({'Mari': 759})\", '_i43': 'new_cc', '_43': {55: 'BRAZIL', 62: 'INDONESIA', 7: 'RUSSIA', 1: 'UNITED STATES', 'Mari': 759}, '_i44': 'new_cc', '_44': {55: 'BRAZIL', 62: 'INDONESIA', 7: 'RUSSIA', 1: 'UNITED STATES', 'Mari': 759}, '_i45': \"new_cc['Mari']\", '_45': 759, '_i46': \"new_cc['Pinheiro']\", '_i47': \"new_cc.get('Pinheiro')\", '_i48': \"new_cc.get('Pinheiro', 0)\", '_48': 0, '_i49': '# adapted from Alex Martelli\\'s example in \"Re-learning Python\"\\n# http://www.aleax.it/Python/accu04_Relearn_Python_alex.pdf\\n# (slide 41) Ex: lines-by-word file index\\n\\n# tag::INDEX0[]\\n\"\"\"Build an index mapping word -> list of occurrences\"\"\"\\n\\nimport re\\nimport sys\\n\\nWORD_RE = re.compile(r\\'\\\\w+\\')\\n\\nindex = {}\\nwith open(sys.argv[1], encoding=\\'utf-8\\') as fp:\\n    for line_no, line in enumerate(fp, 1):\\n        for match in WORD_RE.finditer(line):\\n            word = match.group()\\n            column_no = match.start() + 1\\n            location = (line_no, column_no)\\n            # this is ugly; coded like this to make a point\\n            occurrences = index.get(word, [])  # <1>\\n            occurrences.append(location)       # <2>\\n            index[word] = occurrences          # <3>\\n\\n# display in alphabetical order\\nfor word in sorted(index, key=str.upper):  # <4>\\n    print(word, index[word])\\n# end::INDEX0[]', 're': <module 're' from '/usr/lib/python3.7/re.py'>, 'sys': <module 'sys' (built-in)>, 'WORD_RE': re.compile('\\\\w+'), 'index': {}, '_i50': \"from collections import defaultdict\\n\\nnew_dict = defaultdict(0)\\nnew_dict['Mari'] = 759\\nnew_dict['Pinheiro'] = 957\\n\\nnew_dict\", 'defaultdict': <class 'collections.defaultdict'>, '_i51': \"from collections import defaultdict\\n\\ndef def_value():\\n    return 0\\n\\nnew_dict = defaultdict(def_value)\\nnew_dict['Mari'] = 759\\nnew_dict['Pinheiro'] = 957\\n\\nnew_dict\", 'def_value': <function def_value at 0x7fbeb6d66f80>, 'new_dict': defaultdict(<function <lambda> at 0x7fbeb6d6a8c0>, {'Mari': 759, 'Pinheiro': 957, 'Mariana': 0}), '_51': defaultdict(<function def_value at 0x7fbeb6d66f80>, {'Mari': 759, 'Pinheiro': 957, 'Mariana': 0}), '_i52': \"new_dict['Mariana']\", '_52': 0, '_i53': \"from collections import defaultdict\\n\\nnew_dict = defaultdict(lambda: 0)\\nnew_dict['Mari'] = 759\\nnew_dict['Pinheiro'] = 957\\n\\nnew_dict\", '_53': defaultdict(<function <lambda> at 0x7fbeb6d6a8c0>, {'Mari': 759, 'Pinheiro': 957, 'Mariana': 0}), '_i54': \"new_dict['Mariana']\", '_54': 0, '_i55': 'new_dict', '_55': defaultdict(<function <lambda> at 0x7fbeb6d6a8c0>, {'Mari': 759, 'Pinheiro': 957, 'Mariana': 0}), '_i56': \"from collections import OrderedDict\\n\\nm = OrderedDict({1: 'abc', 2: 'cde'})\", 'OrderedDict': <class 'collections.OrderedDict'>, '_i57': \"from collections import OrderedDict\\n\\nm = OrderedDict({1: 'abc', 2: 'cde'})\\nm\", '_57': OrderedDict(), '_i58': 'm.popitem()', '_58': (2, 'cde'), '_i59': 'm.popitem()\\nm', '_59': OrderedDict(), '_i60': \"from collections import OrderedDict\\n\\nm = OrderedDict({1: 'abc', 2: 'cde'})\\nm\", '_60': OrderedDict([(1, 'abc')]), '_i61': 'm.popitem()\\nm', '_61': OrderedDict([(1, 'abc')]), '_i62': \"from collections import OrderedDict\\n\\nm = OrderedDict()\\nm[1] = 'abc'\\nm[2] = 'cde'\\nm[3] = 'efg'\\nm\", '_62': OrderedDict([(2, 'cde'), (4, 'ghi')]), '_i63': 'm.popitem()\\nm', '_63': OrderedDict([(2, 'cde'), (4, 'ghi')]), '_i64': \"m[4] = 'ghi'\\nm.popitem(last=True)\\nm\", '_64': OrderedDict([(2, 'cde'), (4, 'ghi')]), '_i65': \"m[4] = 'ghi'\\nm.popitem(last=False)\\nm\", '_65': OrderedDict([(2, 'cde'), (4, 'ghi')]), '_i66': \"from collections import OrderedDict\\n\\nm = OrderedDict()\\nm[1] = 'abc'\\nm[2] = 'cde'\\nm[3] = 'efg'\\nm\", '_66': OrderedDict([(2, 'cde'), (4, 'ghi')]), '_i67': 'm.popitem()\\nm', '_67': OrderedDict([(2, 'cde'), (4, 'ghi')]), '_i68': \"m[4] = 'ghi'\\nm.popitem(last=False)\\nm\", '_68': OrderedDict([(2, 'cde'), (4, 'ghi')]), '_i69': 'from collections import ChainMap\\nimport builtins\\n\\npylookup = ChainMap(locals(), globals(), vars(builtins))', 'ChainMap': <class 'collections.ChainMap'>, 'builtins': <module 'builtins' (built-in)>, 'pylookup': ..., '_i70': 'from collections import ChainMap\\nimport builtins\\n\\npylookup = ChainMap(locals(), globals(), vars(builtins))\\npylookyp', '_i71': 'from collections import ChainMap\\nimport builtins\\n\\npylookup = ChainMap(locals(), globals(), vars(builtins))\\npylookup'}, {'__name__': '__main__', '__doc__': 'Build an index mapping word -> list of occurrences', '__package__': None, '__loader__': None, '__spec__': None, '__builtin__': <module 'builtins' (built-in)>, '__builtins__': <module 'builtins' (built-in)>, '_ih': ['', '# Abstract Base Classes\\n\\nfrom collections import abc\\nmy_dict = {}\\nisinstance(my_dict, abc.Mapping)', 'from collections import abc\\nmy_dict = {}\\nisinstance(my_dict, abc.Mapping)', 't = (1, 2, (30, 40))\\nhash(t)', 't = (1, 2, [30, 40])\\nhash(t)', 'frozenset([30, 40])', 'tf = (1, 2, frozenset([30, 40]))\\nhash(tf)', 'frozenset([10, 20, 30, 40])', 'm = frozenset([10, 20, 30, 40])\\nm', 'm = frozenset([10, 20, 30, 40])\\nlen(m)', 'm = frozenset([10, 20, 30, 40])\\nm', 'len(m)', 'a = dict(one=1, two=2, three=3)\\na', \"a = dict(one=1, two=2, three=3)\\nb = {'three': 3, 'two': 2, 'one': 1}\\nc = dict([('two', 2), ('one', 1), ('three', 3)])\\nd = dict(zip(['one', 'two', 'three'], [1, 2, 3]))\\ne = dict({'three': 3, 'one': 1, 'two': 2})\\na == b == c == d == e\", 'list(d.keys())', 'c.popitem()\\nc', 'pop = b.popitem()\\npop', 'b', \"dial_codes = [\\n    (880, 'Bangladesh'),\\n    (55,  'Brazil'),\\n    (86,  'China'),\\n    (91,  'India'),\\n    (62,  'Indonesia'),\\n    (81,  'Japan'),\\n    (234, 'Nigeria'),\\n    (92,  'Pakistan'),\\n    (7,   'Russia'),\\n    (1,   'United States'),\\n]\", 'country_dial = {country: code for code, country in dial_codes}\\ncountry_dial', 'countries_and_codes = {\\n    code: country.upper() \\n    for country, code in sorted(country_dial.items())\\n    if code < 70\\n}', 'countries_and_codes = {\\n    code: country.upper() \\n    for country, code in sorted(country_dial.items())\\n    if code < 70\\n}\\ncountries_and_codes', 'country_dial.items()', 'for country, code in sorted(country_dial.items()):\\n    print(country, code)', 'from random import shuffle\\n\\nshuffle(dial_codes)', 'from random import shuffle\\n\\nshuffle(dial_codes)\\ndial_codes', 'from random import shuffle\\n\\nshuffle(dial_codes)\\ndial_codes', 'from random import shuffle\\n\\nshuffle(dial_codes)\\ndial_codes', 'shuffle(dial_codes)\\ndial_codes', 'new_cc = countries_and_codes.copy()', 'new_cc = countries_and_codes.copy()\\nnew_cc', 'countries_and_codes.clear()', 'countries_and_codes', 'new_cc', 'new_cc.fromkeys((1, 2))', 'new_cc', \"new_cc.fromkeys((1, 2), 'Mari')\", 'new_cc', 'new_cc.items()', 'new_cc.keys()', 'new_cc.values()', 'new_cc.update((1, 2))', \"new_cc.update({'Mari': 759})\", 'new_cc', 'new_cc', \"new_cc['Mari']\", \"new_cc['Pinheiro']\", \"new_cc.get('Pinheiro')\", \"new_cc.get('Pinheiro', 0)\", '# adapted from Alex Martelli\\'s example in \"Re-learning Python\"\\n# http://www.aleax.it/Python/accu04_Relearn_Python_alex.pdf\\n# (slide 41) Ex: lines-by-word file index\\n\\n# tag::INDEX0[]\\n\"\"\"Build an index mapping word -> list of occurrences\"\"\"\\n\\nimport re\\nimport sys\\n\\nWORD_RE = re.compile(r\\'\\\\w+\\')\\n\\nindex = {}\\nwith open(sys.argv[1], encoding=\\'utf-8\\') as fp:\\n    for line_no, line in enumerate(fp, 1):\\n        for match in WORD_RE.finditer(line):\\n            word = match.group()\\n            column_no = match.start() + 1\\n            location = (line_no, column_no)\\n            # this is ugly; coded like this to make a point\\n            occurrences = index.get(word, [])  # <1>\\n            occurrences.append(location)       # <2>\\n            index[word] = occurrences          # <3>\\n\\n# display in alphabetical order\\nfor word in sorted(index, key=str.upper):  # <4>\\n    print(word, index[word])\\n# end::INDEX0[]', \"from collections import defaultdict\\n\\nnew_dict = defaultdict(0)\\nnew_dict['Mari'] = 759\\nnew_dict['Pinheiro'] = 957\\n\\nnew_dict\", \"from collections import defaultdict\\n\\ndef def_value():\\n    return 0\\n\\nnew_dict = defaultdict(def_value)\\nnew_dict['Mari'] = 759\\nnew_dict['Pinheiro'] = 957\\n\\nnew_dict\", \"new_dict['Mariana']\", \"from collections import defaultdict\\n\\nnew_dict = defaultdict(lambda: 0)\\nnew_dict['Mari'] = 759\\nnew_dict['Pinheiro'] = 957\\n\\nnew_dict\", \"new_dict['Mariana']\", 'new_dict', \"from collections import OrderedDict\\n\\nm = OrderedDict({1: 'abc', 2: 'cde'})\", \"from collections import OrderedDict\\n\\nm = OrderedDict({1: 'abc', 2: 'cde'})\\nm\", 'm.popitem()', 'm.popitem()\\nm', \"from collections import OrderedDict\\n\\nm = OrderedDict({1: 'abc', 2: 'cde'})\\nm\", 'm.popitem()\\nm', \"from collections import OrderedDict\\n\\nm = OrderedDict()\\nm[1] = 'abc'\\nm[2] = 'cde'\\nm[3] = 'efg'\\nm\", 'm.popitem()\\nm', \"m[4] = 'ghi'\\nm.popitem(last=True)\\nm\", \"m[4] = 'ghi'\\nm.popitem(last=False)\\nm\", \"from collections import OrderedDict\\n\\nm = OrderedDict()\\nm[1] = 'abc'\\nm[2] = 'cde'\\nm[3] = 'efg'\\nm\", 'm.popitem()\\nm', \"m[4] = 'ghi'\\nm.popitem(last=False)\\nm\", 'from collections import ChainMap\\nimport builtins\\n\\npylookup = ChainMap(locals(), globals(), vars(builtins))', 'from collections import ChainMap\\nimport builtins\\n\\npylookup = ChainMap(locals(), globals(), vars(builtins))\\npylookyp', 'from collections import ChainMap\\nimport builtins\\n\\npylookup = ChainMap(locals(), globals(), vars(builtins))\\npylookup'], '_oh': {1: True, 2: True, 3: 8027212646858338501, 5: frozenset({40, 30}), 6: 985328935373711578, 7: frozenset({40, 10, 20, 30}), 8: frozenset({40, 10, 20, 30}), 9: 4, 10: frozenset({40, 10, 20, 30}), 11: 4, 12: {'one': 1, 'two': 2, 'three': 3}, 13: True, 14: ['one', 'two', 'three'], 15: {'two': 2, 'one': 1}, 16: ('one', 1), 17: {'three': 3, 'two': 2}, 19: {'Bangladesh': 880, 'Brazil': 55, 'China': 86, 'India': 91, 'Indonesia': 62, 'Japan': 81, 'Nigeria': 234, 'Pakistan': 92, 'Russia': 7, 'United States': 1}, 21: {}, 22: dict_items([('Bangladesh', 880), ('Brazil', 55), ('China', 86), ('India', 91), ('Indonesia', 62), ('Japan', 81), ('Nigeria', 234), ('Pakistan', 92), ('Russia', 7), ('United States', 1)]), 25: [(7, 'Russia'), (62, 'Indonesia'), (55, 'Brazil'), (1, 'United States'), (86, 'China'), (91, 'India'), (81, 'Japan'), (92, 'Pakistan'), (234, 'Nigeria'), (880, 'Bangladesh')], 26: [(7, 'Russia'), (62, 'Indonesia'), (55, 'Brazil'), (1, 'United States'), (86, 'China'), (91, 'India'), (81, 'Japan'), (92, 'Pakistan'), (234, 'Nigeria'), (880, 'Bangladesh')], 27: [(7, 'Russia'), (62, 'Indonesia'), (55, 'Brazil'), (1, 'United States'), (86, 'China'), (91, 'India'), (81, 'Japan'), (92, 'Pakistan'), (234, 'Nigeria'), (880, 'Bangladesh')], 28: [(7, 'Russia'), (62, 'Indonesia'), (55, 'Brazil'), (1, 'United States'), (86, 'China'), (91, 'India'), (81, 'Japan'), (92, 'Pakistan'), (234, 'Nigeria'), (880, 'Bangladesh')], 30: {55: 'BRAZIL', 62: 'INDONESIA', 7: 'RUSSIA', 1: 'UNITED STATES', 'Mari': 759}, 32: {}, 33: {55: 'BRAZIL', 62: 'INDONESIA', 7: 'RUSSIA', 1: 'UNITED STATES', 'Mari': 759}, 34: {1: None, 2: None}, 35: {55: 'BRAZIL', 62: 'INDONESIA', 7: 'RUSSIA', 1: 'UNITED STATES', 'Mari': 759}, 36: {1: 'Mari', 2: 'Mari'}, 37: {55: 'BRAZIL', 62: 'INDONESIA', 7: 'RUSSIA', 1: 'UNITED STATES', 'Mari': 759}, 38: dict_items([(55, 'BRAZIL'), (62, 'INDONESIA'), (7, 'RUSSIA'), (1, 'UNITED STATES'), ('Mari', 759)]), 39: dict_keys([55, 62, 7, 1, 'Mari']), 40: dict_values(['BRAZIL', 'INDONESIA', 'RUSSIA', 'UNITED STATES', 759]), 43: {55: 'BRAZIL', 62: 'INDONESIA', 7: 'RUSSIA', 1: 'UNITED STATES', 'Mari': 759}, 44: {55: 'BRAZIL', 62: 'INDONESIA', 7: 'RUSSIA', 1: 'UNITED STATES', 'Mari': 759}, 45: 759, 48: 0, 51: defaultdict(<function def_value at 0x7fbeb6d66f80>, {'Mari': 759, 'Pinheiro': 957, 'Mariana': 0}), 52: 0, 53: defaultdict(<function <lambda> at 0x7fbeb6d6a8c0>, {'Mari': 759, 'Pinheiro': 957, 'Mariana': 0}), 54: 0, 55: defaultdict(<function <lambda> at 0x7fbeb6d6a8c0>, {'Mari': 759, 'Pinheiro': 957, 'Mariana': 0}), 57: OrderedDict(), 58: (2, 'cde'), 59: OrderedDict(), 60: OrderedDict([(1, 'abc')]), 61: OrderedDict([(1, 'abc')]), 62: OrderedDict([(2, 'cde'), (4, 'ghi')]), 63: OrderedDict([(2, 'cde'), (4, 'ghi')]), 64: OrderedDict([(2, 'cde'), (4, 'ghi')]), 65: OrderedDict([(2, 'cde'), (4, 'ghi')]), 66: OrderedDict([(2, 'cde'), (4, 'ghi')]), 67: OrderedDict([(2, 'cde'), (4, 'ghi')]), 68: OrderedDict([(2, 'cde'), (4, 'ghi')])}, '_dh': ['/content'], '_sh': <module 'IPython.core.shadowns' from '/usr/local/lib/python3.7/dist-packages/IPython/core/shadowns.py'>, 'In': ['', '# Abstract Base Classes\\n\\nfrom collections import abc\\nmy_dict = {}\\nisinstance(my_dict, abc.Mapping)', 'from collections import abc\\nmy_dict = {}\\nisinstance(my_dict, abc.Mapping)', 't = (1, 2, (30, 40))\\nhash(t)', 't = (1, 2, [30, 40])\\nhash(t)', 'frozenset([30, 40])', 'tf = (1, 2, frozenset([30, 40]))\\nhash(tf)', 'frozenset([10, 20, 30, 40])', 'm = frozenset([10, 20, 30, 40])\\nm', 'm = frozenset([10, 20, 30, 40])\\nlen(m)', 'm = frozenset([10, 20, 30, 40])\\nm', 'len(m)', 'a = dict(one=1, two=2, three=3)\\na', \"a = dict(one=1, two=2, three=3)\\nb = {'three': 3, 'two': 2, 'one': 1}\\nc = dict([('two', 2), ('one', 1), ('three', 3)])\\nd = dict(zip(['one', 'two', 'three'], [1, 2, 3]))\\ne = dict({'three': 3, 'one': 1, 'two': 2})\\na == b == c == d == e\", 'list(d.keys())', 'c.popitem()\\nc', 'pop = b.popitem()\\npop', 'b', \"dial_codes = [\\n    (880, 'Bangladesh'),\\n    (55,  'Brazil'),\\n    (86,  'China'),\\n    (91,  'India'),\\n    (62,  'Indonesia'),\\n    (81,  'Japan'),\\n    (234, 'Nigeria'),\\n    (92,  'Pakistan'),\\n    (7,   'Russia'),\\n    (1,   'United States'),\\n]\", 'country_dial = {country: code for code, country in dial_codes}\\ncountry_dial', 'countries_and_codes = {\\n    code: country.upper() \\n    for country, code in sorted(country_dial.items())\\n    if code < 70\\n}', 'countries_and_codes = {\\n    code: country.upper() \\n    for country, code in sorted(country_dial.items())\\n    if code < 70\\n}\\ncountries_and_codes', 'country_dial.items()', 'for country, code in sorted(country_dial.items()):\\n    print(country, code)', 'from random import shuffle\\n\\nshuffle(dial_codes)', 'from random import shuffle\\n\\nshuffle(dial_codes)\\ndial_codes', 'from random import shuffle\\n\\nshuffle(dial_codes)\\ndial_codes', 'from random import shuffle\\n\\nshuffle(dial_codes)\\ndial_codes', 'shuffle(dial_codes)\\ndial_codes', 'new_cc = countries_and_codes.copy()', 'new_cc = countries_and_codes.copy()\\nnew_cc', 'countries_and_codes.clear()', 'countries_and_codes', 'new_cc', 'new_cc.fromkeys((1, 2))', 'new_cc', \"new_cc.fromkeys((1, 2), 'Mari')\", 'new_cc', 'new_cc.items()', 'new_cc.keys()', 'new_cc.values()', 'new_cc.update((1, 2))', \"new_cc.update({'Mari': 759})\", 'new_cc', 'new_cc', \"new_cc['Mari']\", \"new_cc['Pinheiro']\", \"new_cc.get('Pinheiro')\", \"new_cc.get('Pinheiro', 0)\", '# adapted from Alex Martelli\\'s example in \"Re-learning Python\"\\n# http://www.aleax.it/Python/accu04_Relearn_Python_alex.pdf\\n# (slide 41) Ex: lines-by-word file index\\n\\n# tag::INDEX0[]\\n\"\"\"Build an index mapping word -> list of occurrences\"\"\"\\n\\nimport re\\nimport sys\\n\\nWORD_RE = re.compile(r\\'\\\\w+\\')\\n\\nindex = {}\\nwith open(sys.argv[1], encoding=\\'utf-8\\') as fp:\\n    for line_no, line in enumerate(fp, 1):\\n        for match in WORD_RE.finditer(line):\\n            word = match.group()\\n            column_no = match.start() + 1\\n            location = (line_no, column_no)\\n            # this is ugly; coded like this to make a point\\n            occurrences = index.get(word, [])  # <1>\\n            occurrences.append(location)       # <2>\\n            index[word] = occurrences          # <3>\\n\\n# display in alphabetical order\\nfor word in sorted(index, key=str.upper):  # <4>\\n    print(word, index[word])\\n# end::INDEX0[]', \"from collections import defaultdict\\n\\nnew_dict = defaultdict(0)\\nnew_dict['Mari'] = 759\\nnew_dict['Pinheiro'] = 957\\n\\nnew_dict\", \"from collections import defaultdict\\n\\ndef def_value():\\n    return 0\\n\\nnew_dict = defaultdict(def_value)\\nnew_dict['Mari'] = 759\\nnew_dict['Pinheiro'] = 957\\n\\nnew_dict\", \"new_dict['Mariana']\", \"from collections import defaultdict\\n\\nnew_dict = defaultdict(lambda: 0)\\nnew_dict['Mari'] = 759\\nnew_dict['Pinheiro'] = 957\\n\\nnew_dict\", \"new_dict['Mariana']\", 'new_dict', \"from collections import OrderedDict\\n\\nm = OrderedDict({1: 'abc', 2: 'cde'})\", \"from collections import OrderedDict\\n\\nm = OrderedDict({1: 'abc', 2: 'cde'})\\nm\", 'm.popitem()', 'm.popitem()\\nm', \"from collections import OrderedDict\\n\\nm = OrderedDict({1: 'abc', 2: 'cde'})\\nm\", 'm.popitem()\\nm', \"from collections import OrderedDict\\n\\nm = OrderedDict()\\nm[1] = 'abc'\\nm[2] = 'cde'\\nm[3] = 'efg'\\nm\", 'm.popitem()\\nm', \"m[4] = 'ghi'\\nm.popitem(last=True)\\nm\", \"m[4] = 'ghi'\\nm.popitem(last=False)\\nm\", \"from collections import OrderedDict\\n\\nm = OrderedDict()\\nm[1] = 'abc'\\nm[2] = 'cde'\\nm[3] = 'efg'\\nm\", 'm.popitem()\\nm', \"m[4] = 'ghi'\\nm.popitem(last=False)\\nm\", 'from collections import ChainMap\\nimport builtins\\n\\npylookup = ChainMap(locals(), globals(), vars(builtins))', 'from collections import ChainMap\\nimport builtins\\n\\npylookup = ChainMap(locals(), globals(), vars(builtins))\\npylookyp', 'from collections import ChainMap\\nimport builtins\\n\\npylookup = ChainMap(locals(), globals(), vars(builtins))\\npylookup'], 'Out': {1: True, 2: True, 3: 8027212646858338501, 5: frozenset({40, 30}), 6: 985328935373711578, 7: frozenset({40, 10, 20, 30}), 8: frozenset({40, 10, 20, 30}), 9: 4, 10: frozenset({40, 10, 20, 30}), 11: 4, 12: {'one': 1, 'two': 2, 'three': 3}, 13: True, 14: ['one', 'two', 'three'], 15: {'two': 2, 'one': 1}, 16: ('one', 1), 17: {'three': 3, 'two': 2}, 19: {'Bangladesh': 880, 'Brazil': 55, 'China': 86, 'India': 91, 'Indonesia': 62, 'Japan': 81, 'Nigeria': 234, 'Pakistan': 92, 'Russia': 7, 'United States': 1}, 21: {}, 22: dict_items([('Bangladesh', 880), ('Brazil', 55), ('China', 86), ('India', 91), ('Indonesia', 62), ('Japan', 81), ('Nigeria', 234), ('Pakistan', 92), ('Russia', 7), ('United States', 1)]), 25: [(7, 'Russia'), (62, 'Indonesia'), (55, 'Brazil'), (1, 'United States'), (86, 'China'), (91, 'India'), (81, 'Japan'), (92, 'Pakistan'), (234, 'Nigeria'), (880, 'Bangladesh')], 26: [(7, 'Russia'), (62, 'Indonesia'), (55, 'Brazil'), (1, 'United States'), (86, 'China'), (91, 'India'), (81, 'Japan'), (92, 'Pakistan'), (234, 'Nigeria'), (880, 'Bangladesh')], 27: [(7, 'Russia'), (62, 'Indonesia'), (55, 'Brazil'), (1, 'United States'), (86, 'China'), (91, 'India'), (81, 'Japan'), (92, 'Pakistan'), (234, 'Nigeria'), (880, 'Bangladesh')], 28: [(7, 'Russia'), (62, 'Indonesia'), (55, 'Brazil'), (1, 'United States'), (86, 'China'), (91, 'India'), (81, 'Japan'), (92, 'Pakistan'), (234, 'Nigeria'), (880, 'Bangladesh')], 30: {55: 'BRAZIL', 62: 'INDONESIA', 7: 'RUSSIA', 1: 'UNITED STATES', 'Mari': 759}, 32: {}, 33: {55: 'BRAZIL', 62: 'INDONESIA', 7: 'RUSSIA', 1: 'UNITED STATES', 'Mari': 759}, 34: {1: None, 2: None}, 35: {55: 'BRAZIL', 62: 'INDONESIA', 7: 'RUSSIA', 1: 'UNITED STATES', 'Mari': 759}, 36: {1: 'Mari', 2: 'Mari'}, 37: {55: 'BRAZIL', 62: 'INDONESIA', 7: 'RUSSIA', 1: 'UNITED STATES', 'Mari': 759}, 38: dict_items([(55, 'BRAZIL'), (62, 'INDONESIA'), (7, 'RUSSIA'), (1, 'UNITED STATES'), ('Mari', 759)]), 39: dict_keys([55, 62, 7, 1, 'Mari']), 40: dict_values(['BRAZIL', 'INDONESIA', 'RUSSIA', 'UNITED STATES', 759]), 43: {55: 'BRAZIL', 62: 'INDONESIA', 7: 'RUSSIA', 1: 'UNITED STATES', 'Mari': 759}, 44: {55: 'BRAZIL', 62: 'INDONESIA', 7: 'RUSSIA', 1: 'UNITED STATES', 'Mari': 759}, 45: 759, 48: 0, 51: defaultdict(<function def_value at 0x7fbeb6d66f80>, {'Mari': 759, 'Pinheiro': 957, 'Mariana': 0}), 52: 0, 53: defaultdict(<function <lambda> at 0x7fbeb6d6a8c0>, {'Mari': 759, 'Pinheiro': 957, 'Mariana': 0}), 54: 0, 55: defaultdict(<function <lambda> at 0x7fbeb6d6a8c0>, {'Mari': 759, 'Pinheiro': 957, 'Mariana': 0}), 57: OrderedDict(), 58: (2, 'cde'), 59: OrderedDict(), 60: OrderedDict([(1, 'abc')]), 61: OrderedDict([(1, 'abc')]), 62: OrderedDict([(2, 'cde'), (4, 'ghi')]), 63: OrderedDict([(2, 'cde'), (4, 'ghi')]), 64: OrderedDict([(2, 'cde'), (4, 'ghi')]), 65: OrderedDict([(2, 'cde'), (4, 'ghi')]), 66: OrderedDict([(2, 'cde'), (4, 'ghi')]), 67: OrderedDict([(2, 'cde'), (4, 'ghi')]), 68: OrderedDict([(2, 'cde'), (4, 'ghi')])}, 'get_ipython': <bound method InteractiveShell.get_ipython of <google.colab._shell.Shell object at 0x7fbec49eee50>>, 'exit': <IPython.core.autocall.ZMQExitAutocall object at 0x7fbec47c3f90>, 'quit': <IPython.core.autocall.ZMQExitAutocall object at 0x7fbec47c3f90>, '_': OrderedDict([(2, 'cde'), (4, 'ghi')]), '__': OrderedDict([(2, 'cde'), (4, 'ghi')]), '___': OrderedDict([(2, 'cde'), (4, 'ghi')]), '_i': 'from collections import ChainMap\\nimport builtins\\n\\npylookup = ChainMap(locals(), globals(), vars(builtins))\\npylookyp', '_ii': 'from collections import ChainMap\\nimport builtins\\n\\npylookup = ChainMap(locals(), globals(), vars(builtins))', '_iii': \"m[4] = 'ghi'\\nm.popitem(last=False)\\nm\", '_i1': '# Abstract Base Classes\\n\\nfrom collections import abc\\nmy_dict = {}\\nisinstance(my_dict, abc.Mapping)', 'abc': <module 'collections.abc' from '/usr/lib/python3.7/collections/abc.py'>, 'my_dict': {}, '_1': True, '_i2': 'from collections import abc\\nmy_dict = {}\\nisinstance(my_dict, abc.Mapping)', '_2': True, '_i3': 't = (1, 2, (30, 40))\\nhash(t)', 't': (1, 2, [30, 40]), '_3': 8027212646858338501, '_i4': 't = (1, 2, [30, 40])\\nhash(t)', '_i5': 'frozenset([30, 40])', '_5': frozenset({40, 30}), '_i6': 'tf = (1, 2, frozenset([30, 40]))\\nhash(tf)', 'tf': (1, 2, frozenset({40, 30})), '_6': 985328935373711578, '_i7': 'frozenset([10, 20, 30, 40])', '_7': frozenset({40, 10, 20, 30}), '_i8': 'm = frozenset([10, 20, 30, 40])\\nm', 'm': OrderedDict([(2, 'cde'), (4, 'ghi')]), '_8': frozenset({40, 10, 20, 30}), '_i9': 'm = frozenset([10, 20, 30, 40])\\nlen(m)', '_9': 4, '_i10': 'm = frozenset([10, 20, 30, 40])\\nm', '_10': frozenset({40, 10, 20, 30}), '_i11': 'len(m)', '_11': 4, '_i12': 'a = dict(one=1, two=2, three=3)\\na', 'a': {'one': 1, 'two': 2, 'three': 3}, '_12': {'one': 1, 'two': 2, 'three': 3}, '_i13': \"a = dict(one=1, two=2, three=3)\\nb = {'three': 3, 'two': 2, 'one': 1}\\nc = dict([('two', 2), ('one', 1), ('three', 3)])\\nd = dict(zip(['one', 'two', 'three'], [1, 2, 3]))\\ne = dict({'three': 3, 'one': 1, 'two': 2})\\na == b == c == d == e\", 'b': {'three': 3, 'two': 2}, 'c': {'two': 2, 'one': 1}, 'd': {'one': 1, 'two': 2, 'three': 3}, 'e': {'three': 3, 'one': 1, 'two': 2}, '_13': True, '_i14': 'list(d.keys())', '_14': ['one', 'two', 'three'], '_i15': 'c.popitem()\\nc', '_15': {'two': 2, 'one': 1}, '_i16': 'pop = b.popitem()\\npop', 'pop': ('one', 1), '_16': ('one', 1), '_i17': 'b', '_17': {'three': 3, 'two': 2}, '_i18': \"dial_codes = [\\n    (880, 'Bangladesh'),\\n    (55,  'Brazil'),\\n    (86,  'China'),\\n    (91,  'India'),\\n    (62,  'Indonesia'),\\n    (81,  'Japan'),\\n    (234, 'Nigeria'),\\n    (92,  'Pakistan'),\\n    (7,   'Russia'),\\n    (1,   'United States'),\\n]\", 'dial_codes': [(7, 'Russia'), (62, 'Indonesia'), (55, 'Brazil'), (1, 'United States'), (86, 'China'), (91, 'India'), (81, 'Japan'), (92, 'Pakistan'), (234, 'Nigeria'), (880, 'Bangladesh')], '_i19': 'country_dial = {country: code for code, country in dial_codes}\\ncountry_dial', 'country_dial': {'Bangladesh': 880, 'Brazil': 55, 'China': 86, 'India': 91, 'Indonesia': 62, 'Japan': 81, 'Nigeria': 234, 'Pakistan': 92, 'Russia': 7, 'United States': 1}, '_19': {'Bangladesh': 880, 'Brazil': 55, 'China': 86, 'India': 91, 'Indonesia': 62, 'Japan': 81, 'Nigeria': 234, 'Pakistan': 92, 'Russia': 7, 'United States': 1}, '_i20': 'countries_and_codes = {\\n    code: country.upper() \\n    for country, code in sorted(country_dial.items())\\n    if code < 70\\n}', 'countries_and_codes': {}, '_i21': 'countries_and_codes = {\\n    code: country.upper() \\n    for country, code in sorted(country_dial.items())\\n    if code < 70\\n}\\ncountries_and_codes', '_21': {}, '_i22': 'country_dial.items()', '_22': dict_items([('Bangladesh', 880), ('Brazil', 55), ('China', 86), ('India', 91), ('Indonesia', 62), ('Japan', 81), ('Nigeria', 234), ('Pakistan', 92), ('Russia', 7), ('United States', 1)]), '_i23': 'for country, code in sorted(country_dial.items()):\\n    print(country, code)', 'country': 'United States', 'code': 1, '_i24': 'from random import shuffle\\n\\nshuffle(dial_codes)', 'shuffle': <bound method Random.shuffle of <random.Random object at 0x562e66408120>>, '_i25': 'from random import shuffle\\n\\nshuffle(dial_codes)\\ndial_codes', '_25': [(7, 'Russia'), (62, 'Indonesia'), (55, 'Brazil'), (1, 'United States'), (86, 'China'), (91, 'India'), (81, 'Japan'), (92, 'Pakistan'), (234, 'Nigeria'), (880, 'Bangladesh')], '_i26': 'from random import shuffle\\n\\nshuffle(dial_codes)\\ndial_codes', '_26': [(7, 'Russia'), (62, 'Indonesia'), (55, 'Brazil'), (1, 'United States'), (86, 'China'), (91, 'India'), (81, 'Japan'), (92, 'Pakistan'), (234, 'Nigeria'), (880, 'Bangladesh')], '_i27': 'from random import shuffle\\n\\nshuffle(dial_codes)\\ndial_codes', '_27': [(7, 'Russia'), (62, 'Indonesia'), (55, 'Brazil'), (1, 'United States'), (86, 'China'), (91, 'India'), (81, 'Japan'), (92, 'Pakistan'), (234, 'Nigeria'), (880, 'Bangladesh')], '_i28': 'shuffle(dial_codes)\\ndial_codes', '_28': [(7, 'Russia'), (62, 'Indonesia'), (55, 'Brazil'), (1, 'United States'), (86, 'China'), (91, 'India'), (81, 'Japan'), (92, 'Pakistan'), (234, 'Nigeria'), (880, 'Bangladesh')], '_i29': 'new_cc = countries_and_codes.copy()', 'new_cc': {55: 'BRAZIL', 62: 'INDONESIA', 7: 'RUSSIA', 1: 'UNITED STATES', 'Mari': 759}, '_i30': 'new_cc = countries_and_codes.copy()\\nnew_cc', '_30': {55: 'BRAZIL', 62: 'INDONESIA', 7: 'RUSSIA', 1: 'UNITED STATES', 'Mari': 759}, '_i31': 'countries_and_codes.clear()', '_i32': 'countries_and_codes', '_32': {}, '_i33': 'new_cc', '_33': {55: 'BRAZIL', 62: 'INDONESIA', 7: 'RUSSIA', 1: 'UNITED STATES', 'Mari': 759}, '_i34': 'new_cc.fromkeys((1, 2))', '_34': {1: None, 2: None}, '_i35': 'new_cc', '_35': {55: 'BRAZIL', 62: 'INDONESIA', 7: 'RUSSIA', 1: 'UNITED STATES', 'Mari': 759}, '_i36': \"new_cc.fromkeys((1, 2), 'Mari')\", '_36': {1: 'Mari', 2: 'Mari'}, '_i37': 'new_cc', '_37': {55: 'BRAZIL', 62: 'INDONESIA', 7: 'RUSSIA', 1: 'UNITED STATES', 'Mari': 759}, '_i38': 'new_cc.items()', '_38': dict_items([(55, 'BRAZIL'), (62, 'INDONESIA'), (7, 'RUSSIA'), (1, 'UNITED STATES'), ('Mari', 759)]), '_i39': 'new_cc.keys()', '_39': dict_keys([55, 62, 7, 1, 'Mari']), '_i40': 'new_cc.values()', '_40': dict_values(['BRAZIL', 'INDONESIA', 'RUSSIA', 'UNITED STATES', 759]), '_i41': 'new_cc.update((1, 2))', '_i42': \"new_cc.update({'Mari': 759})\", '_i43': 'new_cc', '_43': {55: 'BRAZIL', 62: 'INDONESIA', 7: 'RUSSIA', 1: 'UNITED STATES', 'Mari': 759}, '_i44': 'new_cc', '_44': {55: 'BRAZIL', 62: 'INDONESIA', 7: 'RUSSIA', 1: 'UNITED STATES', 'Mari': 759}, '_i45': \"new_cc['Mari']\", '_45': 759, '_i46': \"new_cc['Pinheiro']\", '_i47': \"new_cc.get('Pinheiro')\", '_i48': \"new_cc.get('Pinheiro', 0)\", '_48': 0, '_i49': '# adapted from Alex Martelli\\'s example in \"Re-learning Python\"\\n# http://www.aleax.it/Python/accu04_Relearn_Python_alex.pdf\\n# (slide 41) Ex: lines-by-word file index\\n\\n# tag::INDEX0[]\\n\"\"\"Build an index mapping word -> list of occurrences\"\"\"\\n\\nimport re\\nimport sys\\n\\nWORD_RE = re.compile(r\\'\\\\w+\\')\\n\\nindex = {}\\nwith open(sys.argv[1], encoding=\\'utf-8\\') as fp:\\n    for line_no, line in enumerate(fp, 1):\\n        for match in WORD_RE.finditer(line):\\n            word = match.group()\\n            column_no = match.start() + 1\\n            location = (line_no, column_no)\\n            # this is ugly; coded like this to make a point\\n            occurrences = index.get(word, [])  # <1>\\n            occurrences.append(location)       # <2>\\n            index[word] = occurrences          # <3>\\n\\n# display in alphabetical order\\nfor word in sorted(index, key=str.upper):  # <4>\\n    print(word, index[word])\\n# end::INDEX0[]', 're': <module 're' from '/usr/lib/python3.7/re.py'>, 'sys': <module 'sys' (built-in)>, 'WORD_RE': re.compile('\\\\w+'), 'index': {}, '_i50': \"from collections import defaultdict\\n\\nnew_dict = defaultdict(0)\\nnew_dict['Mari'] = 759\\nnew_dict['Pinheiro'] = 957\\n\\nnew_dict\", 'defaultdict': <class 'collections.defaultdict'>, '_i51': \"from collections import defaultdict\\n\\ndef def_value():\\n    return 0\\n\\nnew_dict = defaultdict(def_value)\\nnew_dict['Mari'] = 759\\nnew_dict['Pinheiro'] = 957\\n\\nnew_dict\", 'def_value': <function def_value at 0x7fbeb6d66f80>, 'new_dict': defaultdict(<function <lambda> at 0x7fbeb6d6a8c0>, {'Mari': 759, 'Pinheiro': 957, 'Mariana': 0}), '_51': defaultdict(<function def_value at 0x7fbeb6d66f80>, {'Mari': 759, 'Pinheiro': 957, 'Mariana': 0}), '_i52': \"new_dict['Mariana']\", '_52': 0, '_i53': \"from collections import defaultdict\\n\\nnew_dict = defaultdict(lambda: 0)\\nnew_dict['Mari'] = 759\\nnew_dict['Pinheiro'] = 957\\n\\nnew_dict\", '_53': defaultdict(<function <lambda> at 0x7fbeb6d6a8c0>, {'Mari': 759, 'Pinheiro': 957, 'Mariana': 0}), '_i54': \"new_dict['Mariana']\", '_54': 0, '_i55': 'new_dict', '_55': defaultdict(<function <lambda> at 0x7fbeb6d6a8c0>, {'Mari': 759, 'Pinheiro': 957, 'Mariana': 0}), '_i56': \"from collections import OrderedDict\\n\\nm = OrderedDict({1: 'abc', 2: 'cde'})\", 'OrderedDict': <class 'collections.OrderedDict'>, '_i57': \"from collections import OrderedDict\\n\\nm = OrderedDict({1: 'abc', 2: 'cde'})\\nm\", '_57': OrderedDict(), '_i58': 'm.popitem()', '_58': (2, 'cde'), '_i59': 'm.popitem()\\nm', '_59': OrderedDict(), '_i60': \"from collections import OrderedDict\\n\\nm = OrderedDict({1: 'abc', 2: 'cde'})\\nm\", '_60': OrderedDict([(1, 'abc')]), '_i61': 'm.popitem()\\nm', '_61': OrderedDict([(1, 'abc')]), '_i62': \"from collections import OrderedDict\\n\\nm = OrderedDict()\\nm[1] = 'abc'\\nm[2] = 'cde'\\nm[3] = 'efg'\\nm\", '_62': OrderedDict([(2, 'cde'), (4, 'ghi')]), '_i63': 'm.popitem()\\nm', '_63': OrderedDict([(2, 'cde'), (4, 'ghi')]), '_i64': \"m[4] = 'ghi'\\nm.popitem(last=True)\\nm\", '_64': OrderedDict([(2, 'cde'), (4, 'ghi')]), '_i65': \"m[4] = 'ghi'\\nm.popitem(last=False)\\nm\", '_65': OrderedDict([(2, 'cde'), (4, 'ghi')]), '_i66': \"from collections import OrderedDict\\n\\nm = OrderedDict()\\nm[1] = 'abc'\\nm[2] = 'cde'\\nm[3] = 'efg'\\nm\", '_66': OrderedDict([(2, 'cde'), (4, 'ghi')]), '_i67': 'm.popitem()\\nm', '_67': OrderedDict([(2, 'cde'), (4, 'ghi')]), '_i68': \"m[4] = 'ghi'\\nm.popitem(last=False)\\nm\", '_68': OrderedDict([(2, 'cde'), (4, 'ghi')]), '_i69': 'from collections import ChainMap\\nimport builtins\\n\\npylookup = ChainMap(locals(), globals(), vars(builtins))', 'ChainMap': <class 'collections.ChainMap'>, 'builtins': <module 'builtins' (built-in)>, 'pylookup': ..., '_i70': 'from collections import ChainMap\\nimport builtins\\n\\npylookup = ChainMap(locals(), globals(), vars(builtins))\\npylookyp', '_i71': 'from collections import ChainMap\\nimport builtins\\n\\npylookup = ChainMap(locals(), globals(), vars(builtins))\\npylookup'}, {'__name__': 'builtins', '__doc__': \"Built-in functions, exceptions, and other objects.\\n\\nNoteworthy: None is the `nil' object; Ellipsis represents `...' in slices.\", '__package__': '', '__loader__': <class '_frozen_importlib.BuiltinImporter'>, '__spec__': ModuleSpec(name='builtins', loader=<class '_frozen_importlib.BuiltinImporter'>), '__build_class__': <built-in function __build_class__>, '__import__': <built-in function __import__>, 'abs': <built-in function abs>, 'all': <built-in function all>, 'any': <built-in function any>, 'ascii': <built-in function ascii>, 'bin': <built-in function bin>, 'breakpoint': <built-in function breakpoint>, 'callable': <built-in function callable>, 'chr': <built-in function chr>, 'compile': <built-in function compile>, 'delattr': <built-in function delattr>, 'dir': <built-in function dir>, 'divmod': <built-in function divmod>, 'eval': <built-in function eval>, 'exec': <built-in function exec>, 'format': <built-in function format>, 'getattr': <built-in function getattr>, 'globals': <built-in function globals>, 'hasattr': <built-in function hasattr>, 'hash': <built-in function hash>, 'hex': <built-in function hex>, 'id': <built-in function id>, 'input': <bound method Kernel.raw_input of <google.colab._kernel.Kernel object at 0x7fbec47aab90>>, 'isinstance': <built-in function isinstance>, 'issubclass': <built-in function issubclass>, 'iter': <built-in function iter>, 'len': <built-in function len>, 'locals': <built-in function locals>, 'max': <built-in function max>, 'min': <built-in function min>, 'next': <built-in function next>, 'oct': <built-in function oct>, 'ord': <built-in function ord>, 'pow': <built-in function pow>, 'print': <built-in function print>, 'repr': <built-in function repr>, 'round': <built-in function round>, 'setattr': <built-in function setattr>, 'sorted': <built-in function sorted>, 'sum': <built-in function sum>, 'vars': <built-in function vars>, 'None': None, 'Ellipsis': Ellipsis, 'NotImplemented': NotImplemented, 'False': False, 'True': True, 'bool': <class 'bool'>, 'memoryview': <class 'memoryview'>, 'bytearray': <class 'bytearray'>, 'bytes': <class 'bytes'>, 'classmethod': <class 'classmethod'>, 'complex': <class 'complex'>, 'dict': <class 'dict'>, 'enumerate': <class 'enumerate'>, 'filter': <class 'filter'>, 'float': <class 'float'>, 'frozenset': <class 'frozenset'>, 'property': <class 'property'>, 'int': <class 'int'>, 'list': <class 'list'>, 'map': <class 'map'>, 'object': <class 'object'>, 'range': <class 'range'>, 'reversed': <class 'reversed'>, 'set': <class 'set'>, 'slice': <class 'slice'>, 'staticmethod': <class 'staticmethod'>, 'str': <class 'str'>, 'super': <class 'super'>, 'tuple': <class 'tuple'>, 'type': <class 'type'>, 'zip': <class 'zip'>, '__debug__': True, 'BaseException': <class 'BaseException'>, 'Exception': <class 'Exception'>, 'TypeError': <class 'TypeError'>, 'StopAsyncIteration': <class 'StopAsyncIteration'>, 'StopIteration': <class 'StopIteration'>, 'GeneratorExit': <class 'GeneratorExit'>, 'SystemExit': <class 'SystemExit'>, 'KeyboardInterrupt': <class 'KeyboardInterrupt'>, 'ImportError': <class 'ImportError'>, 'ModuleNotFoundError': <class 'ModuleNotFoundError'>, 'OSError': <class 'OSError'>, 'EnvironmentError': <class 'OSError'>, 'IOError': <class 'OSError'>, 'EOFError': <class 'EOFError'>, 'RuntimeError': <class 'RuntimeError'>, 'RecursionError': <class 'RecursionError'>, 'NotImplementedError': <class 'NotImplementedError'>, 'NameError': <class 'NameError'>, 'UnboundLocalError': <class 'UnboundLocalError'>, 'AttributeError': <class 'AttributeError'>, 'SyntaxError': <class 'SyntaxError'>, 'IndentationError': <class 'IndentationError'>, 'TabError': <class 'TabError'>, 'LookupError': <class 'LookupError'>, 'IndexError': <class 'IndexError'>, 'KeyError': <class 'KeyError'>, 'ValueError': <class 'ValueError'>, 'UnicodeError': <class 'UnicodeError'>, 'UnicodeEncodeError': <class 'UnicodeEncodeError'>, 'UnicodeDecodeError': <class 'UnicodeDecodeError'>, 'UnicodeTranslateError': <class 'UnicodeTranslateError'>, 'AssertionError': <class 'AssertionError'>, 'ArithmeticError': <class 'ArithmeticError'>, 'FloatingPointError': <class 'FloatingPointError'>, 'OverflowError': <class 'OverflowError'>, 'ZeroDivisionError': <class 'ZeroDivisionError'>, 'SystemError': <class 'SystemError'>, 'ReferenceError': <class 'ReferenceError'>, 'MemoryError': <class 'MemoryError'>, 'BufferError': <class 'BufferError'>, 'Warning': <class 'Warning'>, 'UserWarning': <class 'UserWarning'>, 'DeprecationWarning': <class 'DeprecationWarning'>, 'PendingDeprecationWarning': <class 'PendingDeprecationWarning'>, 'SyntaxWarning': <class 'SyntaxWarning'>, 'RuntimeWarning': <class 'RuntimeWarning'>, 'FutureWarning': <class 'FutureWarning'>, 'ImportWarning': <class 'ImportWarning'>, 'UnicodeWarning': <class 'UnicodeWarning'>, 'BytesWarning': <class 'BytesWarning'>, 'ResourceWarning': <class 'ResourceWarning'>, 'ConnectionError': <class 'ConnectionError'>, 'BlockingIOError': <class 'BlockingIOError'>, 'BrokenPipeError': <class 'BrokenPipeError'>, 'ChildProcessError': <class 'ChildProcessError'>, 'ConnectionAbortedError': <class 'ConnectionAbortedError'>, 'ConnectionRefusedError': <class 'ConnectionRefusedError'>, 'ConnectionResetError': <class 'ConnectionResetError'>, 'FileExistsError': <class 'FileExistsError'>, 'FileNotFoundError': <class 'FileNotFoundError'>, 'IsADirectoryError': <class 'IsADirectoryError'>, 'NotADirectoryError': <class 'NotADirectoryError'>, 'InterruptedError': <class 'InterruptedError'>, 'PermissionError': <class 'PermissionError'>, 'ProcessLookupError': <class 'ProcessLookupError'>, 'TimeoutError': <class 'TimeoutError'>, 'open': <built-in function open>, 'copyright': Copyright (c) 2001-2021 Python Software Foundation.\n",
              "All Rights Reserved.\n",
              "\n",
              "Copyright (c) 2000 BeOpen.com.\n",
              "All Rights Reserved.\n",
              "\n",
              "Copyright (c) 1995-2001 Corporation for National Research Initiatives.\n",
              "All Rights Reserved.\n",
              "\n",
              "Copyright (c) 1991-1995 Stichting Mathematisch Centrum, Amsterdam.\n",
              "All Rights Reserved., 'credits':     Thanks to CWI, CNRI, BeOpen.com, Zope Corporation and a cast of thousands\n",
              "    for supporting Python development.  See www.python.org for more information., 'license': Type license() to see the full license text, 'help': Type help() for interactive help, or help(object) for help about object., '__IPYTHON__': True, 'display': <function display at 0x7fbede9e5290>, 'execfile': <function execfile at 0x7fbebf00ba70>, 'runfile': <function runfile at 0x7fbebecc23b0>, 'get_ipython': <bound method InteractiveShell.get_ipython of <google.colab._shell.Shell object at 0x7fbec49eee50>>, 'dreload': <function _dreload at 0x7fbec47cae60>})"
            ]
          },
          "metadata": {},
          "execution_count": 71
        }
      ]
    },
    {
      "cell_type": "code",
      "source": [
        "c = ChainMap()\n",
        "d = c.new_child()\n",
        "e = c.new_child()\n",
        "e.maps[0]\n",
        "e.maps[-1]\n",
        "e.parents"
      ],
      "metadata": {
        "colab": {
          "base_uri": "https://localhost:8080/"
        },
        "id": "c52bvHohB-T6",
        "outputId": "5422d227-3678-4caa-dcce-0ec7c96730a9"
      },
      "execution_count": null,
      "outputs": [
        {
          "output_type": "execute_result",
          "data": {
            "text/plain": [
              "ChainMap({})"
            ]
          },
          "metadata": {},
          "execution_count": 76
        }
      ]
    },
    {
      "cell_type": "code",
      "source": [
        "e"
      ],
      "metadata": {
        "colab": {
          "base_uri": "https://localhost:8080/"
        },
        "id": "alONJ9bMCiD7",
        "outputId": "de0b8aab-39a7-463b-f5e6-ab456834166c"
      },
      "execution_count": null,
      "outputs": [
        {
          "output_type": "execute_result",
          "data": {
            "text/plain": [
              "ChainMap({}, {})"
            ]
          },
          "metadata": {},
          "execution_count": 78
        }
      ]
    },
    {
      "cell_type": "code",
      "source": [
        "d['x'] = 1\n",
        "d['x']"
      ],
      "metadata": {
        "colab": {
          "base_uri": "https://localhost:8080/"
        },
        "id": "X1nT15YPCiur",
        "outputId": "419ea626-6b8a-45ee-d13f-49fbadba4723"
      },
      "execution_count": null,
      "outputs": [
        {
          "output_type": "execute_result",
          "data": {
            "text/plain": [
              "1"
            ]
          },
          "metadata": {},
          "execution_count": 79
        }
      ]
    },
    {
      "cell_type": "code",
      "source": [
        "del d['x']"
      ],
      "metadata": {
        "id": "w3KbBMxpCnuI"
      },
      "execution_count": null,
      "outputs": []
    },
    {
      "cell_type": "code",
      "source": [
        "d['a'] = 2\n",
        "d['b'] = 3"
      ],
      "metadata": {
        "id": "8ilSsbEcCsAY"
      },
      "execution_count": null,
      "outputs": []
    },
    {
      "cell_type": "code",
      "source": [
        "list(d)"
      ],
      "metadata": {
        "colab": {
          "base_uri": "https://localhost:8080/"
        },
        "id": "IpQQXUYnCpy6",
        "outputId": "e153e13e-665d-48ee-be7f-56f17bedba32"
      },
      "execution_count": null,
      "outputs": [
        {
          "output_type": "execute_result",
          "data": {
            "text/plain": [
              "['a', 'b']"
            ]
          },
          "metadata": {},
          "execution_count": 86
        }
      ]
    },
    {
      "cell_type": "code",
      "source": [
        "d.items()"
      ],
      "metadata": {
        "colab": {
          "base_uri": "https://localhost:8080/"
        },
        "id": "h8cDGf7zCwUe",
        "outputId": "2b1dcb78-882b-4fc7-e943-744ab7e3b4fa"
      },
      "execution_count": null,
      "outputs": [
        {
          "output_type": "execute_result",
          "data": {
            "text/plain": [
              "ItemsView(ChainMap({'a': 2, 'b': 3}, {}))"
            ]
          },
          "metadata": {},
          "execution_count": 87
        }
      ]
    },
    {
      "cell_type": "code",
      "source": [
        "dict(d)"
      ],
      "metadata": {
        "colab": {
          "base_uri": "https://localhost:8080/"
        },
        "id": "bR23nlMfCx7r",
        "outputId": "4358bd4c-0eba-4916-f62f-8ed27c14116a"
      },
      "execution_count": null,
      "outputs": [
        {
          "output_type": "execute_result",
          "data": {
            "text/plain": [
              "{'a': 2, 'b': 3}"
            ]
          },
          "metadata": {},
          "execution_count": 88
        }
      ]
    },
    {
      "cell_type": "code",
      "source": [
        "e['c'] = 4\n",
        "e['e'] = 5"
      ],
      "metadata": {
        "id": "Huumm8PjC6WE"
      },
      "execution_count": null,
      "outputs": []
    },
    {
      "cell_type": "code",
      "source": [
        "l = ChainMap(e, d)\n",
        "l['c']"
      ],
      "metadata": {
        "colab": {
          "base_uri": "https://localhost:8080/"
        },
        "id": "0KXzBp_SC92r",
        "outputId": "f38705d2-38d3-4723-9d73-c1ca4d07e5f9"
      },
      "execution_count": null,
      "outputs": [
        {
          "output_type": "execute_result",
          "data": {
            "text/plain": [
              "4"
            ]
          },
          "metadata": {},
          "execution_count": 95
        }
      ]
    },
    {
      "cell_type": "markdown",
      "source": [
        "Counter: Armazena um contador ineiro para cada chave e ao atualizar uma chave existente, o contador é incrementado."
      ],
      "metadata": {
        "id": "G7zlnWh8DvcK"
      }
    },
    {
      "cell_type": "code",
      "source": [
        "from collections import Counter\n",
        "\n",
        "c = Counter('Mariana')\n",
        "c"
      ],
      "metadata": {
        "colab": {
          "base_uri": "https://localhost:8080/"
        },
        "id": "3uIiIN8TDiwP",
        "outputId": "947a0f35-7a80-41bb-8228-79e22e429612"
      },
      "execution_count": null,
      "outputs": [
        {
          "output_type": "execute_result",
          "data": {
            "text/plain": [
              "Counter({'M': 1, 'a': 3, 'i': 1, 'n': 1, 'r': 1})"
            ]
          },
          "metadata": {},
          "execution_count": 97
        }
      ]
    },
    {
      "cell_type": "code",
      "source": [
        "c.update('Pinheiro')\n",
        "c"
      ],
      "metadata": {
        "colab": {
          "base_uri": "https://localhost:8080/"
        },
        "id": "mZBM0gTVEDcN",
        "outputId": "96c41aba-e613-435c-dbf5-c996b04da639"
      },
      "execution_count": null,
      "outputs": [
        {
          "output_type": "execute_result",
          "data": {
            "text/plain": [
              "Counter({'M': 1,\n",
              "         'P': 1,\n",
              "         'a': 3,\n",
              "         'e': 1,\n",
              "         'h': 1,\n",
              "         'i': 3,\n",
              "         'n': 2,\n",
              "         'o': 1,\n",
              "         'r': 2})"
            ]
          },
          "metadata": {},
          "execution_count": 98
        }
      ]
    },
    {
      "cell_type": "code",
      "source": [
        "c.most_common(3)"
      ],
      "metadata": {
        "colab": {
          "base_uri": "https://localhost:8080/"
        },
        "id": "EFKPF-LiEJBp",
        "outputId": "afae3a5e-0b48-4b80-91c9-d01c275c273d"
      },
      "execution_count": null,
      "outputs": [
        {
          "output_type": "execute_result",
          "data": {
            "text/plain": [
              "[('a', 3), ('i', 3), ('r', 2)]"
            ]
          },
          "metadata": {},
          "execution_count": 99
        }
      ]
    },
    {
      "cell_type": "code",
      "source": [
        "d = Counter([1, 3, 4, 5, 5, 3, 2, 2])\n",
        "d"
      ],
      "metadata": {
        "colab": {
          "base_uri": "https://localhost:8080/"
        },
        "id": "SQbmH8qUGQ2n",
        "outputId": "908fc598-18ef-40e1-f7b9-824da2c0d81b"
      },
      "execution_count": null,
      "outputs": [
        {
          "output_type": "execute_result",
          "data": {
            "text/plain": [
              "Counter({1: 1, 2: 2, 3: 2, 4: 1, 5: 2})"
            ]
          },
          "metadata": {},
          "execution_count": 101
        }
      ]
    },
    {
      "cell_type": "markdown",
      "source": [
        "## Subclasses de UserDict\n",
        "\n",
        "collections.UserDict é uma implementação pura de um mapeamento que funciona como um dicionário padrão, foi concebido para que subclasses sejam criadas a partir dele.\n"
      ],
      "metadata": {
        "id": "llG4ppl-EWt_"
      }
    },
    {
      "cell_type": "code",
      "source": [
        "# StrKeyDict sempre converte chaves que não são str para str\n",
        "# (inserção, atualização e consulta).\n",
        "\n",
        "from collections import UserDict\n",
        "\n",
        "class StrKeyDict(UserDict):\n",
        "\n",
        "    def __missing__(self, key):\n",
        "        if isinstance(key, str):\n",
        "            raise KeyError(key)\n",
        "        return self[str(key)]\n",
        "\n",
        "    def __contains__(self, key):\n",
        "        return str(key) in self.data\n",
        "\n",
        "    def __setitem__(self, key, item):\n",
        "        self.data[str(key)] = item"
      ],
      "metadata": {
        "id": "qArS7V-HE3P4"
      },
      "execution_count": null,
      "outputs": []
    },
    {
      "cell_type": "code",
      "source": [
        "d = StrKeyDict([(2, 'two'), ('4', 'four')])\n",
        "sorted(d.keys())"
      ],
      "metadata": {
        "colab": {
          "base_uri": "https://localhost:8080/"
        },
        "id": "HlaH4Z-qrzvP",
        "outputId": "9a378af5-d0da-49ec-8ec1-eea0072c4a3f"
      },
      "execution_count": null,
      "outputs": [
        {
          "output_type": "execute_result",
          "data": {
            "text/plain": [
              "['2', '4']"
            ]
          },
          "metadata": {},
          "execution_count": 12
        }
      ]
    },
    {
      "cell_type": "code",
      "source": [
        "d['2']"
      ],
      "metadata": {
        "colab": {
          "base_uri": "https://localhost:8080/",
          "height": 35
        },
        "id": "3YHCl3gusBLG",
        "outputId": "8f5a1387-37a0-4494-92df-a78f6f2a62a7"
      },
      "execution_count": null,
      "outputs": [
        {
          "output_type": "execute_result",
          "data": {
            "application/vnd.google.colaboratory.intrinsic+json": {
              "type": "string"
            },
            "text/plain": [
              "'two'"
            ]
          },
          "metadata": {},
          "execution_count": 13
        }
      ]
    },
    {
      "cell_type": "code",
      "source": [
        "d[2]"
      ],
      "metadata": {
        "colab": {
          "base_uri": "https://localhost:8080/",
          "height": 35
        },
        "id": "bganCpQ0sB6K",
        "outputId": "945da7d5-630c-4758-c9ba-b31f0bd8b389"
      },
      "execution_count": null,
      "outputs": [
        {
          "output_type": "execute_result",
          "data": {
            "application/vnd.google.colaboratory.intrinsic+json": {
              "type": "string"
            },
            "text/plain": [
              "'two'"
            ]
          },
          "metadata": {},
          "execution_count": 14
        }
      ]
    },
    {
      "cell_type": "code",
      "source": [
        "d[1]"
      ],
      "metadata": {
        "colab": {
          "base_uri": "https://localhost:8080/",
          "height": 311
        },
        "id": "nTjT0z49sDf3",
        "outputId": "6ec2c27f-9b25-41e4-e11f-977f01d5fcaf"
      },
      "execution_count": null,
      "outputs": [
        {
          "output_type": "error",
          "ename": "KeyError",
          "evalue": "ignored",
          "traceback": [
            "\u001b[0;31m---------------------------------------------------------------------------\u001b[0m",
            "\u001b[0;31mKeyError\u001b[0m                                  Traceback (most recent call last)",
            "\u001b[0;32m<ipython-input-15-abe283337115>\u001b[0m in \u001b[0;36m<module>\u001b[0;34m()\u001b[0m\n\u001b[0;32m----> 1\u001b[0;31m \u001b[0md\u001b[0m\u001b[0;34m[\u001b[0m\u001b[0;36m1\u001b[0m\u001b[0;34m]\u001b[0m\u001b[0;34m\u001b[0m\u001b[0;34m\u001b[0m\u001b[0m\n\u001b[0m",
            "\u001b[0;32m/usr/lib/python3.7/collections/__init__.py\u001b[0m in \u001b[0;36m__getitem__\u001b[0;34m(self, key)\u001b[0m\n\u001b[1;32m   1024\u001b[0m             \u001b[0;32mreturn\u001b[0m \u001b[0mself\u001b[0m\u001b[0;34m.\u001b[0m\u001b[0mdata\u001b[0m\u001b[0;34m[\u001b[0m\u001b[0mkey\u001b[0m\u001b[0;34m]\u001b[0m\u001b[0;34m\u001b[0m\u001b[0;34m\u001b[0m\u001b[0m\n\u001b[1;32m   1025\u001b[0m         \u001b[0;32mif\u001b[0m \u001b[0mhasattr\u001b[0m\u001b[0;34m(\u001b[0m\u001b[0mself\u001b[0m\u001b[0;34m.\u001b[0m\u001b[0m__class__\u001b[0m\u001b[0;34m,\u001b[0m \u001b[0;34m\"__missing__\"\u001b[0m\u001b[0;34m)\u001b[0m\u001b[0;34m:\u001b[0m\u001b[0;34m\u001b[0m\u001b[0;34m\u001b[0m\u001b[0m\n\u001b[0;32m-> 1026\u001b[0;31m             \u001b[0;32mreturn\u001b[0m \u001b[0mself\u001b[0m\u001b[0;34m.\u001b[0m\u001b[0m__class__\u001b[0m\u001b[0;34m.\u001b[0m\u001b[0m__missing__\u001b[0m\u001b[0;34m(\u001b[0m\u001b[0mself\u001b[0m\u001b[0;34m,\u001b[0m \u001b[0mkey\u001b[0m\u001b[0;34m)\u001b[0m\u001b[0;34m\u001b[0m\u001b[0;34m\u001b[0m\u001b[0m\n\u001b[0m\u001b[1;32m   1027\u001b[0m         \u001b[0;32mraise\u001b[0m \u001b[0mKeyError\u001b[0m\u001b[0;34m(\u001b[0m\u001b[0mkey\u001b[0m\u001b[0;34m)\u001b[0m\u001b[0;34m\u001b[0m\u001b[0;34m\u001b[0m\u001b[0m\n\u001b[1;32m   1028\u001b[0m     \u001b[0;32mdef\u001b[0m \u001b[0m__setitem__\u001b[0m\u001b[0;34m(\u001b[0m\u001b[0mself\u001b[0m\u001b[0;34m,\u001b[0m \u001b[0mkey\u001b[0m\u001b[0;34m,\u001b[0m \u001b[0mitem\u001b[0m\u001b[0;34m)\u001b[0m\u001b[0;34m:\u001b[0m \u001b[0mself\u001b[0m\u001b[0;34m.\u001b[0m\u001b[0mdata\u001b[0m\u001b[0;34m[\u001b[0m\u001b[0mkey\u001b[0m\u001b[0;34m]\u001b[0m \u001b[0;34m=\u001b[0m \u001b[0mitem\u001b[0m\u001b[0;34m\u001b[0m\u001b[0;34m\u001b[0m\u001b[0m\n",
            "\u001b[0;32m<ipython-input-11-ea3e1c0e8255>\u001b[0m in \u001b[0;36m__missing__\u001b[0;34m(self, key)\u001b[0m\n\u001b[1;32m      6\u001b[0m         \u001b[0;32mif\u001b[0m \u001b[0misinstance\u001b[0m\u001b[0;34m(\u001b[0m\u001b[0mkey\u001b[0m\u001b[0;34m,\u001b[0m \u001b[0mstr\u001b[0m\u001b[0;34m)\u001b[0m\u001b[0;34m:\u001b[0m\u001b[0;34m\u001b[0m\u001b[0;34m\u001b[0m\u001b[0m\n\u001b[1;32m      7\u001b[0m             \u001b[0;32mraise\u001b[0m \u001b[0mKeyError\u001b[0m\u001b[0;34m(\u001b[0m\u001b[0mkey\u001b[0m\u001b[0;34m)\u001b[0m\u001b[0;34m\u001b[0m\u001b[0;34m\u001b[0m\u001b[0m\n\u001b[0;32m----> 8\u001b[0;31m         \u001b[0;32mreturn\u001b[0m \u001b[0mself\u001b[0m\u001b[0;34m[\u001b[0m\u001b[0mstr\u001b[0m\u001b[0;34m(\u001b[0m\u001b[0mkey\u001b[0m\u001b[0;34m)\u001b[0m\u001b[0;34m]\u001b[0m\u001b[0;34m\u001b[0m\u001b[0;34m\u001b[0m\u001b[0m\n\u001b[0m\u001b[1;32m      9\u001b[0m \u001b[0;34m\u001b[0m\u001b[0m\n\u001b[1;32m     10\u001b[0m     \u001b[0;32mdef\u001b[0m \u001b[0m__contains__\u001b[0m\u001b[0;34m(\u001b[0m\u001b[0mself\u001b[0m\u001b[0;34m,\u001b[0m \u001b[0mkey\u001b[0m\u001b[0;34m)\u001b[0m\u001b[0;34m:\u001b[0m\u001b[0;34m\u001b[0m\u001b[0;34m\u001b[0m\u001b[0m\n",
            "\u001b[0;32m/usr/lib/python3.7/collections/__init__.py\u001b[0m in \u001b[0;36m__getitem__\u001b[0;34m(self, key)\u001b[0m\n\u001b[1;32m   1024\u001b[0m             \u001b[0;32mreturn\u001b[0m \u001b[0mself\u001b[0m\u001b[0;34m.\u001b[0m\u001b[0mdata\u001b[0m\u001b[0;34m[\u001b[0m\u001b[0mkey\u001b[0m\u001b[0;34m]\u001b[0m\u001b[0;34m\u001b[0m\u001b[0;34m\u001b[0m\u001b[0m\n\u001b[1;32m   1025\u001b[0m         \u001b[0;32mif\u001b[0m \u001b[0mhasattr\u001b[0m\u001b[0;34m(\u001b[0m\u001b[0mself\u001b[0m\u001b[0;34m.\u001b[0m\u001b[0m__class__\u001b[0m\u001b[0;34m,\u001b[0m \u001b[0;34m\"__missing__\"\u001b[0m\u001b[0;34m)\u001b[0m\u001b[0;34m:\u001b[0m\u001b[0;34m\u001b[0m\u001b[0;34m\u001b[0m\u001b[0m\n\u001b[0;32m-> 1026\u001b[0;31m             \u001b[0;32mreturn\u001b[0m \u001b[0mself\u001b[0m\u001b[0;34m.\u001b[0m\u001b[0m__class__\u001b[0m\u001b[0;34m.\u001b[0m\u001b[0m__missing__\u001b[0m\u001b[0;34m(\u001b[0m\u001b[0mself\u001b[0m\u001b[0;34m,\u001b[0m \u001b[0mkey\u001b[0m\u001b[0;34m)\u001b[0m\u001b[0;34m\u001b[0m\u001b[0;34m\u001b[0m\u001b[0m\n\u001b[0m\u001b[1;32m   1027\u001b[0m         \u001b[0;32mraise\u001b[0m \u001b[0mKeyError\u001b[0m\u001b[0;34m(\u001b[0m\u001b[0mkey\u001b[0m\u001b[0;34m)\u001b[0m\u001b[0;34m\u001b[0m\u001b[0;34m\u001b[0m\u001b[0m\n\u001b[1;32m   1028\u001b[0m     \u001b[0;32mdef\u001b[0m \u001b[0m__setitem__\u001b[0m\u001b[0;34m(\u001b[0m\u001b[0mself\u001b[0m\u001b[0;34m,\u001b[0m \u001b[0mkey\u001b[0m\u001b[0;34m,\u001b[0m \u001b[0mitem\u001b[0m\u001b[0;34m)\u001b[0m\u001b[0;34m:\u001b[0m \u001b[0mself\u001b[0m\u001b[0;34m.\u001b[0m\u001b[0mdata\u001b[0m\u001b[0;34m[\u001b[0m\u001b[0mkey\u001b[0m\u001b[0;34m]\u001b[0m \u001b[0;34m=\u001b[0m \u001b[0mitem\u001b[0m\u001b[0;34m\u001b[0m\u001b[0;34m\u001b[0m\u001b[0m\n",
            "\u001b[0;32m<ipython-input-11-ea3e1c0e8255>\u001b[0m in \u001b[0;36m__missing__\u001b[0;34m(self, key)\u001b[0m\n\u001b[1;32m      5\u001b[0m     \u001b[0;32mdef\u001b[0m \u001b[0m__missing__\u001b[0m\u001b[0;34m(\u001b[0m\u001b[0mself\u001b[0m\u001b[0;34m,\u001b[0m \u001b[0mkey\u001b[0m\u001b[0;34m)\u001b[0m\u001b[0;34m:\u001b[0m\u001b[0;34m\u001b[0m\u001b[0;34m\u001b[0m\u001b[0m\n\u001b[1;32m      6\u001b[0m         \u001b[0;32mif\u001b[0m \u001b[0misinstance\u001b[0m\u001b[0;34m(\u001b[0m\u001b[0mkey\u001b[0m\u001b[0;34m,\u001b[0m \u001b[0mstr\u001b[0m\u001b[0;34m)\u001b[0m\u001b[0;34m:\u001b[0m\u001b[0;34m\u001b[0m\u001b[0;34m\u001b[0m\u001b[0m\n\u001b[0;32m----> 7\u001b[0;31m             \u001b[0;32mraise\u001b[0m \u001b[0mKeyError\u001b[0m\u001b[0;34m(\u001b[0m\u001b[0mkey\u001b[0m\u001b[0;34m)\u001b[0m\u001b[0;34m\u001b[0m\u001b[0;34m\u001b[0m\u001b[0m\n\u001b[0m\u001b[1;32m      8\u001b[0m         \u001b[0;32mreturn\u001b[0m \u001b[0mself\u001b[0m\u001b[0;34m[\u001b[0m\u001b[0mstr\u001b[0m\u001b[0;34m(\u001b[0m\u001b[0mkey\u001b[0m\u001b[0;34m)\u001b[0m\u001b[0;34m]\u001b[0m\u001b[0;34m\u001b[0m\u001b[0;34m\u001b[0m\u001b[0m\n\u001b[1;32m      9\u001b[0m \u001b[0;34m\u001b[0m\u001b[0m\n",
            "\u001b[0;31mKeyError\u001b[0m: '1'"
          ]
        }
      ]
    },
    {
      "cell_type": "code",
      "source": [
        "d.get('2')"
      ],
      "metadata": {
        "colab": {
          "base_uri": "https://localhost:8080/",
          "height": 35
        },
        "id": "lZLi-_VGsEtU",
        "outputId": "66d8e74e-eeec-4535-8211-cadf7dd85c16"
      },
      "execution_count": null,
      "outputs": [
        {
          "output_type": "execute_result",
          "data": {
            "application/vnd.google.colaboratory.intrinsic+json": {
              "type": "string"
            },
            "text/plain": [
              "'two'"
            ]
          },
          "metadata": {},
          "execution_count": 16
        }
      ]
    },
    {
      "cell_type": "code",
      "source": [
        "d.get(4)"
      ],
      "metadata": {
        "colab": {
          "base_uri": "https://localhost:8080/",
          "height": 35
        },
        "id": "4B5TdO_TsIut",
        "outputId": "e10506d3-50fd-494b-c341-ea8bb9a6a3c6"
      },
      "execution_count": null,
      "outputs": [
        {
          "output_type": "execute_result",
          "data": {
            "application/vnd.google.colaboratory.intrinsic+json": {
              "type": "string"
            },
            "text/plain": [
              "'four'"
            ]
          },
          "metadata": {},
          "execution_count": 17
        }
      ]
    },
    {
      "cell_type": "code",
      "source": [
        "d.get(1, 'N/A')"
      ],
      "metadata": {
        "colab": {
          "base_uri": "https://localhost:8080/",
          "height": 35
        },
        "id": "B7deQZLXsHEt",
        "outputId": "fbe94b96-7271-4809-9fe6-81413f863d04"
      },
      "execution_count": null,
      "outputs": [
        {
          "output_type": "execute_result",
          "data": {
            "application/vnd.google.colaboratory.intrinsic+json": {
              "type": "string"
            },
            "text/plain": [
              "'N/A'"
            ]
          },
          "metadata": {},
          "execution_count": 20
        }
      ]
    },
    {
      "cell_type": "code",
      "source": [
        "2 in d"
      ],
      "metadata": {
        "colab": {
          "base_uri": "https://localhost:8080/"
        },
        "id": "2uKtX54SsYfD",
        "outputId": "3e83e0fe-4afa-4b3a-ee1e-b596b028a3f5"
      },
      "execution_count": null,
      "outputs": [
        {
          "output_type": "execute_result",
          "data": {
            "text/plain": [
              "True"
            ]
          },
          "metadata": {},
          "execution_count": 21
        }
      ]
    },
    {
      "cell_type": "code",
      "source": [
        "'2' in d"
      ],
      "metadata": {
        "colab": {
          "base_uri": "https://localhost:8080/"
        },
        "id": "wD6d3YZAsc7Z",
        "outputId": "953b3d4b-6b9f-4915-ecea-9e965a98c349"
      },
      "execution_count": null,
      "outputs": [
        {
          "output_type": "execute_result",
          "data": {
            "text/plain": [
              "True"
            ]
          },
          "metadata": {},
          "execution_count": 22
        }
      ]
    },
    {
      "cell_type": "code",
      "source": [
        "1 in d"
      ],
      "metadata": {
        "colab": {
          "base_uri": "https://localhost:8080/"
        },
        "id": "ZnHpCuHgsd35",
        "outputId": "08709e80-4d28-4091-ae1d-bacebe82c1a1"
      },
      "execution_count": null,
      "outputs": [
        {
          "output_type": "execute_result",
          "data": {
            "text/plain": [
              "False"
            ]
          },
          "metadata": {},
          "execution_count": 23
        }
      ]
    },
    {
      "cell_type": "code",
      "source": [
        "d[0] = 'zero'\n",
        "d['0']"
      ],
      "metadata": {
        "colab": {
          "base_uri": "https://localhost:8080/",
          "height": 35
        },
        "id": "h97B7ip-se-q",
        "outputId": "a9ac82c6-1ef7-4d8a-ed72-8ae8a4e4c7f6"
      },
      "execution_count": null,
      "outputs": [
        {
          "output_type": "execute_result",
          "data": {
            "application/vnd.google.colaboratory.intrinsic+json": {
              "type": "string"
            },
            "text/plain": [
              "'zero'"
            ]
          },
          "metadata": {},
          "execution_count": 24
        }
      ]
    },
    {
      "cell_type": "code",
      "source": [
        "d.update({6:'six', '8':'eight'})\n",
        "sorted(d.keys())"
      ],
      "metadata": {
        "colab": {
          "base_uri": "https://localhost:8080/"
        },
        "id": "SlWtMVn2sjW4",
        "outputId": "7a528213-eb6e-452b-9204-6aa19285b19c"
      },
      "execution_count": null,
      "outputs": [
        {
          "output_type": "execute_result",
          "data": {
            "text/plain": [
              "['0', '2', '4', '6', '8']"
            ]
          },
          "metadata": {},
          "execution_count": 26
        }
      ]
    },
    {
      "cell_type": "code",
      "source": [
        "d.update([(10, 'ten'), ('12', 'twelve')])\n",
        "sorted(d.keys())"
      ],
      "metadata": {
        "colab": {
          "base_uri": "https://localhost:8080/"
        },
        "id": "Be3_ccNusmGw",
        "outputId": "06c8868d-8e02-43d5-a9b9-07b604c544ce"
      },
      "execution_count": null,
      "outputs": [
        {
          "output_type": "execute_result",
          "data": {
            "text/plain": [
              "['0', '10', '12', '2', '4', '6', '8']"
            ]
          },
          "metadata": {},
          "execution_count": 28
        }
      ]
    },
    {
      "cell_type": "markdown",
      "source": [
        "MutableMapping tem diversos métodos concretos úteis, apesar de ser classe-base abstrata (ABCs)."
      ],
      "metadata": {
        "id": "xRjfJCdhtUUi"
      }
    },
    {
      "cell_type": "code",
      "source": [
        ""
      ],
      "metadata": {
        "id": "H0N0TP31tTjy"
      },
      "execution_count": null,
      "outputs": []
    },
    {
      "cell_type": "markdown",
      "source": [
        "## Mapeamentos imutáveis"
      ],
      "metadata": {
        "id": "1C5al_WGuQX7"
      }
    },
    {
      "cell_type": "markdown",
      "source": [
        "Classe wrapper, dada um mapeamento, a classe devolve uma instância de **mappingproxy** (uma view somente de leitura, mas dinâmica, do mapeamento original). Ou seja, as atualização no mapeamtno original podem ser vistas em mappingproxy, mas não é possível fazer alterações por meio dela."
      ],
      "metadata": {
        "id": "927Ebpcwuvpw"
      }
    },
    {
      "cell_type": "code",
      "source": [
        "from types import MappingProxyType\n",
        "\n",
        "d = {1: 'A'}\n",
        "d_proxy = MappingProxyType(d)\n",
        "d_proxy"
      ],
      "metadata": {
        "colab": {
          "base_uri": "https://localhost:8080/"
        },
        "id": "4rf8y_AUsznc",
        "outputId": "b00b0c7b-696a-4899-8556-a56da610879c"
      },
      "execution_count": null,
      "outputs": [
        {
          "output_type": "execute_result",
          "data": {
            "text/plain": [
              "mappingproxy({1: 'A'})"
            ]
          },
          "metadata": {},
          "execution_count": 29
        }
      ]
    },
    {
      "cell_type": "code",
      "source": [
        "d_proxy[1]"
      ],
      "metadata": {
        "colab": {
          "base_uri": "https://localhost:8080/",
          "height": 35
        },
        "id": "_IbGLUvKu97k",
        "outputId": "7beda774-88a9-4e37-cf26-e4e8ad645028"
      },
      "execution_count": null,
      "outputs": [
        {
          "output_type": "execute_result",
          "data": {
            "application/vnd.google.colaboratory.intrinsic+json": {
              "type": "string"
            },
            "text/plain": [
              "'A'"
            ]
          },
          "metadata": {},
          "execution_count": 30
        }
      ]
    },
    {
      "cell_type": "code",
      "source": [
        "d_proxy[2] = 'x'"
      ],
      "metadata": {
        "colab": {
          "base_uri": "https://localhost:8080/",
          "height": 165
        },
        "id": "wUZwVsT7vAHd",
        "outputId": "402872ee-cec3-48a4-e745-15f379d2ed5b"
      },
      "execution_count": null,
      "outputs": [
        {
          "output_type": "error",
          "ename": "TypeError",
          "evalue": "ignored",
          "traceback": [
            "\u001b[0;31m---------------------------------------------------------------------------\u001b[0m",
            "\u001b[0;31mTypeError\u001b[0m                                 Traceback (most recent call last)",
            "\u001b[0;32m<ipython-input-31-bc17a9a62754>\u001b[0m in \u001b[0;36m<module>\u001b[0;34m()\u001b[0m\n\u001b[0;32m----> 1\u001b[0;31m \u001b[0md_proxy\u001b[0m\u001b[0;34m[\u001b[0m\u001b[0;36m2\u001b[0m\u001b[0;34m]\u001b[0m \u001b[0;34m=\u001b[0m \u001b[0;34m'x'\u001b[0m\u001b[0;34m\u001b[0m\u001b[0;34m\u001b[0m\u001b[0m\n\u001b[0m",
            "\u001b[0;31mTypeError\u001b[0m: 'mappingproxy' object does not support item assignment"
          ]
        }
      ]
    },
    {
      "cell_type": "code",
      "source": [
        "d[2] = 'B'"
      ],
      "metadata": {
        "id": "CvmNP4ZZvBrj"
      },
      "execution_count": null,
      "outputs": []
    },
    {
      "cell_type": "code",
      "source": [
        "d_proxy"
      ],
      "metadata": {
        "colab": {
          "base_uri": "https://localhost:8080/"
        },
        "id": "oKnSjiD8vE73",
        "outputId": "f6309374-ac28-4114-8451-493c824cd5d0"
      },
      "execution_count": null,
      "outputs": [
        {
          "output_type": "execute_result",
          "data": {
            "text/plain": [
              "mappingproxy({1: 'A', 2: 'B'})"
            ]
          },
          "metadata": {},
          "execution_count": 33
        }
      ]
    },
    {
      "cell_type": "code",
      "source": [
        "d_proxy[2]"
      ],
      "metadata": {
        "colab": {
          "base_uri": "https://localhost:8080/",
          "height": 35
        },
        "id": "3D8J5COnvGIg",
        "outputId": "c4ac8335-6d45-4f6c-b97f-0b0bcd8797ea"
      },
      "execution_count": null,
      "outputs": [
        {
          "output_type": "execute_result",
          "data": {
            "application/vnd.google.colaboratory.intrinsic+json": {
              "type": "string"
            },
            "text/plain": [
              "'B'"
            ]
          },
          "metadata": {},
          "execution_count": 35
        }
      ]
    },
    {
      "cell_type": "markdown",
      "source": [
        "## Teoria dos Conjuntos\n",
        "\n",
        "\"conjuntos\" se referem a **set** e ao **frozenset**, seu irmão imutável."
      ],
      "metadata": {
        "id": "1k61v_9_vYmD"
      }
    },
    {
      "cell_type": "code",
      "source": [
        "l = ['spam', 'spam', 'eggs', 'spam']\n",
        "set(l)"
      ],
      "metadata": {
        "colab": {
          "base_uri": "https://localhost:8080/"
        },
        "id": "T7Dl_ywlvWFu",
        "outputId": "07081875-345f-48a7-cf58-2361c347f6f3"
      },
      "execution_count": null,
      "outputs": [
        {
          "output_type": "execute_result",
          "data": {
            "text/plain": [
              "{'eggs', 'spam'}"
            ]
          },
          "metadata": {},
          "execution_count": 37
        }
      ]
    },
    {
      "cell_type": "code",
      "source": [
        "list(set(l))"
      ],
      "metadata": {
        "colab": {
          "base_uri": "https://localhost:8080/"
        },
        "id": "MbaVyhUKvwS5",
        "outputId": "b05e60c0-feed-4a01-bc3b-fd1f75fc8b77"
      },
      "execution_count": null,
      "outputs": [
        {
          "output_type": "execute_result",
          "data": {
            "text/plain": [
              "['spam', 'eggs']"
            ]
          },
          "metadata": {},
          "execution_count": 38
        }
      ]
    },
    {
      "cell_type": "markdown",
      "source": [
        "Elementos de conjuntos devem ser hashable, e apesar disso, set não é, mas o frozenset sim."
      ],
      "metadata": {
        "id": "rZgGXphGv3Mn"
      }
    },
    {
      "cell_type": "markdown",
      "source": [
        "Vantagens:\n",
        "- Garante unicidade\n",
        "- Implementa operações essenciais de conjuntos com operadores infixos:\n",
        "    - a | b união\n",
        "    - a & b intersecção\n",
        "    - a - b diferença\n",
        "\n",
        "O uso inteligente, reduz número de linhas e o tempo de execusão do programa. Além de deixar o código mais fácil de ler e compreender (removendo laços e lógicas condicionais)."
      ],
      "metadata": {
        "id": "PI2uzzI7wBkS"
      }
    },
    {
      "cell_type": "code",
      "source": [
        "m = ['mari', 'pinheiro', 'spam']\n",
        "\n",
        "set(l) | set(m)"
      ],
      "metadata": {
        "colab": {
          "base_uri": "https://localhost:8080/"
        },
        "id": "YLYyhwCSvyXk",
        "outputId": "63e91ab8-8e3f-4007-ba41-d86a24435d1a"
      },
      "execution_count": null,
      "outputs": [
        {
          "output_type": "execute_result",
          "data": {
            "text/plain": [
              "{'eggs', 'mari', 'pinheiro', 'spam'}"
            ]
          },
          "metadata": {},
          "execution_count": 40
        }
      ]
    },
    {
      "cell_type": "code",
      "source": [
        "set(l) & set(m)"
      ],
      "metadata": {
        "colab": {
          "base_uri": "https://localhost:8080/"
        },
        "id": "dJm5kseIw23n",
        "outputId": "bc88fefd-22e9-4ac0-afb4-3cec5fe3ffab"
      },
      "execution_count": null,
      "outputs": [
        {
          "output_type": "execute_result",
          "data": {
            "text/plain": [
              "{'spam'}"
            ]
          },
          "metadata": {},
          "execution_count": 41
        }
      ]
    },
    {
      "cell_type": "code",
      "source": [
        "set(l) - set(m)"
      ],
      "metadata": {
        "colab": {
          "base_uri": "https://localhost:8080/"
        },
        "id": "r0as8t_4w6FG",
        "outputId": "f1b24a86-cf66-457b-ddfd-c92b8cd1f476"
      },
      "execution_count": null,
      "outputs": [
        {
          "output_type": "execute_result",
          "data": {
            "text/plain": [
              "{'eggs'}"
            ]
          },
          "metadata": {},
          "execution_count": 43
        }
      ]
    },
    {
      "cell_type": "code",
      "source": [
        "set(m) - set(l)"
      ],
      "metadata": {
        "colab": {
          "base_uri": "https://localhost:8080/"
        },
        "id": "51fM0xfyw9bl",
        "outputId": "5244c1cc-3b60-4b5d-b378-19cc376ec0bf"
      },
      "execution_count": null,
      "outputs": [
        {
          "output_type": "execute_result",
          "data": {
            "text/plain": [
              "{'mari', 'pinheiro'}"
            ]
          },
          "metadata": {},
          "execution_count": 44
        }
      ]
    },
    {
      "cell_type": "markdown",
      "source": [
        "**{}** cria um dict vazio\n",
        "\n",
        "**set()** um conjunto vazio"
      ],
      "metadata": {
        "id": "nYlKQV-SxTv0"
      }
    },
    {
      "cell_type": "code",
      "source": [
        "s = {1}\n",
        "type(s)"
      ],
      "metadata": {
        "colab": {
          "base_uri": "https://localhost:8080/"
        },
        "id": "S6BQyXQ5w_uh",
        "outputId": "d40b47d0-917d-4cf3-dc39-3b98a62c4e6c"
      },
      "execution_count": null,
      "outputs": [
        {
          "output_type": "execute_result",
          "data": {
            "text/plain": [
              "set"
            ]
          },
          "metadata": {},
          "execution_count": 45
        }
      ]
    },
    {
      "cell_type": "code",
      "source": [
        "s.pop()"
      ],
      "metadata": {
        "colab": {
          "base_uri": "https://localhost:8080/"
        },
        "id": "3ZXpsBiVxkzL",
        "outputId": "a338d169-8e9f-4c53-fc26-024baeab146e"
      },
      "execution_count": null,
      "outputs": [
        {
          "output_type": "execute_result",
          "data": {
            "text/plain": [
              "1"
            ]
          },
          "metadata": {},
          "execution_count": 46
        }
      ]
    },
    {
      "cell_type": "code",
      "source": [
        "s"
      ],
      "metadata": {
        "colab": {
          "base_uri": "https://localhost:8080/"
        },
        "id": "ly1uEExCxmaH",
        "outputId": "9e8631c2-0213-4ee6-e2c3-ba5dee432f5e"
      },
      "execution_count": null,
      "outputs": [
        {
          "output_type": "execute_result",
          "data": {
            "text/plain": [
              "set()"
            ]
          },
          "metadata": {},
          "execution_count": 47
        }
      ]
    },
    {
      "cell_type": "markdown",
      "source": [
        "A sintaxe literal {1, 2} é mais rápida que chamar o construtor set([1, 2]), pois tem um bytecode especializado (BUILD_SET) e nesse caso não precisa encontrar o construtor."
      ],
      "metadata": {
        "id": "CTxnsh0Yynx-"
      }
    },
    {
      "cell_type": "code",
      "source": [
        "from dis import dis\n",
        "dis('{1}')"
      ],
      "metadata": {
        "colab": {
          "base_uri": "https://localhost:8080/"
        },
        "id": "-gPHY2Rzxo5K",
        "outputId": "d844150f-a991-4d58-eb59-e03a66a79af4"
      },
      "execution_count": null,
      "outputs": [
        {
          "output_type": "stream",
          "name": "stdout",
          "text": [
            "  1           0 LOAD_CONST               0 (1)\n",
            "              2 BUILD_SET                1\n",
            "              4 RETURN_VALUE\n"
          ]
        }
      ]
    },
    {
      "cell_type": "code",
      "source": [
        "dis('set([1])')"
      ],
      "metadata": {
        "colab": {
          "base_uri": "https://localhost:8080/"
        },
        "id": "wVUHnCHkzBDE",
        "outputId": "5c98c19b-3192-4c62-82f4-ba7b0032207c"
      },
      "execution_count": null,
      "outputs": [
        {
          "output_type": "stream",
          "name": "stdout",
          "text": [
            "  1           0 LOAD_NAME                0 (set)\n",
            "              2 LOAD_CONST               0 (1)\n",
            "              4 BUILD_LIST               1\n",
            "              6 CALL_FUNCTION            1\n",
            "              8 RETURN_VALUE\n"
          ]
        }
      ]
    },
    {
      "cell_type": "markdown",
      "source": [
        "frozenset não tem sintaxe especial, é necessário a chamada ao construtor."
      ],
      "metadata": {
        "id": "L-98qVcazfAZ"
      }
    },
    {
      "cell_type": "code",
      "source": [
        "frozenset(range(10))"
      ],
      "metadata": {
        "colab": {
          "base_uri": "https://localhost:8080/"
        },
        "id": "s8nhGycfzcCR",
        "outputId": "0c8676e3-a7ac-41c9-d542-dd37e7667e04"
      },
      "execution_count": null,
      "outputs": [
        {
          "output_type": "execute_result",
          "data": {
            "text/plain": [
              "frozenset({0, 1, 2, 3, 4, 5, 6, 7, 8, 9})"
            ]
          },
          "metadata": {},
          "execution_count": 51
        }
      ]
    },
    {
      "cell_type": "code",
      "source": [
        "# Set comprehensions (setcoms)\n",
        "\n",
        "from unicodedata import name\n",
        "\n",
        "carac_with_sign = {\n",
        "    chr(i)\n",
        "    for i in range(32, 256)\n",
        "    if 'SIGN' in name(chr(i), '')\n",
        "}\n",
        "\n",
        "carac_with_sign"
      ],
      "metadata": {
        "colab": {
          "base_uri": "https://localhost:8080/"
        },
        "id": "aRPWyOVwaqc6",
        "outputId": "1f2d775f-2310-424d-dfbe-40a859df5d99"
      },
      "execution_count": null,
      "outputs": [
        {
          "output_type": "execute_result",
          "data": {
            "text/plain": [
              "{'#',\n",
              " '$',\n",
              " '%',\n",
              " '+',\n",
              " '<',\n",
              " '=',\n",
              " '>',\n",
              " '¢',\n",
              " '£',\n",
              " '¤',\n",
              " '¥',\n",
              " '§',\n",
              " '©',\n",
              " '¬',\n",
              " '®',\n",
              " '°',\n",
              " '±',\n",
              " 'µ',\n",
              " '¶',\n",
              " '×',\n",
              " '÷'}"
            ]
          },
          "metadata": {},
          "execution_count": 2
        }
      ]
    },
    {
      "cell_type": "markdown",
      "source": [
        "**Operações matemáticas do set:** esses métodos geram um novo conjunto ou atualizam o conjunto-alvo in-place se ele for mutável."
      ],
      "metadata": {
        "id": "FQo59hQybQlx"
      }
    },
    {
      "cell_type": "code",
      "source": [
        "a = {1, 2, 3, 4}\n",
        "b = {2, 4, 5, 6}"
      ],
      "metadata": {
        "id": "oloIpRVCbB1M"
      },
      "execution_count": null,
      "outputs": []
    },
    {
      "cell_type": "markdown",
      "source": [
        "Intersecção: A ∩ B"
      ],
      "metadata": {
        "id": "eIwRZ-f-cyru"
      }
    },
    {
      "cell_type": "code",
      "source": [
        "a & b"
      ],
      "metadata": {
        "colab": {
          "base_uri": "https://localhost:8080/"
        },
        "id": "v6NVNWosdGqR",
        "outputId": "ee216d35-b059-4272-ee65-98c1164e7ce4"
      },
      "execution_count": null,
      "outputs": [
        {
          "output_type": "execute_result",
          "data": {
            "text/plain": [
              "{2, 4}"
            ]
          },
          "metadata": {},
          "execution_count": 19
        }
      ]
    },
    {
      "cell_type": "code",
      "source": [
        "# A ∩ B\n",
        "\n",
        "# a & b: intersecção\n",
        "a.__and__(b)"
      ],
      "metadata": {
        "colab": {
          "base_uri": "https://localhost:8080/"
        },
        "id": "Dd02mpDtb3_K",
        "outputId": "6b7700ba-a7a0-494c-9bdc-37273282f921"
      },
      "execution_count": null,
      "outputs": [
        {
          "output_type": "execute_result",
          "data": {
            "text/plain": [
              "{2, 4}"
            ]
          },
          "metadata": {},
          "execution_count": 6
        }
      ]
    },
    {
      "cell_type": "code",
      "source": [
        "# b & a: operador e reverso\n",
        "a.__rand__(b)"
      ],
      "metadata": {
        "colab": {
          "base_uri": "https://localhost:8080/"
        },
        "id": "bagKFFm2cBc7",
        "outputId": "e2b7d86d-ac3c-4fff-e09a-8f4b2eb3b202"
      },
      "execution_count": null,
      "outputs": [
        {
          "output_type": "execute_result",
          "data": {
            "text/plain": [
              "{2, 4}"
            ]
          },
          "metadata": {},
          "execution_count": 7
        }
      ]
    },
    {
      "cell_type": "code",
      "source": [
        "a.intersection(b)"
      ],
      "metadata": {
        "colab": {
          "base_uri": "https://localhost:8080/"
        },
        "id": "KnwyHloZcJv6",
        "outputId": "6154fd79-bac1-4019-cfd9-8a966eac01e8"
      },
      "execution_count": null,
      "outputs": [
        {
          "output_type": "execute_result",
          "data": {
            "text/plain": [
              "{2, 4}"
            ]
          },
          "metadata": {},
          "execution_count": 12
        }
      ]
    },
    {
      "cell_type": "code",
      "source": [
        "# a &= b: a atualizado com a intersecção entre a e b\n",
        "a.__iand__(b)"
      ],
      "metadata": {
        "colab": {
          "base_uri": "https://localhost:8080/"
        },
        "id": "Xd3pwI0KcYkz",
        "outputId": "5a6ff447-65e8-4e0e-c773-86d3b5b2127b"
      },
      "execution_count": null,
      "outputs": [
        {
          "output_type": "execute_result",
          "data": {
            "text/plain": [
              "{2, 4}"
            ]
          },
          "metadata": {},
          "execution_count": 13
        }
      ]
    },
    {
      "cell_type": "code",
      "source": [
        "a"
      ],
      "metadata": {
        "colab": {
          "base_uri": "https://localhost:8080/"
        },
        "id": "LdOu7K_scoBO",
        "outputId": "0da7c169-6646-4c96-a836-5c238e621ba1"
      },
      "execution_count": null,
      "outputs": [
        {
          "output_type": "execute_result",
          "data": {
            "text/plain": [
              "{2, 4}"
            ]
          },
          "metadata": {},
          "execution_count": 14
        }
      ]
    },
    {
      "cell_type": "code",
      "source": [
        "a = {1, 2, 3, 4}"
      ],
      "metadata": {
        "id": "IDMpjH_-cpPI"
      },
      "execution_count": null,
      "outputs": []
    },
    {
      "cell_type": "code",
      "source": [
        "a.intersection_update(b)"
      ],
      "metadata": {
        "id": "x1QnhZINcphy"
      },
      "execution_count": null,
      "outputs": []
    },
    {
      "cell_type": "code",
      "source": [
        "a"
      ],
      "metadata": {
        "colab": {
          "base_uri": "https://localhost:8080/"
        },
        "id": "lJlXRJwccs2l",
        "outputId": "4294265f-d63d-4cc6-df06-de1a7ee5070e"
      },
      "execution_count": null,
      "outputs": [
        {
          "output_type": "execute_result",
          "data": {
            "text/plain": [
              "{2, 4}"
            ]
          },
          "metadata": {},
          "execution_count": 17
        }
      ]
    },
    {
      "cell_type": "code",
      "source": [
        "a = {1, 2, 3, 4}"
      ],
      "metadata": {
        "id": "y3ub27C0cuZB"
      },
      "execution_count": null,
      "outputs": []
    },
    {
      "cell_type": "markdown",
      "source": [
        "União: A ∪ B"
      ],
      "metadata": {
        "id": "IXbcmUnLc2B3"
      }
    },
    {
      "cell_type": "code",
      "source": [
        "# a | b\n",
        "\n",
        "a | b "
      ],
      "metadata": {
        "colab": {
          "base_uri": "https://localhost:8080/"
        },
        "id": "SM_Lln10cv7X",
        "outputId": "6fe21925-70bc-42b6-c13d-16bdb65531e6"
      },
      "execution_count": null,
      "outputs": [
        {
          "output_type": "execute_result",
          "data": {
            "text/plain": [
              "{1, 2, 3, 4, 5, 6}"
            ]
          },
          "metadata": {},
          "execution_count": 23
        }
      ]
    },
    {
      "cell_type": "code",
      "source": [
        "a.__or__(b)"
      ],
      "metadata": {
        "colab": {
          "base_uri": "https://localhost:8080/"
        },
        "id": "YWy-hGQ9dQex",
        "outputId": "6cd095cd-a8a9-4b5b-e834-4a097aab47b2"
      },
      "execution_count": null,
      "outputs": [
        {
          "output_type": "execute_result",
          "data": {
            "text/plain": [
              "{1, 2, 3, 4, 5, 6}"
            ]
          },
          "metadata": {},
          "execution_count": 24
        }
      ]
    },
    {
      "cell_type": "code",
      "source": [
        "a.__ror__(b)"
      ],
      "metadata": {
        "colab": {
          "base_uri": "https://localhost:8080/"
        },
        "id": "dsR1rUKIdSkj",
        "outputId": "24fccabb-55fc-49cd-9210-45e8d3f53eb7"
      },
      "execution_count": null,
      "outputs": [
        {
          "output_type": "execute_result",
          "data": {
            "text/plain": [
              "{1, 2, 3, 4, 5, 6}"
            ]
          },
          "metadata": {},
          "execution_count": 25
        }
      ]
    },
    {
      "cell_type": "code",
      "source": [
        "a.union(b)"
      ],
      "metadata": {
        "colab": {
          "base_uri": "https://localhost:8080/"
        },
        "id": "bECzcKaddXlk",
        "outputId": "6dc9bd4a-74ea-4d94-c66a-ad2628a1f086"
      },
      "execution_count": null,
      "outputs": [
        {
          "output_type": "execute_result",
          "data": {
            "text/plain": [
              "{1, 2, 3, 4, 5, 6}"
            ]
          },
          "metadata": {},
          "execution_count": 26
        }
      ]
    },
    {
      "cell_type": "code",
      "source": [
        "# a atualizado com união de a e b\n",
        "a |= b"
      ],
      "metadata": {
        "id": "XFAODApGdZN-"
      },
      "execution_count": null,
      "outputs": []
    },
    {
      "cell_type": "code",
      "source": [
        "a"
      ],
      "metadata": {
        "colab": {
          "base_uri": "https://localhost:8080/"
        },
        "id": "6c0OH6XSdmQ-",
        "outputId": "a1fa8c82-8b48-442a-bf7f-4f60213abe2d"
      },
      "execution_count": null,
      "outputs": [
        {
          "output_type": "execute_result",
          "data": {
            "text/plain": [
              "{1, 2, 3, 4, 5, 6}"
            ]
          },
          "metadata": {},
          "execution_count": 28
        }
      ]
    },
    {
      "cell_type": "code",
      "source": [
        "a = {1, 2, 3, 4}"
      ],
      "metadata": {
        "id": "i-H4M7tldpHJ"
      },
      "execution_count": null,
      "outputs": []
    },
    {
      "cell_type": "code",
      "source": [
        "a.__ior__(b)"
      ],
      "metadata": {
        "colab": {
          "base_uri": "https://localhost:8080/"
        },
        "id": "bXc9xFKPdpkm",
        "outputId": "132737df-4fff-488f-e55a-a0e96e6c4f01"
      },
      "execution_count": null,
      "outputs": [
        {
          "output_type": "execute_result",
          "data": {
            "text/plain": [
              "{1, 2, 3, 4, 5, 6}"
            ]
          },
          "metadata": {},
          "execution_count": 30
        }
      ]
    },
    {
      "cell_type": "code",
      "source": [
        "a.update(b)"
      ],
      "metadata": {
        "id": "Vu6xJuutds14"
      },
      "execution_count": null,
      "outputs": []
    },
    {
      "cell_type": "code",
      "source": [
        "a"
      ],
      "metadata": {
        "colab": {
          "base_uri": "https://localhost:8080/"
        },
        "id": "4ZFLU-rodu_s",
        "outputId": "e9dd29a8-4c44-4cdf-c08a-a3957e568422"
      },
      "execution_count": null,
      "outputs": [
        {
          "output_type": "execute_result",
          "data": {
            "text/plain": [
              "{1, 2, 3, 4, 5, 6}"
            ]
          },
          "metadata": {},
          "execution_count": 33
        }
      ]
    },
    {
      "cell_type": "markdown",
      "source": [
        "Complemento relativo ou diferença de a e b"
      ],
      "metadata": {
        "id": "e_QMKpaldzXT"
      }
    },
    {
      "cell_type": "code",
      "source": [
        "a - b"
      ],
      "metadata": {
        "colab": {
          "base_uri": "https://localhost:8080/"
        },
        "id": "P17B4uLydyVa",
        "outputId": "c8567e6e-cce3-457e-c89a-e12da02b2f5a"
      },
      "execution_count": null,
      "outputs": [
        {
          "output_type": "execute_result",
          "data": {
            "text/plain": [
              "{1, 3}"
            ]
          },
          "metadata": {},
          "execution_count": 34
        }
      ]
    },
    {
      "cell_type": "code",
      "source": [
        "a.__sub__(b)"
      ],
      "metadata": {
        "colab": {
          "base_uri": "https://localhost:8080/"
        },
        "id": "y5avYNridvU8",
        "outputId": "6ac011db-7d37-4643-8724-36b522ab402a"
      },
      "execution_count": null,
      "outputs": [
        {
          "output_type": "execute_result",
          "data": {
            "text/plain": [
              "{1, 3}"
            ]
          },
          "metadata": {},
          "execution_count": 35
        }
      ]
    },
    {
      "cell_type": "code",
      "source": [
        "b - a"
      ],
      "metadata": {
        "colab": {
          "base_uri": "https://localhost:8080/"
        },
        "id": "9v8JYJGTd9qh",
        "outputId": "44f7e007-92e8-4fe0-eb24-5ca8d0abb9ab"
      },
      "execution_count": null,
      "outputs": [
        {
          "output_type": "execute_result",
          "data": {
            "text/plain": [
              "set()"
            ]
          },
          "metadata": {},
          "execution_count": 36
        }
      ]
    },
    {
      "cell_type": "code",
      "source": [
        "a.__rsub__(b)"
      ],
      "metadata": {
        "colab": {
          "base_uri": "https://localhost:8080/"
        },
        "id": "UhRuDASud-V8",
        "outputId": "e70723d2-f1bf-41bb-d51f-ef8c193093ae"
      },
      "execution_count": null,
      "outputs": [
        {
          "output_type": "execute_result",
          "data": {
            "text/plain": [
              "set()"
            ]
          },
          "metadata": {},
          "execution_count": 37
        }
      ]
    },
    {
      "cell_type": "code",
      "source": [
        "print(a, b)"
      ],
      "metadata": {
        "colab": {
          "base_uri": "https://localhost:8080/"
        },
        "id": "Tq1EuG4ReAeQ",
        "outputId": "7fe4a85c-a273-4d82-d06a-1d8af8fd016d"
      },
      "execution_count": null,
      "outputs": [
        {
          "output_type": "stream",
          "name": "stdout",
          "text": [
            "{1, 2, 3, 4, 5, 6} {2, 4, 5, 6}\n"
          ]
        }
      ]
    },
    {
      "cell_type": "code",
      "source": [
        "a.difference(b)"
      ],
      "metadata": {
        "colab": {
          "base_uri": "https://localhost:8080/"
        },
        "id": "cMRTMf0AeFQC",
        "outputId": "8a452706-f31a-4fc9-9c9a-6e827a8fe5ac"
      },
      "execution_count": null,
      "outputs": [
        {
          "output_type": "execute_result",
          "data": {
            "text/plain": [
              "{1, 3}"
            ]
          },
          "metadata": {},
          "execution_count": 39
        }
      ]
    },
    {
      "cell_type": "code",
      "source": [
        "# a atualizado com a diferença entre a e b\n",
        "a -= b"
      ],
      "metadata": {
        "id": "Bjapi4d9eINb"
      },
      "execution_count": null,
      "outputs": []
    },
    {
      "cell_type": "code",
      "source": [
        "a"
      ],
      "metadata": {
        "colab": {
          "base_uri": "https://localhost:8080/"
        },
        "id": "RfjkOqRUeOPy",
        "outputId": "7704b4b1-51c6-4090-ab24-87fb4c32c825"
      },
      "execution_count": null,
      "outputs": [
        {
          "output_type": "execute_result",
          "data": {
            "text/plain": [
              "{1, 3}"
            ]
          },
          "metadata": {},
          "execution_count": 41
        }
      ]
    },
    {
      "cell_type": "code",
      "source": [
        "a = {1, 2, 3, 4, 5, 6}\n",
        "b = {2, 4, 5, 6}"
      ],
      "metadata": {
        "id": "i5e69UIyeO1b"
      },
      "execution_count": 50,
      "outputs": []
    },
    {
      "cell_type": "code",
      "source": [
        "a.__isub__(b)"
      ],
      "metadata": {
        "id": "2piUlqT3eRVi",
        "colab": {
          "base_uri": "https://localhost:8080/"
        },
        "outputId": "de779d60-6866-4090-8dff-2e9bbcc572dd"
      },
      "execution_count": 44,
      "outputs": [
        {
          "output_type": "execute_result",
          "data": {
            "text/plain": [
              "{1, 3}"
            ]
          },
          "metadata": {},
          "execution_count": 44
        }
      ]
    },
    {
      "cell_type": "code",
      "source": [
        "a.__rsub__(b)"
      ],
      "metadata": {
        "id": "eDr1YygzebmI",
        "colab": {
          "base_uri": "https://localhost:8080/"
        },
        "outputId": "d1b82fb0-571e-4cc4-9be7-b85ff2b86867"
      },
      "execution_count": 46,
      "outputs": [
        {
          "output_type": "execute_result",
          "data": {
            "text/plain": [
              "set()"
            ]
          },
          "metadata": {},
          "execution_count": 46
        }
      ]
    },
    {
      "cell_type": "code",
      "source": [
        "a.difference_update(b)"
      ],
      "metadata": {
        "id": "ISiCgTcCgL_i"
      },
      "execution_count": 49,
      "outputs": []
    },
    {
      "cell_type": "code",
      "source": [
        "a.symmetric_difference(b)"
      ],
      "metadata": {
        "colab": {
          "base_uri": "https://localhost:8080/"
        },
        "id": "fcj8b6mUgSCz",
        "outputId": "f9df8f37-fb89-44a2-b1fe-8f92907f999e"
      },
      "execution_count": 51,
      "outputs": [
        {
          "output_type": "execute_result",
          "data": {
            "text/plain": [
              "{1, 3}"
            ]
          },
          "metadata": {},
          "execution_count": 51
        }
      ]
    },
    {
      "cell_type": "markdown",
      "source": [
        "Diferença simétrica: A △ B"
      ],
      "metadata": {
        "id": "GkwTIj-6gbaZ"
      }
    },
    {
      "cell_type": "code",
      "source": [
        "print(a, b)"
      ],
      "metadata": {
        "colab": {
          "base_uri": "https://localhost:8080/"
        },
        "id": "QEpK06SqgbGH",
        "outputId": "e4e2e307-3137-4164-cac6-240988e97f35"
      },
      "execution_count": 52,
      "outputs": [
        {
          "output_type": "stream",
          "name": "stdout",
          "text": [
            "{1, 2, 3, 4, 5, 6} {2, 4, 5, 6}\n"
          ]
        }
      ]
    },
    {
      "cell_type": "code",
      "source": [
        "a ^ b"
      ],
      "metadata": {
        "colab": {
          "base_uri": "https://localhost:8080/"
        },
        "id": "CkWEFxnPghHk",
        "outputId": "437c0f49-73bf-4637-bb74-b68f344a9bd8"
      },
      "execution_count": 55,
      "outputs": [
        {
          "output_type": "execute_result",
          "data": {
            "text/plain": [
              "{1, 3}"
            ]
          },
          "metadata": {},
          "execution_count": 55
        }
      ]
    },
    {
      "cell_type": "code",
      "source": [
        "a.__xor__(b)"
      ],
      "metadata": {
        "colab": {
          "base_uri": "https://localhost:8080/"
        },
        "id": "g67pu00xgYNF",
        "outputId": "286802b0-7e27-4cd7-8473-202c27b23d3b"
      },
      "execution_count": 56,
      "outputs": [
        {
          "output_type": "execute_result",
          "data": {
            "text/plain": [
              "{1, 3}"
            ]
          },
          "metadata": {},
          "execution_count": 56
        }
      ]
    },
    {
      "cell_type": "code",
      "source": [
        "a.symmetric_difference_update(b)"
      ],
      "metadata": {
        "id": "h8vwX8OAgoQT"
      },
      "execution_count": 57,
      "outputs": []
    },
    {
      "cell_type": "code",
      "source": [
        "a"
      ],
      "metadata": {
        "colab": {
          "base_uri": "https://localhost:8080/"
        },
        "id": "QJsQ0gSugq7L",
        "outputId": "e6294fd9-12e9-4a06-ba13-28b5de137d68"
      },
      "execution_count": 58,
      "outputs": [
        {
          "output_type": "execute_result",
          "data": {
            "text/plain": [
              "{1, 3}"
            ]
          },
          "metadata": {},
          "execution_count": 58
        }
      ]
    },
    {
      "cell_type": "markdown",
      "source": [
        "Conjuntos dijuntos: não têm nenhum elemento em comum"
      ],
      "metadata": {
        "id": "Nzv1VcsWg1jP"
      }
    },
    {
      "cell_type": "code",
      "source": [
        "a.isdisjoint(b)"
      ],
      "metadata": {
        "colab": {
          "base_uri": "https://localhost:8080/"
        },
        "id": "ycVaKWoDg1UH",
        "outputId": "c4ebbb40-8a1d-427b-d00e-ce05a673c935"
      },
      "execution_count": 59,
      "outputs": [
        {
          "output_type": "execute_result",
          "data": {
            "text/plain": [
              "True"
            ]
          },
          "metadata": {},
          "execution_count": 59
        }
      ]
    },
    {
      "cell_type": "code",
      "source": [
        "a.__contains__(b)"
      ],
      "metadata": {
        "colab": {
          "base_uri": "https://localhost:8080/"
        },
        "id": "Oliys9Dig8Wa",
        "outputId": "1cb48d73-2a8c-4b91-cc79-f311bc7f2a55"
      },
      "execution_count": 60,
      "outputs": [
        {
          "output_type": "execute_result",
          "data": {
            "text/plain": [
              "False"
            ]
          },
          "metadata": {},
          "execution_count": 60
        }
      ]
    },
    {
      "cell_type": "markdown",
      "source": [
        "Subconjunto do conjunto principal"
      ],
      "metadata": {
        "id": "9zHbrNqGhJGg"
      }
    },
    {
      "cell_type": "code",
      "source": [
        "{1, 2}.__le__({1, 2, 3, 4})"
      ],
      "metadata": {
        "colab": {
          "base_uri": "https://localhost:8080/"
        },
        "id": "2JA35t5BhI1V",
        "outputId": "f5631728-b92a-4ddf-e763-9365a89b18d7"
      },
      "execution_count": 62,
      "outputs": [
        {
          "output_type": "execute_result",
          "data": {
            "text/plain": [
              "True"
            ]
          },
          "metadata": {},
          "execution_count": 62
        }
      ]
    },
    {
      "cell_type": "code",
      "source": [
        "{1, 2}.issubset({1, 2, 3, 4})"
      ],
      "metadata": {
        "colab": {
          "base_uri": "https://localhost:8080/"
        },
        "id": "EnEDbOYZhEWP",
        "outputId": "3fd5d5ec-1c22-4888-ebb4-c0e7ebd9e10d"
      },
      "execution_count": 64,
      "outputs": [
        {
          "output_type": "execute_result",
          "data": {
            "text/plain": [
              "True"
            ]
          },
          "metadata": {},
          "execution_count": 64
        }
      ]
    },
    {
      "cell_type": "markdown",
      "source": [
        "Superconjunto do conjunto principal"
      ],
      "metadata": {
        "id": "bZirB2HHhaRL"
      }
    },
    {
      "cell_type": "code",
      "source": [
        "{1, 2, 3, 4, 5}.__ge__({1, 2, 3, 4})"
      ],
      "metadata": {
        "colab": {
          "base_uri": "https://localhost:8080/"
        },
        "id": "FwWW6SgRhW62",
        "outputId": "ae34778e-c9f2-47cc-ba8a-19f0b4417ea7"
      },
      "execution_count": 67,
      "outputs": [
        {
          "output_type": "execute_result",
          "data": {
            "text/plain": [
              "True"
            ]
          },
          "metadata": {},
          "execution_count": 67
        }
      ]
    },
    {
      "cell_type": "code",
      "source": [
        "{1, 2, 3, 4, 5}.issuperset({1, 2, 3, 4})"
      ],
      "metadata": {
        "colab": {
          "base_uri": "https://localhost:8080/"
        },
        "id": "z44we5MwhRN_",
        "outputId": "5e7c4df5-4600-40da-81eb-5d183db81a76"
      },
      "execution_count": 68,
      "outputs": [
        {
          "output_type": "execute_result",
          "data": {
            "text/plain": [
              "True"
            ]
          },
          "metadata": {},
          "execution_count": 68
        }
      ]
    },
    {
      "cell_type": "code",
      "source": [
        "a"
      ],
      "metadata": {
        "colab": {
          "base_uri": "https://localhost:8080/"
        },
        "id": "y6GZ0J_chmKL",
        "outputId": "9009f29b-67c3-4af7-d2cd-4ae7e9e4d613"
      },
      "execution_count": 69,
      "outputs": [
        {
          "output_type": "execute_result",
          "data": {
            "text/plain": [
              "{1, 3}"
            ]
          },
          "metadata": {},
          "execution_count": 69
        }
      ]
    },
    {
      "cell_type": "code",
      "source": [
        "a.add(2)"
      ],
      "metadata": {
        "id": "l26-nN6lgrzw"
      },
      "execution_count": 70,
      "outputs": []
    },
    {
      "cell_type": "code",
      "source": [
        "a"
      ],
      "metadata": {
        "colab": {
          "base_uri": "https://localhost:8080/"
        },
        "id": "ha1R4vYQhn1Y",
        "outputId": "bddf3a75-073a-4a89-d0f2-c90df00f81b7"
      },
      "execution_count": 71,
      "outputs": [
        {
          "output_type": "execute_result",
          "data": {
            "text/plain": [
              "{1, 2, 3}"
            ]
          },
          "metadata": {},
          "execution_count": 71
        }
      ]
    },
    {
      "cell_type": "code",
      "source": [
        "a.discard(2)"
      ],
      "metadata": {
        "id": "46ewXJElho5I"
      },
      "execution_count": 72,
      "outputs": []
    },
    {
      "cell_type": "code",
      "source": [
        "2 in a"
      ],
      "metadata": {
        "colab": {
          "base_uri": "https://localhost:8080/"
        },
        "id": "GfA7WblxhrMX",
        "outputId": "79b24e79-4bc3-4805-8688-0fe063583e96"
      },
      "execution_count": 74,
      "outputs": [
        {
          "output_type": "execute_result",
          "data": {
            "text/plain": [
              "False"
            ]
          },
          "metadata": {},
          "execution_count": 74
        }
      ]
    },
    {
      "cell_type": "code",
      "source": [
        "hash(1) == hash(1.0)"
      ],
      "metadata": {
        "colab": {
          "base_uri": "https://localhost:8080/"
        },
        "id": "nOUMwYs2izo0",
        "outputId": "c84e0303-9b18-4d78-975d-e92174cbf185"
      },
      "execution_count": 75,
      "outputs": [
        {
          "output_type": "execute_result",
          "data": {
            "text/plain": [
              "True"
            ]
          },
          "metadata": {},
          "execution_count": 75
        }
      ]
    },
    {
      "cell_type": "code",
      "source": [
        "m = {1: 'a', 1.0: 'b'}\n",
        "m[1]"
      ],
      "metadata": {
        "colab": {
          "base_uri": "https://localhost:8080/",
          "height": 35
        },
        "id": "IIW4s6rPi1ve",
        "outputId": "ea2ab37e-04a1-4cb5-f2e2-666795514a65"
      },
      "execution_count": 78,
      "outputs": [
        {
          "output_type": "execute_result",
          "data": {
            "application/vnd.google.colaboratory.intrinsic+json": {
              "type": "string"
            },
            "text/plain": [
              "'b'"
            ]
          },
          "metadata": {},
          "execution_count": 78
        }
      ]
    },
    {
      "cell_type": "code",
      "source": [
        "# Sobrescrita de valor\n",
        "m"
      ],
      "metadata": {
        "colab": {
          "base_uri": "https://localhost:8080/"
        },
        "id": "P5OdQVL3ja7n",
        "outputId": "b326a9da-92e0-474c-9337-c1d241e8461a"
      },
      "execution_count": 79,
      "outputs": [
        {
          "output_type": "execute_result",
          "data": {
            "text/plain": [
              "{1: 'b'}"
            ]
          },
          "metadata": {},
          "execution_count": 79
        }
      ]
    },
    {
      "cell_type": "markdown",
      "source": [
        "Os métodos .keys(), .items() e .values() devolvem views de dicionários, que se comportam mais como conjuntos. São dinâmicas e refletem imediatamente qualquer mudança feita em dict."
      ],
      "metadata": {
        "id": "2FvLigUJkqOw"
      }
    },
    {
      "cell_type": "code",
      "source": [
        "n = m.keys()\n",
        "n"
      ],
      "metadata": {
        "colab": {
          "base_uri": "https://localhost:8080/"
        },
        "id": "Wn1E7CRIjtXm",
        "outputId": "accfeafe-5ca1-448b-ac2c-336de14be5d6"
      },
      "execution_count": 82,
      "outputs": [
        {
          "output_type": "execute_result",
          "data": {
            "text/plain": [
              "dict_keys([1])"
            ]
          },
          "metadata": {},
          "execution_count": 82
        }
      ]
    },
    {
      "cell_type": "code",
      "source": [
        "m[2] = 'c'"
      ],
      "metadata": {
        "id": "vPGduTKPk3UT"
      },
      "execution_count": 83,
      "outputs": []
    },
    {
      "cell_type": "code",
      "source": [
        "n"
      ],
      "metadata": {
        "colab": {
          "base_uri": "https://localhost:8080/"
        },
        "id": "n7e70MVVk_Mm",
        "outputId": "8b03641e-e894-4a24-e724-1eaaf573bc9e"
      },
      "execution_count": 84,
      "outputs": [
        {
          "output_type": "execute_result",
          "data": {
            "text/plain": [
              "dict_keys([1, 2])"
            ]
          },
          "metadata": {},
          "execution_count": 84
        }
      ]
    },
    {
      "cell_type": "markdown",
      "source": [
        "- Os elementos dos conjuntos devem ser objetos hashable.\n",
        "- Os conjuntos têm um overhead significativo de memória.\n",
        "- O teste de presença é muito eficiente.\n",
        "- A ordem dos elementos depende da ordem de inserção.\n",
        "- Adicionar elementos a um conjunto pode alterar a ordem de outros elementos."
      ],
      "metadata": {
        "id": "UN0A3qIFlKws"
      }
    }
  ]
}