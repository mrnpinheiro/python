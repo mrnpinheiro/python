{
  "nbformat": 4,
  "nbformat_minor": 0,
  "metadata": {
    "colab": {
      "name": "fluent_python_chapter14_geradores.ipynb",
      "provenance": [],
      "authorship_tag": "ABX9TyPdRuJmGeqbWWzfl1VwQuJt"
    },
    "kernelspec": {
      "name": "python3",
      "display_name": "Python 3"
    },
    "language_info": {
      "name": "python"
    }
  },
  "cells": [
    {
      "cell_type": "markdown",
      "source": [
        "# Capítulo 14"
      ],
      "metadata": {
        "id": "JmnynNTS6HyU"
      }
    },
    {
      "cell_type": "markdown",
      "source": [
        "## Iterator\n",
        "Ao percorrer conjuntos de dados que não cabem na memória, precisamos ter como acessar os dados de uma maneira mais lazy, um item por vez (por demanda).\n",
        "\n",
        "- yield permite a construção de geradores que funcionam como iteradores."
      ],
      "metadata": {
        "id": "sO1O3Qx5Eb5e"
      }
    },
    {
      "cell_type": "markdown",
      "source": [
        "Apesar da comunidade Python usar iterador e gerador como sinônimos:\n",
        "- iterador, recupera itens de uma coleção;\n",
        "- já o gerador, produz itens \"do nada\" (como um gerador da sequência de Fibonacci, por exemplo)"
      ],
      "metadata": {
        "id": "Jbjywo-HFF2W"
      }
    },
    {
      "cell_type": "code",
      "source": [
        "# range é uma função embutida geradora,\n",
        "# devolvendo um objeto gerador ao invés de uma lista completa.\n",
        "range(5)"
      ],
      "metadata": {
        "colab": {
          "base_uri": "https://localhost:8080/"
        },
        "id": "egCXgsfZ6Kyc",
        "outputId": "464bd0b9-315f-46dc-f2ab-eb55404875e2"
      },
      "execution_count": null,
      "outputs": [
        {
          "output_type": "execute_result",
          "data": {
            "text/plain": [
              "range(0, 5)"
            ]
          },
          "metadata": {},
          "execution_count": 16
        }
      ]
    },
    {
      "cell_type": "code",
      "source": [
        "# para criar uma lista, é necessário ser explicíto\n",
        "list(range(5))"
      ],
      "metadata": {
        "colab": {
          "base_uri": "https://localhost:8080/"
        },
        "id": "Pqe_HgPhGRT1",
        "outputId": "2848d27c-b2fa-4ace-f22f-ed32ab04845f"
      },
      "execution_count": null,
      "outputs": [
        {
          "output_type": "execute_result",
          "data": {
            "text/plain": [
              "[0, 1, 2, 3, 4]"
            ]
          },
          "metadata": {},
          "execution_count": 13
        }
      ]
    },
    {
      "cell_type": "markdown",
      "source": [
        "### Setence: uma sequência de palavras, no qual a partir de uma string com um texto ao construtor, pode iterar palavra por palavra"
      ],
      "metadata": {
        "id": "XtDch-EuGrdZ"
      }
    },
    {
      "cell_type": "code",
      "source": [
        "import re\n",
        "import reprlib\n",
        "\n",
        "RE_WORD = re.compile(r'\\w+')\n",
        "\n",
        "\n",
        "class Sentence:\n",
        "\n",
        "    def __init__(self, text):\n",
        "        self.text = text\n",
        "        self.words = RE_WORD.findall(text)\n",
        "\n",
        "    def __getitem__(self, index):\n",
        "        return self.words[index]\n",
        "\n",
        "    def __len__(self):\n",
        "        return len(self.words)\n",
        "\n",
        "    def __repr__(self):\n",
        "        return 'Sentence(%s)' % reprlib.repr(self.text)"
      ],
      "metadata": {
        "id": "aTD0e9gYGbtQ"
      },
      "execution_count": null,
      "outputs": []
    },
    {
      "cell_type": "code",
      "source": [
        "sentence = Sentence('A vida é uma caixinha de surpresas.')\n",
        "sentence"
      ],
      "metadata": {
        "colab": {
          "base_uri": "https://localhost:8080/"
        },
        "id": "tqZH6pGBHq5A",
        "outputId": "fbae8cb3-d346-46ce-b3e0-94f66ea3c736"
      },
      "execution_count": null,
      "outputs": [
        {
          "output_type": "execute_result",
          "data": {
            "text/plain": [
              "Sentence('A vida é uma...de surpresas.')"
            ]
          },
          "metadata": {},
          "execution_count": 19
        }
      ]
    },
    {
      "cell_type": "code",
      "source": [
        "for word in sentence:\n",
        "    print(word)"
      ],
      "metadata": {
        "colab": {
          "base_uri": "https://localhost:8080/"
        },
        "id": "77Hv1GqRH4Xs",
        "outputId": "dfe7d1dc-6e96-4bf2-af8e-c809a20f3ab2"
      },
      "execution_count": null,
      "outputs": [
        {
          "output_type": "stream",
          "name": "stdout",
          "text": [
            "A\n",
            "vida\n",
            "é\n",
            "uma\n",
            "caixinha\n",
            "de\n",
            "surpresas\n"
          ]
        }
      ]
    },
    {
      "cell_type": "code",
      "source": [
        "list(sentence)"
      ],
      "metadata": {
        "colab": {
          "base_uri": "https://localhost:8080/"
        },
        "id": "AMlhEYAHH7vF",
        "outputId": "95c9d425-ea6c-4fc1-deda-d094aa0cc3e5"
      },
      "execution_count": null,
      "outputs": [
        {
          "output_type": "execute_result",
          "data": {
            "text/plain": [
              "['A', 'vida', 'é', 'uma', 'caixinha', 'de', 'surpresas']"
            ]
          },
          "metadata": {},
          "execution_count": 21
        }
      ]
    },
    {
      "cell_type": "code",
      "source": [
        "sentence[1]"
      ],
      "metadata": {
        "colab": {
          "base_uri": "https://localhost:8080/",
          "height": 35
        },
        "id": "Gm1pvDyFH_d-",
        "outputId": "63dbc9ae-d98d-4129-c01b-cc2bb91c1755"
      },
      "execution_count": null,
      "outputs": [
        {
          "output_type": "execute_result",
          "data": {
            "text/plain": [
              "'vida'"
            ],
            "application/vnd.google.colaboratory.intrinsic+json": {
              "type": "string"
            }
          },
          "metadata": {},
          "execution_count": 26
        }
      ]
    },
    {
      "cell_type": "code",
      "source": [
        "sentence[-1]"
      ],
      "metadata": {
        "colab": {
          "base_uri": "https://localhost:8080/",
          "height": 35
        },
        "id": "_TybKLqzIRmD",
        "outputId": "612c1ed5-40f8-4f42-88ad-4820198785ed"
      },
      "execution_count": null,
      "outputs": [
        {
          "output_type": "execute_result",
          "data": {
            "text/plain": [
              "'surpresas'"
            ],
            "application/vnd.google.colaboratory.intrinsic+json": {
              "type": "string"
            }
          },
          "metadata": {},
          "execution_count": 27
        }
      ]
    },
    {
      "cell_type": "markdown",
      "source": [
        "### Pq as sequências são iteráveis? (iter)\n",
        "Toda sequência em Python tem a implementação do __getitem__ (e mesmo que não tiver o __iter__, criará um iterador para acessar os itens da sequência, começando em 0).\n",
        "\n",
        "- duck typing: um objeto é considerado iterável não só quando implemena o método especial __iter__."
      ],
      "metadata": {
        "id": "ubGXt_xBIXrf"
      }
    },
    {
      "cell_type": "code",
      "source": [
        "iter(1)"
      ],
      "metadata": {
        "colab": {
          "base_uri": "https://localhost:8080/",
          "height": 165
        },
        "id": "_b9Mm0_ILpQT",
        "outputId": "1f475e3d-2817-4085-b455-5a4be3564681"
      },
      "execution_count": null,
      "outputs": [
        {
          "output_type": "error",
          "ename": "TypeError",
          "evalue": "ignored",
          "traceback": [
            "\u001b[0;31m---------------------------------------------------------------------------\u001b[0m",
            "\u001b[0;31mTypeError\u001b[0m                                 Traceback (most recent call last)",
            "\u001b[0;32m<ipython-input-28-90bfa304bd69>\u001b[0m in \u001b[0;36m<module>\u001b[0;34m()\u001b[0m\n\u001b[0;32m----> 1\u001b[0;31m \u001b[0miter\u001b[0m\u001b[0;34m(\u001b[0m\u001b[0;36m1\u001b[0m\u001b[0;34m)\u001b[0m\u001b[0;34m\u001b[0m\u001b[0;34m\u001b[0m\u001b[0m\n\u001b[0m",
            "\u001b[0;31mTypeError\u001b[0m: 'int' object is not iterable"
          ]
        }
      ]
    },
    {
      "cell_type": "code",
      "source": [
        "iter([1, 2])"
      ],
      "metadata": {
        "colab": {
          "base_uri": "https://localhost:8080/"
        },
        "id": "_uFX1hR2Lqn9",
        "outputId": "ee847304-69d8-4a17-c0b6-ba192120cfbc"
      },
      "execution_count": null,
      "outputs": [
        {
          "output_type": "execute_result",
          "data": {
            "text/plain": [
              "<list_iterator at 0x7f0abd8574d0>"
            ]
          },
          "metadata": {},
          "execution_count": 29
        }
      ]
    },
    {
      "cell_type": "code",
      "source": [
        "try:\n",
        "    iter(1)\n",
        "except:\n",
        "    print('não é iterável')"
      ],
      "metadata": {
        "colab": {
          "base_uri": "https://localhost:8080/"
        },
        "id": "g0JwycXhLrjM",
        "outputId": "0ea9cdc2-c07d-4285-b0ec-c518883d5639"
      },
      "execution_count": null,
      "outputs": [
        {
          "output_type": "stream",
          "name": "stdout",
          "text": [
            "não é iterável\n"
          ]
        }
      ]
    },
    {
      "cell_type": "markdown",
      "source": [
        "### Iteráveis x Iteradores"
      ],
      "metadata": {
        "id": "XjOF_iRBMEF6"
      }
    },
    {
      "cell_type": "markdown",
      "source": [
        "**Python obtém iteradores a partir de iteráveis.**\n",
        "\n",
        "\"**Iterável:** Qualquer objeto a partir do qual a função embutida iter pode obter um iterador. Objetos que implementem um método __iter__ que devolva um iterador são iteráveis. Sequências sempre são iteráveis, assim como objetos que implementem um método __getitem__ que aceite índices a partir de 0.\""
      ],
      "metadata": {
        "id": "onL-rlXIMgSI"
      }
    },
    {
      "cell_type": "code",
      "source": [
        "# Laço simples através de uma string (há um iterador em operação, mesmo que não visível!)\n",
        "\n",
        "string = 'Mariana'\n",
        "for s in string:\n",
        "    print(s)"
      ],
      "metadata": {
        "colab": {
          "base_uri": "https://localhost:8080/"
        },
        "id": "4CJcy-dvMA6P",
        "outputId": "8d166704-7827-489b-fd40-33cb7eb0de79"
      },
      "execution_count": null,
      "outputs": [
        {
          "output_type": "stream",
          "name": "stdout",
          "text": [
            "M\n",
            "a\n",
            "r\n",
            "i\n",
            "a\n",
            "n\n",
            "a\n"
          ]
        }
      ]
    },
    {
      "cell_type": "code",
      "source": [
        "# Cria um iterador it a partir do iterável\n",
        "it = iter(string)"
      ],
      "metadata": {
        "id": "GviWo-dINZfR"
      },
      "execution_count": null,
      "outputs": []
    },
    {
      "cell_type": "code",
      "source": [
        "while True:\n",
        "    print(next(it))"
      ],
      "metadata": {
        "colab": {
          "base_uri": "https://localhost:8080/",
          "height": 304
        },
        "id": "xkAfr3r0NpDT",
        "outputId": "84c67263-f6a1-4825-b170-515357e9d438"
      },
      "execution_count": null,
      "outputs": [
        {
          "output_type": "stream",
          "name": "stdout",
          "text": [
            "M\n",
            "a\n",
            "r\n",
            "i\n",
            "a\n",
            "n\n",
            "a\n"
          ]
        },
        {
          "output_type": "error",
          "ename": "StopIteration",
          "evalue": "ignored",
          "traceback": [
            "\u001b[0;31m---------------------------------------------------------------------------\u001b[0m",
            "\u001b[0;31mStopIteration\u001b[0m                             Traceback (most recent call last)",
            "\u001b[0;32m<ipython-input-39-736265e1ffb3>\u001b[0m in \u001b[0;36m<module>\u001b[0;34m()\u001b[0m\n\u001b[1;32m      1\u001b[0m \u001b[0;32mwhile\u001b[0m \u001b[0;32mTrue\u001b[0m\u001b[0;34m:\u001b[0m\u001b[0;34m\u001b[0m\u001b[0;34m\u001b[0m\u001b[0m\n\u001b[0;32m----> 2\u001b[0;31m     \u001b[0mprint\u001b[0m\u001b[0;34m(\u001b[0m\u001b[0mnext\u001b[0m\u001b[0;34m(\u001b[0m\u001b[0mit\u001b[0m\u001b[0;34m)\u001b[0m\u001b[0;34m)\u001b[0m\u001b[0;34m\u001b[0m\u001b[0;34m\u001b[0m\u001b[0m\n\u001b[0m",
            "\u001b[0;31mStopIteration\u001b[0m: "
          ]
        }
      ]
    },
    {
      "cell_type": "code",
      "source": [
        "while True:\n",
        "    try:\n",
        "        print(next(it))\n",
        "    except StopIteration:\n",
        "        del it\n",
        "        break"
      ],
      "metadata": {
        "colab": {
          "base_uri": "https://localhost:8080/"
        },
        "id": "mescKVIANgHk",
        "outputId": "42715715-d347-4bfa-d40d-a435f8ea9bb4"
      },
      "execution_count": null,
      "outputs": [
        {
          "output_type": "stream",
          "name": "stdout",
          "text": [
            "M\n",
            "a\n",
            "r\n",
            "i\n",
            "a\n",
            "n\n",
            "a\n"
          ]
        }
      ]
    },
    {
      "cell_type": "markdown",
      "source": [
        "StopIteration informa que o iterador esgotou.\n",
        "Ela é tratada internamente nos laços em geral (for, list comprehensions etc)."
      ],
      "metadata": {
        "id": "cNUWiWqKN_6a"
      }
    },
    {
      "cell_type": "markdown",
      "source": [
        "Métodos da interface-padrão de um iterador:\n",
        "1. __next__: devolve o próximo item disponível (levantando a excessão quando não tiver mais itens) \n",
        "2. __iter__: devolve self, permitindo que os iteradores sejam usados nos lugares em que se espera um iterável"
      ],
      "metadata": {
        "id": "6_taIR9fORh6"
      }
    },
    {
      "cell_type": "code",
      "source": [
        "setence2 = Sentence('Fácil falar, difícil fazer.') # cria uma sentença\n",
        "it = iter(setence2) # obtém um iterador a partir da sentença\n",
        "it"
      ],
      "metadata": {
        "colab": {
          "base_uri": "https://localhost:8080/"
        },
        "id": "nPZjiifpNoj6",
        "outputId": "c8a83477-1c31-4d65-9683-262068d4ff66"
      },
      "execution_count": null,
      "outputs": [
        {
          "output_type": "execute_result",
          "data": {
            "text/plain": [
              "<iterator at 0x7f0ab4ec4290>"
            ]
          },
          "metadata": {},
          "execution_count": 41
        }
      ]
    },
    {
      "cell_type": "code",
      "source": [
        "next(it)"
      ],
      "metadata": {
        "colab": {
          "base_uri": "https://localhost:8080/",
          "height": 35
        },
        "id": "HYHCemeXSbrT",
        "outputId": "50801a5e-c448-415e-8d55-6188e9336967"
      },
      "execution_count": null,
      "outputs": [
        {
          "output_type": "execute_result",
          "data": {
            "text/plain": [
              "'Fácil'"
            ],
            "application/vnd.google.colaboratory.intrinsic+json": {
              "type": "string"
            }
          },
          "metadata": {},
          "execution_count": 42
        }
      ]
    },
    {
      "cell_type": "code",
      "source": [
        "next(it)"
      ],
      "metadata": {
        "colab": {
          "base_uri": "https://localhost:8080/",
          "height": 165
        },
        "id": "CtWRpUGySeWH",
        "outputId": "986bcaff-c953-44fd-fe41-2d1253d589d2"
      },
      "execution_count": null,
      "outputs": [
        {
          "output_type": "error",
          "ename": "StopIteration",
          "evalue": "ignored",
          "traceback": [
            "\u001b[0;31m---------------------------------------------------------------------------\u001b[0m",
            "\u001b[0;31mStopIteration\u001b[0m                             Traceback (most recent call last)",
            "\u001b[0;32m<ipython-input-46-bc1ab118995a>\u001b[0m in \u001b[0;36m<module>\u001b[0;34m()\u001b[0m\n\u001b[0;32m----> 1\u001b[0;31m \u001b[0mnext\u001b[0m\u001b[0;34m(\u001b[0m\u001b[0mit\u001b[0m\u001b[0;34m)\u001b[0m\u001b[0;34m\u001b[0m\u001b[0;34m\u001b[0m\u001b[0m\n\u001b[0m",
            "\u001b[0;31mStopIteration\u001b[0m: "
          ]
        }
      ]
    },
    {
      "cell_type": "code",
      "source": [
        "list(iter(setence2)) # para percorrer, é necessário criar um novo iterador"
      ],
      "metadata": {
        "colab": {
          "base_uri": "https://localhost:8080/"
        },
        "id": "M4-fX_oCShah",
        "outputId": "11194496-b1be-4b7b-d3cf-d4be844c376d"
      },
      "execution_count": null,
      "outputs": [
        {
          "output_type": "execute_result",
          "data": {
            "text/plain": [
              "['Fácil', 'falar', 'difícil', 'fazer']"
            ]
          },
          "metadata": {},
          "execution_count": 47
        }
      ]
    },
    {
      "cell_type": "markdown",
      "source": [
        "Não é possível reiniciar um iterador! É necessário chamar iter() no próprio iterável a partir do qual o iterador foi criado anteriormente."
      ],
      "metadata": {
        "id": "Bh8PjU5ETJaP"
      }
    },
    {
      "cell_type": "markdown",
      "source": [
        "**Iterador:** Qualquer objeto que implemente o método __next__, sem argumentos, que devolva o próximo item de uma série ou levante StopIteration quando não houver mais itens. Os iteradores em Python também implementam o método __iter__ portanto também são iteráveis."
      ],
      "metadata": {
        "id": "8W_965cxTaeU"
      }
    },
    {
      "cell_type": "markdown",
      "source": [
        "# Exercises"
      ],
      "metadata": {
        "id": "ANJg1e785Qli"
      }
    },
    {
      "cell_type": "markdown",
      "source": [
        "## Questão 1\n",
        "\n",
        "Construa um gerador capaz de fazer trocas dois a dois entre cada elemento.\n",
        "\n",
        "Por exemplo, para x = [0, 1, 2, 3, 4] as respostas desejadas são:\n",
        "\n",
        "- Trocar 0 com 1: [1, 0, 2, 3, 4];\n",
        "- Trocar 0 com 2: [2, 1, 0, 3, 4];\n",
        "- e assim por diante.\n",
        "\n",
        "Desafio: Você consegue descobrir uma função com o número total de trocas para uma lista com tamanho n? Quem conseguir ganha um aumento promovido pelo nosso CTO, Matheus."
      ],
      "metadata": {
        "id": "oOdnrdOG4xZM"
      }
    },
    {
      "cell_type": "code",
      "execution_count": null,
      "metadata": {
        "colab": {
          "base_uri": "https://localhost:8080/",
          "height": 321
        },
        "id": "b0wCH3cD3wIk",
        "outputId": "c0b3908e-168c-470f-d708-013fed5cda8a"
      },
      "outputs": [
        {
          "output_type": "error",
          "ename": "TypeError",
          "evalue": "ignored",
          "traceback": [
            "\u001b[0;31m---------------------------------------------------------------------------\u001b[0m",
            "\u001b[0;31mTypeError\u001b[0m                                 Traceback (most recent call last)",
            "\u001b[0;32m<ipython-input-2-9f0dccb41d7a>\u001b[0m in \u001b[0;36m<module>\u001b[0;34m()\u001b[0m\n\u001b[1;32m      6\u001b[0m \u001b[0;34m\u001b[0m\u001b[0m\n\u001b[1;32m      7\u001b[0m \u001b[0mx\u001b[0m \u001b[0;34m=\u001b[0m \u001b[0;34m[\u001b[0m\u001b[0;36m0\u001b[0m\u001b[0;34m,\u001b[0m \u001b[0;36m1\u001b[0m\u001b[0;34m,\u001b[0m \u001b[0;36m2\u001b[0m\u001b[0;34m,\u001b[0m \u001b[0;36m3\u001b[0m\u001b[0;34m,\u001b[0m \u001b[0;36m4\u001b[0m\u001b[0;34m]\u001b[0m\u001b[0;34m\u001b[0m\u001b[0;34m\u001b[0m\u001b[0m\n\u001b[0;32m----> 8\u001b[0;31m \u001b[0mgerador_bonito\u001b[0m\u001b[0;34m(\u001b[0m\u001b[0mx\u001b[0m\u001b[0;34m)\u001b[0m\u001b[0;34m\u001b[0m\u001b[0;34m\u001b[0m\u001b[0m\n\u001b[0m",
            "\u001b[0;32m<ipython-input-2-9f0dccb41d7a>\u001b[0m in \u001b[0;36mgerador_bonito\u001b[0;34m(lista_linda)\u001b[0m\n\u001b[1;32m      1\u001b[0m \u001b[0;32mdef\u001b[0m \u001b[0mgerador_bonito\u001b[0m\u001b[0;34m(\u001b[0m\u001b[0mlista_linda\u001b[0m\u001b[0;34m)\u001b[0m\u001b[0;34m:\u001b[0m\u001b[0;34m\u001b[0m\u001b[0;34m\u001b[0m\u001b[0m\n\u001b[1;32m      2\u001b[0m     \u001b[0minicio\u001b[0m \u001b[0;34m=\u001b[0m \u001b[0mlista_linda\u001b[0m\u001b[0;34m[\u001b[0m\u001b[0;36m0\u001b[0m\u001b[0;34m]\u001b[0m\u001b[0;34m\u001b[0m\u001b[0;34m\u001b[0m\u001b[0m\n\u001b[0;32m----> 3\u001b[0;31m     \u001b[0mlista_linda\u001b[0m\u001b[0;34m[\u001b[0m\u001b[0;36m0\u001b[0m\u001b[0;34m]\u001b[0m \u001b[0;34m=\u001b[0m \u001b[0mnext\u001b[0m\u001b[0;34m(\u001b[0m\u001b[0mlista_linda\u001b[0m\u001b[0;34m)\u001b[0m\u001b[0;34m\u001b[0m\u001b[0;34m\u001b[0m\u001b[0m\n\u001b[0m\u001b[1;32m      4\u001b[0m     \u001b[0mlista_linda\u001b[0m\u001b[0;34m[\u001b[0m\u001b[0;36m1\u001b[0m\u001b[0;34m]\u001b[0m \u001b[0;34m=\u001b[0m \u001b[0minicio\u001b[0m\u001b[0;34m\u001b[0m\u001b[0;34m\u001b[0m\u001b[0m\n\u001b[1;32m      5\u001b[0m     \u001b[0;32mreturn\u001b[0m \u001b[0mlista_linda\u001b[0m\u001b[0;34m\u001b[0m\u001b[0;34m\u001b[0m\u001b[0m\n",
            "\u001b[0;31mTypeError\u001b[0m: 'list' object is not an iterator"
          ]
        }
      ],
      "source": [
        "def gerador_bonito(lista_linda):\n",
        "    inicio = lista_linda[0]\n",
        "    lista_linda[0] = next(lista_linda)\n",
        "    lista_linda[1] = inicio\n",
        "    return lista_linda\n",
        "\n",
        "x = [0, 1, 2, 3, 4]\n",
        "gerador_bonito(x)"
      ]
    },
    {
      "cell_type": "markdown",
      "source": [
        "## Questão 2\n",
        "\n",
        "Estenda a função anterior para impedir trocas entre elementos iguais. Por exemplo, se x = [0, 0, 1, 1, 2], a troca entre os dois primeiros elementos não faz sentido já que ambos são 0. O mesmo entre o terceiro e o quarto."
      ],
      "metadata": {
        "id": "vXCquqEy5EuV"
      }
    },
    {
      "cell_type": "code",
      "source": [
        ""
      ],
      "metadata": {
        "id": "K5pZMF6o5KjA"
      },
      "execution_count": null,
      "outputs": []
    },
    {
      "cell_type": "markdown",
      "source": [
        "## Questão 3\n",
        "\n",
        "Observe o código horrível abaixo. Ele mostra na tela as combinações de números (x, y, z) quando x é divisível por 2, y por 3 e z por 5."
      ],
      "metadata": {
        "id": "QiAfz4AE5K6K"
      }
    },
    {
      "cell_type": "code",
      "source": [
        ""
      ],
      "metadata": {
        "id": "FwT-aEEG5baI"
      },
      "execution_count": null,
      "outputs": []
    }
  ]
}