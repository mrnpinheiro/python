{
  "cells": [
    {
      "cell_type": "markdown",
      "metadata": {
        "id": "view-in-github",
        "colab_type": "text"
      },
      "source": [
        "<a href=\"https://colab.research.google.com/github/mrnpinheiro/python/blob/master/fluent_python_chapter_1_data_model.ipynb\" target=\"_parent\"><img src=\"https://colab.research.google.com/assets/colab-badge.svg\" alt=\"Open In Colab\"/></a>"
      ]
    },
    {
      "cell_type": "markdown",
      "metadata": {
        "id": "CYDUUUhJsQc6"
      },
      "source": [
        "# Modelo de dados do Python\n",
        "\n",
        "Capítulo 1 - Python Fluente - Luciano Ramalho\n",
        "\n",
        "Data Model: https://docs.python.org/3/reference/datamodel.html\n"
      ]
    },
    {
      "cell_type": "markdown",
      "source": [
        "Podemos pensar no **modelo de dados** como uma descrição de Python na forma de um framework. Ele formaliza as interfaces dos blocos de construção da própria linguagem, por exemplo, as sequências, os iteradores, as funções, as classes, os gerenciadores de contexto e assim por diante.\n",
        "\n",
        "O interpretador Python chama métodos especiais para realizar operações básicas em objetos, geralmente acionados por uma sintaxe especial.\n",
        "\n",
        "A sintaxe obj[key] é tratada pelo método especial __getitem__ (chamado também como método mágico ou método dunder). Para avaliar my_collection[key], o interpretador chama my_collection.__getitem__(key)."
      ],
      "metadata": {
        "id": "RQPV3AJGEJr9"
      }
    },
    {
      "cell_type": "markdown",
      "source": [
        "## Um baralho pythônico & Métodos Especiais"
      ],
      "metadata": {
        "id": "v_do0kld-58V"
      }
    },
    {
      "cell_type": "code",
      "execution_count": 5,
      "metadata": {
        "id": "9mEje4h5rp4U"
      },
      "outputs": [],
      "source": [
        "import collections\n",
        "\n",
        "Card = collections.namedtuple('Card', ['rank', 'suit'])\n",
        "\n",
        "class FrenchDeck:\n",
        "    ranks = [str(n) for n in range(2, 11)] + list('JQKA')\n",
        "    suits = 'spades diamonds clubs hearts'.split()\n",
        "\n",
        "    def __init__(self):\n",
        "        self._cards = [\n",
        "            Card(rank, suit)\n",
        "            for suit in self.suits\n",
        "            for rank in self.ranks\n",
        "        ]\n",
        "\n",
        "    def __len__(self):\n",
        "        return len(self._cards)\n",
        "\n",
        "    def __getitem__(self, position):\n",
        "        return self._cards[position]\n"
      ]
    },
    {
      "cell_type": "markdown",
      "metadata": {
        "id": "FmUQjNBrsH2Z"
      },
      "source": [
        "**namedtuple**: Criar classes de objetos que sejam apenas grupos de atributos, sem métodos próprios."
      ]
    },
    {
      "cell_type": "code",
      "execution_count": 6,
      "metadata": {
        "colab": {
          "base_uri": "https://localhost:8080/"
        },
        "id": "lS5Wzd12r0Wb",
        "outputId": "e437072d-2432-411b-86b1-851b5f1e10c5"
      },
      "outputs": [
        {
          "output_type": "execute_result",
          "data": {
            "text/plain": [
              "['J', 'Q', 'K', 'A']"
            ]
          },
          "metadata": {},
          "execution_count": 6
        }
      ],
      "source": [
        "list('JQKA')"
      ]
    },
    {
      "cell_type": "code",
      "execution_count": 7,
      "metadata": {
        "colab": {
          "base_uri": "https://localhost:8080/"
        },
        "id": "yXuwpFZrr7mZ",
        "outputId": "6e3a15d4-b0d8-4c5b-9c06-b5e3a306fb2c"
      },
      "outputs": [
        {
          "output_type": "execute_result",
          "data": {
            "text/plain": [
              "['spades', 'diamonds', 'clubs', 'hearts']"
            ]
          },
          "metadata": {},
          "execution_count": 7
        }
      ],
      "source": [
        "'spades diamonds clubs hearts'.split()"
      ]
    },
    {
      "cell_type": "code",
      "execution_count": 8,
      "metadata": {
        "colab": {
          "base_uri": "https://localhost:8080/"
        },
        "id": "tA2h2XD3sORG",
        "outputId": "71222598-92f6-4331-c00a-231dcadade53"
      },
      "outputs": [
        {
          "output_type": "execute_result",
          "data": {
            "text/plain": [
              "Card(rank='10', suit='clubs')"
            ]
          },
          "metadata": {},
          "execution_count": 8
        }
      ],
      "source": [
        "beer_card = Card('10', 'clubs')\n",
        "beer_card"
      ]
    },
    {
      "cell_type": "code",
      "execution_count": 9,
      "metadata": {
        "colab": {
          "base_uri": "https://localhost:8080/"
        },
        "id": "Ncymq38dsn7t",
        "outputId": "2b2a8f37-41d3-4a64-c6aa-6243ff5c869c"
      },
      "outputs": [
        {
          "output_type": "execute_result",
          "data": {
            "text/plain": [
              "52"
            ]
          },
          "metadata": {},
          "execution_count": 9
        }
      ],
      "source": [
        "deck = FrenchDeck()\n",
        "len(deck)"
      ]
    },
    {
      "cell_type": "code",
      "execution_count": 10,
      "metadata": {
        "colab": {
          "base_uri": "https://localhost:8080/"
        },
        "id": "hqlICqcrs7u9",
        "outputId": "2350475e-6557-4c9b-f0e2-b0549d25439a"
      },
      "outputs": [
        {
          "output_type": "execute_result",
          "data": {
            "text/plain": [
              "Card(rank='2', suit='spades')"
            ]
          },
          "metadata": {},
          "execution_count": 10
        }
      ],
      "source": [
        "deck[0]"
      ]
    },
    {
      "cell_type": "code",
      "execution_count": 11,
      "metadata": {
        "colab": {
          "base_uri": "https://localhost:8080/"
        },
        "id": "181laoWMs_Ib",
        "outputId": "00bbd7e7-108a-4754-f99a-ffe0b8d815bb"
      },
      "outputs": [
        {
          "output_type": "execute_result",
          "data": {
            "text/plain": [
              "Card(rank='A', suit='hearts')"
            ]
          },
          "metadata": {},
          "execution_count": 11
        }
      ],
      "source": [
        "deck[-1]"
      ]
    },
    {
      "cell_type": "markdown",
      "metadata": {
        "id": "xzs1OTVBtNE4"
      },
      "source": [
        "**random.choice**: função para obter um item aleatório de uma sequência"
      ]
    },
    {
      "cell_type": "code",
      "execution_count": 12,
      "metadata": {
        "colab": {
          "base_uri": "https://localhost:8080/"
        },
        "id": "fdVCzo4atAx9",
        "outputId": "c763270e-99ba-4543-fbad-92f3104b2e9c"
      },
      "outputs": [
        {
          "output_type": "execute_result",
          "data": {
            "text/plain": [
              "Card(rank='Q', suit='spades')"
            ]
          },
          "metadata": {},
          "execution_count": 12
        }
      ],
      "source": [
        "from random import choice\n",
        "choice(deck)"
      ]
    },
    {
      "cell_type": "code",
      "execution_count": 13,
      "metadata": {
        "colab": {
          "base_uri": "https://localhost:8080/"
        },
        "id": "kEnqVXAutWlU",
        "outputId": "e3255016-e4ad-448b-b37c-1f9b15741933"
      },
      "outputs": [
        {
          "output_type": "execute_result",
          "data": {
            "text/plain": [
              "Card(rank='5', suit='spades')"
            ]
          },
          "metadata": {},
          "execution_count": 13
        }
      ],
      "source": [
        "choice(deck)"
      ]
    },
    {
      "cell_type": "code",
      "execution_count": 14,
      "metadata": {
        "colab": {
          "base_uri": "https://localhost:8080/"
        },
        "id": "cXtKChp9tYdf",
        "outputId": "daad328e-358a-4341-c5bd-b987d7fcd5e6"
      },
      "outputs": [
        {
          "output_type": "execute_result",
          "data": {
            "text/plain": [
              "Card(rank='3', suit='clubs')"
            ]
          },
          "metadata": {},
          "execution_count": 14
        }
      ],
      "source": [
        "choice(deck)"
      ]
    },
    {
      "cell_type": "code",
      "execution_count": 15,
      "metadata": {
        "colab": {
          "base_uri": "https://localhost:8080/"
        },
        "id": "p4FExz_ktaK5",
        "outputId": "a3e3aa7d-2fa7-4cea-aa6f-000db2e86604"
      },
      "outputs": [
        {
          "output_type": "execute_result",
          "data": {
            "text/plain": [
              "Card(rank='3', suit='hearts')"
            ]
          },
          "metadata": {},
          "execution_count": 15
        }
      ],
      "source": [
        "choice(deck)"
      ]
    },
    {
      "cell_type": "code",
      "execution_count": 16,
      "metadata": {
        "colab": {
          "base_uri": "https://localhost:8080/",
          "height": 35
        },
        "id": "HJM2DUIjtfGE",
        "outputId": "20a53030-3f8c-4eaa-9deb-a17f7885036e"
      },
      "outputs": [
        {
          "output_type": "execute_result",
          "data": {
            "text/plain": [
              "'Mari'"
            ],
            "application/vnd.google.colaboratory.intrinsic+json": {
              "type": "string"
            }
          },
          "metadata": {},
          "execution_count": 16
        }
      ],
      "source": [
        "choice([1, 'Mari', 654, 'Pinheiro'])"
      ]
    },
    {
      "cell_type": "code",
      "execution_count": 17,
      "metadata": {
        "colab": {
          "base_uri": "https://localhost:8080/"
        },
        "id": "P7UI1CUUtpAl",
        "outputId": "29e620f1-0569-40d4-b2eb-b408464932a6"
      },
      "outputs": [
        {
          "output_type": "execute_result",
          "data": {
            "text/plain": [
              "[Card(rank='5', suit='spades'),\n",
              " Card(rank='6', suit='spades'),\n",
              " Card(rank='7', suit='spades'),\n",
              " Card(rank='8', suit='spades')]"
            ]
          },
          "metadata": {},
          "execution_count": 17
        }
      ],
      "source": [
        "deck[3:7]"
      ]
    },
    {
      "cell_type": "code",
      "execution_count": 18,
      "metadata": {
        "colab": {
          "base_uri": "https://localhost:8080/"
        },
        "id": "F1FxFB_Ct4e_",
        "outputId": "75dbcfe9-b36d-4ef8-baea-cdb28ca10d98"
      },
      "outputs": [
        {
          "output_type": "execute_result",
          "data": {
            "text/plain": [
              "[Card(rank='4', suit='spades'),\n",
              " Card(rank='9', suit='spades'),\n",
              " Card(rank='A', suit='spades'),\n",
              " Card(rank='6', suit='diamonds'),\n",
              " Card(rank='J', suit='diamonds'),\n",
              " Card(rank='3', suit='clubs'),\n",
              " Card(rank='8', suit='clubs'),\n",
              " Card(rank='K', suit='clubs'),\n",
              " Card(rank='5', suit='hearts'),\n",
              " Card(rank='10', suit='hearts')]"
            ]
          },
          "metadata": {},
          "execution_count": 18
        }
      ],
      "source": [
        "deck[2::5]"
      ]
    },
    {
      "cell_type": "code",
      "execution_count": 19,
      "metadata": {
        "colab": {
          "base_uri": "https://localhost:8080/"
        },
        "id": "gW6k4sP_t9QY",
        "outputId": "08653f92-7f9a-4692-b983-77da6da96565"
      },
      "outputs": [
        {
          "output_type": "stream",
          "name": "stdout",
          "text": [
            "Card(rank='2', suit='spades')\n",
            "Card(rank='3', suit='spades')\n",
            "Card(rank='4', suit='spades')\n",
            "Card(rank='5', suit='spades')\n",
            "Card(rank='6', suit='spades')\n",
            "Card(rank='7', suit='spades')\n",
            "Card(rank='8', suit='spades')\n",
            "Card(rank='9', suit='spades')\n",
            "Card(rank='10', suit='spades')\n",
            "Card(rank='J', suit='spades')\n",
            "Card(rank='Q', suit='spades')\n",
            "Card(rank='K', suit='spades')\n",
            "Card(rank='A', suit='spades')\n",
            "Card(rank='2', suit='diamonds')\n",
            "Card(rank='3', suit='diamonds')\n",
            "Card(rank='4', suit='diamonds')\n",
            "Card(rank='5', suit='diamonds')\n",
            "Card(rank='6', suit='diamonds')\n",
            "Card(rank='7', suit='diamonds')\n",
            "Card(rank='8', suit='diamonds')\n",
            "Card(rank='9', suit='diamonds')\n",
            "Card(rank='10', suit='diamonds')\n",
            "Card(rank='J', suit='diamonds')\n",
            "Card(rank='Q', suit='diamonds')\n",
            "Card(rank='K', suit='diamonds')\n",
            "Card(rank='A', suit='diamonds')\n",
            "Card(rank='2', suit='clubs')\n",
            "Card(rank='3', suit='clubs')\n",
            "Card(rank='4', suit='clubs')\n",
            "Card(rank='5', suit='clubs')\n",
            "Card(rank='6', suit='clubs')\n",
            "Card(rank='7', suit='clubs')\n",
            "Card(rank='8', suit='clubs')\n",
            "Card(rank='9', suit='clubs')\n",
            "Card(rank='10', suit='clubs')\n",
            "Card(rank='J', suit='clubs')\n",
            "Card(rank='Q', suit='clubs')\n",
            "Card(rank='K', suit='clubs')\n",
            "Card(rank='A', suit='clubs')\n",
            "Card(rank='2', suit='hearts')\n",
            "Card(rank='3', suit='hearts')\n",
            "Card(rank='4', suit='hearts')\n",
            "Card(rank='5', suit='hearts')\n",
            "Card(rank='6', suit='hearts')\n",
            "Card(rank='7', suit='hearts')\n",
            "Card(rank='8', suit='hearts')\n",
            "Card(rank='9', suit='hearts')\n",
            "Card(rank='10', suit='hearts')\n",
            "Card(rank='J', suit='hearts')\n",
            "Card(rank='Q', suit='hearts')\n",
            "Card(rank='K', suit='hearts')\n",
            "Card(rank='A', suit='hearts')\n"
          ]
        }
      ],
      "source": [
        "for card in deck:\n",
        "    print(card)"
      ]
    },
    {
      "cell_type": "code",
      "execution_count": 20,
      "metadata": {
        "colab": {
          "base_uri": "https://localhost:8080/"
        },
        "id": "gzX88K04uMoU",
        "outputId": "07634618-065d-47ba-d030-9b77605c458c"
      },
      "outputs": [
        {
          "output_type": "stream",
          "name": "stdout",
          "text": [
            "Card(rank='A', suit='hearts')\n",
            "Card(rank='K', suit='hearts')\n",
            "Card(rank='Q', suit='hearts')\n",
            "Card(rank='J', suit='hearts')\n",
            "Card(rank='10', suit='hearts')\n",
            "Card(rank='9', suit='hearts')\n",
            "Card(rank='8', suit='hearts')\n",
            "Card(rank='7', suit='hearts')\n",
            "Card(rank='6', suit='hearts')\n",
            "Card(rank='5', suit='hearts')\n",
            "Card(rank='4', suit='hearts')\n",
            "Card(rank='3', suit='hearts')\n",
            "Card(rank='2', suit='hearts')\n",
            "Card(rank='A', suit='clubs')\n",
            "Card(rank='K', suit='clubs')\n",
            "Card(rank='Q', suit='clubs')\n",
            "Card(rank='J', suit='clubs')\n",
            "Card(rank='10', suit='clubs')\n",
            "Card(rank='9', suit='clubs')\n",
            "Card(rank='8', suit='clubs')\n",
            "Card(rank='7', suit='clubs')\n",
            "Card(rank='6', suit='clubs')\n",
            "Card(rank='5', suit='clubs')\n",
            "Card(rank='4', suit='clubs')\n",
            "Card(rank='3', suit='clubs')\n",
            "Card(rank='2', suit='clubs')\n",
            "Card(rank='A', suit='diamonds')\n",
            "Card(rank='K', suit='diamonds')\n",
            "Card(rank='Q', suit='diamonds')\n",
            "Card(rank='J', suit='diamonds')\n",
            "Card(rank='10', suit='diamonds')\n",
            "Card(rank='9', suit='diamonds')\n",
            "Card(rank='8', suit='diamonds')\n",
            "Card(rank='7', suit='diamonds')\n",
            "Card(rank='6', suit='diamonds')\n",
            "Card(rank='5', suit='diamonds')\n",
            "Card(rank='4', suit='diamonds')\n",
            "Card(rank='3', suit='diamonds')\n",
            "Card(rank='2', suit='diamonds')\n",
            "Card(rank='A', suit='spades')\n",
            "Card(rank='K', suit='spades')\n",
            "Card(rank='Q', suit='spades')\n",
            "Card(rank='J', suit='spades')\n",
            "Card(rank='10', suit='spades')\n",
            "Card(rank='9', suit='spades')\n",
            "Card(rank='8', suit='spades')\n",
            "Card(rank='7', suit='spades')\n",
            "Card(rank='6', suit='spades')\n",
            "Card(rank='5', suit='spades')\n",
            "Card(rank='4', suit='spades')\n",
            "Card(rank='3', suit='spades')\n",
            "Card(rank='2', suit='spades')\n"
          ]
        }
      ],
      "source": [
        "for card in reversed(deck):\n",
        "    print(card)"
      ]
    },
    {
      "cell_type": "code",
      "execution_count": 21,
      "metadata": {
        "colab": {
          "base_uri": "https://localhost:8080/"
        },
        "id": "189kLHBduY3B",
        "outputId": "665d9f09-cb1f-4eb6-aeb9-2a91c2dd0b80"
      },
      "outputs": [
        {
          "output_type": "execute_result",
          "data": {
            "text/plain": [
              "True"
            ]
          },
          "metadata": {},
          "execution_count": 21
        }
      ],
      "source": [
        "Card('Q', 'hearts') in deck"
      ]
    },
    {
      "cell_type": "code",
      "execution_count": 22,
      "metadata": {
        "colab": {
          "base_uri": "https://localhost:8080/"
        },
        "id": "VRB447SZuoIm",
        "outputId": "cc78805b-5102-4901-97d9-dd8fc5ddf357"
      },
      "outputs": [
        {
          "output_type": "execute_result",
          "data": {
            "text/plain": [
              "False"
            ]
          },
          "metadata": {},
          "execution_count": 22
        }
      ],
      "source": [
        "Card('M', 'hearts') in deck"
      ]
    },
    {
      "cell_type": "code",
      "execution_count": 23,
      "metadata": {
        "colab": {
          "base_uri": "https://localhost:8080/"
        },
        "id": "5N3m9Yclup4v",
        "outputId": "7e8918b6-decf-4c31-dbd1-9d8b9f177402"
      },
      "outputs": [
        {
          "output_type": "execute_result",
          "data": {
            "text/plain": [
              "{'clubs': 0, 'diamonds': 1, 'hearts': 2, 'spades': 3}"
            ]
          },
          "metadata": {},
          "execution_count": 23
        }
      ],
      "source": [
        "suit_values = dict(spades=3, hearts=2, diamonds=1, clubs=0)\n",
        "suit_values"
      ]
    },
    {
      "cell_type": "code",
      "execution_count": 24,
      "metadata": {
        "id": "Z_P9YCx2vAFd"
      },
      "outputs": [],
      "source": [
        "def spades_high(card):\n",
        "    rank_value = FrenchDeck.ranks.index(card.rank)\n",
        "    return rank_value * len(suit_values) + suit_values[card.suit]"
      ]
    },
    {
      "cell_type": "code",
      "execution_count": 25,
      "metadata": {
        "id": "GfsRaYJCvrmZ"
      },
      "outputs": [],
      "source": [
        "card = Card('2', 'hearts')"
      ]
    },
    {
      "cell_type": "code",
      "execution_count": 26,
      "metadata": {
        "colab": {
          "base_uri": "https://localhost:8080/"
        },
        "id": "bv6c8qf-vpqU",
        "outputId": "c9ca0325-37ea-48c8-cb6a-485c70f9ee6e"
      },
      "outputs": [
        {
          "output_type": "execute_result",
          "data": {
            "text/plain": [
              "0"
            ]
          },
          "metadata": {},
          "execution_count": 26
        }
      ],
      "source": [
        "FrenchDeck.ranks.index(card.rank)"
      ]
    },
    {
      "cell_type": "code",
      "execution_count": 27,
      "metadata": {
        "colab": {
          "base_uri": "https://localhost:8080/"
        },
        "id": "MQ9SUOHVwa7R",
        "outputId": "07cb8b69-7334-4f38-a67a-35f5dc6a1e41"
      },
      "outputs": [
        {
          "output_type": "execute_result",
          "data": {
            "text/plain": [
              "[Card(rank='2', suit='clubs'),\n",
              " Card(rank='2', suit='diamonds'),\n",
              " Card(rank='2', suit='hearts'),\n",
              " Card(rank='2', suit='spades'),\n",
              " Card(rank='3', suit='clubs'),\n",
              " Card(rank='3', suit='diamonds'),\n",
              " Card(rank='3', suit='hearts'),\n",
              " Card(rank='3', suit='spades'),\n",
              " Card(rank='4', suit='clubs'),\n",
              " Card(rank='4', suit='diamonds'),\n",
              " Card(rank='4', suit='hearts'),\n",
              " Card(rank='4', suit='spades'),\n",
              " Card(rank='5', suit='clubs'),\n",
              " Card(rank='5', suit='diamonds'),\n",
              " Card(rank='5', suit='hearts'),\n",
              " Card(rank='5', suit='spades'),\n",
              " Card(rank='6', suit='clubs'),\n",
              " Card(rank='6', suit='diamonds'),\n",
              " Card(rank='6', suit='hearts'),\n",
              " Card(rank='6', suit='spades'),\n",
              " Card(rank='7', suit='clubs'),\n",
              " Card(rank='7', suit='diamonds'),\n",
              " Card(rank='7', suit='hearts'),\n",
              " Card(rank='7', suit='spades'),\n",
              " Card(rank='8', suit='clubs'),\n",
              " Card(rank='8', suit='diamonds'),\n",
              " Card(rank='8', suit='hearts'),\n",
              " Card(rank='8', suit='spades'),\n",
              " Card(rank='9', suit='clubs'),\n",
              " Card(rank='9', suit='diamonds'),\n",
              " Card(rank='9', suit='hearts'),\n",
              " Card(rank='9', suit='spades'),\n",
              " Card(rank='10', suit='clubs'),\n",
              " Card(rank='10', suit='diamonds'),\n",
              " Card(rank='10', suit='hearts'),\n",
              " Card(rank='10', suit='spades'),\n",
              " Card(rank='J', suit='clubs'),\n",
              " Card(rank='J', suit='diamonds'),\n",
              " Card(rank='J', suit='hearts'),\n",
              " Card(rank='J', suit='spades'),\n",
              " Card(rank='Q', suit='clubs'),\n",
              " Card(rank='Q', suit='diamonds'),\n",
              " Card(rank='Q', suit='hearts'),\n",
              " Card(rank='Q', suit='spades'),\n",
              " Card(rank='K', suit='clubs'),\n",
              " Card(rank='K', suit='diamonds'),\n",
              " Card(rank='K', suit='hearts'),\n",
              " Card(rank='K', suit='spades'),\n",
              " Card(rank='A', suit='clubs'),\n",
              " Card(rank='A', suit='diamonds'),\n",
              " Card(rank='A', suit='hearts'),\n",
              " Card(rank='A', suit='spades')]"
            ]
          },
          "metadata": {},
          "execution_count": 27
        }
      ],
      "source": [
        "sorted(deck, key=spades_high)"
      ]
    },
    {
      "cell_type": "markdown",
      "source": [
        "**Métodos Especiais**\n",
        "\n",
        "- Eles foram criados para serem chamados pelo interpretador Python, e não por você. Não escrevemos my_object.__len__(). Escrevemos len(my_object) e, se my_object for uma instância de uma classe definida por você, Python chamará o método de instância __len__ que você implementou.\n",
        "\n",
        "- Seu código não deverá ter muitas chamadas diretas aos métodos espe­ciais. A menos que você esteja usando bastante **metaprogramação**, será mais comum você implementar métodos especiais do que invocá-los diretamente.\n",
        "\n",
        "- O único método especial chamado frequentemente de forma direta pelo usuário é __init__, para invocar o inicializador da superclasse quando você implementa seu próprio __inlt__.\n",
        "\n",
        "O único método especial que é frequentemente chamado de forma direta é o __init__ (iniciador da classe). Os outros, é melhor chamar a função embutida relacionada, já que, com frequência, são mais rápidas já que oferecem serviços.\n"
      ],
      "metadata": {
        "id": "9kQZpXaVHK1e"
      }
    },
    {
      "cell_type": "markdown",
      "source": [
        "## Tipos numéricos com vetores"
      ],
      "metadata": {
        "id": "MnctS82nIIWg"
      }
    },
    {
      "cell_type": "code",
      "execution_count": 28,
      "metadata": {
        "id": "03urpppWwkbu"
      },
      "outputs": [],
      "source": [
        "import math\n",
        "\n",
        "class Vector:\n",
        "\n",
        "    def __init__(self, x=0, y=0):\n",
        "        self.x = x\n",
        "        self.y = y\n",
        "\n",
        "    def __repr__(self):\n",
        "        return f'Vector({self.x!r}, {self.y!r})'\n",
        "\n",
        "    def __abs__(self):\n",
        "        return math.hypot(self.x, self.y)\n",
        "\n",
        "    def __bool__(self):\n",
        "        return bool(abs(self))\n",
        "\n",
        "    def __add__(self, other):\n",
        "        x = self.x + other.x\n",
        "        y = self.y + other.y\n",
        "        return Vector(x, y)\n",
        "\n",
        "    def __mul__(self, scalar):\n",
        "        return Vector(self.x * scalar, self.y * scalar)\n",
        "\n",
        "    def __repr__(self):\n",
        "        return f'Vector({self.x}, {self.y})'\n",
        "    \n",
        "    def __bool__(self):\n",
        "        return self.x or self.y"
      ]
    },
    {
      "cell_type": "code",
      "execution_count": 29,
      "metadata": {
        "colab": {
          "base_uri": "https://localhost:8080/"
        },
        "id": "AMqzYfQl33t9",
        "outputId": "959a1fce-2445-4ddc-a5df-9a15f20b3b1f"
      },
      "outputs": [
        {
          "output_type": "execute_result",
          "data": {
            "text/plain": [
              "5.0"
            ]
          },
          "metadata": {},
          "execution_count": 29
        }
      ],
      "source": [
        "math.hypot(3, 4)"
      ]
    },
    {
      "cell_type": "code",
      "execution_count": 30,
      "metadata": {
        "colab": {
          "base_uri": "https://localhost:8080/"
        },
        "id": "RNPuc2in4L8w",
        "outputId": "1041bbb3-7cd9-4b14-b09a-d6d6c4b3eeba"
      },
      "outputs": [
        {
          "output_type": "execute_result",
          "data": {
            "text/plain": [
              "Vector(6, 9)"
            ]
          },
          "metadata": {},
          "execution_count": 30
        }
      ],
      "source": [
        "v1 = Vector(2, 4)\n",
        "v2 = Vector(4, 5)\n",
        "\n",
        "v1 + v2"
      ]
    },
    {
      "cell_type": "code",
      "execution_count": 31,
      "metadata": {
        "colab": {
          "base_uri": "https://localhost:8080/"
        },
        "id": "FMtych954dQA",
        "outputId": "0a0daad5-42db-45f6-d557-dd971c7445fe"
      },
      "outputs": [
        {
          "output_type": "execute_result",
          "data": {
            "text/plain": [
              "4.47213595499958"
            ]
          },
          "metadata": {},
          "execution_count": 31
        }
      ],
      "source": [
        "abs(v1)"
      ]
    },
    {
      "cell_type": "code",
      "execution_count": 32,
      "metadata": {
        "colab": {
          "base_uri": "https://localhost:8080/"
        },
        "id": "LI4QagEz4jAG",
        "outputId": "64714470-67ba-4836-b42a-f0ecd02055d3"
      },
      "outputs": [
        {
          "output_type": "execute_result",
          "data": {
            "text/plain": [
              "Vector(8, 10)"
            ]
          },
          "metadata": {},
          "execution_count": 32
        }
      ],
      "source": [
        "v2 * 2"
      ]
    },
    {
      "cell_type": "code",
      "execution_count": 33,
      "metadata": {
        "colab": {
          "base_uri": "https://localhost:8080/"
        },
        "id": "ZSxAbKY40Tf_",
        "outputId": "ab336eee-3375-4a4a-fc41-1a86e3a40256"
      },
      "outputs": [
        {
          "output_type": "stream",
          "name": "stdout",
          "text": [
            "Vector(2, 4)\n"
          ]
        }
      ],
      "source": [
        "print(v1)"
      ]
    },
    {
      "cell_type": "code",
      "execution_count": 34,
      "metadata": {
        "colab": {
          "base_uri": "https://localhost:8080/"
        },
        "id": "gpJ5tHbG0i8H",
        "outputId": "a03627bd-6b36-4397-fe00-2f44dbc8adf4"
      },
      "outputs": [
        {
          "output_type": "stream",
          "name": "stdout",
          "text": [
            "Vector(2, 4)\n"
          ]
        }
      ],
      "source": [
        "print(v1)"
      ]
    },
    {
      "cell_type": "code",
      "execution_count": 35,
      "metadata": {
        "colab": {
          "base_uri": "https://localhost:8080/"
        },
        "id": "9xzJOsDy6Ubp",
        "outputId": "580fca58-9b62-4e11-c2b9-1d756884c649"
      },
      "outputs": [
        {
          "output_type": "execute_result",
          "data": {
            "text/plain": [
              "139865351612752"
            ]
          },
          "metadata": {},
          "execution_count": 35
        }
      ],
      "source": [
        "# A identidade de um objeto nunca muda depois de criado.\n",
        "# id(x) é o endereço de memória em que x é armazenado.\n",
        "id(v1)"
      ]
    },
    {
      "cell_type": "markdown",
      "metadata": {
        "id": "f1R5iB3h2BvS"
      },
      "source": [
        "## Representação em string\n",
        "Diferença entre os métodos especiais __str__ and __repr__."
      ]
    },
    {
      "cell_type": "code",
      "execution_count": 36,
      "metadata": {
        "colab": {
          "base_uri": "https://localhost:8080/"
        },
        "id": "PqaPCt1k0osX",
        "outputId": "224957a6-a628-440b-b1fc-f762344c0888"
      },
      "outputs": [
        {
          "output_type": "stream",
          "name": "stdout",
          "text": [
            "<__main__.Hi object at 0x7f34f0932510>\n",
            "<__main__.Hi object at 0x7f34f0932550>\n"
          ]
        }
      ],
      "source": [
        "class Hi(object):\n",
        "    pass\n",
        "\n",
        "print(str(Hi()))\n",
        "print(repr(Hi()))"
      ]
    },
    {
      "cell_type": "code",
      "execution_count": 37,
      "metadata": {
        "colab": {
          "base_uri": "https://localhost:8080/"
        },
        "id": "L4tv-Czl1cY_",
        "outputId": "e983e88c-7c92-4242-9280-b6bcc5c9e98f"
      },
      "outputs": [
        {
          "output_type": "stream",
          "name": "stdout",
          "text": [
            "Hi\n",
            "Hi\n"
          ]
        }
      ],
      "source": [
        "class Hi(object):\n",
        "    def __repr__(object):\n",
        "        return 'Hi'\n",
        "\n",
        "print(str(Hi()))\n",
        "print(repr(Hi()))"
      ]
    },
    {
      "cell_type": "code",
      "execution_count": 38,
      "metadata": {
        "colab": {
          "base_uri": "https://localhost:8080/"
        },
        "id": "e92FDaiA1kVT",
        "outputId": "fd6e9a26-8627-4fbd-ab7a-b568f1170104"
      },
      "outputs": [
        {
          "output_type": "stream",
          "name": "stdout",
          "text": [
            "Hi\n",
            "<__main__.Hi object at 0x7f34f09962d0>\n"
          ]
        }
      ],
      "source": [
        "class Hi(object):\n",
        "    def __str__(object):\n",
        "        return 'Hi'\n",
        "\n",
        "print(str(Hi()))\n",
        "print(repr(Hi()))"
      ]
    },
    {
      "cell_type": "code",
      "execution_count": 39,
      "metadata": {
        "colab": {
          "base_uri": "https://localhost:8080/",
          "height": 35
        },
        "id": "8Qy-g9iu1yXb",
        "outputId": "9b19820b-7a9e-494c-ac95-84478e10e0b3"
      },
      "outputs": [
        {
          "output_type": "execute_result",
          "data": {
            "text/plain": [
              "\"'Mari'\""
            ],
            "application/vnd.google.colaboratory.intrinsic+json": {
              "type": "string"
            }
          },
          "metadata": {},
          "execution_count": 39
        }
      ],
      "source": [
        "m = 'Mari'\n",
        "repr(m)"
      ]
    },
    {
      "cell_type": "code",
      "execution_count": 40,
      "metadata": {
        "colab": {
          "base_uri": "https://localhost:8080/",
          "height": 35
        },
        "id": "zS6ShrMb13mX",
        "outputId": "f81256fe-3db8-4fbe-c792-b48477c200ca"
      },
      "outputs": [
        {
          "output_type": "execute_result",
          "data": {
            "text/plain": [
              "'Mari'"
            ],
            "application/vnd.google.colaboratory.intrinsic+json": {
              "type": "string"
            }
          },
          "metadata": {},
          "execution_count": 40
        }
      ],
      "source": [
        "str(m)"
      ]
    },
    {
      "cell_type": "code",
      "execution_count": 56,
      "metadata": {
        "id": "eX34IFDJ14Oq"
      },
      "outputs": [],
      "source": [
        "# eval(str(m)) == m\n",
        "# NameError: name 'Mari' is not defined"
      ]
    },
    {
      "cell_type": "code",
      "execution_count": 43,
      "metadata": {
        "colab": {
          "base_uri": "https://localhost:8080/"
        },
        "id": "ke5X4pUJ169D",
        "outputId": "850fa5cb-8665-4f9d-c724-d7357980442b"
      },
      "outputs": [
        {
          "output_type": "execute_result",
          "data": {
            "text/plain": [
              "True"
            ]
          },
          "metadata": {},
          "execution_count": 43
        }
      ],
      "source": [
        "eval(repr(m)) == m"
      ]
    },
    {
      "cell_type": "markdown",
      "metadata": {
        "id": "1PwKg2jn4D_z"
      },
      "source": [
        "## Valores booleanos\n",
        "Por padrão, as instâncias das classes definidas pelo usuário são consideradas verdadeiras (a menos que __bool__ ou __len__ esteja implementado).\n",
        "\n",
        "Se não tiver __bool__ o Python chama o __len__, se igual a 0, bool retorna False.\n"
      ]
    },
    {
      "cell_type": "code",
      "execution_count": 44,
      "metadata": {
        "colab": {
          "base_uri": "https://localhost:8080/"
        },
        "id": "tXceRBfe1-7w",
        "outputId": "10ebc65b-4243-43a7-a004-0a77bd504ae6"
      },
      "outputs": [
        {
          "output_type": "execute_result",
          "data": {
            "text/plain": [
              "True"
            ]
          },
          "metadata": {},
          "execution_count": 44
        }
      ],
      "source": [
        "bool(1)"
      ]
    },
    {
      "cell_type": "code",
      "execution_count": 45,
      "metadata": {
        "colab": {
          "base_uri": "https://localhost:8080/"
        },
        "id": "ZqRBqj9D4Ccd",
        "outputId": "81d8fbb1-3532-4f8e-ce2e-5682fddc60d4"
      },
      "outputs": [
        {
          "output_type": "execute_result",
          "data": {
            "text/plain": [
              "False"
            ]
          },
          "metadata": {},
          "execution_count": 45
        }
      ],
      "source": [
        "bool(0)"
      ]
    },
    {
      "cell_type": "code",
      "execution_count": 46,
      "metadata": {
        "colab": {
          "base_uri": "https://localhost:8080/"
        },
        "id": "QAW592r94JGr",
        "outputId": "b1531ded-2db4-4a2b-b827-47d4ca87b83c"
      },
      "outputs": [
        {
          "output_type": "execute_result",
          "data": {
            "text/plain": [
              "False"
            ]
          },
          "metadata": {},
          "execution_count": 46
        }
      ],
      "source": [
        "bool('')"
      ]
    },
    {
      "cell_type": "code",
      "execution_count": 47,
      "metadata": {
        "colab": {
          "base_uri": "https://localhost:8080/"
        },
        "id": "HRojNbSN4KIf",
        "outputId": "0415bba0-05a4-45ff-f912-795ab91e37fb"
      },
      "outputs": [
        {
          "output_type": "execute_result",
          "data": {
            "text/plain": [
              "False"
            ]
          },
          "metadata": {},
          "execution_count": 47
        }
      ],
      "source": [
        "bool([])"
      ]
    },
    {
      "cell_type": "code",
      "execution_count": 48,
      "metadata": {
        "colab": {
          "base_uri": "https://localhost:8080/"
        },
        "id": "eQRWXHuT4LHP",
        "outputId": "aef82dee-546b-4fcf-f1b0-01b0a2cbb483"
      },
      "outputs": [
        {
          "output_type": "execute_result",
          "data": {
            "text/plain": [
              "True"
            ]
          },
          "metadata": {},
          "execution_count": 48
        }
      ],
      "source": [
        "bool('Mari')"
      ]
    },
    {
      "cell_type": "code",
      "execution_count": 49,
      "metadata": {
        "colab": {
          "base_uri": "https://localhost:8080/"
        },
        "id": "4k9WV8ly4MVf",
        "outputId": "e89c89a3-4a75-441e-8c76-c22c7a5432a9"
      },
      "outputs": [
        {
          "output_type": "execute_result",
          "data": {
            "text/plain": [
              "True"
            ]
          },
          "metadata": {},
          "execution_count": 49
        }
      ],
      "source": [
        "bool(abs(0.1))"
      ]
    },
    {
      "cell_type": "markdown",
      "metadata": {
        "id": "cafdYUlA7KNT"
      },
      "source": [
        "## The Zen of Python"
      ]
    },
    {
      "cell_type": "code",
      "execution_count": 53,
      "metadata": {
        "colab": {
          "base_uri": "https://localhost:8080/"
        },
        "id": "KoCzU9Dn6fBQ",
        "outputId": "0414294b-b361-46ac-b9ff-8e2bf8b8af3a"
      },
      "outputs": [
        {
          "output_type": "stream",
          "name": "stdout",
          "text": [
            "The Zen of Python, by Tim Peters\n",
            "\n",
            "Beautiful is better than ugly.\n",
            "Explicit is better than implicit.\n",
            "Simple is better than complex.\n",
            "Complex is better than complicated.\n",
            "Flat is better than nested.\n",
            "Sparse is better than dense.\n",
            "Readability counts.\n",
            "Special cases aren't special enough to break the rules.\n",
            "Although practicality beats purity.\n",
            "Errors should never pass silently.\n",
            "Unless explicitly silenced.\n",
            "In the face of ambiguity, refuse the temptation to guess.\n",
            "There should be one-- and preferably only one --obvious way to do it.\n",
            "Although that way may not be obvious at first unless you're Dutch.\n",
            "Now is better than never.\n",
            "Although never is often better than *right* now.\n",
            "If the implementation is hard to explain, it's a bad idea.\n",
            "If the implementation is easy to explain, it may be a good idea.\n",
            "Namespaces are one honking great idea -- let's do more of those!\n"
          ]
        }
      ],
      "source": [
        "import this"
      ]
    }
  ],
  "metadata": {
    "colab": {
      "name": "fluent_python_chapter_1_data_model.ipynb",
      "provenance": [],
      "toc_visible": true,
      "include_colab_link": true
    },
    "kernelspec": {
      "display_name": "Python 3.7.8 64-bit ('3.7.8')",
      "language": "python",
      "name": "python3"
    },
    "language_info": {
      "name": "python",
      "version": "3.7.8"
    },
    "vscode": {
      "interpreter": {
        "hash": "204a7c0ccaee149692f35dadfa19fb04a9ddc513bff74dd139a9ce605eac5e1f"
      }
    }
  },
  "nbformat": 4,
  "nbformat_minor": 0
}