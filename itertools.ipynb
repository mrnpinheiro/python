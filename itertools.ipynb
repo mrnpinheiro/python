{
  "nbformat": 4,
  "nbformat_minor": 0,
  "metadata": {
    "colab": {
      "name": "itertools.ipynb",
      "provenance": [],
      "authorship_tag": "ABX9TyOpbDvdpqgtR3+prwJkPHpM",
      "include_colab_link": true
    },
    "kernelspec": {
      "name": "python3",
      "display_name": "Python 3"
    },
    "language_info": {
      "name": "python"
    }
  },
  "cells": [
    {
      "cell_type": "markdown",
      "metadata": {
        "id": "view-in-github",
        "colab_type": "text"
      },
      "source": [
        "<a href=\"https://colab.research.google.com/github/mrnpinheiro/python/blob/master/itertools.ipynb\" target=\"_parent\"><img src=\"https://colab.research.google.com/assets/colab-badge.svg\" alt=\"Open In Colab\"/></a>"
      ]
    },
    {
      "cell_type": "code",
      "source": [
        "import itertools"
      ],
      "metadata": {
        "id": "M0xk5d6_T3S5"
      },
      "execution_count": 18,
      "outputs": []
    },
    {
      "cell_type": "markdown",
      "source": [
        "# zip\n",
        "\n",
        "the zip() function works, in essence, by calling iter() on each of its arguments, then advancing each iterator returned by iter() with next() and aggregating the results into tuples. "
      ],
      "metadata": {
        "id": "MMhBvT4ySU6J"
      }
    },
    {
      "cell_type": "code",
      "execution_count": 1,
      "metadata": {
        "id": "W_pFHOSTzjEI",
        "colab": {
          "base_uri": "https://localhost:8080/"
        },
        "outputId": "9170cfe4-1153-4c8b-81ee-2c825199476f"
      },
      "outputs": [
        {
          "output_type": "execute_result",
          "data": {
            "text/plain": [
              "[(1, 'a'), (2, 'b'), (3, 'c')]"
            ]
          },
          "metadata": {},
          "execution_count": 1
        }
      ],
      "source": [
        "list(zip([1, 2, 3], ['a', 'b', 'c']))"
      ]
    },
    {
      "cell_type": "code",
      "source": [
        "list(zip([1, 2, 3], ['a', 'b', 'c', 'd']))"
      ],
      "metadata": {
        "colab": {
          "base_uri": "https://localhost:8080/"
        },
        "id": "wDmmlmEqSM-_",
        "outputId": "c48d860c-b36b-43a1-a136-76535dfcb63c"
      },
      "execution_count": 2,
      "outputs": [
        {
          "output_type": "execute_result",
          "data": {
            "text/plain": [
              "[(1, 'a'), (2, 'b'), (3, 'c')]"
            ]
          },
          "metadata": {},
          "execution_count": 2
        }
      ]
    },
    {
      "cell_type": "code",
      "source": [
        "list(zip([1, 2, 3, 4], ['a', 'b', 'c']))"
      ],
      "metadata": {
        "colab": {
          "base_uri": "https://localhost:8080/"
        },
        "id": "VuhUtMoNSUQa",
        "outputId": "d6a74d71-c4d7-4165-a90d-e049456b5940"
      },
      "execution_count": 3,
      "outputs": [
        {
          "output_type": "execute_result",
          "data": {
            "text/plain": [
              "[(1, 'a'), (2, 'b'), (3, 'c')]"
            ]
          },
          "metadata": {},
          "execution_count": 3
        }
      ]
    },
    {
      "cell_type": "code",
      "source": [
        "list(itertools.zip_longest([1, 2, 3, 4], ['a', 'b', 'c']))"
      ],
      "metadata": {
        "colab": {
          "base_uri": "https://localhost:8080/"
        },
        "id": "oKGN7yKnT8-k",
        "outputId": "6c7063a5-4e8f-46a7-d62b-00413586ca11"
      },
      "execution_count": 20,
      "outputs": [
        {
          "output_type": "execute_result",
          "data": {
            "text/plain": [
              "[(1, 'a'), (2, 'b'), (3, 'c'), (4, None)]"
            ]
          },
          "metadata": {},
          "execution_count": 20
        }
      ]
    },
    {
      "cell_type": "code",
      "source": [
        "i = iter(['a', 'b', 'c'])\n",
        "i"
      ],
      "metadata": {
        "colab": {
          "base_uri": "https://localhost:8080/"
        },
        "id": "-WnoOo8ETElW",
        "outputId": "ec0b08a8-c4d8-4ef5-cef0-8c91b6606758"
      },
      "execution_count": 11,
      "outputs": [
        {
          "output_type": "execute_result",
          "data": {
            "text/plain": [
              "<list_iterator at 0x7f03ad795810>"
            ]
          },
          "metadata": {},
          "execution_count": 11
        }
      ]
    },
    {
      "cell_type": "code",
      "source": [
        "next(i)"
      ],
      "metadata": {
        "colab": {
          "base_uri": "https://localhost:8080/",
          "height": 35
        },
        "id": "HboLmqRgTHcX",
        "outputId": "be5fd8e5-20bc-4601-9e48-a9d96f2a1d56"
      },
      "execution_count": 12,
      "outputs": [
        {
          "output_type": "execute_result",
          "data": {
            "application/vnd.google.colaboratory.intrinsic+json": {
              "type": "string"
            },
            "text/plain": [
              "'a'"
            ]
          },
          "metadata": {},
          "execution_count": 12
        }
      ]
    },
    {
      "cell_type": "code",
      "source": [
        "next(i)"
      ],
      "metadata": {
        "colab": {
          "base_uri": "https://localhost:8080/",
          "height": 165
        },
        "id": "P0w7zygETNUT",
        "outputId": "feb2e387-b7b0-4e13-f8dc-ff207303f5f6"
      },
      "execution_count": 15,
      "outputs": [
        {
          "output_type": "error",
          "ename": "StopIteration",
          "evalue": "ignored",
          "traceback": [
            "\u001b[0;31m---------------------------------------------------------------------------\u001b[0m",
            "\u001b[0;31mStopIteration\u001b[0m                             Traceback (most recent call last)",
            "\u001b[0;32m<ipython-input-15-a883b34d6d8a>\u001b[0m in \u001b[0;36m<module>\u001b[0;34m()\u001b[0m\n\u001b[0;32m----> 1\u001b[0;31m \u001b[0mnext\u001b[0m\u001b[0;34m(\u001b[0m\u001b[0mi\u001b[0m\u001b[0;34m)\u001b[0m\u001b[0;34m\u001b[0m\u001b[0;34m\u001b[0m\u001b[0m\n\u001b[0m",
            "\u001b[0;31mStopIteration\u001b[0m: "
          ]
        }
      ]
    },
    {
      "cell_type": "markdown",
      "source": [
        "# map"
      ],
      "metadata": {
        "id": "g3AJpC63SfEN"
      }
    },
    {
      "cell_type": "code",
      "source": [
        "list(map(len, ['abc', 'de', 'fghi']))"
      ],
      "metadata": {
        "colab": {
          "base_uri": "https://localhost:8080/"
        },
        "id": "AFtRXtrCSbZk",
        "outputId": "3cdd8619-13a7-4a73-b8a4-c02056f16acc"
      },
      "execution_count": 4,
      "outputs": [
        {
          "output_type": "execute_result",
          "data": {
            "text/plain": [
              "[3, 2, 4]"
            ]
          },
          "metadata": {},
          "execution_count": 4
        }
      ]
    },
    {
      "cell_type": "code",
      "source": [
        "list_zip = zip([1, 2, 3], [4, 5, 6])\n",
        "\n",
        "list(map(sum, list_zip))"
      ],
      "metadata": {
        "colab": {
          "base_uri": "https://localhost:8080/"
        },
        "id": "Wl6VW8JjSgXz",
        "outputId": "f16a0ffd-8eff-4201-92f9-b348431d5a3f"
      },
      "execution_count": 5,
      "outputs": [
        {
          "output_type": "execute_result",
          "data": {
            "text/plain": [
              "[5, 7, 9]"
            ]
          },
          "metadata": {},
          "execution_count": 5
        }
      ]
    },
    {
      "cell_type": "code",
      "source": [
        "nums = [1, 2, 3, 4, 5, 6, 7, 8, 9, 10]"
      ],
      "metadata": {
        "id": "c62uE26ySq0-"
      },
      "execution_count": 16,
      "outputs": []
    },
    {
      "cell_type": "code",
      "source": [
        "list(better_grouper(nums, 4))"
      ],
      "metadata": {
        "colab": {
          "base_uri": "https://localhost:8080/",
          "height": 165
        },
        "id": "Zl0nZUaLTsn0",
        "outputId": "1e540a2e-d3f0-45fd-f4e1-aa42bb657756"
      },
      "execution_count": 17,
      "outputs": [
        {
          "output_type": "error",
          "ename": "NameError",
          "evalue": "ignored",
          "traceback": [
            "\u001b[0;31m---------------------------------------------------------------------------\u001b[0m",
            "\u001b[0;31mNameError\u001b[0m                                 Traceback (most recent call last)",
            "\u001b[0;32m<ipython-input-17-d8cc6cd0bc39>\u001b[0m in \u001b[0;36m<module>\u001b[0;34m()\u001b[0m\n\u001b[0;32m----> 1\u001b[0;31m \u001b[0mlist\u001b[0m\u001b[0;34m(\u001b[0m\u001b[0mbetter_grouper\u001b[0m\u001b[0;34m(\u001b[0m\u001b[0mnums\u001b[0m\u001b[0;34m,\u001b[0m \u001b[0;36m4\u001b[0m\u001b[0;34m)\u001b[0m\u001b[0;34m)\u001b[0m\u001b[0;34m\u001b[0m\u001b[0;34m\u001b[0m\u001b[0m\n\u001b[0m",
            "\u001b[0;31mNameError\u001b[0m: name 'better_grouper' is not defined"
          ]
        }
      ]
    },
    {
      "cell_type": "markdown",
      "source": [
        "# combinations"
      ],
      "metadata": {
        "id": "1UoJpdPcUMAC"
      }
    },
    {
      "cell_type": "code",
      "source": [
        "bills = [20, 20, 10, 10, 1, 1]\n",
        "\n",
        "list(itertools.combinations(bills, 3))"
      ],
      "metadata": {
        "colab": {
          "base_uri": "https://localhost:8080/"
        },
        "id": "Q3smtqDUUPAR",
        "outputId": "ef391031-13ab-4360-f7fa-db787063a7fa"
      },
      "execution_count": 23,
      "outputs": [
        {
          "output_type": "execute_result",
          "data": {
            "text/plain": [
              "[(20, 20, 10),\n",
              " (20, 20, 10),\n",
              " (20, 20, 1),\n",
              " (20, 20, 1),\n",
              " (20, 10, 10),\n",
              " (20, 10, 1),\n",
              " (20, 10, 1),\n",
              " (20, 10, 1),\n",
              " (20, 10, 1),\n",
              " (20, 1, 1),\n",
              " (20, 10, 10),\n",
              " (20, 10, 1),\n",
              " (20, 10, 1),\n",
              " (20, 10, 1),\n",
              " (20, 10, 1),\n",
              " (20, 1, 1),\n",
              " (10, 10, 1),\n",
              " (10, 10, 1),\n",
              " (10, 1, 1),\n",
              " (10, 1, 1)]"
            ]
          },
          "metadata": {},
          "execution_count": 23
        }
      ]
    },
    {
      "cell_type": "code",
      "source": [
        "list(itertools.combinations_with_replacement([1, 2, 3], 2))"
      ],
      "metadata": {
        "colab": {
          "base_uri": "https://localhost:8080/"
        },
        "id": "ct6i0QplUXGA",
        "outputId": "123853dd-0e5f-4012-f7f1-e03f129c0767"
      },
      "execution_count": 25,
      "outputs": [
        {
          "output_type": "execute_result",
          "data": {
            "text/plain": [
              "[(1, 1), (1, 2), (1, 3), (2, 2), (2, 3), (3, 3)]"
            ]
          },
          "metadata": {},
          "execution_count": 25
        }
      ]
    },
    {
      "cell_type": "code",
      "source": [
        "list(itertools.permutations(['a', 'b', 'c']))"
      ],
      "metadata": {
        "colab": {
          "base_uri": "https://localhost:8080/"
        },
        "id": "POrhwlTVUTIs",
        "outputId": "3192222f-322d-43f8-dd06-9f3177669d6e"
      },
      "execution_count": 26,
      "outputs": [
        {
          "output_type": "execute_result",
          "data": {
            "text/plain": [
              "[('a', 'b', 'c'),\n",
              " ('a', 'c', 'b'),\n",
              " ('b', 'a', 'c'),\n",
              " ('b', 'c', 'a'),\n",
              " ('c', 'a', 'b'),\n",
              " ('c', 'b', 'a')]"
            ]
          },
          "metadata": {},
          "execution_count": 26
        }
      ]
    },
    {
      "cell_type": "code",
      "source": [
        "list(itertools.permutations('mari'))"
      ],
      "metadata": {
        "colab": {
          "base_uri": "https://localhost:8080/"
        },
        "id": "_ofbpHCaUvEy",
        "outputId": "f021d2ff-37b0-4465-b29a-6426b9ba001f"
      },
      "execution_count": 28,
      "outputs": [
        {
          "output_type": "execute_result",
          "data": {
            "text/plain": [
              "[('m', 'a', 'r', 'i'),\n",
              " ('m', 'a', 'i', 'r'),\n",
              " ('m', 'r', 'a', 'i'),\n",
              " ('m', 'r', 'i', 'a'),\n",
              " ('m', 'i', 'a', 'r'),\n",
              " ('m', 'i', 'r', 'a'),\n",
              " ('a', 'm', 'r', 'i'),\n",
              " ('a', 'm', 'i', 'r'),\n",
              " ('a', 'r', 'm', 'i'),\n",
              " ('a', 'r', 'i', 'm'),\n",
              " ('a', 'i', 'm', 'r'),\n",
              " ('a', 'i', 'r', 'm'),\n",
              " ('r', 'm', 'a', 'i'),\n",
              " ('r', 'm', 'i', 'a'),\n",
              " ('r', 'a', 'm', 'i'),\n",
              " ('r', 'a', 'i', 'm'),\n",
              " ('r', 'i', 'm', 'a'),\n",
              " ('r', 'i', 'a', 'm'),\n",
              " ('i', 'm', 'a', 'r'),\n",
              " ('i', 'm', 'r', 'a'),\n",
              " ('i', 'a', 'm', 'r'),\n",
              " ('i', 'a', 'r', 'm'),\n",
              " ('i', 'r', 'm', 'a'),\n",
              " ('i', 'r', 'a', 'm')]"
            ]
          },
          "metadata": {},
          "execution_count": 28
        }
      ]
    },
    {
      "cell_type": "markdown",
      "source": [
        "# sequence"
      ],
      "metadata": {
        "id": "K49YuhPqU5-G"
      }
    },
    {
      "cell_type": "code",
      "source": [
        "counter = itertools.count()\n",
        "list(next(counter) for _ in range(5))"
      ],
      "metadata": {
        "colab": {
          "base_uri": "https://localhost:8080/"
        },
        "id": "jprwEdctUxKf",
        "outputId": "a292353a-1717-46da-aee5-a7f32ccc1300"
      },
      "execution_count": 30,
      "outputs": [
        {
          "output_type": "execute_result",
          "data": {
            "text/plain": [
              "[0, 1, 2, 3, 4]"
            ]
          },
          "metadata": {},
          "execution_count": 30
        }
      ]
    },
    {
      "cell_type": "code",
      "source": [
        "evens = itertools.count(step=2)\n",
        "list(next(evens) for _ in range(5))"
      ],
      "metadata": {
        "colab": {
          "base_uri": "https://localhost:8080/"
        },
        "id": "2scfJF5YVD1h",
        "outputId": "5757705f-d0a0-474a-e70b-2b24eead6e3d"
      },
      "execution_count": 32,
      "outputs": [
        {
          "output_type": "execute_result",
          "data": {
            "text/plain": [
              "[0, 2, 4, 6, 8]"
            ]
          },
          "metadata": {},
          "execution_count": 32
        }
      ]
    },
    {
      "cell_type": "code",
      "source": [
        "odds = itertools.count(start=1, step=2)\n",
        "list(next(odds) for _ in range(5))"
      ],
      "metadata": {
        "colab": {
          "base_uri": "https://localhost:8080/"
        },
        "id": "44GcLrMzVKn0",
        "outputId": "9560d3d8-e7cb-4842-8c91-991e20435ecd"
      },
      "execution_count": 33,
      "outputs": [
        {
          "output_type": "execute_result",
          "data": {
            "text/plain": [
              "[1, 3, 5, 7, 9]"
            ]
          },
          "metadata": {},
          "execution_count": 33
        }
      ]
    },
    {
      "cell_type": "code",
      "source": [
        "count_with_floats = itertools.count(start=0.5, step=0.75)\n",
        "list(next(count_with_floats) for _ in range(5))"
      ],
      "metadata": {
        "colab": {
          "base_uri": "https://localhost:8080/"
        },
        "id": "t-Xx81WpVPXV",
        "outputId": "e3271550-83c9-46fd-8955-4beb7173b6cc"
      },
      "execution_count": 34,
      "outputs": [
        {
          "output_type": "execute_result",
          "data": {
            "text/plain": [
              "[0.5, 1.25, 2.0, 2.75, 3.5]"
            ]
          },
          "metadata": {},
          "execution_count": 34
        }
      ]
    },
    {
      "cell_type": "code",
      "source": [
        "negative_count = itertools.count(start=-1, step=-0.5)\n",
        "list(next(negative_count) for _ in range(5))"
      ],
      "metadata": {
        "colab": {
          "base_uri": "https://localhost:8080/"
        },
        "id": "SzGMi51TVUJk",
        "outputId": "a3818f14-977e-43c4-bc2b-a38d218aa0a5"
      },
      "execution_count": 35,
      "outputs": [
        {
          "output_type": "execute_result",
          "data": {
            "text/plain": [
              "[-1, -1.5, -2.0, -2.5, -3.0]"
            ]
          },
          "metadata": {},
          "execution_count": 35
        }
      ]
    },
    {
      "cell_type": "code",
      "source": [
        "list(zip(itertools.count(), ['a', 'b', 'c']))"
      ],
      "metadata": {
        "colab": {
          "base_uri": "https://localhost:8080/"
        },
        "id": "ngl0yE1wVaGW",
        "outputId": "4615c5f5-73e1-41d2-bdc0-fa0d6e6014f6"
      },
      "execution_count": 36,
      "outputs": [
        {
          "output_type": "execute_result",
          "data": {
            "text/plain": [
              "[(0, 'a'), (1, 'b'), (2, 'c')]"
            ]
          },
          "metadata": {},
          "execution_count": 36
        }
      ]
    },
    {
      "cell_type": "code",
      "source": [
        "all_ones = itertools.repeat(1)\n",
        "list(next(all_ones) for _ in range(10))"
      ],
      "metadata": {
        "colab": {
          "base_uri": "https://localhost:8080/"
        },
        "id": "3twqGKg3VgzH",
        "outputId": "8b5f4bb5-5703-4901-f92a-1ab99a1edbb8"
      },
      "execution_count": 39,
      "outputs": [
        {
          "output_type": "execute_result",
          "data": {
            "text/plain": [
              "[1, 1, 1, 1, 1, 1, 1, 1, 1, 1]"
            ]
          },
          "metadata": {},
          "execution_count": 39
        }
      ]
    },
    {
      "cell_type": "code",
      "source": [
        "alternating_ones = itertools.cycle([1, 2, 3])\n",
        "list(next(alternating_ones) for _ in range(10))"
      ],
      "metadata": {
        "colab": {
          "base_uri": "https://localhost:8080/"
        },
        "id": "dtNNCFt7V3RV",
        "outputId": "a4858cbb-d8e3-43bb-d37e-ad6923efb700"
      },
      "execution_count": 42,
      "outputs": [
        {
          "output_type": "execute_result",
          "data": {
            "text/plain": [
              "[1, 2, 3, 1, 2, 3, 1, 2, 3, 1]"
            ]
          },
          "metadata": {},
          "execution_count": 42
        }
      ]
    },
    {
      "cell_type": "code",
      "source": [
        "import operator\n",
        "\n",
        "list(itertools.accumulate([1, 2, 3, 4, 5], operator.add))"
      ],
      "metadata": {
        "colab": {
          "base_uri": "https://localhost:8080/"
        },
        "id": "EGXHwnd0WFwG",
        "outputId": "8206c900-0918-43ee-bea4-85d75cb23d83"
      },
      "execution_count": 55,
      "outputs": [
        {
          "output_type": "execute_result",
          "data": {
            "text/plain": [
              "[1, 3, 6, 10, 15]"
            ]
          },
          "metadata": {},
          "execution_count": 55
        }
      ]
    },
    {
      "cell_type": "code",
      "source": [
        "list(itertools.accumulate([1, 2, 3, 4, 5]))"
      ],
      "metadata": {
        "colab": {
          "base_uri": "https://localhost:8080/"
        },
        "id": "U8JXnvVnWjiq",
        "outputId": "99fecd9f-b90a-4510-bb94-6b1e391e4b04"
      },
      "execution_count": 47,
      "outputs": [
        {
          "output_type": "execute_result",
          "data": {
            "text/plain": [
              "[1, 3, 6, 10, 15]"
            ]
          },
          "metadata": {},
          "execution_count": 47
        }
      ]
    },
    {
      "cell_type": "code",
      "source": [
        "list(itertools.accumulate([9, 21, 17, 5, 11, 12, 2, 6], min))"
      ],
      "metadata": {
        "colab": {
          "base_uri": "https://localhost:8080/"
        },
        "id": "CNznVe14WpCJ",
        "outputId": "9f18a40b-2412-4a0a-f1e2-2c89ef1371b0"
      },
      "execution_count": 48,
      "outputs": [
        {
          "output_type": "execute_result",
          "data": {
            "text/plain": [
              "[9, 9, 9, 5, 5, 5, 2, 2]"
            ]
          },
          "metadata": {},
          "execution_count": 48
        }
      ]
    },
    {
      "cell_type": "code",
      "source": [
        "list(itertools.accumulate([1, 2, 3, 4, 5], lambda x, y: (x + y) / 2))"
      ],
      "metadata": {
        "colab": {
          "base_uri": "https://localhost:8080/"
        },
        "id": "wsTSdXteW4Ro",
        "outputId": "b80169cf-5eb0-4911-8c19-d95c0e4869f5"
      },
      "execution_count": 49,
      "outputs": [
        {
          "output_type": "execute_result",
          "data": {
            "text/plain": [
              "[1, 1.5, 2.25, 3.125, 4.0625]"
            ]
          },
          "metadata": {},
          "execution_count": 49
        }
      ]
    },
    {
      "cell_type": "code",
      "source": [
        "list(itertools.accumulate([1, 2, 3, 4, 5], lambda x, y: x - y))"
      ],
      "metadata": {
        "colab": {
          "base_uri": "https://localhost:8080/"
        },
        "id": "xNWOqra5XA2S",
        "outputId": "638dd0ff-fb59-49b9-f241-d674f216a191"
      },
      "execution_count": 50,
      "outputs": [
        {
          "output_type": "execute_result",
          "data": {
            "text/plain": [
              "[1, -1, -4, -8, -13]"
            ]
          },
          "metadata": {},
          "execution_count": 50
        }
      ]
    },
    {
      "cell_type": "code",
      "source": [
        "next(itertools.count())"
      ],
      "metadata": {
        "colab": {
          "base_uri": "https://localhost:8080/"
        },
        "id": "2oNjgKpVXJqu",
        "outputId": "3d127834-0cd7-484f-8c69-63e1cc93a411"
      },
      "execution_count": 56,
      "outputs": [
        {
          "output_type": "execute_result",
          "data": {
            "text/plain": [
              "0"
            ]
          },
          "metadata": {},
          "execution_count": 56
        }
      ]
    },
    {
      "cell_type": "code",
      "source": [
        "list_count = itertools.count(start=1, step=2)"
      ],
      "metadata": {
        "id": "Wz0XnPezXsPo"
      },
      "execution_count": 62,
      "outputs": []
    },
    {
      "cell_type": "code",
      "source": [
        "next(list_count)"
      ],
      "metadata": {
        "colab": {
          "base_uri": "https://localhost:8080/"
        },
        "id": "eEMpJOcDYAtx",
        "outputId": "ccdfd13d-0ccd-45da-f338-12886e797a03"
      },
      "execution_count": 64,
      "outputs": [
        {
          "output_type": "execute_result",
          "data": {
            "text/plain": [
              "3"
            ]
          },
          "metadata": {},
          "execution_count": 64
        }
      ]
    },
    {
      "cell_type": "code",
      "source": [
        "list(itertools.product([1, 2], ['a', 'b']))"
      ],
      "metadata": {
        "colab": {
          "base_uri": "https://localhost:8080/"
        },
        "id": "SYTNNoErYFFA",
        "outputId": "c34b6152-ef86-453f-9df4-540572849234"
      },
      "execution_count": 67,
      "outputs": [
        {
          "output_type": "execute_result",
          "data": {
            "text/plain": [
              "[(1, 'a'), (1, 'b'), (2, 'a'), (2, 'b')]"
            ]
          },
          "metadata": {},
          "execution_count": 67
        }
      ]
    },
    {
      "cell_type": "code",
      "source": [
        "list(itertools.chain('ABC', 'DEF'))"
      ],
      "metadata": {
        "colab": {
          "base_uri": "https://localhost:8080/"
        },
        "id": "0jwFR3rjYanG",
        "outputId": "1a6c654b-e72e-4222-ef41-4f2c3d029536"
      },
      "execution_count": 68,
      "outputs": [
        {
          "output_type": "execute_result",
          "data": {
            "text/plain": [
              "['A', 'B', 'C', 'D', 'E', 'F']"
            ]
          },
          "metadata": {},
          "execution_count": 68
        }
      ]
    },
    {
      "cell_type": "code",
      "source": [
        "list(itertools.chain([1, 2], [3, 4, 5, 6], [7, 8, 9]))"
      ],
      "metadata": {
        "colab": {
          "base_uri": "https://localhost:8080/"
        },
        "id": "KK1zq6M1YxI-",
        "outputId": "f24cde2c-b88b-4450-fb74-93f177197a6b"
      },
      "execution_count": 69,
      "outputs": [
        {
          "output_type": "execute_result",
          "data": {
            "text/plain": [
              "[1, 2, 3, 4, 5, 6, 7, 8, 9]"
            ]
          },
          "metadata": {},
          "execution_count": 69
        }
      ]
    },
    {
      "cell_type": "code",
      "source": [
        "list(itertools.chain([1, 2], [3, 4, 5, 6], [7, 8, 9]))"
      ],
      "metadata": {
        "colab": {
          "base_uri": "https://localhost:8080/"
        },
        "id": "bjvSU0i9ZMk9",
        "outputId": "365e86e5-9a00-403e-b1c0-71dcc5480970"
      },
      "execution_count": 74,
      "outputs": [
        {
          "output_type": "execute_result",
          "data": {
            "text/plain": [
              "[1, 2, 3, 4, 5, 6, 7, 8, 9]"
            ]
          },
          "metadata": {},
          "execution_count": 74
        }
      ]
    },
    {
      "cell_type": "code",
      "source": [
        "all_lists = [[1, 2], [3, 4, 5, 6], [[7, 8, 9]]]\n",
        "list(itertools.chain(*all_lists))"
      ],
      "metadata": {
        "colab": {
          "base_uri": "https://localhost:8080/"
        },
        "id": "h4-isWzHZSxM",
        "outputId": "c3a12c3b-9e7b-4420-80c3-f64aa71de9a3"
      },
      "execution_count": 73,
      "outputs": [
        {
          "output_type": "execute_result",
          "data": {
            "text/plain": [
              "[1, 2, 3, 4, 5, 6, [7, 8, 9]]"
            ]
          },
          "metadata": {},
          "execution_count": 73
        }
      ]
    },
    {
      "cell_type": "code",
      "source": [
        "list(itertools.islice([1, 2, 3, 4], 3))"
      ],
      "metadata": {
        "colab": {
          "base_uri": "https://localhost:8080/"
        },
        "id": "0Xo5deqKZmuZ",
        "outputId": "fad82eb3-8fbe-4628-c0e3-de7e38a22942"
      },
      "execution_count": 79,
      "outputs": [
        {
          "output_type": "execute_result",
          "data": {
            "text/plain": [
              "[1, 2, 3]"
            ]
          },
          "metadata": {},
          "execution_count": 79
        }
      ]
    },
    {
      "cell_type": "code",
      "source": [
        "list(itertools.islice([1, 2, 3, 4, 5], 3, 5))"
      ],
      "metadata": {
        "colab": {
          "base_uri": "https://localhost:8080/"
        },
        "id": "rBhbGc1vZ9BX",
        "outputId": "71bb6ce9-edc5-4e1b-a452-ccc21eb2c071"
      },
      "execution_count": 81,
      "outputs": [
        {
          "output_type": "execute_result",
          "data": {
            "text/plain": [
              "[4, 5]"
            ]
          },
          "metadata": {},
          "execution_count": 81
        }
      ]
    },
    {
      "cell_type": "code",
      "source": [
        "list(itertools.chain.from_iterable([[1], [1, 2, 3], [4, 5, 6]]))"
      ],
      "metadata": {
        "colab": {
          "base_uri": "https://localhost:8080/"
        },
        "id": "G7VKOgp8aDXR",
        "outputId": "bfd7cf7e-6305-4a94-bd97-0b3e878900ff"
      },
      "execution_count": 84,
      "outputs": [
        {
          "output_type": "execute_result",
          "data": {
            "text/plain": [
              "[1, 1, 2, 3, 4, 5, 6]"
            ]
          },
          "metadata": {},
          "execution_count": 84
        }
      ]
    },
    {
      "cell_type": "code",
      "source": [
        "list(itertools.filterfalse(lambda x: x <= 0, [0, 1, -1, 2, -2]))"
      ],
      "metadata": {
        "colab": {
          "base_uri": "https://localhost:8080/"
        },
        "id": "jFekeA7IZ5Zm",
        "outputId": "39908303-9a88-4c2f-ab13-d802dd7be2ce"
      },
      "execution_count": 87,
      "outputs": [
        {
          "output_type": "execute_result",
          "data": {
            "text/plain": [
              "[1, 2]"
            ]
          },
          "metadata": {},
          "execution_count": 87
        }
      ]
    },
    {
      "cell_type": "code",
      "source": [
        "list(itertools.takewhile(lambda x: x < 3, [0, 1, 2, 3, 4]))"
      ],
      "metadata": {
        "colab": {
          "base_uri": "https://localhost:8080/"
        },
        "id": "m11SXYw1asfn",
        "outputId": "af8088ac-f693-4392-c6f1-e993420d3280"
      },
      "execution_count": 88,
      "outputs": [
        {
          "output_type": "execute_result",
          "data": {
            "text/plain": [
              "[0, 1, 2]"
            ]
          },
          "metadata": {},
          "execution_count": 88
        }
      ]
    },
    {
      "cell_type": "code",
      "source": [
        "list(itertools.filterfalse(bool, [1, 0, 1, 0, 0]))"
      ],
      "metadata": {
        "colab": {
          "base_uri": "https://localhost:8080/"
        },
        "id": "-zZAFjjAa6Zc",
        "outputId": "0d6b3d53-62ad-4f7e-9482-288f0049edea"
      },
      "execution_count": 90,
      "outputs": [
        {
          "output_type": "execute_result",
          "data": {
            "text/plain": [
              "[0, 0, 0]"
            ]
          },
          "metadata": {},
          "execution_count": 90
        }
      ]
    },
    {
      "cell_type": "code",
      "source": [
        "iterator1, iterator2 = itertools.tee([1, 2, 3, 4, 5, 6, 7], 2)\n",
        "list(iterator1)"
      ],
      "metadata": {
        "colab": {
          "base_uri": "https://localhost:8080/"
        },
        "id": "tk8VaEGqbVAJ",
        "outputId": "6b3f9615-0540-49ec-bec8-c2a05b2bf8a5"
      },
      "execution_count": 93,
      "outputs": [
        {
          "output_type": "execute_result",
          "data": {
            "text/plain": [
              "[1, 2, 3, 4, 5, 6, 7]"
            ]
          },
          "metadata": {},
          "execution_count": 93
        }
      ]
    },
    {
      "cell_type": "markdown",
      "source": [
        "# groupby\n",
        "\n",
        "[do_something(list(g)) for _, g in groupby(lxml_elements, criteria_func)]"
      ],
      "metadata": {
        "id": "NkAr7UJDcMOz"
      }
    },
    {
      "cell_type": "code",
      "source": [
        "[k for k, _ in itertools.groupby('AAAABBBCCDAABBB')]"
      ],
      "metadata": {
        "colab": {
          "base_uri": "https://localhost:8080/"
        },
        "id": "LZPFsv9fcLXK",
        "outputId": "009beb6a-83c4-439a-f4a8-7dbf632f4444"
      },
      "execution_count": 99,
      "outputs": [
        {
          "output_type": "execute_result",
          "data": {
            "text/plain": [
              "['A', 'B', 'C', 'D', 'A', 'B']"
            ]
          },
          "metadata": {},
          "execution_count": 99
        }
      ]
    },
    {
      "cell_type": "code",
      "source": [
        "[list(g) for _, g in itertools.groupby('AAAABBBCCDAABBB')]"
      ],
      "metadata": {
        "colab": {
          "base_uri": "https://localhost:8080/"
        },
        "id": "EUBaHHgEcTcM",
        "outputId": "6985df2b-c773-4299-d0eb-f72e131aed61"
      },
      "execution_count": 101,
      "outputs": [
        {
          "output_type": "execute_result",
          "data": {
            "text/plain": [
              "[['A', 'A', 'A', 'A'],\n",
              " ['B', 'B', 'B'],\n",
              " ['C', 'C'],\n",
              " ['D'],\n",
              " ['A', 'A'],\n",
              " ['B', 'B', 'B']]"
            ]
          },
          "metadata": {},
          "execution_count": 101
        }
      ]
    },
    {
      "cell_type": "code",
      "source": [
        "beautiful_list = [4, 5, 6, 8, 10, 11, 23, 44, 55, 4, 5, 5, 10, 11]\n",
        "[list(group) for _, group in itertools.groupby(sorted(beautiful_list))]"
      ],
      "metadata": {
        "colab": {
          "base_uri": "https://localhost:8080/"
        },
        "id": "iB1zKAstccy5",
        "outputId": "15dbd3bc-dade-47a6-a181-7ca1f9ebec59"
      },
      "execution_count": 105,
      "outputs": [
        {
          "output_type": "execute_result",
          "data": {
            "text/plain": [
              "[[4, 4], [5, 5, 5], [6], [8], [10, 10], [11, 11], [23], [44], [55]]"
            ]
          },
          "metadata": {},
          "execution_count": 105
        }
      ]
    },
    {
      "cell_type": "code",
      "source": [
        "beautiful_list = [4, 5, 6, 8, 10, 11, 23, 44, 55, 4, 5, 5, 10, 11]\n",
        "[list(group) for _, group in itertools.groupby(sorted(beautiful_list), lambda x: x % 2 == 0)]"
      ],
      "metadata": {
        "colab": {
          "base_uri": "https://localhost:8080/"
        },
        "id": "i4FQQNjocNvE",
        "outputId": "47fe163a-d4e5-4ede-d1cd-8a2ab16c5193"
      },
      "execution_count": 108,
      "outputs": [
        {
          "output_type": "execute_result",
          "data": {
            "text/plain": [
              "[[4, 4], [5, 5, 5], [6, 8, 10, 10], [11, 11, 23], [44], [55]]"
            ]
          },
          "metadata": {},
          "execution_count": 108
        }
      ]
    },
    {
      "cell_type": "code",
      "source": [
        "beautiful_list_with_tuples = [(4, 1), (5, 2), (6, 4), (11, 1)]\n",
        "sorted_list = sorted(beautiful_list_with_tuples, key=lambda x: x[1])\n",
        "sorted_list"
      ],
      "metadata": {
        "colab": {
          "base_uri": "https://localhost:8080/"
        },
        "id": "5ooIpK2pdSpP",
        "outputId": "56d93d44-ca0b-4b6b-c373-dee70325be18"
      },
      "execution_count": 107,
      "outputs": [
        {
          "output_type": "execute_result",
          "data": {
            "text/plain": [
              "[(4, 1), (11, 1), (5, 2), (6, 4)]"
            ]
          },
          "metadata": {},
          "execution_count": 107
        }
      ]
    },
    {
      "cell_type": "code",
      "source": [
        "[list(group) for _, group in itertools.groupby(sorted_list, lambda x: x[1] % 2 == 0)]"
      ],
      "metadata": {
        "colab": {
          "base_uri": "https://localhost:8080/"
        },
        "id": "fe4JTk5ddkri",
        "outputId": "0fc0e518-1cfc-4ea5-9e03-fb6746e675fc"
      },
      "execution_count": 112,
      "outputs": [
        {
          "output_type": "execute_result",
          "data": {
            "text/plain": [
              "[[(4, 1), (11, 1)], [(5, 2), (6, 4)]]"
            ]
          },
          "metadata": {},
          "execution_count": 112
        }
      ]
    }
  ]
}