{
  "cells": [
    {
      "cell_type": "markdown",
      "metadata": {
        "id": "c24_KZawr6Fw"
      },
      "source": [
        "# Uma coleção de sequências\n",
        "\n",
        "Parte II - Estrutura de Dados | Capítulo 2 - Python Fluente - Luciano Ramalho\n"
      ]
    },
    {
      "cell_type": "markdown",
      "metadata": {
        "id": "d1AQJxkb7-8K"
      },
      "source": [
        "## Útil\n",
        "\n",
        "- sequências container (list, tuple, collections.deque): armazena tipos diferentes e referências aos objetos que elas contêm\n",
        "- sequências simples (str, byter, array.array, memoryview): itens de um só tipo, armazenados cada item em seu próprio espaço de memória"
      ]
    },
    {
      "cell_type": "markdown",
      "metadata": {
        "id": "tQnSqfS-9uAT"
      },
      "source": [
        "## Liscomps e Genexps"
      ]
    },
    {
      "cell_type": "markdown",
      "metadata": {
        "id": "s8EY4SCotEiO"
      },
      "source": [
        "list comprehensions = listcomps\n",
        "\n",
        "expressões geradoras = genexps"
      ]
    },
    {
      "cell_type": "code",
      "execution_count": null,
      "metadata": {
        "colab": {
          "base_uri": "https://localhost:8080/"
        },
        "id": "BfzrBTkwr37H",
        "outputId": "b281a637-1f2c-4f6b-8869-985d142b9f67"
      },
      "outputs": [
        {
          "data": {
            "text/plain": [
              "[36, 162, 163, 165, 8364, 164]"
            ]
          },
          "execution_count": 1,
          "metadata": {},
          "output_type": "execute_result"
        }
      ],
      "source": [
        "symbols = '$¢£¥€¤'\n",
        "codes = []\n",
        "\n",
        "for symbol in symbols:\n",
        "    codes.append(ord(symbol))\n",
        "\n",
        "codes"
      ]
    },
    {
      "cell_type": "code",
      "execution_count": null,
      "metadata": {
        "colab": {
          "base_uri": "https://localhost:8080/"
        },
        "id": "uVwAuUxqABv5",
        "outputId": "c5acaf8f-c7d7-43f2-fff5-d0fc1341a87e"
      },
      "outputs": [
        {
          "data": {
            "text/plain": [
              "[36, 162, 163, 165, 8364, 164]"
            ]
          },
          "execution_count": 2,
          "metadata": {},
          "output_type": "execute_result"
        }
      ],
      "source": [
        "symbols = '$¢£¥€¤'\n",
        "\n",
        "codes = [ord(symbol) for symbol in symbols]\n",
        "\n",
        "codes"
      ]
    },
    {
      "cell_type": "code",
      "execution_count": null,
      "metadata": {
        "colab": {
          "base_uri": "https://localhost:8080/"
        },
        "id": "nAfwExmOtbNq",
        "outputId": "ba13168e-e80c-4336-fbfd-2625303fd6a0"
      },
      "outputs": [
        {
          "data": {
            "application/vnd.google.colaboratory.intrinsic+json": {
              "type": "string"
            },
            "text/plain": [
              "'ABC'"
            ]
          },
          "execution_count": 3,
          "metadata": {},
          "output_type": "execute_result"
        }
      ],
      "source": [
        "x = 'ABC'\n",
        "codes = [ord(x) for x in x]\n",
        "x"
      ]
    },
    {
      "cell_type": "code",
      "execution_count": null,
      "metadata": {
        "colab": {
          "base_uri": "https://localhost:8080/"
        },
        "id": "7jUGeXWWvOPb",
        "outputId": "8eb29a36-792d-4a1f-ea1c-c16916671493"
      },
      "outputs": [
        {
          "data": {
            "text/plain": [
              "['M', 'a', 'r', 'i']"
            ]
          },
          "execution_count": 4,
          "metadata": {},
          "output_type": "execute_result"
        }
      ],
      "source": [
        "mari = [m for m in 'Mari']\n",
        "mari"
      ]
    },
    {
      "cell_type": "code",
      "execution_count": null,
      "metadata": {
        "colab": {
          "base_uri": "https://localhost:8080/"
        },
        "id": "UDt00ZStyiCZ",
        "outputId": "4a496e9b-f18a-457a-b975-9c3bc38246e8"
      },
      "outputs": [
        {
          "data": {
            "text/plain": [
              "97"
            ]
          },
          "execution_count": 5,
          "metadata": {},
          "output_type": "execute_result"
        }
      ],
      "source": [
        "ord('a')"
      ]
    },
    {
      "cell_type": "code",
      "execution_count": null,
      "metadata": {
        "colab": {
          "base_uri": "https://localhost:8080/"
        },
        "id": "kWSpX6RPuoqE",
        "outputId": "435ca939-270e-4927-fd66-fea55cbe7a0d"
      },
      "outputs": [
        {
          "data": {
            "text/plain": [
              "[162, 163, 165, 8364, 164]"
            ]
          },
          "execution_count": 6,
          "metadata": {},
          "output_type": "execute_result"
        }
      ],
      "source": [
        "symbols = '$¢£¥€¤'\n",
        "beyond_ascii = [ord(s) for s in symbols if ord(s) > 127]\n",
        "beyond_ascii"
      ]
    },
    {
      "cell_type": "code",
      "execution_count": null,
      "metadata": {
        "colab": {
          "base_uri": "https://localhost:8080/"
        },
        "id": "Ivm5EBvRvGmI",
        "outputId": "335b1ecd-914e-43ae-ab70-aeadc395e46a"
      },
      "outputs": [
        {
          "data": {
            "text/plain": [
              "[162, 163, 165, 8364, 164]"
            ]
          },
          "execution_count": 7,
          "metadata": {},
          "output_type": "execute_result"
        }
      ],
      "source": [
        "beyond_ascii = list(filter(lambda c: c > 127, map(ord, symbols)))\n",
        "beyond_ascii"
      ]
    },
    {
      "cell_type": "code",
      "execution_count": null,
      "metadata": {
        "colab": {
          "base_uri": "https://localhost:8080/"
        },
        "id": "2Sky7Bq5yfT5",
        "outputId": "9cec7093-c203-49bc-9222-d5e994b7507e"
      },
      "outputs": [
        {
          "data": {
            "text/plain": [
              "[3, 2, 1, 5]"
            ]
          },
          "execution_count": 8,
          "metadata": {},
          "output_type": "execute_result"
        }
      ],
      "source": [
        "list(map(len, ['123', '22', '3', '41111']))"
      ]
    },
    {
      "cell_type": "code",
      "execution_count": null,
      "metadata": {
        "colab": {
          "base_uri": "https://localhost:8080/"
        },
        "id": "MFZKlF4IzQKn",
        "outputId": "98a7ac1b-9d15-4ba4-cbca-ca80b7800a45"
      },
      "outputs": [
        {
          "data": {
            "text/plain": [
              "[6, 4, 3, 8]"
            ]
          },
          "execution_count": 9,
          "metadata": {},
          "output_type": "execute_result"
        }
      ],
      "source": [
        "list(map(sum, [[1, 2, 3], [2, 2], [3], [4, 1, 1, 1, 1]]))"
      ]
    },
    {
      "cell_type": "code",
      "execution_count": null,
      "metadata": {
        "colab": {
          "base_uri": "https://localhost:8080/"
        },
        "id": "s-DlJh0yzb4e",
        "outputId": "7b8c9348-afbb-4cbd-c3e5-8a3c2f2eecdb"
      },
      "outputs": [
        {
          "name": "stdout",
          "output_type": "stream",
          "text": [
            "listcomp        : 0.026 0.025 0.028 0.034 0.041\n",
            "listcomp + func : 0.033 0.033 0.033 0.023 0.017\n",
            "filter + lambda : 0.015 0.014 0.014 0.016 0.015\n",
            "filter + func   : 0.013 0.013 0.014 0.014 0.014\n"
          ]
        }
      ],
      "source": [
        "import timeit\n",
        "\n",
        "TIMES = 10000\n",
        "\n",
        "SETUP = \"\"\"\n",
        "symbols = '$¢£¥€¤'\n",
        "def non_ascii(c):\n",
        "    return c > 127\n",
        "\"\"\"\n",
        "\n",
        "def clock(label, cmd):\n",
        "    res = timeit.repeat(cmd, setup=SETUP, number=TIMES)\n",
        "    print(label, *(f'{x:.3f}' for x in res))\n",
        "\n",
        "clock('listcomp        :', '[ord(s) for s in symbols if ord(s) > 127]')\n",
        "clock('listcomp + func :', '[ord(s) for s in symbols if non_ascii(ord(s))]')\n",
        "clock('filter + lambda :', 'list(filter(lambda c: c > 127, map(ord, symbols)))')\n",
        "clock('filter + func   :', 'list(filter(non_ascii, map(ord, symbols)))')"
      ]
    },
    {
      "cell_type": "markdown",
      "metadata": {
        "id": "BV640RiR02ua"
      },
      "source": [
        "## Produtos cartesianos"
      ]
    },
    {
      "cell_type": "code",
      "execution_count": null,
      "metadata": {
        "colab": {
          "base_uri": "https://localhost:8080/"
        },
        "id": "Q2PrV1Uv0zdH",
        "outputId": "7b522e8b-fe2c-4f86-fe29-58066f840768"
      },
      "outputs": [
        {
          "data": {
            "text/plain": [
              "[('black', 'S'),\n",
              " ('black', 'M'),\n",
              " ('black', 'L'),\n",
              " ('white', 'S'),\n",
              " ('white', 'M'),\n",
              " ('white', 'L')]"
            ]
          },
          "execution_count": 11,
          "metadata": {},
          "output_type": "execute_result"
        }
      ],
      "source": [
        "colors = ['black', 'white']\n",
        "sizes = ['S', 'M', 'L']\n",
        "tshirts = [\n",
        "    (color, size)\n",
        "    for color in colors\n",
        "    for size in sizes\n",
        "]\n",
        "\n",
        "tshirts"
      ]
    },
    {
      "cell_type": "code",
      "execution_count": null,
      "metadata": {
        "colab": {
          "base_uri": "https://localhost:8080/"
        },
        "id": "ysoK0q8E05Vx",
        "outputId": "09016b45-c5ea-4389-a502-2997b1d54726"
      },
      "outputs": [
        {
          "name": "stdout",
          "output_type": "stream",
          "text": [
            "('black', 'S')\n",
            "('black', 'M')\n",
            "('black', 'L')\n",
            "('white', 'S')\n",
            "('white', 'M')\n",
            "('white', 'L')\n"
          ]
        }
      ],
      "source": [
        "for color in colors:\n",
        "    for size in sizes:\n",
        "        print((color, size))"
      ]
    },
    {
      "cell_type": "markdown",
      "metadata": {
        "id": "pDAXapGc1QKJ"
      },
      "source": [
        "## Expressões geradoras\n",
        "\n",
        "Economizam memória, pois geram itens um por um usando o protocolo de iteradores, ao invés de criar uma lista completa somente para alimentar outro construtor.\n",
        "\n",
        "Útil para:\n",
        "- inicializar sequências que não sejam listas\n",
        "- gerar uma saída que não precise ser armazenada em memória"
      ]
    },
    {
      "cell_type": "code",
      "execution_count": null,
      "metadata": {
        "colab": {
          "base_uri": "https://localhost:8080/"
        },
        "id": "mAoHD_fS1OdS",
        "outputId": "e6fd3e23-e676-48e8-9ca2-61219554242c"
      },
      "outputs": [
        {
          "data": {
            "text/plain": [
              "(36, 162, 163, 165, 8364, 164)"
            ]
          },
          "execution_count": 13,
          "metadata": {},
          "output_type": "execute_result"
        }
      ],
      "source": [
        "symbols = '$¢£¥€¤'\n",
        "tuple(ord(symbol) for symbol in symbols)"
      ]
    },
    {
      "cell_type": "code",
      "execution_count": null,
      "metadata": {
        "colab": {
          "base_uri": "https://localhost:8080/"
        },
        "id": "usUtqGhW2OX1",
        "outputId": "fc4b5e82-00f4-4ef7-c2e7-9a8553589c32"
      },
      "outputs": [
        {
          "data": {
            "text/plain": [
              "array('I', [36, 162, 163, 165, 8364, 164])"
            ]
          },
          "execution_count": 14,
          "metadata": {},
          "output_type": "execute_result"
        }
      ],
      "source": [
        "import array\n",
        "array.array('I', (ord(symbol) for symbol in symbols))"
      ]
    },
    {
      "cell_type": "markdown",
      "metadata": {
        "id": "h3fpnqan2zJx"
      },
      "source": [
        "A expressão geradora gera itens um por um, e portanto, uma lista com todas as variações (no caso abaixo, de variações de camiseta), nunca seria construída."
      ]
    },
    {
      "cell_type": "code",
      "execution_count": null,
      "metadata": {
        "colab": {
          "base_uri": "https://localhost:8080/"
        },
        "id": "1j-RDtvN2Ov_",
        "outputId": "fc04f7c1-5e23-4ab9-de7f-6b06dd657ca6"
      },
      "outputs": [
        {
          "name": "stdout",
          "output_type": "stream",
          "text": [
            "black S\n",
            "black M\n",
            "black L\n",
            "white S\n",
            "white M\n",
            "white L\n"
          ]
        }
      ],
      "source": [
        "colors = ['black', 'white']\n",
        "sizes = ['S', 'M', 'L']\n",
        "\n",
        "for tshirt in (f'{c} {s}' for c in colors for s in sizes):\n",
        "    print(tshirt)"
      ]
    },
    {
      "cell_type": "markdown",
      "metadata": {
        "id": "q1A6M3ky3uas"
      },
      "source": [
        "## Tuplas\n",
        "\n",
        "Armazenadas como registros em posições específicas. Logo, quando utilizamos, sabemos a quantidade de itens - normalmente fixo - e sua ordem é importante."
      ]
    },
    {
      "cell_type": "code",
      "execution_count": null,
      "metadata": {
        "colab": {
          "base_uri": "https://localhost:8080/"
        },
        "id": "RmTp16V-3Rcq",
        "outputId": "f695e55f-23f5-4496-a391-5d0cc33423b1"
      },
      "outputs": [
        {
          "name": "stdout",
          "output_type": "stream",
          "text": [
            "SP\n",
            "SP\n",
            "SP\n"
          ]
        }
      ],
      "source": [
        "cidades_e_estados = [\n",
        "    ('São Paulo', 'SP'),\n",
        "    ('São Caetano do Sul', 'SP'),\n",
        "    ('São José dos Campos', 'SP')\n",
        "]\n",
        "\n",
        "for cidade, estado in cidades_e_estados:\n",
        "    print(estado)"
      ]
    },
    {
      "cell_type": "markdown",
      "metadata": {
        "id": "HrWpk2Hf5qDX"
      },
      "source": [
        "Desempacotamento de tuplas com swap, trocando valores de duas variáveis sem usar uma temporária."
      ]
    },
    {
      "cell_type": "code",
      "execution_count": null,
      "metadata": {
        "colab": {
          "base_uri": "https://localhost:8080/"
        },
        "id": "LD9P12NY5Xv3",
        "outputId": "9f5223b2-f058-463d-f010-e9be3da1d4bd"
      },
      "outputs": [
        {
          "data": {
            "application/vnd.google.colaboratory.intrinsic+json": {
              "type": "string"
            },
            "text/plain": [
              "'Mariana'"
            ]
          },
          "execution_count": 17,
          "metadata": {},
          "output_type": "execute_result"
        }
      ],
      "source": [
        "nome, sobrenome =  ('Pinheiro', 'Mariana')\n",
        "nome, sobrenome = sobrenome, nome\n",
        "\n",
        "nome"
      ]
    },
    {
      "cell_type": "code",
      "execution_count": null,
      "metadata": {
        "colab": {
          "base_uri": "https://localhost:8080/"
        },
        "id": "G8utFrVm6DDE",
        "outputId": "8d3b00cf-3071-4faa-866a-04b81fa419e3"
      },
      "outputs": [
        {
          "data": {
            "application/vnd.google.colaboratory.intrinsic+json": {
              "type": "string"
            },
            "text/plain": [
              "'Pinheiro'"
            ]
          },
          "execution_count": 18,
          "metadata": {},
          "output_type": "execute_result"
        }
      ],
      "source": [
        "sobrenome"
      ]
    },
    {
      "cell_type": "markdown",
      "metadata": {
        "id": "m73RKFgm6IgK"
      },
      "source": [
        "Prefixar um argumento com um asterisco ao chamar uma função."
      ]
    },
    {
      "cell_type": "code",
      "execution_count": null,
      "metadata": {
        "colab": {
          "base_uri": "https://localhost:8080/"
        },
        "id": "sIjOMkjd6Dw1",
        "outputId": "3e3d1ccb-ea03-4ab0-fd74-278f556fb447"
      },
      "outputs": [
        {
          "data": {
            "text/plain": [
              "(2, 4)"
            ]
          },
          "execution_count": 19,
          "metadata": {},
          "output_type": "execute_result"
        }
      ],
      "source": [
        "# (a // b, x % y)\n",
        "divmod(20, 8)"
      ]
    },
    {
      "cell_type": "code",
      "execution_count": null,
      "metadata": {
        "colab": {
          "base_uri": "https://localhost:8080/"
        },
        "id": "g0WN1JJA64Gs",
        "outputId": "9b21079a-fad8-46a0-a00d-f1d2c1959722"
      },
      "outputs": [
        {
          "data": {
            "text/plain": [
              "(2, 4)"
            ]
          },
          "execution_count": 20,
          "metadata": {},
          "output_type": "execute_result"
        }
      ],
      "source": [
        "t = (20, 8)\n",
        "divmod(*t)"
      ]
    },
    {
      "cell_type": "code",
      "execution_count": null,
      "metadata": {
        "colab": {
          "base_uri": "https://localhost:8080/"
        },
        "id": "U1ggReop7TIm",
        "outputId": "32f0f618-8af7-4304-d441-a08e7c33d1f6"
      },
      "outputs": [
        {
          "data": {
            "text/plain": [
              "(2.0, 4.100000000000001)"
            ]
          },
          "execution_count": 21,
          "metadata": {},
          "output_type": "execute_result"
        }
      ],
      "source": [
        "t = (20.5, 8.2)\n",
        "divmod(*t)"
      ]
    },
    {
      "cell_type": "markdown",
      "metadata": {
        "id": "9O5s-VNT8zZz"
      },
      "source": [
        "Usando * para capturar itens excedentes. Definir parâmetros de função com *args para capturar argumentos em excesso."
      ]
    },
    {
      "cell_type": "code",
      "execution_count": null,
      "metadata": {
        "colab": {
          "base_uri": "https://localhost:8080/"
        },
        "id": "F_LU6l9e8XLn",
        "outputId": "7d49479f-adae-4095-b373-f51d1fc0f30e"
      },
      "outputs": [
        {
          "data": {
            "text/plain": [
              "[2, 3, 4, 5, 6, 7, 8, 9]"
            ]
          },
          "execution_count": 22,
          "metadata": {},
          "output_type": "execute_result"
        }
      ],
      "source": [
        "a, b, *rest = range(10)\n",
        "rest"
      ]
    },
    {
      "cell_type": "code",
      "execution_count": null,
      "metadata": {
        "colab": {
          "base_uri": "https://localhost:8080/"
        },
        "id": "mamh1rbZ90Fq",
        "outputId": "0e5f1913-d621-4eb1-9201-8a1d6511fb52"
      },
      "outputs": [
        {
          "data": {
            "text/plain": [
              "[0, 1, 2, 3, 4, 5, 6, 7]"
            ]
          },
          "execution_count": 23,
          "metadata": {},
          "output_type": "execute_result"
        }
      ],
      "source": [
        "*a, b, rest = range(10)\n",
        "a"
      ]
    },
    {
      "cell_type": "code",
      "execution_count": null,
      "metadata": {
        "colab": {
          "base_uri": "https://localhost:8080/"
        },
        "id": "Mz4JP1ba92iY",
        "outputId": "8e0ac58a-7f40-499a-dbaa-38e254f9cf92"
      },
      "outputs": [
        {
          "name": "stdout",
          "output_type": "stream",
          "text": [
            "SP\n",
            "SP\n",
            "SP\n"
          ]
        }
      ],
      "source": [
        "cidades_e_estados_com_pais = [\n",
        "    ('São Paulo', ('SP', 'BR')),\n",
        "    ('São Caetano do Sul', ('SP', 'BR')),\n",
        "    ('São José dos Campos', ('SP', 'BR'))\n",
        "]\n",
        "\n",
        "for cidade, (estado, pais) in cidades_e_estados_com_pais:\n",
        "    print(estado)"
      ]
    },
    {
      "cell_type": "markdown",
      "metadata": {
        "id": "OF3rMPhDAF1k"
      },
      "source": [
        "Tuplas nomeadas pode ser útil no debugging."
      ]
    },
    {
      "cell_type": "code",
      "execution_count": null,
      "metadata": {
        "colab": {
          "base_uri": "https://localhost:8080/"
        },
        "id": "z4KnMp_U_1tN",
        "outputId": "5f011e90-0b8f-4d3c-bb45-ecd412fa3326"
      },
      "outputs": [
        {
          "data": {
            "text/plain": [
              "Cep(inicio_da_faixa=0, fim_da_faixa=100)"
            ]
          },
          "execution_count": 25,
          "metadata": {},
          "output_type": "execute_result"
        }
      ],
      "source": [
        "from collections import namedtuple\n",
        "\n",
        "FaixaCep = namedtuple('Cep', ['inicio_da_faixa', 'fim_da_faixa'])\n",
        "\n",
        "cep1 = FaixaCep(0, 100)\n",
        "cep1"
      ]
    },
    {
      "cell_type": "code",
      "execution_count": null,
      "metadata": {
        "colab": {
          "base_uri": "https://localhost:8080/"
        },
        "id": "Aka6x_YcBL2g",
        "outputId": "215e7d5d-e17a-42be-e098-6305e7a2cc7f"
      },
      "outputs": [
        {
          "data": {
            "text/plain": [
              "('inicio_da_faixa', 'fim_da_faixa')"
            ]
          },
          "execution_count": 26,
          "metadata": {},
          "output_type": "execute_result"
        }
      ],
      "source": [
        "cep1._fields"
      ]
    },
    {
      "cell_type": "code",
      "execution_count": null,
      "metadata": {
        "colab": {
          "base_uri": "https://localhost:8080/"
        },
        "id": "sRhQVpGPBXxm",
        "outputId": "c7f71668-c655-4eb6-a22d-0db16d28d4e1"
      },
      "outputs": [
        {
          "data": {
            "text/plain": [
              "Cep(inicio_da_faixa=101, fim_da_faixa=200)"
            ]
          },
          "execution_count": 27,
          "metadata": {},
          "output_type": "execute_result"
        }
      ],
      "source": [
        "cep2_data = (101, 200)\n",
        "cep2 = FaixaCep._make(cep2_data)\n",
        "cep2"
      ]
    },
    {
      "cell_type": "code",
      "execution_count": null,
      "metadata": {
        "colab": {
          "base_uri": "https://localhost:8080/"
        },
        "id": "BAp933eABs5w",
        "outputId": "01302649-0756-49ab-a966-c6a86585111b"
      },
      "outputs": [
        {
          "data": {
            "text/plain": [
              "OrderedDict([('inicio_da_faixa', 101), ('fim_da_faixa', 200)])"
            ]
          },
          "execution_count": 28,
          "metadata": {},
          "output_type": "execute_result"
        }
      ],
      "source": [
        "cep2._asdict()"
      ]
    },
    {
      "cell_type": "code",
      "execution_count": null,
      "metadata": {
        "colab": {
          "base_uri": "https://localhost:8080/"
        },
        "id": "8uwNPiiJCPIW",
        "outputId": "ce2bb934-dc93-4b8f-8318-3ba2d87de436"
      },
      "outputs": [
        {
          "data": {
            "text/plain": [
              "Cep(inicio_da_faixa=201, fim_da_faixa=300)"
            ]
          },
          "execution_count": 29,
          "metadata": {},
          "output_type": "execute_result"
        }
      ],
      "source": [
        "cep3_data = (201, 300)\n",
        "cep3 = FaixaCep(*cep3_data)\n",
        "cep3"
      ]
    },
    {
      "cell_type": "markdown",
      "metadata": {
        "id": "8C6A5nZaJ-Wh"
      },
      "source": [
        "## Slicing\n",
        "\n",
        "[start:stop:step]"
      ]
    },
    {
      "cell_type": "code",
      "execution_count": null,
      "metadata": {
        "colab": {
          "base_uri": "https://localhost:8080/"
        },
        "id": "hgrUfGTgERTQ",
        "outputId": "7dfa8e5d-16e4-4b8a-9175-da7f9892420c"
      },
      "outputs": [
        {
          "data": {
            "text/plain": [
              "[10, 30, 50]"
            ]
          },
          "execution_count": 30,
          "metadata": {},
          "output_type": "execute_result"
        }
      ],
      "source": [
        "l = [10, 20, 30, 40, 50, 60]\n",
        "\n",
        "# 2 em 2\n",
        "l[::2]"
      ]
    },
    {
      "cell_type": "code",
      "execution_count": null,
      "metadata": {
        "colab": {
          "base_uri": "https://localhost:8080/"
        },
        "id": "nAlg-QPyLTq6",
        "outputId": "dcb3a9f4-20ca-4733-a18f-805a7dd241e4"
      },
      "outputs": [
        {
          "data": {
            "text/plain": [
              "[60, 40, 20]"
            ]
          },
          "execution_count": 31,
          "metadata": {},
          "output_type": "execute_result"
        }
      ],
      "source": [
        "l[::-2]"
      ]
    },
    {
      "cell_type": "code",
      "execution_count": null,
      "metadata": {
        "colab": {
          "base_uri": "https://localhost:8080/"
        },
        "id": "lwE2_ho4LYjo",
        "outputId": "f0b57226-0928-442a-b959-27083267ce0d"
      },
      "outputs": [
        {
          "data": {
            "text/plain": [
              "[30, 60]"
            ]
          },
          "execution_count": 32,
          "metadata": {},
          "output_type": "execute_result"
        }
      ],
      "source": [
        "# Começando no índice 2, de 3 em 3\n",
        "l[2::3]"
      ]
    },
    {
      "cell_type": "code",
      "execution_count": null,
      "metadata": {
        "colab": {
          "base_uri": "https://localhost:8080/"
        },
        "id": "eMyvR1jTLb8M",
        "outputId": "bc78a832-16e4-4397-81b0-45b2047d6277"
      },
      "outputs": [
        {
          "name": "stdout",
          "output_type": "stream",
          "text": [
            "     $17.50  Pimoroni PiBrella                 \n",
            "      $4.95  6mm Tactile Switch x20            \n",
            "     $28.00  Panavise Jr. - PV-201             \n",
            "     $34.95  PiTFT Mini Kit 320x240            \n"
          ]
        }
      ],
      "source": [
        "invoice = \"\"\"\n",
        "0.....6.................................40........52...55........\n",
        "1909  Pimoroni PiBrella                      $17.50    3    $52.50\n",
        "1489  6mm Tactile Switch x20                  $4.95    2    $9.90\n",
        "1510  Panavise Jr. - PV-201                  $28.00    1    $28.00\n",
        "1601  PiTFT Mini Kit 320x240                 $34.95    1    $34.95\n",
        "\"\"\"\n",
        "\n",
        "SKU = slice(0, 6)\n",
        "DESCRIPTION = slice(6, 40)\n",
        "UNIT_PRICE = slice(40, 52)\n",
        "QUANTITY = slice(52, 55)\n",
        "ITEM_TOTAL = slice(55, None)\n",
        "\n",
        "line_items = invoice.split('\\n')[2:-1]\n",
        "\n",
        "for item in line_items:\n",
        "    print(item[UNIT_PRICE], item[DESCRIPTION])"
      ]
    },
    {
      "cell_type": "code",
      "execution_count": null,
      "metadata": {
        "colab": {
          "base_uri": "https://localhost:8080/"
        },
        "id": "2fpQx30WMOPh",
        "outputId": "864ee6d4-7d59-485f-f6d3-31033a21c769"
      },
      "outputs": [
        {
          "data": {
            "text/plain": [
              "['1909  Pimoroni PiBrella                      $17.50    3    $52.50',\n",
              " '1489  6mm Tactile Switch x20                  $4.95    2    $9.90',\n",
              " '1510  Panavise Jr. - PV-201                  $28.00    1    $28.00',\n",
              " '1601  PiTFT Mini Kit 320x240                 $34.95    1    $34.95']"
            ]
          },
          "execution_count": 34,
          "metadata": {},
          "output_type": "execute_result"
        }
      ],
      "source": [
        "line_items"
      ]
    },
    {
      "cell_type": "code",
      "execution_count": null,
      "metadata": {
        "colab": {
          "base_uri": "https://localhost:8080/"
        },
        "id": "x6yJ_gwTMtfF",
        "outputId": "c22333b5-f61b-40ef-b87b-8057d7629994"
      },
      "outputs": [
        {
          "data": {
            "text/plain": [
              "[0, 1, 20, 30, 5, 6, 7, 8, 9]"
            ]
          },
          "execution_count": 35,
          "metadata": {},
          "output_type": "execute_result"
        }
      ],
      "source": [
        "l = list(range(10))\n",
        "l[2:5] = [20, 30]\n",
        "l"
      ]
    },
    {
      "cell_type": "code",
      "execution_count": null,
      "metadata": {
        "colab": {
          "base_uri": "https://localhost:8080/"
        },
        "id": "LyhrxrEPN1io",
        "outputId": "7d4e2841-d400-42c9-aa4b-88338ef0c9bc"
      },
      "outputs": [
        {
          "data": {
            "text/plain": [
              "[0, 1, 20, 11, 5, 6, 22, 8, 9]"
            ]
          },
          "execution_count": 36,
          "metadata": {},
          "output_type": "execute_result"
        }
      ],
      "source": [
        "l[3::3] = [11, 22]\n",
        "l"
      ]
    },
    {
      "cell_type": "code",
      "execution_count": null,
      "metadata": {
        "colab": {
          "base_uri": "https://localhost:8080/"
        },
        "id": "HsG9LHODOAXc",
        "outputId": "735760b9-de2b-4663-fb68-db5725431d36"
      },
      "outputs": [
        {
          "data": {
            "text/plain": [
              "[0, 1, 999, 6, 22, 8, 9]"
            ]
          },
          "execution_count": 37,
          "metadata": {},
          "output_type": "execute_result"
        }
      ],
      "source": [
        "l[2:5] = [999]\n",
        "l"
      ]
    },
    {
      "cell_type": "code",
      "execution_count": null,
      "metadata": {
        "colab": {
          "base_uri": "https://localhost:8080/"
        },
        "id": "dq28gUY8OXxC",
        "outputId": "6d1c54d3-4fc1-41fc-94c4-9cf2bdf53970"
      },
      "outputs": [
        {
          "data": {
            "text/plain": [
              "[1, 2, 3, 1, 2, 3, 1, 2, 3, 1, 2, 3, 1, 2, 3]"
            ]
          },
          "execution_count": 38,
          "metadata": {},
          "output_type": "execute_result"
        }
      ],
      "source": [
        "l = [1, 2, 3]\n",
        "l * 5"
      ]
    },
    {
      "cell_type": "code",
      "execution_count": null,
      "metadata": {
        "colab": {
          "base_uri": "https://localhost:8080/"
        },
        "id": "h5V66sZ7Oge-",
        "outputId": "c19f9ef8-d546-4e94-b72a-1342a877d51f"
      },
      "outputs": [
        {
          "data": {
            "application/vnd.google.colaboratory.intrinsic+json": {
              "type": "string"
            },
            "text/plain": [
              "'marimarimarimarimari'"
            ]
          },
          "execution_count": 39,
          "metadata": {},
          "output_type": "execute_result"
        }
      ],
      "source": [
        "'mari' * 5"
      ]
    },
    {
      "cell_type": "code",
      "execution_count": null,
      "metadata": {
        "colab": {
          "base_uri": "https://localhost:8080/"
        },
        "id": "3FyxYmSNOi7w",
        "outputId": "7969795c-4c8d-4b76-b192-7a9d47ce0d37"
      },
      "outputs": [
        {
          "data": {
            "text/plain": [
              "[[], [], []]"
            ]
          },
          "execution_count": 40,
          "metadata": {},
          "output_type": "execute_result"
        }
      ],
      "source": [
        "[[]] * 3"
      ]
    },
    {
      "cell_type": "code",
      "execution_count": null,
      "metadata": {
        "colab": {
          "base_uri": "https://localhost:8080/"
        },
        "id": "uQG8XypNOthO",
        "outputId": "de32f806-b03c-4094-b131-1a863c484c44"
      },
      "outputs": [
        {
          "data": {
            "text/plain": [
              "[['_', '_', '_'], ['_', '_', '_'], ['_', '_', '_']]"
            ]
          },
          "execution_count": 41,
          "metadata": {},
          "output_type": "execute_result"
        }
      ],
      "source": [
        "board = [['_'] * 3 for i in range(3)]\n",
        "board"
      ]
    },
    {
      "cell_type": "code",
      "execution_count": null,
      "metadata": {
        "colab": {
          "base_uri": "https://localhost:8080/"
        },
        "id": "mpSMyKrpQCLp",
        "outputId": "78aaf097-a35e-4351-bc33-4233719ac123"
      },
      "outputs": [
        {
          "data": {
            "text/plain": [
              "[['_', '_', '_'], ['_', '_', 'X'], ['_', '_', '_']]"
            ]
          },
          "execution_count": 42,
          "metadata": {},
          "output_type": "execute_result"
        }
      ],
      "source": [
        "board[1][2] = 'X'\n",
        "board"
      ]
    },
    {
      "cell_type": "code",
      "execution_count": null,
      "metadata": {
        "colab": {
          "base_uri": "https://localhost:8080/"
        },
        "id": "TDeG78rVQFJr",
        "outputId": "03396a39-3027-49b7-97ab-1cd6ff40a192"
      },
      "outputs": [
        {
          "data": {
            "text/plain": [
              "[['_', '_', '_'], ['_', '_', '_'], ['_', '_', '_']]"
            ]
          },
          "execution_count": 43,
          "metadata": {},
          "output_type": "execute_result"
        }
      ],
      "source": [
        "weird_board = [['_'] * 3] * 3\n",
        "weird_board"
      ]
    },
    {
      "cell_type": "code",
      "execution_count": null,
      "metadata": {
        "colab": {
          "base_uri": "https://localhost:8080/"
        },
        "id": "tIp6FoPHQKnx",
        "outputId": "222dbdca-cbd8-433e-cf37-feac538c24af"
      },
      "outputs": [
        {
          "data": {
            "text/plain": [
              "[['_', '_', 'O'], ['_', '_', 'O'], ['_', '_', 'O']]"
            ]
          },
          "execution_count": 44,
          "metadata": {},
          "output_type": "execute_result"
        }
      ],
      "source": [
        "weird_board[1][2] = 'O'\n",
        "weird_board"
      ]
    },
    {
      "cell_type": "code",
      "execution_count": null,
      "metadata": {
        "colab": {
          "base_uri": "https://localhost:8080/"
        },
        "id": "pD7j1skcQUkl",
        "outputId": "8e443e55-d7ae-4fc3-caa6-000ab976e4ab"
      },
      "outputs": [
        {
          "data": {
            "text/plain": [
              "[['_', '_', '_'], ['_', '_', '_'], ['_', '_', '_']]"
            ]
          },
          "execution_count": 45,
          "metadata": {},
          "output_type": "execute_result"
        }
      ],
      "source": [
        "board = []\n",
        "for i in range(3):\n",
        "    row = ['_'] * 3\n",
        "    board.append(row)\n",
        "board"
      ]
    },
    {
      "cell_type": "markdown",
      "metadata": {
        "id": "dA8ezBbSyRRA"
      },
      "source": [
        "## Atribuições combinadas e sequências"
      ]
    },
    {
      "cell_type": "code",
      "execution_count": null,
      "metadata": {
        "colab": {
          "base_uri": "https://localhost:8080/"
        },
        "id": "je8YWHCZx1AC",
        "outputId": "79f11159-225c-40b9-b10e-151596d31942"
      },
      "outputs": [
        {
          "data": {
            "text/plain": [
              "140107937834240"
            ]
          },
          "execution_count": 46,
          "metadata": {},
          "output_type": "execute_result"
        }
      ],
      "source": [
        "l = [1, 2, 3]\n",
        "idl = id(l)\n",
        "idl"
      ]
    },
    {
      "cell_type": "code",
      "execution_count": null,
      "metadata": {
        "colab": {
          "base_uri": "https://localhost:8080/"
        },
        "id": "ODOPT6imy1JQ",
        "outputId": "e5ce4061-280e-48bb-ee7f-410f3f3c55bb"
      },
      "outputs": [
        {
          "data": {
            "text/plain": [
              "[1, 2, 3, 1, 2, 3]"
            ]
          },
          "execution_count": 47,
          "metadata": {},
          "output_type": "execute_result"
        }
      ],
      "source": [
        "l *= 2\n",
        "l"
      ]
    },
    {
      "cell_type": "code",
      "execution_count": null,
      "metadata": {
        "colab": {
          "base_uri": "https://localhost:8080/"
        },
        "id": "rbcyjuhmzAbU",
        "outputId": "c187b884-58a2-4c14-fb8f-7adae5420f45"
      },
      "outputs": [
        {
          "data": {
            "text/plain": [
              "True"
            ]
          },
          "execution_count": 48,
          "metadata": {},
          "output_type": "execute_result"
        }
      ],
      "source": [
        "# Sequência mutável, continua sendo o mesmo objeto.\n",
        "id(l) == idl"
      ]
    },
    {
      "cell_type": "code",
      "execution_count": null,
      "metadata": {
        "colab": {
          "base_uri": "https://localhost:8080/"
        },
        "id": "2kSos6KSzCHy",
        "outputId": "af70622f-3f3c-490c-d51a-c4fcbf5240fb"
      },
      "outputs": [
        {
          "data": {
            "text/plain": [
              "140107884940176"
            ]
          },
          "execution_count": 49,
          "metadata": {},
          "output_type": "execute_result"
        }
      ],
      "source": [
        "t = (1, 2, 3)\n",
        "idt = id(t)\n",
        "idt"
      ]
    },
    {
      "cell_type": "code",
      "execution_count": null,
      "metadata": {
        "colab": {
          "base_uri": "https://localhost:8080/"
        },
        "id": "fHXSTeQ7zEIY",
        "outputId": "3a2549d4-4612-4c78-d797-19a68f098d28"
      },
      "outputs": [
        {
          "data": {
            "text/plain": [
              "False"
            ]
          },
          "execution_count": 50,
          "metadata": {},
          "output_type": "execute_result"
        }
      ],
      "source": [
        "# Sequência imutável, uma nova tupla é criada.\n",
        "t *= 2\n",
        "id(t) == idt"
      ]
    },
    {
      "cell_type": "markdown",
      "metadata": {
        "id": "aEF316IGzv-S"
      },
      "source": [
        "E por conta disso, a concatenação repetida de sequências imutáveis é ineficiente. Ao invés de concatenar os novos itens, o interpretador cria uma nova sequência.\n",
        "\n",
        "Apenas disso, essa regra não vale para strings, já que a criação por laço é bem comum, as instâncias são alocadas em memória com espaço extra, assim a concatenação não exigirá uma cópia da string completa todas as vezes."
      ]
    },
    {
      "cell_type": "code",
      "execution_count": null,
      "metadata": {
        "colab": {
          "base_uri": "https://localhost:8080/"
        },
        "id": "xLE8kAf2znq1",
        "outputId": "bcb04809-9b88-49a6-c820-49501c918a17"
      },
      "outputs": [
        {
          "name": "stdout",
          "output_type": "stream",
          "text": [
            "TypeError(\"'tuple' object does not support item assignment\")\n"
          ]
        }
      ],
      "source": [
        "t = (1, 2, [30, 40])\n",
        "try:\n",
        "    t[2] += [50, 60]\n",
        "except TypeError as e:\n",
        "    print(repr(e))"
      ]
    },
    {
      "cell_type": "code",
      "execution_count": null,
      "metadata": {
        "colab": {
          "base_uri": "https://localhost:8080/"
        },
        "id": "hd66yCz_zXKz",
        "outputId": "33082059-a47a-4c7c-a3fb-38d41b0627c7"
      },
      "outputs": [
        {
          "data": {
            "text/plain": [
              "(1, 2, [30, 40, 50, 60])"
            ]
          },
          "execution_count": 52,
          "metadata": {},
          "output_type": "execute_result"
        }
      ],
      "source": [
        "t"
      ]
    },
    {
      "cell_type": "code",
      "execution_count": null,
      "metadata": {
        "colab": {
          "base_uri": "https://localhost:8080/"
        },
        "id": "OvmGmGkq0A3O",
        "outputId": "f4719c33-75d8-48e7-e83e-28f9673a704e"
      },
      "outputs": [
        {
          "data": {
            "text/plain": [
              "(1, 2, [30, 40, 50, 60])"
            ]
          },
          "execution_count": 53,
          "metadata": {},
          "output_type": "execute_result"
        }
      ],
      "source": [
        "t = (1, 2, [30, 40])\n",
        "t[2].extend([50,60])\n",
        "t"
      ]
    },
    {
      "cell_type": "code",
      "execution_count": null,
      "metadata": {
        "colab": {
          "base_uri": "https://localhost:8080/"
        },
        "id": "3B7E49ts1N8Z",
        "outputId": "d43e9e61-da4a-4554-ef22-6f867571987c"
      },
      "outputs": [
        {
          "name": "stdout",
          "output_type": "stream",
          "text": [
            "  1           0 LOAD_NAME                0 (s)\n",
            "              2 LOAD_NAME                1 (a)\n",
            "              4 DUP_TOP_TWO\n",
            "              6 BINARY_SUBSCR\n",
            "              8 LOAD_NAME                2 (b)\n",
            "             10 INPLACE_ADD\n",
            "             12 ROT_THREE\n",
            "             14 STORE_SUBSCR\n",
            "             16 LOAD_CONST               0 (None)\n",
            "             18 RETURN_VALUE\n"
          ]
        }
      ],
      "source": [
        "import dis\n",
        "\n",
        "dis.dis('s[a] += b')"
      ]
    },
    {
      "cell_type": "markdown",
      "metadata": {
        "id": "Hw7VB7R32Dki"
      },
      "source": [
        "Evitar colocar itens mutáveis em tuplas."
      ]
    },
    {
      "cell_type": "markdown",
      "metadata": {
        "id": "CMa96o7E2fCb"
      },
      "source": [
        "## Fluent interface\n",
        "Alterações in place devolvem None.\n",
        "E, por conta disso, os métodos que devolvem novos objetos (todos os métodos de str, por exemplo) podem ser chamados pela fluent interface."
      ]
    },
    {
      "cell_type": "code",
      "execution_count": null,
      "metadata": {
        "id": "vIUCl4Vj2jY-"
      },
      "outputs": [],
      "source": [
        "class Poem:\n",
        "    def __init__(self, title: str) -> None:\n",
        "        self.title = title\n",
        "\n",
        "    def indent(self, spaces: int):\n",
        "        \"\"\"Indent the poem with the specified number of spaces.\"\"\"\n",
        "        self.title = \" \" * spaces + self.title\n",
        "        return self\n",
        "\n",
        "    def suffix(self, author: str):\n",
        "        \"\"\"Suffix the poem with the author name.\"\"\"\n",
        "        self.title = f\"{self.title} - {author}\"\n",
        "        return self"
      ]
    },
    {
      "cell_type": "code",
      "execution_count": null,
      "metadata": {
        "id": "Ahbt8oF52kfM"
      },
      "outputs": [],
      "source": [
        "Poem(\"Road Not Travelled\").indent(4).suffix(\"Robert Frost\").title"
      ]
    },
    {
      "cell_type": "markdown",
      "metadata": {
        "id": "-ZcmPAJZ3ScG"
      },
      "source": [
        "Sort"
      ]
    },
    {
      "cell_type": "code",
      "execution_count": null,
      "metadata": {
        "id": "jObBabjv3EQS"
      },
      "outputs": [],
      "source": [
        "l = ['abc', 'Aaa', 'Mar', 'mmm', 'mar']\n",
        "\n",
        "sorted(l)"
      ]
    },
    {
      "cell_type": "code",
      "execution_count": null,
      "metadata": {
        "id": "NEU4v9lK3bln"
      },
      "outputs": [],
      "source": [
        "sorted(l, reverse=True, key=str.lower)"
      ]
    },
    {
      "cell_type": "code",
      "execution_count": null,
      "metadata": {
        "id": "QbKJwZi53jNc"
      },
      "outputs": [],
      "source": [
        "min(l, key=len)"
      ]
    },
    {
      "cell_type": "code",
      "execution_count": null,
      "metadata": {
        "id": "-mN3zRei3so1"
      },
      "outputs": [],
      "source": [
        "max(l, key=str.lower)"
      ]
    },
    {
      "cell_type": "markdown",
      "metadata": {
        "id": "IrYpFpLZ7q_3"
      },
      "source": [
        "Sorted: gera uma nova lista de strings\n",
        "\n",
        ".sort(): ordena a lista in-place e devolve o valor None"
      ]
    },
    {
      "cell_type": "code",
      "execution_count": null,
      "metadata": {
        "id": "eLJ4GQ1I7dtQ"
      },
      "outputs": [],
      "source": [
        "fruits = ['grape', 'raspberry', 'apple', 'banana']\n",
        "sorted(fruits)"
      ]
    },
    {
      "cell_type": "code",
      "execution_count": null,
      "metadata": {
        "id": "EEGmIQDi7fBf"
      },
      "outputs": [],
      "source": [
        "fruits"
      ]
    },
    {
      "cell_type": "code",
      "execution_count": null,
      "metadata": {
        "id": "6WLY7KQg7hZi"
      },
      "outputs": [],
      "source": [
        "sorted(fruits, reverse=True)"
      ]
    },
    {
      "cell_type": "code",
      "execution_count": null,
      "metadata": {
        "id": "kinFuo4P7jvq"
      },
      "outputs": [],
      "source": [
        "sorted(fruits, key=len)"
      ]
    },
    {
      "cell_type": "code",
      "execution_count": null,
      "metadata": {
        "id": "TMU6iSRA7mI-"
      },
      "outputs": [],
      "source": [
        "fruits.sort()\n",
        "fruits"
      ]
    },
    {
      "cell_type": "code",
      "execution_count": null,
      "metadata": {
        "id": "PhYPuiDH8Dy9"
      },
      "outputs": [],
      "source": [
        "a = fruits.sort()\n",
        "type(a)"
      ]
    },
    {
      "cell_type": "code",
      "execution_count": null,
      "metadata": {
        "id": "tiKyZbOS4vwi"
      },
      "outputs": [],
      "source": [
        "[list(g) for k, g in itertools.groupby('AAAABBBCCD')]"
      ]
    },
    {
      "cell_type": "code",
      "execution_count": null,
      "metadata": {
        "id": "qEM69A3t38iH"
      },
      "outputs": [],
      "source": [
        "import heapq\n",
        "\n",
        "a = ['abc', 'AaaA', 'Mar', 'mmmM', 'ma', 'Mar']\n",
        "\n",
        "# Return a list with the n largest elements from the dataset defined by iterable.\n",
        "heapq.nlargest(1, a)"
      ]
    },
    {
      "cell_type": "markdown",
      "metadata": {
        "id": "kAIBp4iG8aA5"
      },
      "source": [
        "## Sequências ordenadas com bisect\n",
        "\n",
        "**bisect** e **insort** usam o algortirmo de busca binária para encontrar e inserir itens em qualquer sequência ordenada."
      ]
    },
    {
      "cell_type": "code",
      "execution_count": null,
      "metadata": {
        "colab": {
          "base_uri": "https://localhost:8080/"
        },
        "id": "yONR91jZ8YlF",
        "outputId": "ec3a6ffb-d515-4e4e-e76e-a899beeaac98"
      },
      "outputs": [
        {
          "name": "stdout",
          "output_type": "stream",
          "text": [
            "DEMO: bisect_right\n",
            "haystack ->  1  4  5  6  8 12 15 20 21 23 23 26 29 30\n",
            "31 @ 14      |  |  |  |  |  |  |  |  |  |  |  |  |  |31\n",
            "30 @ 14      |  |  |  |  |  |  |  |  |  |  |  |  |  |30\n",
            "29 @ 13      |  |  |  |  |  |  |  |  |  |  |  |  |29\n",
            "23 @ 11      |  |  |  |  |  |  |  |  |  |  |23\n",
            "22 @  9      |  |  |  |  |  |  |  |  |22\n",
            "10 @  5      |  |  |  |  |10\n",
            " 8 @  5      |  |  |  |  |8 \n",
            " 5 @  3      |  |  |5 \n",
            " 2 @  1      |2 \n",
            " 1 @  1      |1 \n",
            " 0 @  0    0 \n"
          ]
        }
      ],
      "source": [
        "'''\n",
        "Busca binária de needle (objeto a ser encontrado: agulha)\n",
        "em hatstack (espaço onde se faz a busca: palheiro).\n",
        "\n",
        "\"procurar uma agulha em um palheiro\" :)\n",
        "'''\n",
        "\n",
        "import bisect\n",
        "import sys\n",
        "\n",
        "HAYSTACK = [1, 4, 5, 6, 8, 12, 15, 20, 21, 23, 23, 26, 29, 30]\n",
        "NEEDLES = [0, 1, 2, 5, 8, 10, 22, 23, 29, 30, 31]\n",
        "\n",
        "ROW_FMT = '{0:2d} @ {1:2d}    {2}{0:<2d}'\n",
        "\n",
        "def demo(haystack, needles, bisect_fn):\n",
        "    print('DEMO:', bisect_fn.__name__)\n",
        "    print('haystack ->', ' '.join('%2d' % n for n in haystack))\n",
        "    for needle in reversed(needles):\n",
        "        position = bisect_fn(haystack, needle)\n",
        "        offset = position * '  |'\n",
        "        print(ROW_FMT.format(needle, position, offset))\n",
        "\n",
        "demo(HAYSTACK, NEEDLES, bisect.bisect)"
      ]
    },
    {
      "cell_type": "code",
      "execution_count": null,
      "metadata": {
        "colab": {
          "base_uri": "https://localhost:8080/"
        },
        "id": "7eH07JL5-mWs",
        "outputId": "4b9f2bb0-499d-4c82-d1f8-055fbb7345d6"
      },
      "outputs": [
        {
          "name": "stdout",
          "output_type": "stream",
          "text": [
            "DEMO: bisect_left\n",
            "haystack ->  1  4  5  6  8 12 15 20 21 23 23 26 29 30\n",
            "31 @ 14      |  |  |  |  |  |  |  |  |  |  |  |  |  |31\n",
            "30 @ 13      |  |  |  |  |  |  |  |  |  |  |  |  |30\n",
            "29 @ 12      |  |  |  |  |  |  |  |  |  |  |  |29\n",
            "23 @  9      |  |  |  |  |  |  |  |  |23\n",
            "22 @  9      |  |  |  |  |  |  |  |  |22\n",
            "10 @  5      |  |  |  |  |10\n",
            " 8 @  4      |  |  |  |8 \n",
            " 5 @  2      |  |5 \n",
            " 2 @  1      |2 \n",
            " 1 @  0    1 \n",
            " 0 @  0    0 \n"
          ]
        }
      ],
      "source": [
        "demo(HAYSTACK, NEEDLES, bisect.bisect_left)"
      ]
    },
    {
      "cell_type": "code",
      "execution_count": null,
      "metadata": {
        "colab": {
          "base_uri": "https://localhost:8080/"
        },
        "id": "aIZphB1t-oSu",
        "outputId": "64811cee-aff6-4d37-d0e3-5b6c750749c7"
      },
      "outputs": [
        {
          "data": {
            "text/plain": [
              "['F', 'D', 'D', 'C', 'C', 'B', 'B', 'A', 'A']"
            ]
          },
          "execution_count": 58,
          "metadata": {},
          "output_type": "execute_result"
        }
      ],
      "source": [
        "def grade(score, breakpoints=[60, 70, 80, 90], grades='FDCBA'):\n",
        "    i = bisect.bisect(breakpoints, score)\n",
        "    return grades[i]\n",
        "\n",
        "[grade(score) for score in [55, 60, 65, 70, 75, 80, 85, 90, 95]]"
      ]
    },
    {
      "cell_type": "markdown",
      "metadata": {
        "id": "7TxOmxrxog9c"
      },
      "source": [
        "**bisect_left** retorna a posição do item existente, de modo que a inserção ocorrerá antes dele."
      ]
    },
    {
      "cell_type": "code",
      "execution_count": null,
      "metadata": {
        "colab": {
          "base_uri": "https://localhost:8080/"
        },
        "id": "Eqr6lYZrobDg",
        "outputId": "90b9b771-893c-496b-8d06-98dd21faf806"
      },
      "outputs": [
        {
          "data": {
            "text/plain": [
              "['F', 'F', 'D', 'D', 'C', 'C', 'B', 'B', 'A']"
            ]
          },
          "execution_count": 59,
          "metadata": {},
          "output_type": "execute_result"
        }
      ],
      "source": [
        "def grade(score, breakpoints=[60, 70, 80, 90], grades='FDCBA'):\n",
        "    i = bisect.bisect_left(breakpoints, score)\n",
        "    return grades[i]\n",
        "\n",
        "[grade(score) for score in [55, 60, 65, 70, 75, 80, 85, 90, 95]]"
      ]
    },
    {
      "cell_type": "markdown",
      "metadata": {
        "id": "Tdwj7cy8o1nz"
      },
      "source": [
        "## Arrays"
      ]
    },
    {
      "cell_type": "code",
      "execution_count": null,
      "metadata": {
        "colab": {
          "base_uri": "https://localhost:8080/"
        },
        "id": "wb47IGyxod4t",
        "outputId": "2c1bbfaf-b139-4791-abe4-d00d6888441f"
      },
      "outputs": [
        {
          "data": {
            "text/plain": [
              "0.04084143113098504"
            ]
          },
          "execution_count": 60,
          "metadata": {},
          "output_type": "execute_result"
        }
      ],
      "source": [
        "from array import array\n",
        "from random import random\n",
        "\n",
        "# Utilizando expressão geradora aqui!\n",
        "floats = array('d', (random() for i in range(10**7)))\n",
        "floats[-1]"
      ]
    },
    {
      "cell_type": "markdown",
      "metadata": {
        "id": "hGQ9H0WapTvT"
      },
      "source": [
        "Salvando o array em um arquivo binário. O **from_file** chega a ser 60x mais rápido que ler um arquivo texto."
      ]
    },
    {
      "cell_type": "code",
      "execution_count": null,
      "metadata": {
        "id": "SNmlgLxdo-1h"
      },
      "outputs": [],
      "source": [
        "with open('floats.bin', 'wb') as fp:\n",
        "    floats.tofile(fp)"
      ]
    },
    {
      "cell_type": "code",
      "execution_count": null,
      "metadata": {
        "colab": {
          "base_uri": "https://localhost:8080/"
        },
        "id": "iZPpLaGdpLmf",
        "outputId": "17291b1a-bc86-4b04-f7dc-21713be75b2f"
      },
      "outputs": [
        {
          "data": {
            "text/plain": [
              "0.04084143113098504"
            ]
          },
          "execution_count": 62,
          "metadata": {},
          "output_type": "execute_result"
        }
      ],
      "source": [
        "floats2 = array('d')\n",
        "\n",
        "with open('floats.bin', 'rb') as fp:\n",
        "    floats2.fromfile(fp, 10**7)\n",
        "\n",
        "floats2[-1]"
      ]
    },
    {
      "cell_type": "code",
      "execution_count": null,
      "metadata": {
        "colab": {
          "base_uri": "https://localhost:8080/"
        },
        "id": "Wm_W3ocEpPEG",
        "outputId": "d06580fa-399c-4a8b-df9b-7d4c1bc631ed"
      },
      "outputs": [
        {
          "data": {
            "text/plain": [
              "True"
            ]
          },
          "execution_count": 63,
          "metadata": {},
          "output_type": "execute_result"
        }
      ],
      "source": [
        "floats2 == floats"
      ]
    },
    {
      "cell_type": "code",
      "execution_count": null,
      "metadata": {
        "colab": {
          "base_uri": "https://localhost:8080/"
        },
        "id": "1unDfsLjpx4k",
        "outputId": "87681d9b-bc79-4967-f5dd-a0c86363e9b6"
      },
      "outputs": [
        {
          "data": {
            "text/plain": [
              "[]"
            ]
          },
          "execution_count": 65,
          "metadata": {},
          "output_type": "execute_result"
        }
      ],
      "source": [
        "m  = [1, 2, 3]\n",
        "m.clear()\n",
        "m"
      ]
    },
    {
      "cell_type": "markdown",
      "metadata": {
        "id": "9C8xCwcfqA8P"
      },
      "source": [
        "## Memory Views\n",
        "É um tipo de sequência de memória compartilhada, podendo lidar com fatias de arrays sem copiar os bytes.\n",
        "\n",
        "Permite compartilhar memória entre estruturas de dados sem fazer uma cópia inicial, importante para conjuntos grandes de dados."
      ]
    },
    {
      "cell_type": "code",
      "execution_count": null,
      "metadata": {
        "colab": {
          "base_uri": "https://localhost:8080/"
        },
        "id": "WgzsPFeDp1AV",
        "outputId": "f2e7fd04-47eb-40f6-de20-cd985b983dcc"
      },
      "outputs": [
        {
          "data": {
            "text/plain": [
              "5"
            ]
          },
          "execution_count": 66,
          "metadata": {},
          "output_type": "execute_result"
        }
      ],
      "source": [
        "numbers = array('h', [-2, -1, 0, 1, 2])\n",
        "memv = memoryview(numbers)\n",
        "len(memv)"
      ]
    },
    {
      "cell_type": "code",
      "execution_count": null,
      "metadata": {
        "colab": {
          "base_uri": "https://localhost:8080/"
        },
        "id": "b_SWyW6UqsOJ",
        "outputId": "4fbebb73-c090-477f-97ce-0c31b6c22cf4"
      },
      "outputs": [
        {
          "data": {
            "text/plain": [
              "-2"
            ]
          },
          "execution_count": 67,
          "metadata": {},
          "output_type": "execute_result"
        }
      ],
      "source": [
        "memv[0]"
      ]
    },
    {
      "cell_type": "code",
      "execution_count": null,
      "metadata": {
        "colab": {
          "base_uri": "https://localhost:8080/"
        },
        "id": "cW5Ve-Ubqtcw",
        "outputId": "b7630581-753f-4230-f5ec-0403ec5dee85"
      },
      "outputs": [
        {
          "data": {
            "text/plain": [
              "[254, 255, 255, 255, 0, 0, 1, 0, 2, 0]"
            ]
          },
          "execution_count": 68,
          "metadata": {},
          "output_type": "execute_result"
        }
      ],
      "source": [
        "memv_oct = memv.cast('B')\n",
        "memv_oct.tolist()"
      ]
    },
    {
      "cell_type": "code",
      "execution_count": null,
      "metadata": {
        "colab": {
          "base_uri": "https://localhost:8080/"
        },
        "id": "jgUZ67kZqwAD",
        "outputId": "cfa08b00-637c-46b9-d35e-80c28be6e2bc"
      },
      "outputs": [
        {
          "data": {
            "text/plain": [
              "array('h', [-2, -1, 1024, 1, 2])"
            ]
          },
          "execution_count": 69,
          "metadata": {},
          "output_type": "execute_result"
        }
      ],
      "source": [
        "memv_oct[5] = 4\n",
        "numbers"
      ]
    },
    {
      "cell_type": "markdown",
      "metadata": {
        "id": "5nQSYG9zrF6W"
      },
      "source": [
        "## Filas\n",
        "**collections.deque** fila dupla thread-safe, criada para proporcionar inserção e remoção rápidas de ambas as extremidades.\n",
        "\n",
        "Para controle dos \"últimos itens vistos\" também pode ser útil."
      ]
    },
    {
      "cell_type": "code",
      "execution_count": null,
      "metadata": {
        "colab": {
          "base_uri": "https://localhost:8080/"
        },
        "id": "aoY-h0asrrxj",
        "outputId": "c8f5f545-9961-41ed-d70b-e777ee4e62c0"
      },
      "outputs": [
        {
          "data": {
            "text/plain": [
              "deque([0, 1, 2, 3, 4, 5, 6, 7, 8, 9])"
            ]
          },
          "execution_count": 70,
          "metadata": {},
          "output_type": "execute_result"
        }
      ],
      "source": [
        "import collections\n",
        "\n",
        "dq = collections.deque(range(10), maxlen=10)\n",
        "dq"
      ]
    },
    {
      "cell_type": "code",
      "execution_count": null,
      "metadata": {
        "colab": {
          "base_uri": "https://localhost:8080/"
        },
        "id": "lXAjbedQr_fc",
        "outputId": "d60c1bd9-b024-4c1e-d71d-21700add515b"
      },
      "outputs": [
        {
          "data": {
            "text/plain": [
              "deque([7, 8, 9, 0, 1, 2, 3, 4, 5, 6])"
            ]
          },
          "execution_count": 71,
          "metadata": {},
          "output_type": "execute_result"
        }
      ],
      "source": [
        "dq.rotate(3)\n",
        "dq"
      ]
    },
    {
      "cell_type": "code",
      "execution_count": null,
      "metadata": {
        "colab": {
          "base_uri": "https://localhost:8080/"
        },
        "id": "_YX-cDRJsKvD",
        "outputId": "b0356e50-2e36-4e2e-9993-47f7eb1f79bd"
      },
      "outputs": [
        {
          "data": {
            "text/plain": [
              "deque([2, 3, 4, 5, 6, 7, 8, 9, 0, 1])"
            ]
          },
          "execution_count": 72,
          "metadata": {},
          "output_type": "execute_result"
        }
      ],
      "source": [
        "dq.rotate(5)\n",
        "dq"
      ]
    },
    {
      "cell_type": "code",
      "execution_count": null,
      "metadata": {
        "colab": {
          "base_uri": "https://localhost:8080/"
        },
        "id": "jc-PllR0sTk8",
        "outputId": "1b559f47-f8fa-44cd-ebfa-7e7ebf3fd31f"
      },
      "outputs": [
        {
          "data": {
            "text/plain": [
              "deque([-1, 2, 3, 4, 5, 6, 7, 8, 9, 0])"
            ]
          },
          "execution_count": 73,
          "metadata": {},
          "output_type": "execute_result"
        }
      ],
      "source": [
        "dq.appendleft(-1)\n",
        "dq"
      ]
    },
    {
      "cell_type": "code",
      "execution_count": null,
      "metadata": {
        "colab": {
          "base_uri": "https://localhost:8080/"
        },
        "id": "adhDNcvjsVX5",
        "outputId": "7bae3ced-f155-421b-deb5-33ca1214ebd8"
      },
      "outputs": [
        {
          "data": {
            "text/plain": [
              "deque([4, 5, 6, 7, 8, 9, 0, 11, 22, 33])"
            ]
          },
          "execution_count": 74,
          "metadata": {},
          "output_type": "execute_result"
        }
      ],
      "source": [
        "dq.extend([11, 22, 33])\n",
        "dq"
      ]
    },
    {
      "cell_type": "code",
      "execution_count": null,
      "metadata": {
        "colab": {
          "base_uri": "https://localhost:8080/"
        },
        "id": "bmBjSzAKsXCc",
        "outputId": "95bb99bd-15f1-4135-f6af-95218f8a0b5c"
      },
      "outputs": [
        {
          "data": {
            "text/plain": [
              "deque([40, 30, 20, 10, 4, 5, 6, 7, 8, 9])"
            ]
          },
          "execution_count": 75,
          "metadata": {},
          "output_type": "execute_result"
        }
      ],
      "source": [
        "dq.extendleft([10, 20, 30, 40])\n",
        "dq"
      ]
    },
    {
      "cell_type": "code",
      "execution_count": null,
      "metadata": {
        "colab": {
          "base_uri": "https://localhost:8080/"
        },
        "id": "k04MWQHXsYnD",
        "outputId": "22b59a33-22b5-4b77-c0cd-49beefa5736f"
      },
      "outputs": [
        {
          "data": {
            "text/plain": [
              "deque([30, 20, 10, 4, 5, 6, 7, 8, 9])"
            ]
          },
          "execution_count": 76,
          "metadata": {},
          "output_type": "execute_result"
        }
      ],
      "source": [
        "dq.popleft()\n",
        "dq"
      ]
    },
    {
      "cell_type": "markdown",
      "metadata": {
        "id": "FupcibeMsp9t"
      },
      "source": [
        "Outras implementações de filas:\n",
        "- queue\n",
        "- multiprocessing\n",
        "- asyncio\n",
        "- heapq"
      ]
    },
    {
      "cell_type": "markdown",
      "metadata": {
        "id": "3vk_-SAgv7FN"
      },
      "source": [
        "## Lista e itens misturados"
      ]
    },
    {
      "cell_type": "code",
      "execution_count": null,
      "metadata": {
        "colab": {
          "base_uri": "https://localhost:8080/",
          "height": 183
        },
        "id": "RSU3cwHmv9XG",
        "outputId": "f1dc8e68-6cc5-4eb3-cbae-2aa15601fbab"
      },
      "outputs": [
        {
          "ename": "TypeError",
          "evalue": "ignored",
          "output_type": "error",
          "traceback": [
            "\u001b[0;31m---------------------------------------------------------------------------\u001b[0m",
            "\u001b[0;31mTypeError\u001b[0m                                 Traceback (most recent call last)",
            "\u001b[0;32m<ipython-input-77-c1bdf61f64eb>\u001b[0m in \u001b[0;36m<module>\u001b[0;34m()\u001b[0m\n\u001b[1;32m      1\u001b[0m \u001b[0ml\u001b[0m \u001b[0;34m=\u001b[0m \u001b[0;34m[\u001b[0m\u001b[0;36m1\u001b[0m\u001b[0;34m,\u001b[0m \u001b[0;36m2\u001b[0m\u001b[0;34m,\u001b[0m \u001b[0;36m50\u001b[0m\u001b[0;34m,\u001b[0m \u001b[0;36m0\u001b[0m\u001b[0;34m,\u001b[0m \u001b[0;36m22\u001b[0m\u001b[0;34m,\u001b[0m \u001b[0;36m33\u001b[0m\u001b[0;34m,\u001b[0m \u001b[0;34m'23'\u001b[0m\u001b[0;34m,\u001b[0m \u001b[0;34m'44'\u001b[0m\u001b[0;34m,\u001b[0m \u001b[0;34m'88'\u001b[0m\u001b[0;34m,\u001b[0m \u001b[0;36m24\u001b[0m\u001b[0;34m,\u001b[0m \u001b[0;34m'100'\u001b[0m\u001b[0;34m]\u001b[0m\u001b[0;34m\u001b[0m\u001b[0;34m\u001b[0m\u001b[0m\n\u001b[0;32m----> 2\u001b[0;31m \u001b[0msorted\u001b[0m\u001b[0;34m(\u001b[0m\u001b[0ml\u001b[0m\u001b[0;34m)\u001b[0m\u001b[0;34m\u001b[0m\u001b[0;34m\u001b[0m\u001b[0m\n\u001b[0m",
            "\u001b[0;31mTypeError\u001b[0m: '<' not supported between instances of 'str' and 'int'"
          ]
        }
      ],
      "source": [
        " l = [1, 2, 50, 0, 22, 33, '23', '44', '88', 24, '100']\n",
        " sorted(l)"
      ]
    },
    {
      "cell_type": "code",
      "execution_count": null,
      "metadata": {
        "colab": {
          "base_uri": "https://localhost:8080/"
        },
        "id": "kkufaoaNwHMY",
        "outputId": "6ff2fa0d-c325-4ad2-ac32-e83d9c2e13e1"
      },
      "outputs": [
        {
          "data": {
            "text/plain": [
              "[0, 1, 2, 22, '23', 24, 33, '44', 50, '88', '100']"
            ]
          },
          "execution_count": 78,
          "metadata": {},
          "output_type": "execute_result"
        }
      ],
      "source": [
        "sorted(l, key=int)"
      ]
    },
    {
      "cell_type": "markdown",
      "metadata": {
        "id": "VmAKaHFkwQSf"
      },
      "source": [
        "O algoritmo de ordenação por debaixo dos panos de sorted e list.sort é o TimSort (adota insertion sort e merge sort)."
      ]
    }
  ],
  "metadata": {
    "colab": {
      "provenance": [],
      "toc_visible": true
    },
    "kernelspec": {
      "display_name": "Python 3.8.10 64-bit",
      "language": "python",
      "name": "python3"
    },
    "language_info": {
      "name": "python",
      "version": "3.8.10"
    },
    "vscode": {
      "interpreter": {
        "hash": "767d51c1340bd893661ea55ea3124f6de3c7a262a8b4abca0554b478b1e2ff90"
      }
    }
  },
  "nbformat": 4,
  "nbformat_minor": 0
}
