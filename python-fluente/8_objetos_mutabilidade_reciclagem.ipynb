{
  "nbformat": 4,
  "nbformat_minor": 0,
  "metadata": {
    "colab": {
      "provenance": [],
      "toc_visible": true
    },
    "kernelspec": {
      "name": "python3",
      "display_name": "Python 3"
    },
    "language_info": {
      "name": "python"
    }
  },
  "cells": [
    {
      "cell_type": "markdown",
      "source": [
        "# Referências a objetos, mutabilidade e reciclagem\n",
        "\n",
        "Parte IV - Práticas de orientação a objetos | Capítulo 8 - Python Fluente - Luciano Ramalho\n"
      ],
      "metadata": {
        "id": "zh9yf7TaL5ur"
      }
    },
    {
      "cell_type": "markdown",
      "source": [
        "## Variáveis não são caixas, são rótulos\n",
        "\n",
        "A variável é atribuída a um objeto. O objeto é criado antes da atribuição."
      ],
      "metadata": {
        "id": "nvu7Qk4MeS_w"
      }
    },
    {
      "cell_type": "code",
      "execution_count": 1,
      "metadata": {
        "id": "0zIyMuej5XwI"
      },
      "outputs": [],
      "source": [
        "a = [1, 2, 3, 4]"
      ]
    },
    {
      "cell_type": "code",
      "source": [
        "b = a"
      ],
      "metadata": {
        "id": "c8dJnEXbelxq"
      },
      "execution_count": 2,
      "outputs": []
    },
    {
      "cell_type": "code",
      "source": [
        "a.append(23)"
      ],
      "metadata": {
        "id": "MbJ23Q5bexu2"
      },
      "execution_count": 3,
      "outputs": []
    },
    {
      "cell_type": "code",
      "source": [
        "b"
      ],
      "metadata": {
        "colab": {
          "base_uri": "https://localhost:8080/"
        },
        "id": "IfKMKWJaezKG",
        "outputId": "9585862d-a2eb-4c3a-8fc6-21b46147e22f"
      },
      "execution_count": 4,
      "outputs": [
        {
          "output_type": "execute_result",
          "data": {
            "text/plain": [
              "[1, 2, 3, 4, 23]"
            ]
          },
          "metadata": {},
          "execution_count": 4
        }
      ]
    },
    {
      "cell_type": "code",
      "source": [
        "a"
      ],
      "metadata": {
        "colab": {
          "base_uri": "https://localhost:8080/"
        },
        "id": "86T5JyDRez4a",
        "outputId": "f7bd520e-65e1-4924-9f78-121026d4df66"
      },
      "execution_count": 5,
      "outputs": [
        {
          "output_type": "execute_result",
          "data": {
            "text/plain": [
              "[1, 2, 3, 4, 23]"
            ]
          },
          "metadata": {},
          "execution_count": 5
        }
      ]
    },
    {
      "cell_type": "code",
      "source": [
        "class Variavel:\n",
        "    def __init__(self):\n",
        "        print(f'Variável ID: {id(self)}')"
      ],
      "metadata": {
        "id": "3EX4XNGae0mL"
      },
      "execution_count": 6,
      "outputs": []
    },
    {
      "cell_type": "code",
      "source": [
        "x = Variavel()"
      ],
      "metadata": {
        "colab": {
          "base_uri": "https://localhost:8080/"
        },
        "id": "HKmtTb0WfGjg",
        "outputId": "cfcfd178-605f-49aa-f367-8872bf3026da"
      },
      "execution_count": 7,
      "outputs": [
        {
          "output_type": "stream",
          "name": "stdout",
          "text": [
            "Variável ID: 140008243834832\n"
          ]
        }
      ]
    },
    {
      "cell_type": "code",
      "source": [
        "y = Variavel() * 10"
      ],
      "metadata": {
        "colab": {
          "base_uri": "https://localhost:8080/",
          "height": 190
        },
        "id": "l6pvBPu2fMPD",
        "outputId": "d6b5d1ea-8ee6-4ee0-d803-81c6717e2e91"
      },
      "execution_count": 9,
      "outputs": [
        {
          "output_type": "stream",
          "name": "stdout",
          "text": [
            "Variável ID: 140009063438896\n"
          ]
        },
        {
          "output_type": "error",
          "ename": "TypeError",
          "evalue": "ignored",
          "traceback": [
            "\u001b[0;31m---------------------------------------------------------------------------\u001b[0m",
            "\u001b[0;31mTypeError\u001b[0m                                 Traceback (most recent call last)",
            "\u001b[0;32m<ipython-input-9-6120b3bd4ed0>\u001b[0m in \u001b[0;36m<cell line: 1>\u001b[0;34m()\u001b[0m\n\u001b[0;32m----> 1\u001b[0;31m \u001b[0my\u001b[0m \u001b[0;34m=\u001b[0m \u001b[0mVariavel\u001b[0m\u001b[0;34m(\u001b[0m\u001b[0;34m)\u001b[0m \u001b[0;34m*\u001b[0m \u001b[0;36m10\u001b[0m\u001b[0;34m\u001b[0m\u001b[0;34m\u001b[0m\u001b[0m\n\u001b[0m",
            "\u001b[0;31mTypeError\u001b[0m: unsupported operand type(s) for *: 'Variavel' and 'int'"
          ]
        }
      ]
    },
    {
      "cell_type": "markdown",
      "source": [
        "Apelidos (aliases) são vários rótulos atribuídos a uma mesma variável.\n",
        "\n",
        "O apelidamento (aliansing) nos trás que apesar de objetos associados terem o mesmo valor, eles podem ter identidades diferentes.\n",
        "\n",
        "**id()** devolve o endereço de memória do objeto, é número e único, além de não sofrer alterações durante o tempo de vida do objeto.\n",
        "\n",
        "> \"Todo objeto tem uma identidade, um tipo e um valor. A identidade de um objeto não muda depois que esse objeto é criado; você pode pensar nela como o endereço do objeto na memória. O operador is compara a identidade de dois objetos; a função id() devolve um inteiro que representa a identidade do objeto.\""
      ],
      "metadata": {
        "id": "935yxTBifYs3"
      }
    },
    {
      "cell_type": "code",
      "source": [
        "mariana = {'name': 'Mariana', 'born': 1996}"
      ],
      "metadata": {
        "id": "EceBCkTvfR7J"
      },
      "execution_count": 11,
      "outputs": []
    },
    {
      "cell_type": "code",
      "source": [
        "mari = mariana"
      ],
      "metadata": {
        "id": "GnoUGGzzfque"
      },
      "execution_count": 13,
      "outputs": []
    },
    {
      "cell_type": "code",
      "source": [
        "mari is mariana"
      ],
      "metadata": {
        "colab": {
          "base_uri": "https://localhost:8080/"
        },
        "id": "NUF3HtXzftkX",
        "outputId": "f9a5dcbe-ccb5-43a1-be09-1e95e1972d22"
      },
      "execution_count": 14,
      "outputs": [
        {
          "output_type": "execute_result",
          "data": {
            "text/plain": [
              "True"
            ]
          },
          "metadata": {},
          "execution_count": 14
        }
      ]
    },
    {
      "cell_type": "code",
      "source": [
        "id(mari), id(mariana)"
      ],
      "metadata": {
        "colab": {
          "base_uri": "https://localhost:8080/"
        },
        "id": "O8qZlj9KfvdQ",
        "outputId": "c3037302-c045-4cb9-e059-b45435ec309c"
      },
      "execution_count": 15,
      "outputs": [
        {
          "output_type": "execute_result",
          "data": {
            "text/plain": [
              "(140008243414400, 140008243414400)"
            ]
          },
          "metadata": {},
          "execution_count": 15
        }
      ]
    },
    {
      "cell_type": "code",
      "source": [
        "mari['born'] = 2000"
      ],
      "metadata": {
        "id": "QCLseUjIfwti"
      },
      "execution_count": 16,
      "outputs": []
    },
    {
      "cell_type": "code",
      "source": [
        "mariana"
      ],
      "metadata": {
        "colab": {
          "base_uri": "https://localhost:8080/"
        },
        "id": "nHzLzcCQf1LK",
        "outputId": "46a229ee-5df4-430d-a307-44e31023d272"
      },
      "execution_count": 17,
      "outputs": [
        {
          "output_type": "execute_result",
          "data": {
            "text/plain": [
              "{'name': 'Mariana', 'born': 2000}"
            ]
          },
          "metadata": {},
          "execution_count": 17
        }
      ]
    },
    {
      "cell_type": "code",
      "source": [
        "mareh = {'name': 'Mariana', 'born': 2000}"
      ],
      "metadata": {
        "id": "gisMszqff2HB"
      },
      "execution_count": 18,
      "outputs": []
    },
    {
      "cell_type": "code",
      "source": [
        "mareh == mari"
      ],
      "metadata": {
        "colab": {
          "base_uri": "https://localhost:8080/"
        },
        "id": "JUG37_UCgBE8",
        "outputId": "410ac41e-6f4c-42d5-ad2f-f784431b8d70"
      },
      "execution_count": 19,
      "outputs": [
        {
          "output_type": "execute_result",
          "data": {
            "text/plain": [
              "True"
            ]
          },
          "metadata": {},
          "execution_count": 19
        }
      ]
    },
    {
      "cell_type": "code",
      "source": [
        "mareh == mariana"
      ],
      "metadata": {
        "colab": {
          "base_uri": "https://localhost:8080/"
        },
        "id": "dI9XcbqkgCIh",
        "outputId": "4c99dc25-4cc0-49c8-8613-5096a8d82419"
      },
      "execution_count": 20,
      "outputs": [
        {
          "output_type": "execute_result",
          "data": {
            "text/plain": [
              "True"
            ]
          },
          "metadata": {},
          "execution_count": 20
        }
      ]
    },
    {
      "cell_type": "code",
      "source": [
        "mareh is not mari"
      ],
      "metadata": {
        "colab": {
          "base_uri": "https://localhost:8080/"
        },
        "id": "54RgBiGlgDBM",
        "outputId": "45fac8e5-0b36-432c-b91e-132630c8152f"
      },
      "execution_count": 21,
      "outputs": [
        {
          "output_type": "execute_result",
          "data": {
            "text/plain": [
              "True"
            ]
          },
          "metadata": {},
          "execution_count": 21
        }
      ]
    },
    {
      "cell_type": "markdown",
      "source": [
        "**==** compara valores de objetos, os dados que eles armazenam.\n",
        "\n",
        "**is** compara as identidades.\n",
        "\n"
      ],
      "metadata": {
        "id": "ucjTRFGgg9A6"
      }
    },
    {
      "cell_type": "markdown",
      "source": [
        "## Relativa imutabilidade das tuplas"
      ],
      "metadata": {
        "id": "CPnnadkMhTi6"
      }
    },
    {
      "cell_type": "markdown",
      "source": [
        "Tuplas armazenam referências a objetos, e pode não ser imutavél quando existem valores mutáveis referenciado. Apesar disso, a identidade dos itens que a compões, nunca muda."
      ],
      "metadata": {
        "id": "3ATRVS0ihaXc"
      }
    },
    {
      "cell_type": "code",
      "source": [
        "tupla1 = (1, 2, [3, 4])"
      ],
      "metadata": {
        "id": "XMpaoUWSfr26"
      },
      "execution_count": 22,
      "outputs": []
    },
    {
      "cell_type": "code",
      "source": [
        "tupla2 = (1, 2, [3, 4])"
      ],
      "metadata": {
        "id": "VZptW-0ih0hH"
      },
      "execution_count": 23,
      "outputs": []
    },
    {
      "cell_type": "code",
      "source": [
        "tupla1 == tupla2"
      ],
      "metadata": {
        "colab": {
          "base_uri": "https://localhost:8080/"
        },
        "id": "4r-6K3yMh1uJ",
        "outputId": "081d177d-b040-4542-aef9-9f97ad96381e"
      },
      "execution_count": 24,
      "outputs": [
        {
          "output_type": "execute_result",
          "data": {
            "text/plain": [
              "True"
            ]
          },
          "metadata": {},
          "execution_count": 24
        }
      ]
    },
    {
      "cell_type": "code",
      "source": [
        "id(tupla1[-1])"
      ],
      "metadata": {
        "colab": {
          "base_uri": "https://localhost:8080/"
        },
        "id": "QUmaIOaVh3bf",
        "outputId": "82e2c53e-84f7-4670-d0d1-c5f6dd77fb1b"
      },
      "execution_count": 25,
      "outputs": [
        {
          "output_type": "execute_result",
          "data": {
            "text/plain": [
              "140008242446528"
            ]
          },
          "metadata": {},
          "execution_count": 25
        }
      ]
    },
    {
      "cell_type": "code",
      "source": [
        "tupla1[-1].append(5)"
      ],
      "metadata": {
        "id": "GucITgrGh5Mr"
      },
      "execution_count": 26,
      "outputs": []
    },
    {
      "cell_type": "code",
      "source": [
        "tupla1"
      ],
      "metadata": {
        "colab": {
          "base_uri": "https://localhost:8080/"
        },
        "id": "_3490vVuh8G-",
        "outputId": "e9415139-aa5a-4d4e-cfb5-59b9d461a244"
      },
      "execution_count": 27,
      "outputs": [
        {
          "output_type": "execute_result",
          "data": {
            "text/plain": [
              "(1, 2, [3, 4, 5])"
            ]
          },
          "metadata": {},
          "execution_count": 27
        }
      ]
    },
    {
      "cell_type": "code",
      "source": [
        "id(tupla1[-1])"
      ],
      "metadata": {
        "colab": {
          "base_uri": "https://localhost:8080/"
        },
        "id": "q4bjyQBzh-Jf",
        "outputId": "457ab25b-0e9c-4d0d-a1ce-a3725ba0bfee"
      },
      "execution_count": 28,
      "outputs": [
        {
          "output_type": "execute_result",
          "data": {
            "text/plain": [
              "140008242446528"
            ]
          },
          "metadata": {},
          "execution_count": 28
        }
      ]
    },
    {
      "cell_type": "code",
      "source": [
        "tupla1 == tupla2"
      ],
      "metadata": {
        "colab": {
          "base_uri": "https://localhost:8080/"
        },
        "id": "8kV0enOoh_0E",
        "outputId": "17294ad8-82f1-4fc7-8a69-c09530bc7f75"
      },
      "execution_count": 29,
      "outputs": [
        {
          "output_type": "execute_result",
          "data": {
            "text/plain": [
              "False"
            ]
          },
          "metadata": {},
          "execution_count": 29
        }
      ]
    },
    {
      "cell_type": "markdown",
      "source": [
        "## Cópias são rasas por padrão"
      ],
      "metadata": {
        "id": "29ctFG7liIaG"
      }
    },
    {
      "cell_type": "markdown",
      "source": [
        "Uma maneira simples de fazer uma **cópia rasa (shallow copy)** de uma lista é usar o construtor embutido **list()** ([:] também). De forma com que existam cópias igual e objetos diferentes.\n",
        "\n",
        "Esse processo economiza memória de forma com que a coleção mais externa é duplicada, mas a cópia é preenchida com referências aos mesmos itens armazenados na coleção original, que podem ser imutáveis ou mutáveis."
      ],
      "metadata": {
        "id": "M_uUi0PuiMxO"
      }
    },
    {
      "cell_type": "code",
      "source": [
        "lista1 = [1, [2,3], (4,5)]"
      ],
      "metadata": {
        "id": "ROZXDxyEimil"
      },
      "execution_count": 30,
      "outputs": []
    },
    {
      "cell_type": "code",
      "source": [
        "lista2 = list(lista1)"
      ],
      "metadata": {
        "id": "XlbJ3Qz1in4Y"
      },
      "execution_count": 31,
      "outputs": []
    },
    {
      "cell_type": "code",
      "source": [
        "lista2"
      ],
      "metadata": {
        "colab": {
          "base_uri": "https://localhost:8080/"
        },
        "id": "gssc_XYOiqF1",
        "outputId": "83832bd5-f604-4bbf-cfaa-1b1f520f3859"
      },
      "execution_count": 32,
      "outputs": [
        {
          "output_type": "execute_result",
          "data": {
            "text/plain": [
              "[1, [2, 3], (4, 5)]"
            ]
          },
          "metadata": {},
          "execution_count": 32
        }
      ]
    },
    {
      "cell_type": "code",
      "source": [
        "lista2 == lista1"
      ],
      "metadata": {
        "colab": {
          "base_uri": "https://localhost:8080/"
        },
        "id": "QFyWeTC_iq8m",
        "outputId": "78a074da-04f1-4ad6-8a62-d8628f853036"
      },
      "execution_count": 34,
      "outputs": [
        {
          "output_type": "execute_result",
          "data": {
            "text/plain": [
              "True"
            ]
          },
          "metadata": {},
          "execution_count": 34
        }
      ]
    },
    {
      "cell_type": "code",
      "source": [
        "lista2 is lista1"
      ],
      "metadata": {
        "colab": {
          "base_uri": "https://localhost:8080/"
        },
        "id": "8A31vPU4iuEC",
        "outputId": "942c1a77-0a67-48e5-9ae3-6698940074f9"
      },
      "execution_count": 35,
      "outputs": [
        {
          "output_type": "execute_result",
          "data": {
            "text/plain": [
              "False"
            ]
          },
          "metadata": {},
          "execution_count": 35
        }
      ]
    },
    {
      "cell_type": "code",
      "source": [
        "lista3 = lista1[:]"
      ],
      "metadata": {
        "id": "jpmw-KUFi7_y"
      },
      "execution_count": 36,
      "outputs": []
    },
    {
      "cell_type": "code",
      "source": [
        "lista3 == lista1"
      ],
      "metadata": {
        "colab": {
          "base_uri": "https://localhost:8080/"
        },
        "id": "XDmZQwsci_lm",
        "outputId": "ba474c1f-51ed-4f01-e639-05ab865f3ef8"
      },
      "execution_count": 37,
      "outputs": [
        {
          "output_type": "execute_result",
          "data": {
            "text/plain": [
              "True"
            ]
          },
          "metadata": {},
          "execution_count": 37
        }
      ]
    },
    {
      "cell_type": "code",
      "source": [
        "lista3 is lista1"
      ],
      "metadata": {
        "colab": {
          "base_uri": "https://localhost:8080/"
        },
        "id": "_EysCvBEjAfN",
        "outputId": "de94fbcc-3626-494b-f3f4-3a127209519d"
      },
      "execution_count": 38,
      "outputs": [
        {
          "output_type": "execute_result",
          "data": {
            "text/plain": [
              "False"
            ]
          },
          "metadata": {},
          "execution_count": 38
        }
      ]
    },
    {
      "cell_type": "code",
      "source": [
        "lista1.append(100)\n",
        "lista1[1].remove(3) # Altera lista in-place\n",
        "print(f'Lista 1: {lista1}')\n",
        "print(f'Lista 2: {lista2}')\n",
        "print(f'Lista 3: {lista3}')"
      ],
      "metadata": {
        "colab": {
          "base_uri": "https://localhost:8080/"
        },
        "id": "MFqgqNSjjLKg",
        "outputId": "dbe0a20c-37e3-4e7b-c0ca-48f20a25e9cd"
      },
      "execution_count": 39,
      "outputs": [
        {
          "output_type": "stream",
          "name": "stdout",
          "text": [
            "Lista 1: [1, [2], (4, 5), 100]\n",
            "Lista 2: [1, [2], (4, 5)]\n",
            "Lista 3: [1, [2], (4, 5)]\n"
          ]
        }
      ]
    },
    {
      "cell_type": "code",
      "source": [
        "lista2[1] += [10, 11]\n",
        "lista2[2] += (20, 21)\n",
        "print(f'Lista 1: {lista1}')\n",
        "print(f'Lista 2: {lista2}')\n",
        "print(f'Lista 3: {lista3}')"
      ],
      "metadata": {
        "colab": {
          "base_uri": "https://localhost:8080/"
        },
        "id": "pgKWnCIwjxS1",
        "outputId": "ca4d5a13-56e9-4768-d75f-28f480b2cd6d"
      },
      "execution_count": 40,
      "outputs": [
        {
          "output_type": "stream",
          "name": "stdout",
          "text": [
            "Lista 1: [1, [2, 10, 11], (4, 5), 100]\n",
            "Lista 2: [1, [2, 10, 11], (4, 5, 20, 21)]\n",
            "Lista 3: [1, [2, 10, 11], (4, 5)]\n"
          ]
        }
      ]
    },
    {
      "cell_type": "markdown",
      "source": [
        "[Python Tutor](https://pythontutor.com/visualize.html#code=lista1%20%3D%20%5B1,%20%5B2,3%5D,%20%284,5%29%5D%0Alista2%20%3D%20list%28lista1%29%0Alista1.append%28100%29%0Alista1%5B1%5D.remove%283%29%20%23%20Altera%20lista%20in-place%0Aprint%28f'Lista%201%3A%20%7Blista1%7D'%29%0Aprint%28f'Lista%202%3A%20%7Blista2%7D'%29%0Alista2%5B1%5D%20%2B%3D%20%5B10,%2011%5D%0Alista2%5B2%5D%20%2B%3D%20%2820,%2021%29%0Aprint%28f'Lista%201%3A%20%7Blista1%7D'%29%0Aprint%28f'Lista%202%3A%20%7Blista2%7D'%29&cumulative=false&curInstr=10&heapPrimitives=nevernest&mode=display&origin=opt-frontend.js&py=3&rawInputLstJSON=%5B%5D&textReferences=false)"
      ],
      "metadata": {
        "id": "2SeyBEhOoqP-"
      }
    },
    {
      "cell_type": "markdown",
      "source": [
        "![image.png](data:image/png;base64,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)"
      ],
      "metadata": {
        "id": "CyEpDgNtkhpg"
      }
    },
    {
      "cell_type": "markdown",
      "source": [
        "## Cópias de objetos quaisquer (rasas ou profundas)"
      ],
      "metadata": {
        "id": "cvxSydNhkYqV"
      }
    },
    {
      "cell_type": "markdown",
      "source": [
        "Resumindo:\n",
        "\n",
        "**cópias rasas:** preenchida com referências aos mesmos itens armazenados na coleção original, referenciando aos seus objetos.\n",
        "\n",
        "**cópias profundas:** duplicatas que não compartilhem referências aos objetos incluídos.\n",
        "\n",
        "A biblioteca copy pode ser utilizada e também controlada seu comportamento com a implementação dos métodos especiais `__copy__()` e `__deepcopy__()`."
      ],
      "metadata": {
        "id": "bpJLsoBMlXNR"
      }
    },
    {
      "cell_type": "code",
      "source": [
        "class Bus:\n",
        "    def __init__(self, passengers=None):\n",
        "        if passengers is None:\n",
        "            self.passengers = []\n",
        "        else:\n",
        "            self.passengers = list(passengers)\n",
        "\n",
        "    def pick(self, name):\n",
        "        self.passengers.append(name)\n",
        "\n",
        "    def drop(self, name):\n",
        "        self.passengers.remove(name)"
      ],
      "metadata": {
        "id": "8Qc1YX3NlqSf"
      },
      "execution_count": 61,
      "outputs": []
    },
    {
      "cell_type": "code",
      "source": [
        "import copy"
      ],
      "metadata": {
        "id": "EIuiO1vll-rg"
      },
      "execution_count": 42,
      "outputs": []
    },
    {
      "cell_type": "code",
      "source": [
        "bus1 = Bus(['Mariana', 'Lucas', 'Ana Clara', 'Dani'])"
      ],
      "metadata": {
        "id": "uARtVFH7mDym"
      },
      "execution_count": 62,
      "outputs": []
    },
    {
      "cell_type": "code",
      "source": [
        "# Cópia rasa\n",
        "bus2 = copy.copy(bus1)"
      ],
      "metadata": {
        "id": "o85d-klkmNE9"
      },
      "execution_count": 63,
      "outputs": []
    },
    {
      "cell_type": "code",
      "source": [
        "# Cópia profunda\n",
        "bus3 = copy.deepcopy(bus1)"
      ],
      "metadata": {
        "id": "dMRSyG6FmWLQ"
      },
      "execution_count": 64,
      "outputs": []
    },
    {
      "cell_type": "code",
      "source": [
        "id(bus1), id(bus2), id(bus3)"
      ],
      "metadata": {
        "colab": {
          "base_uri": "https://localhost:8080/"
        },
        "id": "RvX-fqBpmZaQ",
        "outputId": "a43b0a4f-fa7a-4a26-c8d0-5e96cfcd2efa"
      },
      "execution_count": 65,
      "outputs": [
        {
          "output_type": "execute_result",
          "data": {
            "text/plain": [
              "(140008243833872, 140008243832576, 140008243831472)"
            ]
          },
          "metadata": {},
          "execution_count": 65
        }
      ]
    },
    {
      "cell_type": "code",
      "source": [
        "bus1.drop('Dani')"
      ],
      "metadata": {
        "id": "rS4UN-8Jmcpz"
      },
      "execution_count": 66,
      "outputs": []
    },
    {
      "cell_type": "code",
      "source": [
        "bus2.passengers"
      ],
      "metadata": {
        "colab": {
          "base_uri": "https://localhost:8080/"
        },
        "id": "Ab5qWOs1mkMR",
        "outputId": "330a57ea-c7d8-42f2-fb10-c6245c3c8503"
      },
      "execution_count": 67,
      "outputs": [
        {
          "output_type": "execute_result",
          "data": {
            "text/plain": [
              "['Mariana', 'Lucas', 'Ana Clara']"
            ]
          },
          "metadata": {},
          "execution_count": 67
        }
      ]
    },
    {
      "cell_type": "code",
      "source": [
        "bus3.passengers"
      ],
      "metadata": {
        "colab": {
          "base_uri": "https://localhost:8080/"
        },
        "id": "rYzUT8ecm5rr",
        "outputId": "84c98edd-ec04-42bb-a154-20923cce7f4b"
      },
      "execution_count": 68,
      "outputs": [
        {
          "output_type": "execute_result",
          "data": {
            "text/plain": [
              "['Mariana', 'Lucas', 'Ana Clara', 'Dani']"
            ]
          },
          "metadata": {},
          "execution_count": 68
        }
      ]
    },
    {
      "cell_type": "markdown",
      "source": [
        "A função deepcopy lembra os objetos já copiados para tratar referências cíclicas de modo elegante. Mas, uma cópia profunda pode ser profunda demais em alguns casos. Por exemplo, podem fazer referência a recursos externos que não deveriam ser copiados."
      ],
      "metadata": {
        "id": "TVB2hWJ7nBUY"
      }
    },
    {
      "cell_type": "code",
      "source": [
        "a = [23, 24]"
      ],
      "metadata": {
        "id": "z3waCF4dnSC6"
      },
      "execution_count": 69,
      "outputs": []
    },
    {
      "cell_type": "code",
      "source": [
        "b = [a, 25]"
      ],
      "metadata": {
        "id": "_GcZ65LqnZ6x"
      },
      "execution_count": 70,
      "outputs": []
    },
    {
      "cell_type": "code",
      "source": [
        "a.append(b)"
      ],
      "metadata": {
        "id": "rZeG2k7lncGl"
      },
      "execution_count": 71,
      "outputs": []
    },
    {
      "cell_type": "code",
      "source": [
        "a"
      ],
      "metadata": {
        "colab": {
          "base_uri": "https://localhost:8080/"
        },
        "id": "J_aBSKxmndRX",
        "outputId": "8798ec79-dd36-4180-9f42-55089f140dd2"
      },
      "execution_count": 72,
      "outputs": [
        {
          "output_type": "execute_result",
          "data": {
            "text/plain": [
              "[23, 24, [[...], 25]]"
            ]
          },
          "metadata": {},
          "execution_count": 72
        }
      ]
    },
    {
      "cell_type": "code",
      "source": [
        "c = copy.deepcopy(a)"
      ],
      "metadata": {
        "id": "478JdenYneky"
      },
      "execution_count": 74,
      "outputs": []
    },
    {
      "cell_type": "code",
      "source": [
        "c"
      ],
      "metadata": {
        "colab": {
          "base_uri": "https://localhost:8080/"
        },
        "id": "1u4AmvAHnhIl",
        "outputId": "f0e76fd1-4163-4bfa-8976-4d11285684b9"
      },
      "execution_count": 75,
      "outputs": [
        {
          "output_type": "execute_result",
          "data": {
            "text/plain": [
              "[23, 24, [[...], 25]]"
            ]
          },
          "metadata": {},
          "execution_count": 75
        }
      ]
    },
    {
      "cell_type": "markdown",
      "source": [
        "## Parâmetros de função como referências"
      ],
      "metadata": {
        "id": "Bu9XZBsBnTmn"
      }
    },
    {
      "cell_type": "markdown",
      "source": [
        "O único modo de passa parâmetros em Python é a **chamada por compartilhamento** (call by sharing), no qual cada parâmetro formal da função obtém uma cópia de cada referência nos argumentos.\n",
        "\n",
        "Uma função pode alterar qualquer objeto mutável passado como parâmetro, mas não poderá mudar a identidade desses objetos."
      ],
      "metadata": {
        "id": "G6yv23tcv-Hp"
      }
    },
    {
      "cell_type": "code",
      "source": [
        "def f(a, b):\n",
        "    a += b\n",
        "    return a"
      ],
      "metadata": {
        "id": "RYsdVZYckGN6"
      },
      "execution_count": 1,
      "outputs": []
    },
    {
      "cell_type": "code",
      "source": [
        "x = 1\n",
        "y = 2\n",
        "\n",
        "f(x, y)"
      ],
      "metadata": {
        "colab": {
          "base_uri": "https://localhost:8080/"
        },
        "id": "bTeAH82XwtWD",
        "outputId": "ec3575af-e649-4e14-fedc-102ee4037574"
      },
      "execution_count": 2,
      "outputs": [
        {
          "output_type": "execute_result",
          "data": {
            "text/plain": [
              "3"
            ]
          },
          "metadata": {},
          "execution_count": 2
        }
      ]
    },
    {
      "cell_type": "code",
      "source": [
        "x, y"
      ],
      "metadata": {
        "colab": {
          "base_uri": "https://localhost:8080/"
        },
        "id": "svZbTHqLwvT0",
        "outputId": "fce4c21d-ac41-4e0f-c19c-a55842ec1125"
      },
      "execution_count": 3,
      "outputs": [
        {
          "output_type": "execute_result",
          "data": {
            "text/plain": [
              "(1, 2)"
            ]
          },
          "metadata": {},
          "execution_count": 3
        }
      ]
    },
    {
      "cell_type": "code",
      "source": [
        "a = [1, 2]\n",
        "b = [3, 4]\n",
        "\n",
        "f(a, b)"
      ],
      "metadata": {
        "colab": {
          "base_uri": "https://localhost:8080/"
        },
        "id": "Ke8GU1tEwzhq",
        "outputId": "a0a7c823-9cdb-48ae-8dc6-17f21651a408"
      },
      "execution_count": 4,
      "outputs": [
        {
          "output_type": "execute_result",
          "data": {
            "text/plain": [
              "[1, 2, 3, 4]"
            ]
          },
          "metadata": {},
          "execution_count": 4
        }
      ]
    },
    {
      "cell_type": "code",
      "source": [
        "a, b"
      ],
      "metadata": {
        "colab": {
          "base_uri": "https://localhost:8080/"
        },
        "id": "gVd-DAUPw7Kb",
        "outputId": "713a8739-4dbe-4f64-9fc7-4f452909e9a2"
      },
      "execution_count": 5,
      "outputs": [
        {
          "output_type": "execute_result",
          "data": {
            "text/plain": [
              "([1, 2, 3, 4], [3, 4])"
            ]
          },
          "metadata": {},
          "execution_count": 5
        }
      ]
    },
    {
      "cell_type": "markdown",
      "source": [
        "Os argumentos passados são afetados de modos diferentes."
      ],
      "metadata": {
        "id": "r6J2AeTcw89y"
      }
    },
    {
      "cell_type": "code",
      "source": [
        "t = (1, 2)\n",
        "u = (3, 4)\n",
        "\n",
        "f(t, u)"
      ],
      "metadata": {
        "colab": {
          "base_uri": "https://localhost:8080/"
        },
        "id": "0bRj52bpxGNC",
        "outputId": "f2708a1d-338d-494a-e0e2-86d4bf2ad010"
      },
      "execution_count": 6,
      "outputs": [
        {
          "output_type": "execute_result",
          "data": {
            "text/plain": [
              "(1, 2, 3, 4)"
            ]
          },
          "metadata": {},
          "execution_count": 6
        }
      ]
    },
    {
      "cell_type": "code",
      "source": [
        "t, u"
      ],
      "metadata": {
        "colab": {
          "base_uri": "https://localhost:8080/"
        },
        "id": "-x_cbGm7xKfR",
        "outputId": "27b95ec1-5729-4a06-a99d-cabbf3c50d24"
      },
      "execution_count": 7,
      "outputs": [
        {
          "output_type": "execute_result",
          "data": {
            "text/plain": [
              "((1, 2), (3, 4))"
            ]
          },
          "metadata": {},
          "execution_count": 7
        }
      ]
    },
    {
      "cell_type": "markdown",
      "source": [
        "### Tipos mutáveis como default de parâmetros não é uma boa ideia"
      ],
      "metadata": {
        "id": "Okij6XUrxPSt"
      }
    },
    {
      "cell_type": "code",
      "source": [
        "class HauntedBus:\n",
        "    \"\"\"Um modelo de ônibus assombrado por passageiros fantasmas\"\"\"\n",
        "\n",
        "    def __init__(self, passengers=[]):\n",
        "        self.passengers = passengers\n",
        "\n",
        "    def pick(self, name):\n",
        "        self.passengers.append(name)\n",
        "    \n",
        "    def drop(self, name):\n",
        "        self.passengers.remove(name)\n"
      ],
      "metadata": {
        "id": "MnS_Eu0WxLmi"
      },
      "execution_count": 15,
      "outputs": []
    },
    {
      "cell_type": "markdown",
      "source": [
        "A implementação dos métodos remove e append estão mudando a lista default. Todas as instâncias de HautedBus que não receberem uma lista inicial de passageiros, vão compartilhar uma mesma lista de passageiros entre si.\n",
        "\n",
        "Ou seja, se um valor default em um parâmetro for um objeto mutável e sofrer alteração, a mudança vai afetar todas as chamadas da mesma função."
      ],
      "metadata": {
        "id": "UkS4-z-LyCKn"
      }
    },
    {
      "cell_type": "code",
      "source": [
        "bus1 = HauntedBus(['Mari', 'Lucas'])"
      ],
      "metadata": {
        "id": "pO1SIsYPyOol"
      },
      "execution_count": 16,
      "outputs": []
    },
    {
      "cell_type": "code",
      "source": [
        "bus1.passengers"
      ],
      "metadata": {
        "colab": {
          "base_uri": "https://localhost:8080/"
        },
        "id": "me9J4QM7yj65",
        "outputId": "e71bdcc4-78bc-48c1-e038-fa9d8731fa00"
      },
      "execution_count": 17,
      "outputs": [
        {
          "output_type": "execute_result",
          "data": {
            "text/plain": [
              "['Mari', 'Lucas']"
            ]
          },
          "metadata": {},
          "execution_count": 17
        }
      ]
    },
    {
      "cell_type": "code",
      "source": [
        "bus1.pick('Ana')"
      ],
      "metadata": {
        "id": "uOQnIShqyltc"
      },
      "execution_count": 18,
      "outputs": []
    },
    {
      "cell_type": "code",
      "source": [
        "bus1.drop('Lucas')"
      ],
      "metadata": {
        "id": "gA5Vyz91ynrj"
      },
      "execution_count": 19,
      "outputs": []
    },
    {
      "cell_type": "code",
      "source": [
        "bus1.passengers"
      ],
      "metadata": {
        "colab": {
          "base_uri": "https://localhost:8080/"
        },
        "id": "a7u7E5-5yrFy",
        "outputId": "e1c7df15-a8e5-4c60-ea27-6170fb36dca6"
      },
      "execution_count": 20,
      "outputs": [
        {
          "output_type": "execute_result",
          "data": {
            "text/plain": [
              "['Mari', 'Ana']"
            ]
          },
          "metadata": {},
          "execution_count": 20
        }
      ]
    },
    {
      "cell_type": "code",
      "source": [
        "bus2 = HauntedBus()"
      ],
      "metadata": {
        "id": "tuQazdJByxa6"
      },
      "execution_count": 21,
      "outputs": []
    },
    {
      "cell_type": "code",
      "source": [
        "bus2.pick('Lucas')"
      ],
      "metadata": {
        "id": "IOcfVVI2yhQ2"
      },
      "execution_count": 22,
      "outputs": []
    },
    {
      "cell_type": "code",
      "source": [
        "bus2.passengers"
      ],
      "metadata": {
        "colab": {
          "base_uri": "https://localhost:8080/"
        },
        "id": "SwmD_dnVy2jR",
        "outputId": "3c849b4d-55d3-40bf-8b1b-24d9843f7f19"
      },
      "execution_count": 23,
      "outputs": [
        {
          "output_type": "execute_result",
          "data": {
            "text/plain": [
              "['Lucas']"
            ]
          },
          "metadata": {},
          "execution_count": 23
        }
      ]
    },
    {
      "cell_type": "code",
      "source": [
        "bus3 = HauntedBus()"
      ],
      "metadata": {
        "id": "vj7RycnJy4R5"
      },
      "execution_count": 24,
      "outputs": []
    },
    {
      "cell_type": "code",
      "source": [
        "bus3.passengers"
      ],
      "metadata": {
        "colab": {
          "base_uri": "https://localhost:8080/"
        },
        "id": "TFIqCEACy7Bv",
        "outputId": "57e070dc-96b4-47f9-b88b-84813ef9cbe7"
      },
      "execution_count": 25,
      "outputs": [
        {
          "output_type": "execute_result",
          "data": {
            "text/plain": [
              "['Lucas']"
            ]
          },
          "metadata": {},
          "execution_count": 25
        }
      ]
    },
    {
      "cell_type": "code",
      "source": [
        "bus3.pick('Mari')"
      ],
      "metadata": {
        "id": "VtCZKhriy9rq"
      },
      "execution_count": 26,
      "outputs": []
    },
    {
      "cell_type": "code",
      "source": [
        "bus2.passengers"
      ],
      "metadata": {
        "colab": {
          "base_uri": "https://localhost:8080/"
        },
        "id": "MHZZDLXfzEc3",
        "outputId": "4d7e8a6a-020e-4560-af97-aa1490fe92f0"
      },
      "execution_count": 27,
      "outputs": [
        {
          "output_type": "execute_result",
          "data": {
            "text/plain": [
              "['Lucas', 'Mari']"
            ]
          },
          "metadata": {},
          "execution_count": 27
        }
      ]
    },
    {
      "cell_type": "code",
      "source": [
        "bus2.passengers is bus3.passengers"
      ],
      "metadata": {
        "colab": {
          "base_uri": "https://localhost:8080/"
        },
        "id": "bNd5diB3zFyj",
        "outputId": "d405fab4-7f0c-46eb-94dd-b802ff16c44f"
      },
      "execution_count": 28,
      "outputs": [
        {
          "output_type": "execute_result",
          "data": {
            "text/plain": [
              "True"
            ]
          },
          "metadata": {},
          "execution_count": 28
        }
      ]
    },
    {
      "cell_type": "code",
      "source": [
        "dir(HauntedBus.__init__)"
      ],
      "metadata": {
        "colab": {
          "base_uri": "https://localhost:8080/"
        },
        "id": "Kyq-MKrDx8K0",
        "outputId": "a8c6bd0e-fee5-44d0-ce2d-b314296292d4"
      },
      "execution_count": 29,
      "outputs": [
        {
          "output_type": "execute_result",
          "data": {
            "text/plain": [
              "['__annotations__',\n",
              " '__call__',\n",
              " '__class__',\n",
              " '__closure__',\n",
              " '__code__',\n",
              " '__defaults__',\n",
              " '__delattr__',\n",
              " '__dict__',\n",
              " '__dir__',\n",
              " '__doc__',\n",
              " '__eq__',\n",
              " '__format__',\n",
              " '__ge__',\n",
              " '__get__',\n",
              " '__getattribute__',\n",
              " '__globals__',\n",
              " '__gt__',\n",
              " '__hash__',\n",
              " '__init__',\n",
              " '__init_subclass__',\n",
              " '__kwdefaults__',\n",
              " '__le__',\n",
              " '__lt__',\n",
              " '__module__',\n",
              " '__name__',\n",
              " '__ne__',\n",
              " '__new__',\n",
              " '__qualname__',\n",
              " '__reduce__',\n",
              " '__reduce_ex__',\n",
              " '__repr__',\n",
              " '__setattr__',\n",
              " '__sizeof__',\n",
              " '__str__',\n",
              " '__subclasshook__']"
            ]
          },
          "metadata": {},
          "execution_count": 29
        }
      ]
    },
    {
      "cell_type": "code",
      "source": [
        "HauntedBus.__init__.__defaults__"
      ],
      "metadata": {
        "colab": {
          "base_uri": "https://localhost:8080/"
        },
        "id": "IW8wiMcszuhS",
        "outputId": "52dbbb81-3b04-42d5-dc6f-b124f25fa354"
      },
      "execution_count": 30,
      "outputs": [
        {
          "output_type": "execute_result",
          "data": {
            "text/plain": [
              "(['Lucas', 'Mari'],)"
            ]
          },
          "metadata": {},
          "execution_count": 30
        }
      ]
    },
    {
      "cell_type": "markdown",
      "source": [
        "### Programação defensiva com parâmetros mutáveis"
      ],
      "metadata": {
        "id": "kwaBLM2g0Bfx"
      }
    },
    {
      "cell_type": "markdown",
      "source": [
        "Ao escrever uma função que receba um parâmetro mutável, você deve considerar cuidadosamente se quem a chama espera que o argumento passado seja alterado.\n",
        "\n",
        "Principle of least astronishment (princípio da mínima surpresa), é uma prática no design de interfaces, o qual a implementação abaixo viola."
      ],
      "metadata": {
        "id": "Fj739DIA0yxo"
      }
    },
    {
      "cell_type": "code",
      "source": [
        "class TwilighBus:\n",
        "    \"\"\"Um modelo de ônibus que faz os passageiros desaparecerem\"\"\"\n",
        "\n",
        "    def __init__(self, passengers=None):\n",
        "        if passengers is None:\n",
        "            self.passengers = []\n",
        "        else:\n",
        "            self.passengers = passengers\n",
        "\n",
        "    def pick(self, name):\n",
        "        self.passengers.append(name)\n",
        "    \n",
        "    def drop(self, name):\n",
        "        self.passengers.remove(name)\n"
      ],
      "metadata": {
        "id": "O0J241ou0FDM"
      },
      "execution_count": 31,
      "outputs": []
    },
    {
      "cell_type": "code",
      "source": [
        "chess_team = ['Mari', 'Lucas', 'Rioja']\n",
        "\n",
        "bus = TwilighBus(chess_team)"
      ],
      "metadata": {
        "id": "U9dJ496N0r3n"
      },
      "execution_count": 32,
      "outputs": []
    },
    {
      "cell_type": "code",
      "source": [
        "bus.drop('Rioja')"
      ],
      "metadata": {
        "id": "yp-bsb1f1WW6"
      },
      "execution_count": 33,
      "outputs": []
    },
    {
      "cell_type": "code",
      "source": [
        "bus.drop('Lucas')"
      ],
      "metadata": {
        "id": "5h89CaI41YJz"
      },
      "execution_count": 34,
      "outputs": []
    },
    {
      "cell_type": "code",
      "source": [
        "chess_team"
      ],
      "metadata": {
        "colab": {
          "base_uri": "https://localhost:8080/"
        },
        "id": "e7OK_QhB1ZqU",
        "outputId": "fd830866-d5a5-41b9-f34a-312625c24445"
      },
      "execution_count": 35,
      "outputs": [
        {
          "output_type": "execute_result",
          "data": {
            "text/plain": [
              "['Mari']"
            ]
          },
          "metadata": {},
          "execution_count": 35
        }
      ]
    },
    {
      "cell_type": "markdown",
      "source": [
        "Quando os métodos remove e append são usados com o self.passengers, existe atualização da lista original recebida como argumento do construtor."
      ],
      "metadata": {
        "id": "ghKwapsI1h-t"
      }
    },
    {
      "cell_type": "code",
      "source": [
        "class TwilighBus:\n",
        "    \"\"\"Um modelo de ônibus que faz os passageiros desaparecerem\"\"\"\n",
        "\n",
        "    def __init__(self, passengers=None):\n",
        "        if passengers is None:\n",
        "            self.passengers = []\n",
        "        else:\n",
        "            self.passengers = list(passengers) # Fazendo uma cópia\n",
        "\n",
        "    def pick(self, name):\n",
        "        self.passengers.append(name)\n",
        "    \n",
        "    def drop(self, name):\n",
        "        self.passengers.remove(name)\n"
      ],
      "metadata": {
        "id": "V9GSHTE51bUu"
      },
      "execution_count": 36,
      "outputs": []
    },
    {
      "cell_type": "code",
      "source": [
        "chess_team = ['Mari', 'Lucas', 'Rioja']\n",
        "\n",
        "bus = TwilighBus(chess_team)"
      ],
      "metadata": {
        "id": "c1n0u04I13CR"
      },
      "execution_count": 37,
      "outputs": []
    },
    {
      "cell_type": "code",
      "source": [
        "bus.drop('Rioja')"
      ],
      "metadata": {
        "id": "JLh_KZWd14fM"
      },
      "execution_count": 38,
      "outputs": []
    },
    {
      "cell_type": "code",
      "source": [
        "bus.drop('Lucas')"
      ],
      "metadata": {
        "id": "9p9MUMRm15eE"
      },
      "execution_count": 39,
      "outputs": []
    },
    {
      "cell_type": "code",
      "source": [
        "chess_team"
      ],
      "metadata": {
        "colab": {
          "base_uri": "https://localhost:8080/"
        },
        "id": "m4J3gi1x15vg",
        "outputId": "68e380c7-90ce-45fa-ab79-268e447ec4df"
      },
      "execution_count": 40,
      "outputs": [
        {
          "output_type": "execute_result",
          "data": {
            "text/plain": [
              "['Mari', 'Lucas', 'Rioja']"
            ]
          },
          "metadata": {},
          "execution_count": 40
        }
      ]
    },
    {
      "cell_type": "markdown",
      "source": [
        "## del e coleta de lixo"
      ],
      "metadata": {
        "id": "0tBXd5tk18Tl"
      }
    },
    {
      "cell_type": "markdown",
      "source": [
        "**del** apaga nomes e não objetos.\n",
        "\n",
        "Cada objeto mantém um contador para o número de referências a ele, assim que esse número chega a zero, é imediatamente destruído, liberando a memória alocada.\n",
        "\n",
        "Um algoritmo de generation garbage collection foi implementadora para os casos de objetos envolvidos em referências ciclícas."
      ],
      "metadata": {
        "id": "FpeWXPKa2S-_"
      }
    },
    {
      "cell_type": "code",
      "source": [
        "import weakref\n",
        "\n",
        "s1 = {1, 2, 3}\n",
        "s2 = s1\n",
        "\n",
        "def bye():\n",
        "    print('Gone with the wind...')"
      ],
      "metadata": {
        "id": "Nwo57inT17Zb"
      },
      "execution_count": 42,
      "outputs": []
    },
    {
      "cell_type": "code",
      "source": [
        "ender = weakref.finalize(s1, bye)"
      ],
      "metadata": {
        "id": "V32VGRa73E01"
      },
      "execution_count": 43,
      "outputs": []
    },
    {
      "cell_type": "code",
      "source": [
        "ender.alive"
      ],
      "metadata": {
        "colab": {
          "base_uri": "https://localhost:8080/"
        },
        "id": "jrlxZPBT3G8w",
        "outputId": "2e382ed4-f40e-4f14-ce18-ec67246f6ac6"
      },
      "execution_count": 44,
      "outputs": [
        {
          "output_type": "execute_result",
          "data": {
            "text/plain": [
              "True"
            ]
          },
          "metadata": {},
          "execution_count": 44
        }
      ]
    },
    {
      "cell_type": "code",
      "source": [
        "del s1"
      ],
      "metadata": {
        "id": "VHO0OuQ13H1l"
      },
      "execution_count": 45,
      "outputs": []
    },
    {
      "cell_type": "code",
      "source": [
        "s2 = 'spam'"
      ],
      "metadata": {
        "id": "bdUrGPfE3Ijv"
      },
      "execution_count": 46,
      "outputs": []
    },
    {
      "cell_type": "code",
      "source": [
        "ender.alive"
      ],
      "metadata": {
        "colab": {
          "base_uri": "https://localhost:8080/"
        },
        "id": "OPYhasPN3Jlm",
        "outputId": "0b34a014-dc67-40e6-f748-72d9494f7496"
      },
      "execution_count": 47,
      "outputs": [
        {
          "output_type": "execute_result",
          "data": {
            "text/plain": [
              "False"
            ]
          },
          "metadata": {},
          "execution_count": 47
        }
      ]
    },
    {
      "cell_type": "markdown",
      "source": [
        "## Referências fracas"
      ],
      "metadata": {
        "id": "bZBKWj103WTH"
      }
    },
    {
      "cell_type": "markdown",
      "source": [
        "A presença de referências é o que mantém um objeto vivo na memória. Se não houver referências, o coletor de lixo destruirá o objeto.\n",
        "\n",
        "É conveniente ter uma referência a um objeto que não o mantenha por mais tempo que o necessário, como os caches.\n",
        "\n",
        "**Referências fracas a um objeto não incrementam o seu contador.** Sendo então, uma boa opção na referenciação do cache.\n",
        "\n"
      ],
      "metadata": {
        "id": "RON0UN4bmgwn"
      }
    },
    {
      "cell_type": "markdown",
      "source": [
        "A instância [weakref.ref](https://docs.python.org/3/library/weakref.html) pode ser chamada para acessar seu referente. Se o obj. estiver vivo, chamar a ref. fraca devolve esse objeto; se não, None.\n",
        "\n"
      ],
      "metadata": {
        "id": "m-VpsYm8nT3K"
      }
    },
    {
      "cell_type": "code",
      "source": [
        "import weakref\n",
        "\n",
        "a_set = {0, 1}\n",
        "wref = weakref.ref(a_set)"
      ],
      "metadata": {
        "id": "6c2CMfJD3PBN"
      },
      "execution_count": 1,
      "outputs": []
    },
    {
      "cell_type": "code",
      "source": [
        "wref"
      ],
      "metadata": {
        "colab": {
          "base_uri": "https://localhost:8080/"
        },
        "id": "q27Pb5MYnD4P",
        "outputId": "e713d5a8-a8fe-435f-ecbb-6ead7323fddf"
      },
      "execution_count": 2,
      "outputs": [
        {
          "output_type": "execute_result",
          "data": {
            "text/plain": [
              "<weakref at 0x7f25fd92b400; to 'set' at 0x7f25e2b95900>"
            ]
          },
          "metadata": {},
          "execution_count": 2
        }
      ]
    },
    {
      "cell_type": "code",
      "source": [
        "wref()"
      ],
      "metadata": {
        "colab": {
          "base_uri": "https://localhost:8080/"
        },
        "id": "7_9C_3scnFBA",
        "outputId": "e1b7f9df-7b4f-45e5-97c6-0fb39e743836"
      },
      "execution_count": 3,
      "outputs": [
        {
          "output_type": "execute_result",
          "data": {
            "text/plain": [
              "{0, 1}"
            ]
          },
          "metadata": {},
          "execution_count": 3
        }
      ]
    },
    {
      "cell_type": "code",
      "source": [
        "a_set = {2, 3, 4}"
      ],
      "metadata": {
        "id": "tvLfj77PnGzB"
      },
      "execution_count": 4,
      "outputs": []
    },
    {
      "cell_type": "code",
      "source": [
        "wref()"
      ],
      "metadata": {
        "colab": {
          "base_uri": "https://localhost:8080/"
        },
        "id": "b45ebKsdnIPB",
        "outputId": "41c53cb7-1dea-4e0d-cac2-0467119d78e2"
      },
      "execution_count": 5,
      "outputs": [
        {
          "output_type": "execute_result",
          "data": {
            "text/plain": [
              "{0, 1}"
            ]
          },
          "metadata": {},
          "execution_count": 5
        }
      ]
    },
    {
      "cell_type": "code",
      "source": [
        "wref() is None"
      ],
      "metadata": {
        "colab": {
          "base_uri": "https://localhost:8080/"
        },
        "id": "3uT7oCvXnJZI",
        "outputId": "66f3f8bb-444a-43de-d6e9-04af66867105"
      },
      "execution_count": 6,
      "outputs": [
        {
          "output_type": "execute_result",
          "data": {
            "text/plain": [
              "False"
            ]
          },
          "metadata": {},
          "execution_count": 6
        }
      ]
    }
  ]
}