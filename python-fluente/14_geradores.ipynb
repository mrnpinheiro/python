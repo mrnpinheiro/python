{
  "cells": [
    {
      "cell_type": "markdown",
      "metadata": {
        "id": "JmnynNTS6HyU"
      },
      "source": [
        "# Capítulo 14"
      ]
    },
    {
      "cell_type": "markdown",
      "metadata": {
        "id": "sO1O3Qx5Eb5e"
      },
      "source": [
        "## Iterator\n",
        "Ao percorrer conjuntos de dados que não cabem na memória, precisamos ter como acessar os dados de uma maneira mais lazy, um item por vez (por demanda).\n",
        "\n",
        "- yield permite a construção de geradores que funcionam como iteradores."
      ]
    },
    {
      "cell_type": "markdown",
      "metadata": {
        "id": "Jbjywo-HFF2W"
      },
      "source": [
        "Apesar da comunidade Python usar iterador e gerador como sinônimos:\n",
        "- iterador, recupera itens de uma coleção;\n",
        "- já o gerador, produz itens \"do nada\" (como um gerador da sequência de Fibonacci, por exemplo)"
      ]
    },
    {
      "cell_type": "code",
      "execution_count": null,
      "metadata": {
        "colab": {
          "base_uri": "https://localhost:8080/"
        },
        "id": "egCXgsfZ6Kyc",
        "outputId": "464bd0b9-315f-46dc-f2ab-eb55404875e2"
      },
      "outputs": [
        {
          "data": {
            "text/plain": [
              "range(0, 5)"
            ]
          },
          "execution_count": 16,
          "metadata": {},
          "output_type": "execute_result"
        }
      ],
      "source": [
        "# range é uma função embutida geradora,\n",
        "# devolvendo um objeto gerador ao invés de uma lista completa.\n",
        "range(5)"
      ]
    },
    {
      "cell_type": "code",
      "execution_count": null,
      "metadata": {
        "colab": {
          "base_uri": "https://localhost:8080/"
        },
        "id": "Pqe_HgPhGRT1",
        "outputId": "2848d27c-b2fa-4ace-f22f-ed32ab04845f"
      },
      "outputs": [
        {
          "data": {
            "text/plain": [
              "[0, 1, 2, 3, 4]"
            ]
          },
          "execution_count": 13,
          "metadata": {},
          "output_type": "execute_result"
        }
      ],
      "source": [
        "# para criar uma lista, é necessário ser explicíto\n",
        "list(range(5))"
      ]
    },
    {
      "cell_type": "markdown",
      "metadata": {
        "id": "XtDch-EuGrdZ"
      },
      "source": [
        "### Setence: uma sequência de palavras, no qual a partir de uma string com um texto ao construtor, pode iterar palavra por palavra"
      ]
    },
    {
      "cell_type": "code",
      "execution_count": null,
      "metadata": {
        "id": "aTD0e9gYGbtQ"
      },
      "outputs": [],
      "source": [
        "import re\n",
        "import reprlib\n",
        "\n",
        "RE_WORD = re.compile(r'\\w+')\n",
        "\n",
        "\n",
        "class Sentence:\n",
        "\n",
        "    def __init__(self, text):\n",
        "        self.text = text\n",
        "        self.words = RE_WORD.findall(text)\n",
        "\n",
        "    def __getitem__(self, index):\n",
        "        return self.words[index]\n",
        "\n",
        "    def __len__(self):\n",
        "        return len(self.words)\n",
        "\n",
        "    def __repr__(self):\n",
        "        return 'Sentence(%s)' % reprlib.repr(self.text)"
      ]
    },
    {
      "cell_type": "code",
      "execution_count": null,
      "metadata": {
        "colab": {
          "base_uri": "https://localhost:8080/"
        },
        "id": "tqZH6pGBHq5A",
        "outputId": "fbae8cb3-d346-46ce-b3e0-94f66ea3c736"
      },
      "outputs": [
        {
          "data": {
            "text/plain": [
              "Sentence('A vida é uma...de surpresas.')"
            ]
          },
          "execution_count": 19,
          "metadata": {},
          "output_type": "execute_result"
        }
      ],
      "source": [
        "sentence = Sentence('A vida é uma caixinha de surpresas.')\n",
        "sentence"
      ]
    },
    {
      "cell_type": "code",
      "execution_count": null,
      "metadata": {
        "colab": {
          "base_uri": "https://localhost:8080/"
        },
        "id": "77Hv1GqRH4Xs",
        "outputId": "dfe7d1dc-6e96-4bf2-af8e-c809a20f3ab2"
      },
      "outputs": [
        {
          "name": "stdout",
          "output_type": "stream",
          "text": [
            "A\n",
            "vida\n",
            "é\n",
            "uma\n",
            "caixinha\n",
            "de\n",
            "surpresas\n"
          ]
        }
      ],
      "source": [
        "for word in sentence:\n",
        "    print(word)"
      ]
    },
    {
      "cell_type": "code",
      "execution_count": null,
      "metadata": {
        "colab": {
          "base_uri": "https://localhost:8080/"
        },
        "id": "AMlhEYAHH7vF",
        "outputId": "95c9d425-ea6c-4fc1-deda-d094aa0cc3e5"
      },
      "outputs": [
        {
          "data": {
            "text/plain": [
              "['A', 'vida', 'é', 'uma', 'caixinha', 'de', 'surpresas']"
            ]
          },
          "execution_count": 21,
          "metadata": {},
          "output_type": "execute_result"
        }
      ],
      "source": [
        "list(sentence)"
      ]
    },
    {
      "cell_type": "code",
      "execution_count": null,
      "metadata": {
        "colab": {
          "base_uri": "https://localhost:8080/",
          "height": 35
        },
        "id": "Gm1pvDyFH_d-",
        "outputId": "63dbc9ae-d98d-4129-c01b-cc2bb91c1755"
      },
      "outputs": [
        {
          "data": {
            "application/vnd.google.colaboratory.intrinsic+json": {
              "type": "string"
            },
            "text/plain": [
              "'vida'"
            ]
          },
          "execution_count": 26,
          "metadata": {},
          "output_type": "execute_result"
        }
      ],
      "source": [
        "sentence[1]"
      ]
    },
    {
      "cell_type": "code",
      "execution_count": null,
      "metadata": {
        "colab": {
          "base_uri": "https://localhost:8080/",
          "height": 35
        },
        "id": "_TybKLqzIRmD",
        "outputId": "612c1ed5-40f8-4f42-88ad-4820198785ed"
      },
      "outputs": [
        {
          "data": {
            "application/vnd.google.colaboratory.intrinsic+json": {
              "type": "string"
            },
            "text/plain": [
              "'surpresas'"
            ]
          },
          "execution_count": 27,
          "metadata": {},
          "output_type": "execute_result"
        }
      ],
      "source": [
        "sentence[-1]"
      ]
    },
    {
      "cell_type": "markdown",
      "metadata": {
        "id": "ubGXt_xBIXrf"
      },
      "source": [
        "### Pq as sequências são iteráveis? (iter)\n",
        "Toda sequência em Python tem a implementação do __getitem__ (e mesmo que não tiver o __iter__, criará um iterador para acessar os itens da sequência, começando em 0).\n",
        "\n",
        "- duck typing: um objeto é considerado iterável não só quando implemena o método especial __iter__."
      ]
    },
    {
      "cell_type": "code",
      "execution_count": null,
      "metadata": {
        "colab": {
          "base_uri": "https://localhost:8080/",
          "height": 165
        },
        "id": "_b9Mm0_ILpQT",
        "outputId": "1f475e3d-2817-4085-b455-5a4be3564681"
      },
      "outputs": [
        {
          "ename": "TypeError",
          "evalue": "ignored",
          "output_type": "error",
          "traceback": [
            "\u001b[0;31m---------------------------------------------------------------------------\u001b[0m",
            "\u001b[0;31mTypeError\u001b[0m                                 Traceback (most recent call last)",
            "\u001b[0;32m<ipython-input-28-90bfa304bd69>\u001b[0m in \u001b[0;36m<module>\u001b[0;34m()\u001b[0m\n\u001b[0;32m----> 1\u001b[0;31m \u001b[0miter\u001b[0m\u001b[0;34m(\u001b[0m\u001b[0;36m1\u001b[0m\u001b[0;34m)\u001b[0m\u001b[0;34m\u001b[0m\u001b[0;34m\u001b[0m\u001b[0m\n\u001b[0m",
            "\u001b[0;31mTypeError\u001b[0m: 'int' object is not iterable"
          ]
        }
      ],
      "source": [
        "iter(1)"
      ]
    },
    {
      "cell_type": "code",
      "execution_count": null,
      "metadata": {
        "colab": {
          "base_uri": "https://localhost:8080/"
        },
        "id": "_uFX1hR2Lqn9",
        "outputId": "ee847304-69d8-4a17-c0b6-ba192120cfbc"
      },
      "outputs": [
        {
          "data": {
            "text/plain": [
              "<list_iterator at 0x7f0abd8574d0>"
            ]
          },
          "execution_count": 29,
          "metadata": {},
          "output_type": "execute_result"
        }
      ],
      "source": [
        "iter([1, 2])"
      ]
    },
    {
      "cell_type": "code",
      "execution_count": null,
      "metadata": {
        "colab": {
          "base_uri": "https://localhost:8080/"
        },
        "id": "g0JwycXhLrjM",
        "outputId": "0ea9cdc2-c07d-4285-b0ec-c518883d5639"
      },
      "outputs": [
        {
          "name": "stdout",
          "output_type": "stream",
          "text": [
            "não é iterável\n"
          ]
        }
      ],
      "source": [
        "try:\n",
        "    iter(1)\n",
        "except:\n",
        "    print('não é iterável')"
      ]
    },
    {
      "cell_type": "markdown",
      "metadata": {
        "id": "XjOF_iRBMEF6"
      },
      "source": [
        "### Iteráveis x Iteradores"
      ]
    },
    {
      "cell_type": "markdown",
      "metadata": {
        "id": "onL-rlXIMgSI"
      },
      "source": [
        "**Python obtém iteradores a partir de iteráveis.**\n",
        "\n",
        "\"**Iterável:** Qualquer objeto a partir do qual a função embutida iter pode obter um iterador. Objetos que implementem um método __iter__ que devolva um iterador são iteráveis. Sequências sempre são iteráveis, assim como objetos que implementem um método __getitem__ que aceite índices a partir de 0.\""
      ]
    },
    {
      "cell_type": "code",
      "execution_count": null,
      "metadata": {
        "colab": {
          "base_uri": "https://localhost:8080/"
        },
        "id": "4CJcy-dvMA6P",
        "outputId": "8d166704-7827-489b-fd40-33cb7eb0de79"
      },
      "outputs": [
        {
          "name": "stdout",
          "output_type": "stream",
          "text": [
            "M\n",
            "a\n",
            "r\n",
            "i\n",
            "a\n",
            "n\n",
            "a\n"
          ]
        }
      ],
      "source": [
        "# Laço simples através de uma string (há um iterador em operação, mesmo que não visível!)\n",
        "\n",
        "string = 'Mariana'\n",
        "for s in string:\n",
        "    print(s)"
      ]
    },
    {
      "cell_type": "code",
      "execution_count": null,
      "metadata": {
        "id": "GviWo-dINZfR"
      },
      "outputs": [],
      "source": [
        "# Cria um iterador it a partir do iterável\n",
        "it = iter(string)"
      ]
    },
    {
      "cell_type": "code",
      "execution_count": null,
      "metadata": {
        "colab": {
          "base_uri": "https://localhost:8080/",
          "height": 304
        },
        "id": "xkAfr3r0NpDT",
        "outputId": "84c67263-f6a1-4825-b170-515357e9d438"
      },
      "outputs": [
        {
          "name": "stdout",
          "output_type": "stream",
          "text": [
            "M\n",
            "a\n",
            "r\n",
            "i\n",
            "a\n",
            "n\n",
            "a\n"
          ]
        },
        {
          "ename": "StopIteration",
          "evalue": "ignored",
          "output_type": "error",
          "traceback": [
            "\u001b[0;31m---------------------------------------------------------------------------\u001b[0m",
            "\u001b[0;31mStopIteration\u001b[0m                             Traceback (most recent call last)",
            "\u001b[0;32m<ipython-input-39-736265e1ffb3>\u001b[0m in \u001b[0;36m<module>\u001b[0;34m()\u001b[0m\n\u001b[1;32m      1\u001b[0m \u001b[0;32mwhile\u001b[0m \u001b[0;32mTrue\u001b[0m\u001b[0;34m:\u001b[0m\u001b[0;34m\u001b[0m\u001b[0;34m\u001b[0m\u001b[0m\n\u001b[0;32m----> 2\u001b[0;31m     \u001b[0mprint\u001b[0m\u001b[0;34m(\u001b[0m\u001b[0mnext\u001b[0m\u001b[0;34m(\u001b[0m\u001b[0mit\u001b[0m\u001b[0;34m)\u001b[0m\u001b[0;34m)\u001b[0m\u001b[0;34m\u001b[0m\u001b[0;34m\u001b[0m\u001b[0m\n\u001b[0m",
            "\u001b[0;31mStopIteration\u001b[0m: "
          ]
        }
      ],
      "source": [
        "while True:\n",
        "    print(next(it))"
      ]
    },
    {
      "cell_type": "code",
      "execution_count": null,
      "metadata": {
        "colab": {
          "base_uri": "https://localhost:8080/"
        },
        "id": "mescKVIANgHk",
        "outputId": "42715715-d347-4bfa-d40d-a435f8ea9bb4"
      },
      "outputs": [
        {
          "name": "stdout",
          "output_type": "stream",
          "text": [
            "M\n",
            "a\n",
            "r\n",
            "i\n",
            "a\n",
            "n\n",
            "a\n"
          ]
        }
      ],
      "source": [
        "while True:\n",
        "    try:\n",
        "        print(next(it))\n",
        "    except StopIteration:\n",
        "        del it\n",
        "        break"
      ]
    },
    {
      "cell_type": "markdown",
      "metadata": {
        "id": "cNUWiWqKN_6a"
      },
      "source": [
        "StopIteration informa que o iterador esgotou.\n",
        "Ela é tratada internamente nos laços em geral (for, list comprehensions etc)."
      ]
    },
    {
      "cell_type": "markdown",
      "metadata": {
        "id": "6_taIR9fORh6"
      },
      "source": [
        "Métodos da interface-padrão de um iterador:\n",
        "1. __next__: devolve o próximo item disponível (levantando a excessão quando não tiver mais itens) \n",
        "2. __iter__: devolve self, permitindo que os iteradores sejam usados nos lugares em que se espera um iterável"
      ]
    },
    {
      "cell_type": "code",
      "execution_count": null,
      "metadata": {
        "colab": {
          "base_uri": "https://localhost:8080/"
        },
        "id": "nPZjiifpNoj6",
        "outputId": "c8a83477-1c31-4d65-9683-262068d4ff66"
      },
      "outputs": [
        {
          "data": {
            "text/plain": [
              "<iterator at 0x7f0ab4ec4290>"
            ]
          },
          "execution_count": 41,
          "metadata": {},
          "output_type": "execute_result"
        }
      ],
      "source": [
        "setence2 = Sentence('Fácil falar, difícil fazer.') # cria uma sentença\n",
        "it = iter(setence2) # obtém um iterador a partir da sentença\n",
        "it"
      ]
    },
    {
      "cell_type": "code",
      "execution_count": null,
      "metadata": {
        "colab": {
          "base_uri": "https://localhost:8080/",
          "height": 35
        },
        "id": "HYHCemeXSbrT",
        "outputId": "50801a5e-c448-415e-8d55-6188e9336967"
      },
      "outputs": [
        {
          "data": {
            "application/vnd.google.colaboratory.intrinsic+json": {
              "type": "string"
            },
            "text/plain": [
              "'Fácil'"
            ]
          },
          "execution_count": 42,
          "metadata": {},
          "output_type": "execute_result"
        }
      ],
      "source": [
        "next(it)"
      ]
    },
    {
      "cell_type": "code",
      "execution_count": null,
      "metadata": {
        "colab": {
          "base_uri": "https://localhost:8080/",
          "height": 165
        },
        "id": "CtWRpUGySeWH",
        "outputId": "986bcaff-c953-44fd-fe41-2d1253d589d2"
      },
      "outputs": [
        {
          "ename": "StopIteration",
          "evalue": "ignored",
          "output_type": "error",
          "traceback": [
            "\u001b[0;31m---------------------------------------------------------------------------\u001b[0m",
            "\u001b[0;31mStopIteration\u001b[0m                             Traceback (most recent call last)",
            "\u001b[0;32m<ipython-input-46-bc1ab118995a>\u001b[0m in \u001b[0;36m<module>\u001b[0;34m()\u001b[0m\n\u001b[0;32m----> 1\u001b[0;31m \u001b[0mnext\u001b[0m\u001b[0;34m(\u001b[0m\u001b[0mit\u001b[0m\u001b[0;34m)\u001b[0m\u001b[0;34m\u001b[0m\u001b[0;34m\u001b[0m\u001b[0m\n\u001b[0m",
            "\u001b[0;31mStopIteration\u001b[0m: "
          ]
        }
      ],
      "source": [
        "next(it)"
      ]
    },
    {
      "cell_type": "code",
      "execution_count": null,
      "metadata": {
        "colab": {
          "base_uri": "https://localhost:8080/"
        },
        "id": "M4-fX_oCShah",
        "outputId": "11194496-b1be-4b7b-d3cf-d4be844c376d"
      },
      "outputs": [
        {
          "data": {
            "text/plain": [
              "['Fácil', 'falar', 'difícil', 'fazer']"
            ]
          },
          "execution_count": 47,
          "metadata": {},
          "output_type": "execute_result"
        }
      ],
      "source": [
        "list(iter(setence2)) # para percorrer, é necessário criar um novo iterador"
      ]
    },
    {
      "cell_type": "markdown",
      "metadata": {
        "id": "Bh8PjU5ETJaP"
      },
      "source": [
        "Não é possível reiniciar um iterador! É necessário chamar iter() no próprio iterável a partir do qual o iterador foi criado anteriormente."
      ]
    },
    {
      "cell_type": "markdown",
      "metadata": {
        "id": "8W_965cxTaeU"
      },
      "source": [
        "**Iterador:** Qualquer objeto que implemente o método __next__, sem argumentos, que devolva o próximo item de uma série ou levante StopIteration quando não houver mais itens. Os iteradores em Python também implementam o método __iter__ portanto também são iteráveis."
      ]
    },
    {
      "cell_type": "markdown",
      "metadata": {
        "id": "ANJg1e785Qli"
      },
      "source": [
        "# Exercises"
      ]
    },
    {
      "cell_type": "markdown",
      "metadata": {
        "id": "oOdnrdOG4xZM"
      },
      "source": [
        "## Questão 1\n",
        "\n",
        "Construa um gerador capaz de fazer trocas dois a dois entre cada elemento.\n",
        "\n",
        "Por exemplo, para x = [0, 1, 2, 3, 4] as respostas desejadas são:\n",
        "\n",
        "- Trocar 0 com 1: [1, 0, 2, 3, 4];\n",
        "- Trocar 0 com 2: [2, 1, 0, 3, 4];\n",
        "- e assim por diante.\n",
        "\n",
        "Desafio: Você consegue descobrir uma função com o número total de trocas para uma lista com tamanho n? Quem conseguir ganha um aumento promovido pelo nosso CTO, Matheus."
      ]
    },
    {
      "cell_type": "code",
      "execution_count": null,
      "metadata": {
        "colab": {
          "base_uri": "https://localhost:8080/",
          "height": 321
        },
        "id": "b0wCH3cD3wIk",
        "outputId": "c0b3908e-168c-470f-d708-013fed5cda8a"
      },
      "outputs": [
        {
          "ename": "TypeError",
          "evalue": "ignored",
          "output_type": "error",
          "traceback": [
            "\u001b[0;31m---------------------------------------------------------------------------\u001b[0m",
            "\u001b[0;31mTypeError\u001b[0m                                 Traceback (most recent call last)",
            "\u001b[0;32m<ipython-input-2-9f0dccb41d7a>\u001b[0m in \u001b[0;36m<module>\u001b[0;34m()\u001b[0m\n\u001b[1;32m      6\u001b[0m \u001b[0;34m\u001b[0m\u001b[0m\n\u001b[1;32m      7\u001b[0m \u001b[0mx\u001b[0m \u001b[0;34m=\u001b[0m \u001b[0;34m[\u001b[0m\u001b[0;36m0\u001b[0m\u001b[0;34m,\u001b[0m \u001b[0;36m1\u001b[0m\u001b[0;34m,\u001b[0m \u001b[0;36m2\u001b[0m\u001b[0;34m,\u001b[0m \u001b[0;36m3\u001b[0m\u001b[0;34m,\u001b[0m \u001b[0;36m4\u001b[0m\u001b[0;34m]\u001b[0m\u001b[0;34m\u001b[0m\u001b[0;34m\u001b[0m\u001b[0m\n\u001b[0;32m----> 8\u001b[0;31m \u001b[0mgerador_bonito\u001b[0m\u001b[0;34m(\u001b[0m\u001b[0mx\u001b[0m\u001b[0;34m)\u001b[0m\u001b[0;34m\u001b[0m\u001b[0;34m\u001b[0m\u001b[0m\n\u001b[0m",
            "\u001b[0;32m<ipython-input-2-9f0dccb41d7a>\u001b[0m in \u001b[0;36mgerador_bonito\u001b[0;34m(lista_linda)\u001b[0m\n\u001b[1;32m      1\u001b[0m \u001b[0;32mdef\u001b[0m \u001b[0mgerador_bonito\u001b[0m\u001b[0;34m(\u001b[0m\u001b[0mlista_linda\u001b[0m\u001b[0;34m)\u001b[0m\u001b[0;34m:\u001b[0m\u001b[0;34m\u001b[0m\u001b[0;34m\u001b[0m\u001b[0m\n\u001b[1;32m      2\u001b[0m     \u001b[0minicio\u001b[0m \u001b[0;34m=\u001b[0m \u001b[0mlista_linda\u001b[0m\u001b[0;34m[\u001b[0m\u001b[0;36m0\u001b[0m\u001b[0;34m]\u001b[0m\u001b[0;34m\u001b[0m\u001b[0;34m\u001b[0m\u001b[0m\n\u001b[0;32m----> 3\u001b[0;31m     \u001b[0mlista_linda\u001b[0m\u001b[0;34m[\u001b[0m\u001b[0;36m0\u001b[0m\u001b[0;34m]\u001b[0m \u001b[0;34m=\u001b[0m \u001b[0mnext\u001b[0m\u001b[0;34m(\u001b[0m\u001b[0mlista_linda\u001b[0m\u001b[0;34m)\u001b[0m\u001b[0;34m\u001b[0m\u001b[0;34m\u001b[0m\u001b[0m\n\u001b[0m\u001b[1;32m      4\u001b[0m     \u001b[0mlista_linda\u001b[0m\u001b[0;34m[\u001b[0m\u001b[0;36m1\u001b[0m\u001b[0;34m]\u001b[0m \u001b[0;34m=\u001b[0m \u001b[0minicio\u001b[0m\u001b[0;34m\u001b[0m\u001b[0;34m\u001b[0m\u001b[0m\n\u001b[1;32m      5\u001b[0m     \u001b[0;32mreturn\u001b[0m \u001b[0mlista_linda\u001b[0m\u001b[0;34m\u001b[0m\u001b[0;34m\u001b[0m\u001b[0m\n",
            "\u001b[0;31mTypeError\u001b[0m: 'list' object is not an iterator"
          ]
        }
      ],
      "source": [
        "def gerador_bonito(lista_linda):\n",
        "    inicio = lista_linda[0]\n",
        "    lista_linda[0] = next(lista_linda)\n",
        "    lista_linda[1] = inicio\n",
        "    return lista_linda\n",
        "\n",
        "x = [0, 1, 2, 3, 4]\n",
        "gerador_bonito(x)"
      ]
    },
    {
      "cell_type": "markdown",
      "metadata": {
        "id": "vXCquqEy5EuV"
      },
      "source": [
        "## Questão 2\n",
        "\n",
        "Estenda a função anterior para impedir trocas entre elementos iguais. Por exemplo, se x = [0, 0, 1, 1, 2], a troca entre os dois primeiros elementos não faz sentido já que ambos são 0. O mesmo entre o terceiro e o quarto."
      ]
    },
    {
      "cell_type": "code",
      "execution_count": null,
      "metadata": {
        "id": "K5pZMF6o5KjA"
      },
      "outputs": [],
      "source": []
    },
    {
      "cell_type": "markdown",
      "metadata": {
        "id": "QiAfz4AE5K6K"
      },
      "source": [
        "## Questão 3\n",
        "\n",
        "Observe o código horrível abaixo. Ele mostra na tela as combinações de números (x, y, z) quando x é divisível por 2, y por 3 e z por 5."
      ]
    },
    {
      "cell_type": "code",
      "execution_count": null,
      "metadata": {
        "id": "FwT-aEEG5baI"
      },
      "outputs": [],
      "source": []
    }
  ],
  "metadata": {
    "colab": {
      "authorship_tag": "ABX9TyPdRuJmGeqbWWzfl1VwQuJt",
      "name": "fluent_python_chapter14_geradores.ipynb",
      "provenance": []
    },
    "kernelspec": {
      "display_name": "Python 3",
      "language": "python",
      "name": "python3"
    },
    "language_info": {
      "name": "python",
      "version": "3.7.8 (default, May  3 2021, 16:32:18) \n[GCC 9.3.0]"
    },
    "vscode": {
      "interpreter": {
        "hash": "204a7c0ccaee149692f35dadfa19fb04a9ddc513bff74dd139a9ce605eac5e1f"
      }
    }
  },
  "nbformat": 4,
  "nbformat_minor": 0
}
